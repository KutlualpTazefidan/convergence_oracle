{
 "cells": [
  {
   "cell_type": "markdown",
   "metadata": {},
   "source": [
    "## Trying it out with the open acces API arXiv:"
   ]
  },
  {
   "cell_type": "code",
   "execution_count": 11,
   "metadata": {},
   "outputs": [
    {
     "name": "stdout",
     "output_type": "stream",
     "text": [
      "Data saved to 'publications.csv'\n"
     ]
    }
   ],
   "source": [
    "from bs4 import BeautifulSoup\n",
    "import requests\n",
    "import csv\n",
    "\n",
    "# Define the API endpoint and query parameters\n",
    "api_url = 'http://export.arxiv.org/api/query'\n",
    "query_params = {\n",
    "    'search_query': 'cat:cs.AI',\n",
    "    'start': 0,\n",
    "    'max_results': 2000,\n",
    "}\n",
    "\n",
    "# Initialize a list to store publication data\n",
    "publications = []\n",
    "\n",
    "# Make API requests in batches\n",
    "while query_params['start'] < query_params['max_results']:\n",
    "    # Make the API request\n",
    "    response = requests.get(api_url, params=query_params)\n",
    "\n",
    "    # Check the response status\n",
    "    if response.status_code == 200:\n",
    "        # Parse the HTML response using BeautifulSoup with 'html.parser'\n",
    "        soup = BeautifulSoup(response.text, 'html.parser')\n",
    "\n",
    "        # Extract publication information\n",
    "        for entry in soup.find_all('entry'):\n",
    "            title = entry.find('title').text.strip()\n",
    "            abstract = entry.find('summary').text.strip()\n",
    "\n",
    "            # Check if 'arxiv:comment' element exists before accessing 'text'\n",
    "            arxiv_comment = entry.find('arxiv:comment')\n",
    "            if arxiv_comment:\n",
    "                citations = arxiv_comment.text.strip()\n",
    "            else:\n",
    "                citations = 'N/A'\n",
    "\n",
    "            # Append publication data to the list\n",
    "            publications.append([title, abstract, citations])\n",
    "\n",
    "        # Update the 'start' parameter for the next batch\n",
    "        query_params['start'] += len(soup.find_all('entry'))\n",
    "    else:\n",
    "        print(f\"API request failed with status code {response.status_code}\")\n",
    "        break\n",
    "\n",
    "# Specify the CSV file name\n",
    "csv_filename = 'publications.csv'\n",
    "\n",
    "# Write the data to the CSV file\n",
    "with open(csv_filename, 'w', newline='', encoding='utf-8') as csvfile:\n",
    "    csv_writer = csv.writer(csvfile)\n",
    "    # Write the header row\n",
    "    csv_writer.writerow(['Title', 'Abstract', 'Citations'])\n",
    "    # Write the publication data\n",
    "    csv_writer.writerows(publications)\n",
    "\n",
    "print(f\"Data saved to '{csv_filename}'\")\n"
   ]
  },
  {
   "cell_type": "markdown",
   "metadata": {},
   "source": [
    "This seems to work"
   ]
  }
 ],
 "metadata": {
  "kernelspec": {
   "display_name": "Python 3",
   "language": "python",
   "name": "python3"
  },
  "language_info": {
   "codemirror_mode": {
    "name": "ipython",
    "version": 3
   },
   "file_extension": ".py",
   "mimetype": "text/x-python",
   "name": "python",
   "nbconvert_exporter": "python",
   "pygments_lexer": "ipython3",
   "version": "3.11.3"
  },
  "orig_nbformat": 4
 },
 "nbformat": 4,
 "nbformat_minor": 2
}
