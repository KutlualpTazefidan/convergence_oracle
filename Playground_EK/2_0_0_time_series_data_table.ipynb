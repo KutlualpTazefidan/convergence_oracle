{
 "cells": [
  {
   "cell_type": "code",
   "execution_count": null,
   "metadata": {},
   "outputs": [],
   "source": [
    "import pandas as pd\n",
    "import matplotlib.pyplot as plt\n",
    "\n",
    "# Group by \"Topic\" and \"Timestamp\" and aggregate \"Frequency\"\n",
    "## you can change this to all topics \n",
    "\n",
    "## code to change the date time, for the moment use year\n",
    "grouped_df = df_2005_top_10.groupby(['topic_code', 'YearMonth'])['citationCount'].sum().reset_index()\n",
    "\n",
    "# Pivot the DataFrame to get years on the x-axis and Topic Frequencies as columns\n",
    "pivot_df = grouped_df.pivot(index='YearMonth', columns='topic_code', values='citationCount')\n",
    "\n",
    "# Plot the data with a legend\n",
    "pivot_df.plot(kind='line', legend=True)\n",
    "\n",
    "# Set labels and title\n",
    "plt.xlabel('Year')\n",
    "plt.ylabel('Topic Frequency')\n",
    "plt.title('Topic Frequencies Over Time')\n",
    "\n",
    "# Show the plot\n",
    "plt.show()"
   ]
  },
  {
   "cell_type": "code",
   "execution_count": null,
   "metadata": {},
   "outputs": [],
   "source": [
    "# Separating the training set and testing set\n",
    "train_data=pivot_df[pivot_df['YearMonth'].dt.year<2018].reset_index(drop = True)\n",
    "test_data=pivot_df[pivot_df['YearMonth'].dt.year>2017].reset_index(drop = True)"
   ]
  }
 ],
 "metadata": {
  "language_info": {
   "name": "python"
  },
  "orig_nbformat": 4
 },
 "nbformat": 4,
 "nbformat_minor": 2
}
