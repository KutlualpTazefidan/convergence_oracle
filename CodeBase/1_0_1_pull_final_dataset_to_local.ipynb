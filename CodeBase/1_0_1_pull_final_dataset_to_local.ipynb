{
 "cells": [
  {
   "cell_type": "code",
   "execution_count": null,
   "metadata": {},
   "outputs": [],
   "source": [
    "## TO PULL TABLES just pull one fo the names\n",
    "#     aws_raw_data_table = 'Science1900_2023'\n",
    "#     aws_vectorized_data_table = 'topified_vectorized_Science1900_2023'\n",
    "#     aws_topic_proba_data_table = 'topic_proba_data_Science1900_2023'\n",
    "#     model_name = 'model_Science1900_2023'\n",
    "\n",
    "#### EVERYONE WE ARE WORKING WITH ; \n",
    "# aws_vectorized_data_table ========= whose table name is;  \n",
    "# \n",
    "# 'topified_vectorized_Science1900_2023'\n",
    "\n",
    "## PULL Functions from custom functions\n",
    "from custom_functions import bertopic_addons as cfc\n",
    "\n",
    "## you will need to change the name below\n",
    "currenttable = 'topified_vectorized_data_sept2023'\n",
    "aws_dfs = cfc.pull_aws_sql_database(currenttable)\n",
    "aws_dfs\n",
    "\n",
    "## please save the table as a csv on your computer!!!\n",
    "# otherwise weird things may happen on AWS which we have to pay for"
   ]
  }
 ],
 "metadata": {
  "language_info": {
   "name": "python"
  },
  "orig_nbformat": 4
 },
 "nbformat": 4,
 "nbformat_minor": 2
}
