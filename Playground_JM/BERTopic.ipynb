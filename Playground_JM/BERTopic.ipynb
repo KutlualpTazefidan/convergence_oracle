{
      "cells": [
            {
                  "cell_type": "code",
                  "execution_count": 126,
                  "metadata": {},
                  "outputs": [],
                  "source": [
                        "from transformers import BertTokenizer, BertForSequenceClassification\n",
                        "from sklearn.feature_extraction.text import ENGLISH_STOP_WORDS\n",
                        "import os\n",
                        "import pandas as pd\n",
                        "\n",
                        "import time\n",
                        "import re"
                  ]
            },
            {
                  "cell_type": "code",
                  "execution_count": 127,
                  "metadata": {},
                  "outputs": [],
                  "source": [
                        "from umap import UMAP\n",
                        "from bertopic import BERTopic"
                  ]
            },
            {
                  "cell_type": "markdown",
                  "metadata": {},
                  "source": [
                        "### whole Dataset"
                  ]
            },
            {
                  "cell_type": "code",
                  "execution_count": 128,
                  "metadata": {},
                  "outputs": [
                        {
                              "data": {
                                    "text/plain": [
                                          "\"\\n# Replace 'your_folder_path' with the path to your folder containing CSV files\\nfolder_path = '/Users/admin/Desktop/spiced/convergence_oracle_project/data_small'\\n\\n# Initialize an empty DataFrame to store the combined data\\ncombined_df = pd.DataFrame()\\n\\n# Iterate through all files in the folder\\nfor filename in os.listdir(folder_path):\\n    if filename.endswith('.csv'):\\n        # Construct the full path to the CSV file\\n        file_path = os.path.join(folder_path, filename)\\n        \\n        # Read the CSV file into a DataFrame\\n        csv_df = pd.read_csv(file_path)\\n        \\n        # Concatenate the current DataFrame with the combined DataFrame\\n        combined_df = pd.concat([combined_df, csv_df], ignore_index=True)\\n\\n# Print or manipulate the combined DataFrame as needed\\ncombined_df\\n\\n\""
                                    ]
                              },
                              "execution_count": 128,
                              "metadata": {},
                              "output_type": "execute_result"
                        }
                  ],
                  "source": [
                        "'''\n",
                        "# Replace 'your_folder_path' with the path to your folder containing CSV files\n",
                        "folder_path = '/Users/admin/Desktop/spiced/convergence_oracle_project/data_small'\n",
                        "\n",
                        "# Initialize an empty DataFrame to store the combined data\n",
                        "combined_df = pd.DataFrame()\n",
                        "\n",
                        "# Iterate through all files in the folder\n",
                        "for filename in os.listdir(folder_path):\n",
                        "    if filename.endswith('.csv'):\n",
                        "        # Construct the full path to the CSV file\n",
                        "        file_path = os.path.join(folder_path, filename)\n",
                        "        \n",
                        "        # Read the CSV file into a DataFrame\n",
                        "        csv_df = pd.read_csv(file_path)\n",
                        "        \n",
                        "        # Concatenate the current DataFrame with the combined DataFrame\n",
                        "        combined_df = pd.concat([combined_df, csv_df], ignore_index=True)\n",
                        "\n",
                        "# Print or manipulate the combined DataFrame as needed\n",
                        "combined_df\n",
                        "\n",
                        "'''"
                  ]
            },
            {
                  "cell_type": "markdown",
                  "metadata": {},
                  "source": [
                        "### smaller Try"
                  ]
            },
            {
                  "cell_type": "code",
                  "execution_count": 129,
                  "metadata": {},
                  "outputs": [
                        {
                              "data": {
                                    "text/html": [
                                          "<div>\n",
                                          "<style scoped>\n",
                                          "    .dataframe tbody tr th:only-of-type {\n",
                                          "        vertical-align: middle;\n",
                                          "    }\n",
                                          "\n",
                                          "    .dataframe tbody tr th {\n",
                                          "        vertical-align: top;\n",
                                          "    }\n",
                                          "\n",
                                          "    .dataframe thead th {\n",
                                          "        text-align: right;\n",
                                          "    }\n",
                                          "</style>\n",
                                          "<table border=\"1\" class=\"dataframe\">\n",
                                          "  <thead>\n",
                                          "    <tr style=\"text-align: right;\">\n",
                                          "      <th></th>\n",
                                          "      <th>abstract</th>\n",
                                          "      <th>author</th>\n",
                                          "      <th>title</th>\n",
                                          "      <th>year</th>\n",
                                          "      <th>citation_count</th>\n",
                                          "    </tr>\n",
                                          "  </thead>\n",
                                          "  <tbody>\n",
                                          "    <tr>\n",
                                          "      <th>0</th>\n",
                                          "      <td>Graphene is a rapidly rising star on the horiz...</td>\n",
                                          "      <td>['Geim, A. K.', 'Novoselov, K. S.']</td>\n",
                                          "      <td>['The rise of graphene']</td>\n",
                                          "      <td>2007</td>\n",
                                          "      <td>14425</td>\n",
                                          "    </tr>\n",
                                          "    <tr>\n",
                                          "      <th>1</th>\n",
                                          "      <td>Matplotlib is a 2D graphics package for Python...</td>\n",
                                          "      <td>['Hunter, John D.']</td>\n",
                                          "      <td>['Matplotlib: A 2D Graphics Environment']</td>\n",
                                          "      <td>2007</td>\n",
                                          "      <td>10931</td>\n",
                                          "    </tr>\n",
                                          "    <tr>\n",
                                          "      <th>2</th>\n",
                                          "      <td>A simple cosmological model with only six para...</td>\n",
                                          "      <td>['Spergel, D. N.', 'Bean, R.', 'Doré, O.', 'No...</td>\n",
                                          "      <td>['Three-Year Wilkinson Microwave Anisotropy Pr...</td>\n",
                                          "      <td>2007</td>\n",
                                          "      <td>7119</td>\n",
                                          "    </tr>\n",
                                          "    <tr>\n",
                                          "      <th>3</th>\n",
                                          "      <td>We measured the volatile chemical composition ...</td>\n",
                                          "      <td>['Gibb, Erika L.', 'Bonev, Boncho P.', 'Villan...</td>\n",
                                          "      <td>[\"Chemical Composition of Comet C/2007 N3 (Lul...</td>\n",
                                          "      <td>2012</td>\n",
                                          "      <td>49</td>\n",
                                          "    </tr>\n",
                                          "    <tr>\n",
                                          "      <th>4</th>\n",
                                          "      <td>Context: A new reduction of the astrometric da...</td>\n",
                                          "      <td>['van Leeuwen, F.']</td>\n",
                                          "      <td>['Validation of the new Hipparcos reduction']</td>\n",
                                          "      <td>2007</td>\n",
                                          "      <td>3068</td>\n",
                                          "    </tr>\n",
                                          "    <tr>\n",
                                          "      <th>...</th>\n",
                                          "      <td>...</td>\n",
                                          "      <td>...</td>\n",
                                          "      <td>...</td>\n",
                                          "      <td>...</td>\n",
                                          "      <td>...</td>\n",
                                          "    </tr>\n",
                                          "    <tr>\n",
                                          "      <th>795</th>\n",
                                          "      <td>Stable, hydrogen-burning, M dwarf stars make u...</td>\n",
                                          "      <td>['Tarter, Jill C.', 'Backus, Peter R.', 'Manci...</td>\n",
                                          "      <td>['A Reappraisal of The Habitability of Planets...</td>\n",
                                          "      <td>2007</td>\n",
                                          "      <td>278</td>\n",
                                          "    </tr>\n",
                                          "    <tr>\n",
                                          "      <th>796</th>\n",
                                          "      <td>Every three years the IAU/IAG Working Group on...</td>\n",
                                          "      <td>['Seidelmann, P. Kenneth', 'Archinal, B. A.', ...</td>\n",
                                          "      <td>['Report of the IAU/IAG Working Group on carto...</td>\n",
                                          "      <td>2007</td>\n",
                                          "      <td>198</td>\n",
                                          "    </tr>\n",
                                          "    <tr>\n",
                                          "      <th>797</th>\n",
                                          "      <td>We present here the first 2D rotating, multigr...</td>\n",
                                          "      <td>['Burrows, A.', 'Dessart, L.', 'Livne, E.', 'O...</td>\n",
                                          "      <td>['Simulations of Magnetically Driven Supernova...</td>\n",
                                          "      <td>2007</td>\n",
                                          "      <td>374</td>\n",
                                          "    </tr>\n",
                                          "    <tr>\n",
                                          "      <th>798</th>\n",
                                          "      <td>Motivated by recent graphene transport experim...</td>\n",
                                          "      <td>['Nomura, Kentaro', 'MacDonald, A. H.']</td>\n",
                                          "      <td>['Quantum Transport of Massless Dirac Fermions']</td>\n",
                                          "      <td>2007</td>\n",
                                          "      <td>483</td>\n",
                                          "    </tr>\n",
                                          "    <tr>\n",
                                          "      <th>799</th>\n",
                                          "      <td>Graph states-multipartite entangled states tha...</td>\n",
                                          "      <td>['Lu, Chao-Yang', 'Zhou, Xiao-Qi', 'Gühne, Otf...</td>\n",
                                          "      <td>['Experimental entanglement of six photons in ...</td>\n",
                                          "      <td>2007</td>\n",
                                          "      <td>478</td>\n",
                                          "    </tr>\n",
                                          "  </tbody>\n",
                                          "</table>\n",
                                          "<p>800 rows × 5 columns</p>\n",
                                          "</div>"
                                    ],
                                    "text/plain": [
                                          "                                              abstract   \n",
                                          "0    Graphene is a rapidly rising star on the horiz...  \\\n",
                                          "1    Matplotlib is a 2D graphics package for Python...   \n",
                                          "2    A simple cosmological model with only six para...   \n",
                                          "3    We measured the volatile chemical composition ...   \n",
                                          "4    Context: A new reduction of the astrometric da...   \n",
                                          "..                                                 ...   \n",
                                          "795  Stable, hydrogen-burning, M dwarf stars make u...   \n",
                                          "796  Every three years the IAU/IAG Working Group on...   \n",
                                          "797  We present here the first 2D rotating, multigr...   \n",
                                          "798  Motivated by recent graphene transport experim...   \n",
                                          "799  Graph states-multipartite entangled states tha...   \n",
                                          "\n",
                                          "                                                author   \n",
                                          "0                  ['Geim, A. K.', 'Novoselov, K. S.']  \\\n",
                                          "1                                  ['Hunter, John D.']   \n",
                                          "2    ['Spergel, D. N.', 'Bean, R.', 'Doré, O.', 'No...   \n",
                                          "3    ['Gibb, Erika L.', 'Bonev, Boncho P.', 'Villan...   \n",
                                          "4                                  ['van Leeuwen, F.']   \n",
                                          "..                                                 ...   \n",
                                          "795  ['Tarter, Jill C.', 'Backus, Peter R.', 'Manci...   \n",
                                          "796  ['Seidelmann, P. Kenneth', 'Archinal, B. A.', ...   \n",
                                          "797  ['Burrows, A.', 'Dessart, L.', 'Livne, E.', 'O...   \n",
                                          "798            ['Nomura, Kentaro', 'MacDonald, A. H.']   \n",
                                          "799  ['Lu, Chao-Yang', 'Zhou, Xiao-Qi', 'Gühne, Otf...   \n",
                                          "\n",
                                          "                                                 title  year  citation_count  \n",
                                          "0                             ['The rise of graphene']  2007           14425  \n",
                                          "1            ['Matplotlib: A 2D Graphics Environment']  2007           10931  \n",
                                          "2    ['Three-Year Wilkinson Microwave Anisotropy Pr...  2007            7119  \n",
                                          "3    [\"Chemical Composition of Comet C/2007 N3 (Lul...  2012              49  \n",
                                          "4        ['Validation of the new Hipparcos reduction']  2007            3068  \n",
                                          "..                                                 ...   ...             ...  \n",
                                          "795  ['A Reappraisal of The Habitability of Planets...  2007             278  \n",
                                          "796  ['Report of the IAU/IAG Working Group on carto...  2007             198  \n",
                                          "797  ['Simulations of Magnetically Driven Supernova...  2007             374  \n",
                                          "798   ['Quantum Transport of Massless Dirac Fermions']  2007             483  \n",
                                          "799  ['Experimental entanglement of six photons in ...  2007             478  \n",
                                          "\n",
                                          "[800 rows x 5 columns]"
                                    ]
                              },
                              "execution_count": 129,
                              "metadata": {},
                              "output_type": "execute_result"
                        }
                  ],
                  "source": [
                        "# SMALLER TRY\n",
                        "\n",
                        "\n",
                        "# Replace 'your_folder_path' with the path to your folder containing CSV files\n",
                        "folder_path = '/Users/admin/Desktop/spiced/convergence_oracle_project/data_small/2007_AADDR.csv'\n",
                        "\n",
                        "# Initialize an empty DataFrame to store the combined data\n",
                        "combined_df = pd.DataFrame()\n",
                        "\n",
                        "# Construct the full path to the CSV file\n",
                        "file_path = os.path.join(folder_path)\n",
                        "\n",
                        "# Read the CSV file into a DataFrame\n",
                        "csv_df = pd.read_csv(file_path)\n",
                        "\n",
                        "# Concatenate the current DataFrame with the combined DataFrame\n",
                        "combined_df = pd.concat([combined_df, csv_df], ignore_index=True)\n",
                        "\n",
                        "# Print or manipulate the combined DataFrame as needed\n",
                        "df=combined_df\n",
                        "df"
                  ]
            },
            {
                  "cell_type": "code",
                  "execution_count": 130,
                  "metadata": {},
                  "outputs": [],
                  "source": [
                        "# Print the count of NaN values for each column\n",
                        "nan_count = df.isna().sum()\n",
                        "nan_count\n",
                        "\n",
                        "#drop nan values in abstract column\n",
                        "df = df.dropna(subset=['abstract'])"
                  ]
            },
            {
                  "cell_type": "code",
                  "execution_count": 131,
                  "metadata": {},
                  "outputs": [
                        {
                              "data": {
                                    "text/plain": [
                                          "\" \\n\\nstop_words = set(ENGLISH_STOP_WORDS)\\ndef clean_text(row):\\n    # Tokenize and remove stopwords\\n    cleaned_tokens = [word for word in row['abstract'].split() if word.lower() not in ENGLISH_STOP_WORDS]\\n    return ' '.join(cleaned_tokens)\\ndf['abstract'] = df.apply(clean_text, axis=1)\\ndisplay(df.T)\\n\""
                                    ]
                              },
                              "execution_count": 131,
                              "metadata": {},
                              "output_type": "execute_result"
                        }
                  ],
                  "source": [
                        "''' \n",
                        "\n",
                        "stop_words = set(ENGLISH_STOP_WORDS)\n",
                        "def clean_text(row):\n",
                        "    # Tokenize and remove stopwords\n",
                        "    cleaned_tokens = [word for word in row['abstract'].split() if word.lower() not in ENGLISH_STOP_WORDS]\n",
                        "    return ' '.join(cleaned_tokens)\n",
                        "df['abstract'] = df.apply(clean_text, axis=1)\n",
                        "display(df.T)\n",
                        "'''"
                  ]
            },
            {
                  "cell_type": "code",
                  "execution_count": 132,
                  "metadata": {},
                  "outputs": [
                        {
                              "name": "stdout",
                              "output_type": "stream",
                              "text": [
                                    "                                              abstract   \n",
                                    "0    Graphene rapidly rising star horizon materials...  \\\n",
                                    "1    Matplotlib 2D graphics package Python applicat...   \n",
                                    "2    simple cosmological model parameters (matter d...   \n",
                                    "3    measured volatile chemical composition comet C...   \n",
                                    "4    Context: new reduction astrometric data produc...   \n",
                                    "..                                                 ...   \n",
                                    "795  Stable, hydrogen-burning, M dwarf stars make 7...   \n",
                                    "796  years IAU/IAG Working Group Cartographic Coord...   \n",
                                    "797  present 2D rotating, multigroup, radiation mag...   \n",
                                    "798  Motivated recent graphene transport experiment...   \n",
                                    "799  Graph states-multipartite entangled states rep...   \n",
                                    "\n",
                                    "                                                author   \n",
                                    "0                  ['Geim, A. K.', 'Novoselov, K. S.']  \\\n",
                                    "1                                  ['Hunter, John D.']   \n",
                                    "2    ['Spergel, D. N.', 'Bean, R.', 'Doré, O.', 'No...   \n",
                                    "3    ['Gibb, Erika L.', 'Bonev, Boncho P.', 'Villan...   \n",
                                    "4                                  ['van Leeuwen, F.']   \n",
                                    "..                                                 ...   \n",
                                    "795  ['Tarter, Jill C.', 'Backus, Peter R.', 'Manci...   \n",
                                    "796  ['Seidelmann, P. Kenneth', 'Archinal, B. A.', ...   \n",
                                    "797  ['Burrows, A.', 'Dessart, L.', 'Livne, E.', 'O...   \n",
                                    "798            ['Nomura, Kentaro', 'MacDonald, A. H.']   \n",
                                    "799  ['Lu, Chao-Yang', 'Zhou, Xiao-Qi', 'Gühne, Otf...   \n",
                                    "\n",
                                    "                                                 title  year  citation_count  \n",
                                    "0                             ['The rise of graphene']  2007           14425  \n",
                                    "1            ['Matplotlib: A 2D Graphics Environment']  2007           10931  \n",
                                    "2    ['Three-Year Wilkinson Microwave Anisotropy Pr...  2007            7119  \n",
                                    "3    [\"Chemical Composition of Comet C/2007 N3 (Lul...  2012              49  \n",
                                    "4        ['Validation of the new Hipparcos reduction']  2007            3068  \n",
                                    "..                                                 ...   ...             ...  \n",
                                    "795  ['A Reappraisal of The Habitability of Planets...  2007             278  \n",
                                    "796  ['Report of the IAU/IAG Working Group on carto...  2007             198  \n",
                                    "797  ['Simulations of Magnetically Driven Supernova...  2007             374  \n",
                                    "798   ['Quantum Transport of Massless Dirac Fermions']  2007             483  \n",
                                    "799  ['Experimental entanglement of six photons in ...  2007             478  \n",
                                    "\n",
                                    "[721 rows x 5 columns]\n"
                              ]
                        }
                  ],
                  "source": [
                        "\n",
                        "# remove stopword\n",
                        "\n",
                        "def remove_stopwords_from_column(df, column_name):\n",
                        "    # Define a function to remove stopwords from a text\n",
                        "    def remove_stopwords(text):\n",
                        "        tokens = text.split()\n",
                        "        filtered_tokens = [word for word in tokens if word.lower() not in ENGLISH_STOP_WORDS]\n",
                        "        return \" \".join(filtered_tokens)\n",
                        "    # Apply the remove_stopwords function to the specified column\n",
                        "    df[column_name] = df[column_name].apply(remove_stopwords)\n",
                        "    return df\n",
                        "\n",
                        "\n",
                        "df = remove_stopwords_from_column(df, 'abstract')\n",
                        "# Display the modified DataFrame\n",
                        "print(df)"
                  ]
            },
            {
                  "cell_type": "code",
                  "execution_count": 134,
                  "metadata": {},
                  "outputs": [
                        {
                              "name": "stderr",
                              "output_type": "stream",
                              "text": [
                                    "Batches: 100%|██████████| 23/23 [00:16<00:00,  1.43it/s]\n",
                                    "2023-09-22 13:09:22,184 - BERTopic - Transformed documents to Embeddings\n",
                                    "2023-09-22 13:09:23,532 - BERTopic - Reduced dimensionality\n",
                                    "2023-09-22 13:09:23,548 - BERTopic - Clustered reduced embeddings\n"
                              ]
                        },
                        {
                              "name": "stdout",
                              "output_type": "stream",
                              "text": [
                                    "it took 0.3005785346031189 minutes\n"
                              ]
                        }
                  ],
                  "source": [
                        "# train BERTopic\n",
                        "start_time = time.time()\n",
                        "\n",
                        "docs = df['abstract'].tolist()\n",
                        "\n",
                        "topic_model = BERTopic(language='english', n_gram_range=(1,2), min_topic_size=15, calculate_probabilities=True,verbose=True)\n",
                        "topics, probs = topic_model.fit_transform(docs)\n",
                        "\n",
                        "print('it took', (time.time() - start_time)/60, 'minutes')"
                  ]
            },
            {
                  "cell_type": "code",
                  "execution_count": null,
                  "metadata": {},
                  "outputs": [
                        {
                              "data": {
                                    "text/html": [
                                          "<div>\n",
                                          "<style scoped>\n",
                                          "    .dataframe tbody tr th:only-of-type {\n",
                                          "        vertical-align: middle;\n",
                                          "    }\n",
                                          "\n",
                                          "    .dataframe tbody tr th {\n",
                                          "        vertical-align: top;\n",
                                          "    }\n",
                                          "\n",
                                          "    .dataframe thead th {\n",
                                          "        text-align: right;\n",
                                          "    }\n",
                                          "</style>\n",
                                          "<table border=\"1\" class=\"dataframe\">\n",
                                          "  <thead>\n",
                                          "    <tr style=\"text-align: right;\">\n",
                                          "      <th></th>\n",
                                          "      <th>Topic</th>\n",
                                          "      <th>Count</th>\n",
                                          "      <th>Name</th>\n",
                                          "      <th>Representation</th>\n",
                                          "      <th>Representative_Docs</th>\n",
                                          "    </tr>\n",
                                          "  </thead>\n",
                                          "  <tbody>\n",
                                          "    <tr>\n",
                                          "      <th>0</th>\n",
                                          "      <td>-1</td>\n",
                                          "      <td>10</td>\n",
                                          "      <td>-1_recurrence_network_data_shm</td>\n",
                                          "      <td>[recurrence, network, data, shm, analysis, net...</td>\n",
                                          "      <td>[complex network (or class networks) presents ...</td>\n",
                                          "    </tr>\n",
                                          "    <tr>\n",
                                          "      <th>1</th>\n",
                                          "      <td>0</td>\n",
                                          "      <td>321</td>\n",
                                          "      <td>0_galaxies_mass_data_formation</td>\n",
                                          "      <td>[galaxies, mass, data, formation, star, stars,...</td>\n",
                                          "      <td>[model luminosity-dependent projected two-poin...</td>\n",
                                          "    </tr>\n",
                                          "    <tr>\n",
                                          "      <th>2</th>\n",
                                          "      <td>1</td>\n",
                                          "      <td>249</td>\n",
                                          "      <td>1_quantum_graphene_optical_spin</td>\n",
                                          "      <td>[quantum, graphene, optical, spin, states, sys...</td>\n",
                                          "      <td>[Cavity quantum electrodynamics (cavity QED) d...</td>\n",
                                          "    </tr>\n",
                                          "    <tr>\n",
                                          "      <th>3</th>\n",
                                          "      <td>2</td>\n",
                                          "      <td>75</td>\n",
                                          "      <td>2_climate_global_ocean_carbon</td>\n",
                                          "      <td>[climate, global, ocean, carbon, aerosol, wate...</td>\n",
                                          "      <td>[mass, age, chemical composition continental c...</td>\n",
                                          "    </tr>\n",
                                          "    <tr>\n",
                                          "      <th>4</th>\n",
                                          "      <td>3</td>\n",
                                          "      <td>66</td>\n",
                                          "      <td>3_theory_models_model_gauge</td>\n",
                                          "      <td>[theory, models, model, gauge, scalar, new, hi...</td>\n",
                                          "      <td>[present FORTRAN code SuSpect version 2.3, cal...</td>\n",
                                          "    </tr>\n",
                                          "  </tbody>\n",
                                          "</table>\n",
                                          "</div>"
                                    ],
                                    "text/plain": [
                                          "   Topic  Count                             Name   \n",
                                          "0     -1     10   -1_recurrence_network_data_shm  \\\n",
                                          "1      0    321   0_galaxies_mass_data_formation   \n",
                                          "2      1    249  1_quantum_graphene_optical_spin   \n",
                                          "3      2     75    2_climate_global_ocean_carbon   \n",
                                          "4      3     66      3_theory_models_model_gauge   \n",
                                          "\n",
                                          "                                      Representation   \n",
                                          "0  [recurrence, network, data, shm, analysis, net...  \\\n",
                                          "1  [galaxies, mass, data, formation, star, stars,...   \n",
                                          "2  [quantum, graphene, optical, spin, states, sys...   \n",
                                          "3  [climate, global, ocean, carbon, aerosol, wate...   \n",
                                          "4  [theory, models, model, gauge, scalar, new, hi...   \n",
                                          "\n",
                                          "                                 Representative_Docs  \n",
                                          "0  [complex network (or class networks) presents ...  \n",
                                          "1  [model luminosity-dependent projected two-poin...  \n",
                                          "2  [Cavity quantum electrodynamics (cavity QED) d...  \n",
                                          "3  [mass, age, chemical composition continental c...  \n",
                                          "4  [present FORTRAN code SuSpect version 2.3, cal...  "
                                    ]
                              },
                              "execution_count": 116,
                              "metadata": {},
                              "output_type": "execute_result"
                        }
                  ],
                  "source": [
                        "topic_model.get_topic_info()"
                  ]
            },
            {
                  "cell_type": "code",
                  "execution_count": null,
                  "metadata": {},
                  "outputs": [
                        {
                              "data": {
                                    "application/vnd.plotly.v1+json": {
                                          "config": {
                                                "plotlyServerURL": "https://plot.ly"
                                          },
                                          "data": [
                                                {
                                                      "marker": {
                                                            "color": "#D55E00"
                                                      },
                                                      "orientation": "h",
                                                      "type": "bar",
                                                      "x": [
                                                            0.011225092562337844,
                                                            0.011249967319913267,
                                                            0.013493322121999569,
                                                            0.014987553691281887,
                                                            0.02054381140248669
                                                      ],
                                                      "xaxis": "x",
                                                      "y": [
                                                            "star  ",
                                                            "formation  ",
                                                            "data  ",
                                                            "mass  ",
                                                            "galaxies  "
                                                      ],
                                                      "yaxis": "y"
                                                },
                                                {
                                                      "marker": {
                                                            "color": "#0072B2"
                                                      },
                                                      "orientation": "h",
                                                      "type": "bar",
                                                      "x": [
                                                            0.012043315223917698,
                                                            0.01209499994770244,
                                                            0.013409120479402998,
                                                            0.015970515541805688,
                                                            0.031180980633339277
                                                      ],
                                                      "xaxis": "x2",
                                                      "y": [
                                                            "states  ",
                                                            "spin  ",
                                                            "optical  ",
                                                            "graphene  ",
                                                            "quantum  "
                                                      ],
                                                      "yaxis": "y2"
                                                },
                                                {
                                                      "marker": {
                                                            "color": "#CC79A7"
                                                      },
                                                      "orientation": "h",
                                                      "type": "bar",
                                                      "x": [
                                                            0.011877119939910937,
                                                            0.01194984580655485,
                                                            0.012393044429752167,
                                                            0.01356003528934735,
                                                            0.01630637010627973
                                                      ],
                                                      "xaxis": "x3",
                                                      "y": [
                                                            "aerosol  ",
                                                            "carbon  ",
                                                            "ocean  ",
                                                            "global  ",
                                                            "climate  "
                                                      ],
                                                      "yaxis": "y3"
                                                },
                                                {
                                                      "marker": {
                                                            "color": "#E69F00"
                                                      },
                                                      "orientation": "h",
                                                      "type": "bar",
                                                      "x": [
                                                            0.016327287066974058,
                                                            0.017783400355046365,
                                                            0.018801918641615026,
                                                            0.02173165188195821,
                                                            0.02416202872975638
                                                      ],
                                                      "xaxis": "x4",
                                                      "y": [
                                                            "scalar  ",
                                                            "gauge  ",
                                                            "model  ",
                                                            "models  ",
                                                            "theory  "
                                                      ],
                                                      "yaxis": "y4"
                                                }
                                          ],
                                          "layout": {
                                                "annotations": [
                                                      {
                                                            "font": {
                                                                  "size": 16
                                                            },
                                                            "showarrow": false,
                                                            "text": "Topic 0",
                                                            "x": 0.0875,
                                                            "xanchor": "center",
                                                            "xref": "paper",
                                                            "y": 1,
                                                            "yanchor": "bottom",
                                                            "yref": "paper"
                                                      },
                                                      {
                                                            "font": {
                                                                  "size": 16
                                                            },
                                                            "showarrow": false,
                                                            "text": "Topic 1",
                                                            "x": 0.36250000000000004,
                                                            "xanchor": "center",
                                                            "xref": "paper",
                                                            "y": 1,
                                                            "yanchor": "bottom",
                                                            "yref": "paper"
                                                      },
                                                      {
                                                            "font": {
                                                                  "size": 16
                                                            },
                                                            "showarrow": false,
                                                            "text": "Topic 2",
                                                            "x": 0.6375000000000001,
                                                            "xanchor": "center",
                                                            "xref": "paper",
                                                            "y": 1,
                                                            "yanchor": "bottom",
                                                            "yref": "paper"
                                                      },
                                                      {
                                                            "font": {
                                                                  "size": 16
                                                            },
                                                            "showarrow": false,
                                                            "text": "Topic 3",
                                                            "x": 0.9125,
                                                            "xanchor": "center",
                                                            "xref": "paper",
                                                            "y": 1,
                                                            "yanchor": "bottom",
                                                            "yref": "paper"
                                                      }
                                                ],
                                                "height": 325,
                                                "hoverlabel": {
                                                      "bgcolor": "white",
                                                      "font": {
                                                            "family": "Rockwell",
                                                            "size": 16
                                                      }
                                                },
                                                "showlegend": false,
                                                "template": {
                                                      "data": {
                                                            "bar": [
                                                                  {
                                                                        "error_x": {
                                                                              "color": "#2a3f5f"
                                                                        },
                                                                        "error_y": {
                                                                              "color": "#2a3f5f"
                                                                        },
                                                                        "marker": {
                                                                              "line": {
                                                                                    "color": "white",
                                                                                    "width": 0.5
                                                                              },
                                                                              "pattern": {
                                                                                    "fillmode": "overlay",
                                                                                    "size": 10,
                                                                                    "solidity": 0.2
                                                                              }
                                                                        },
                                                                        "type": "bar"
                                                                  }
                                                            ],
                                                            "barpolar": [
                                                                  {
                                                                        "marker": {
                                                                              "line": {
                                                                                    "color": "white",
                                                                                    "width": 0.5
                                                                              },
                                                                              "pattern": {
                                                                                    "fillmode": "overlay",
                                                                                    "size": 10,
                                                                                    "solidity": 0.2
                                                                              }
                                                                        },
                                                                        "type": "barpolar"
                                                                  }
                                                            ],
                                                            "carpet": [
                                                                  {
                                                                        "aaxis": {
                                                                              "endlinecolor": "#2a3f5f",
                                                                              "gridcolor": "#C8D4E3",
                                                                              "linecolor": "#C8D4E3",
                                                                              "minorgridcolor": "#C8D4E3",
                                                                              "startlinecolor": "#2a3f5f"
                                                                        },
                                                                        "baxis": {
                                                                              "endlinecolor": "#2a3f5f",
                                                                              "gridcolor": "#C8D4E3",
                                                                              "linecolor": "#C8D4E3",
                                                                              "minorgridcolor": "#C8D4E3",
                                                                              "startlinecolor": "#2a3f5f"
                                                                        },
                                                                        "type": "carpet"
                                                                  }
                                                            ],
                                                            "choropleth": [
                                                                  {
                                                                        "colorbar": {
                                                                              "outlinewidth": 0,
                                                                              "ticks": ""
                                                                        },
                                                                        "type": "choropleth"
                                                                  }
                                                            ],
                                                            "contour": [
                                                                  {
                                                                        "colorbar": {
                                                                              "outlinewidth": 0,
                                                                              "ticks": ""
                                                                        },
                                                                        "colorscale": [
                                                                              [
                                                                                    0,
                                                                                    "#0d0887"
                                                                              ],
                                                                              [
                                                                                    0.1111111111111111,
                                                                                    "#46039f"
                                                                              ],
                                                                              [
                                                                                    0.2222222222222222,
                                                                                    "#7201a8"
                                                                              ],
                                                                              [
                                                                                    0.3333333333333333,
                                                                                    "#9c179e"
                                                                              ],
                                                                              [
                                                                                    0.4444444444444444,
                                                                                    "#bd3786"
                                                                              ],
                                                                              [
                                                                                    0.5555555555555556,
                                                                                    "#d8576b"
                                                                              ],
                                                                              [
                                                                                    0.6666666666666666,
                                                                                    "#ed7953"
                                                                              ],
                                                                              [
                                                                                    0.7777777777777778,
                                                                                    "#fb9f3a"
                                                                              ],
                                                                              [
                                                                                    0.8888888888888888,
                                                                                    "#fdca26"
                                                                              ],
                                                                              [
                                                                                    1,
                                                                                    "#f0f921"
                                                                              ]
                                                                        ],
                                                                        "type": "contour"
                                                                  }
                                                            ],
                                                            "contourcarpet": [
                                                                  {
                                                                        "colorbar": {
                                                                              "outlinewidth": 0,
                                                                              "ticks": ""
                                                                        },
                                                                        "type": "contourcarpet"
                                                                  }
                                                            ],
                                                            "heatmap": [
                                                                  {
                                                                        "colorbar": {
                                                                              "outlinewidth": 0,
                                                                              "ticks": ""
                                                                        },
                                                                        "colorscale": [
                                                                              [
                                                                                    0,
                                                                                    "#0d0887"
                                                                              ],
                                                                              [
                                                                                    0.1111111111111111,
                                                                                    "#46039f"
                                                                              ],
                                                                              [
                                                                                    0.2222222222222222,
                                                                                    "#7201a8"
                                                                              ],
                                                                              [
                                                                                    0.3333333333333333,
                                                                                    "#9c179e"
                                                                              ],
                                                                              [
                                                                                    0.4444444444444444,
                                                                                    "#bd3786"
                                                                              ],
                                                                              [
                                                                                    0.5555555555555556,
                                                                                    "#d8576b"
                                                                              ],
                                                                              [
                                                                                    0.6666666666666666,
                                                                                    "#ed7953"
                                                                              ],
                                                                              [
                                                                                    0.7777777777777778,
                                                                                    "#fb9f3a"
                                                                              ],
                                                                              [
                                                                                    0.8888888888888888,
                                                                                    "#fdca26"
                                                                              ],
                                                                              [
                                                                                    1,
                                                                                    "#f0f921"
                                                                              ]
                                                                        ],
                                                                        "type": "heatmap"
                                                                  }
                                                            ],
                                                            "heatmapgl": [
                                                                  {
                                                                        "colorbar": {
                                                                              "outlinewidth": 0,
                                                                              "ticks": ""
                                                                        },
                                                                        "colorscale": [
                                                                              [
                                                                                    0,
                                                                                    "#0d0887"
                                                                              ],
                                                                              [
                                                                                    0.1111111111111111,
                                                                                    "#46039f"
                                                                              ],
                                                                              [
                                                                                    0.2222222222222222,
                                                                                    "#7201a8"
                                                                              ],
                                                                              [
                                                                                    0.3333333333333333,
                                                                                    "#9c179e"
                                                                              ],
                                                                              [
                                                                                    0.4444444444444444,
                                                                                    "#bd3786"
                                                                              ],
                                                                              [
                                                                                    0.5555555555555556,
                                                                                    "#d8576b"
                                                                              ],
                                                                              [
                                                                                    0.6666666666666666,
                                                                                    "#ed7953"
                                                                              ],
                                                                              [
                                                                                    0.7777777777777778,
                                                                                    "#fb9f3a"
                                                                              ],
                                                                              [
                                                                                    0.8888888888888888,
                                                                                    "#fdca26"
                                                                              ],
                                                                              [
                                                                                    1,
                                                                                    "#f0f921"
                                                                              ]
                                                                        ],
                                                                        "type": "heatmapgl"
                                                                  }
                                                            ],
                                                            "histogram": [
                                                                  {
                                                                        "marker": {
                                                                              "pattern": {
                                                                                    "fillmode": "overlay",
                                                                                    "size": 10,
                                                                                    "solidity": 0.2
                                                                              }
                                                                        },
                                                                        "type": "histogram"
                                                                  }
                                                            ],
                                                            "histogram2d": [
                                                                  {
                                                                        "colorbar": {
                                                                              "outlinewidth": 0,
                                                                              "ticks": ""
                                                                        },
                                                                        "colorscale": [
                                                                              [
                                                                                    0,
                                                                                    "#0d0887"
                                                                              ],
                                                                              [
                                                                                    0.1111111111111111,
                                                                                    "#46039f"
                                                                              ],
                                                                              [
                                                                                    0.2222222222222222,
                                                                                    "#7201a8"
                                                                              ],
                                                                              [
                                                                                    0.3333333333333333,
                                                                                    "#9c179e"
                                                                              ],
                                                                              [
                                                                                    0.4444444444444444,
                                                                                    "#bd3786"
                                                                              ],
                                                                              [
                                                                                    0.5555555555555556,
                                                                                    "#d8576b"
                                                                              ],
                                                                              [
                                                                                    0.6666666666666666,
                                                                                    "#ed7953"
                                                                              ],
                                                                              [
                                                                                    0.7777777777777778,
                                                                                    "#fb9f3a"
                                                                              ],
                                                                              [
                                                                                    0.8888888888888888,
                                                                                    "#fdca26"
                                                                              ],
                                                                              [
                                                                                    1,
                                                                                    "#f0f921"
                                                                              ]
                                                                        ],
                                                                        "type": "histogram2d"
                                                                  }
                                                            ],
                                                            "histogram2dcontour": [
                                                                  {
                                                                        "colorbar": {
                                                                              "outlinewidth": 0,
                                                                              "ticks": ""
                                                                        },
                                                                        "colorscale": [
                                                                              [
                                                                                    0,
                                                                                    "#0d0887"
                                                                              ],
                                                                              [
                                                                                    0.1111111111111111,
                                                                                    "#46039f"
                                                                              ],
                                                                              [
                                                                                    0.2222222222222222,
                                                                                    "#7201a8"
                                                                              ],
                                                                              [
                                                                                    0.3333333333333333,
                                                                                    "#9c179e"
                                                                              ],
                                                                              [
                                                                                    0.4444444444444444,
                                                                                    "#bd3786"
                                                                              ],
                                                                              [
                                                                                    0.5555555555555556,
                                                                                    "#d8576b"
                                                                              ],
                                                                              [
                                                                                    0.6666666666666666,
                                                                                    "#ed7953"
                                                                              ],
                                                                              [
                                                                                    0.7777777777777778,
                                                                                    "#fb9f3a"
                                                                              ],
                                                                              [
                                                                                    0.8888888888888888,
                                                                                    "#fdca26"
                                                                              ],
                                                                              [
                                                                                    1,
                                                                                    "#f0f921"
                                                                              ]
                                                                        ],
                                                                        "type": "histogram2dcontour"
                                                                  }
                                                            ],
                                                            "mesh3d": [
                                                                  {
                                                                        "colorbar": {
                                                                              "outlinewidth": 0,
                                                                              "ticks": ""
                                                                        },
                                                                        "type": "mesh3d"
                                                                  }
                                                            ],
                                                            "parcoords": [
                                                                  {
                                                                        "line": {
                                                                              "colorbar": {
                                                                                    "outlinewidth": 0,
                                                                                    "ticks": ""
                                                                              }
                                                                        },
                                                                        "type": "parcoords"
                                                                  }
                                                            ],
                                                            "pie": [
                                                                  {
                                                                        "automargin": true,
                                                                        "type": "pie"
                                                                  }
                                                            ],
                                                            "scatter": [
                                                                  {
                                                                        "fillpattern": {
                                                                              "fillmode": "overlay",
                                                                              "size": 10,
                                                                              "solidity": 0.2
                                                                        },
                                                                        "type": "scatter"
                                                                  }
                                                            ],
                                                            "scatter3d": [
                                                                  {
                                                                        "line": {
                                                                              "colorbar": {
                                                                                    "outlinewidth": 0,
                                                                                    "ticks": ""
                                                                              }
                                                                        },
                                                                        "marker": {
                                                                              "colorbar": {
                                                                                    "outlinewidth": 0,
                                                                                    "ticks": ""
                                                                              }
                                                                        },
                                                                        "type": "scatter3d"
                                                                  }
                                                            ],
                                                            "scattercarpet": [
                                                                  {
                                                                        "marker": {
                                                                              "colorbar": {
                                                                                    "outlinewidth": 0,
                                                                                    "ticks": ""
                                                                              }
                                                                        },
                                                                        "type": "scattercarpet"
                                                                  }
                                                            ],
                                                            "scattergeo": [
                                                                  {
                                                                        "marker": {
                                                                              "colorbar": {
                                                                                    "outlinewidth": 0,
                                                                                    "ticks": ""
                                                                              }
                                                                        },
                                                                        "type": "scattergeo"
                                                                  }
                                                            ],
                                                            "scattergl": [
                                                                  {
                                                                        "marker": {
                                                                              "colorbar": {
                                                                                    "outlinewidth": 0,
                                                                                    "ticks": ""
                                                                              }
                                                                        },
                                                                        "type": "scattergl"
                                                                  }
                                                            ],
                                                            "scattermapbox": [
                                                                  {
                                                                        "marker": {
                                                                              "colorbar": {
                                                                                    "outlinewidth": 0,
                                                                                    "ticks": ""
                                                                              }
                                                                        },
                                                                        "type": "scattermapbox"
                                                                  }
                                                            ],
                                                            "scatterpolar": [
                                                                  {
                                                                        "marker": {
                                                                              "colorbar": {
                                                                                    "outlinewidth": 0,
                                                                                    "ticks": ""
                                                                              }
                                                                        },
                                                                        "type": "scatterpolar"
                                                                  }
                                                            ],
                                                            "scatterpolargl": [
                                                                  {
                                                                        "marker": {
                                                                              "colorbar": {
                                                                                    "outlinewidth": 0,
                                                                                    "ticks": ""
                                                                              }
                                                                        },
                                                                        "type": "scatterpolargl"
                                                                  }
                                                            ],
                                                            "scatterternary": [
                                                                  {
                                                                        "marker": {
                                                                              "colorbar": {
                                                                                    "outlinewidth": 0,
                                                                                    "ticks": ""
                                                                              }
                                                                        },
                                                                        "type": "scatterternary"
                                                                  }
                                                            ],
                                                            "surface": [
                                                                  {
                                                                        "colorbar": {
                                                                              "outlinewidth": 0,
                                                                              "ticks": ""
                                                                        },
                                                                        "colorscale": [
                                                                              [
                                                                                    0,
                                                                                    "#0d0887"
                                                                              ],
                                                                              [
                                                                                    0.1111111111111111,
                                                                                    "#46039f"
                                                                              ],
                                                                              [
                                                                                    0.2222222222222222,
                                                                                    "#7201a8"
                                                                              ],
                                                                              [
                                                                                    0.3333333333333333,
                                                                                    "#9c179e"
                                                                              ],
                                                                              [
                                                                                    0.4444444444444444,
                                                                                    "#bd3786"
                                                                              ],
                                                                              [
                                                                                    0.5555555555555556,
                                                                                    "#d8576b"
                                                                              ],
                                                                              [
                                                                                    0.6666666666666666,
                                                                                    "#ed7953"
                                                                              ],
                                                                              [
                                                                                    0.7777777777777778,
                                                                                    "#fb9f3a"
                                                                              ],
                                                                              [
                                                                                    0.8888888888888888,
                                                                                    "#fdca26"
                                                                              ],
                                                                              [
                                                                                    1,
                                                                                    "#f0f921"
                                                                              ]
                                                                        ],
                                                                        "type": "surface"
                                                                  }
                                                            ],
                                                            "table": [
                                                                  {
                                                                        "cells": {
                                                                              "fill": {
                                                                                    "color": "#EBF0F8"
                                                                              },
                                                                              "line": {
                                                                                    "color": "white"
                                                                              }
                                                                        },
                                                                        "header": {
                                                                              "fill": {
                                                                                    "color": "#C8D4E3"
                                                                              },
                                                                              "line": {
                                                                                    "color": "white"
                                                                              }
                                                                        },
                                                                        "type": "table"
                                                                  }
                                                            ]
                                                      },
                                                      "layout": {
                                                            "annotationdefaults": {
                                                                  "arrowcolor": "#2a3f5f",
                                                                  "arrowhead": 0,
                                                                  "arrowwidth": 1
                                                            },
                                                            "autotypenumbers": "strict",
                                                            "coloraxis": {
                                                                  "colorbar": {
                                                                        "outlinewidth": 0,
                                                                        "ticks": ""
                                                                  }
                                                            },
                                                            "colorscale": {
                                                                  "diverging": [
                                                                        [
                                                                              0,
                                                                              "#8e0152"
                                                                        ],
                                                                        [
                                                                              0.1,
                                                                              "#c51b7d"
                                                                        ],
                                                                        [
                                                                              0.2,
                                                                              "#de77ae"
                                                                        ],
                                                                        [
                                                                              0.3,
                                                                              "#f1b6da"
                                                                        ],
                                                                        [
                                                                              0.4,
                                                                              "#fde0ef"
                                                                        ],
                                                                        [
                                                                              0.5,
                                                                              "#f7f7f7"
                                                                        ],
                                                                        [
                                                                              0.6,
                                                                              "#e6f5d0"
                                                                        ],
                                                                        [
                                                                              0.7,
                                                                              "#b8e186"
                                                                        ],
                                                                        [
                                                                              0.8,
                                                                              "#7fbc41"
                                                                        ],
                                                                        [
                                                                              0.9,
                                                                              "#4d9221"
                                                                        ],
                                                                        [
                                                                              1,
                                                                              "#276419"
                                                                        ]
                                                                  ],
                                                                  "sequential": [
                                                                        [
                                                                              0,
                                                                              "#0d0887"
                                                                        ],
                                                                        [
                                                                              0.1111111111111111,
                                                                              "#46039f"
                                                                        ],
                                                                        [
                                                                              0.2222222222222222,
                                                                              "#7201a8"
                                                                        ],
                                                                        [
                                                                              0.3333333333333333,
                                                                              "#9c179e"
                                                                        ],
                                                                        [
                                                                              0.4444444444444444,
                                                                              "#bd3786"
                                                                        ],
                                                                        [
                                                                              0.5555555555555556,
                                                                              "#d8576b"
                                                                        ],
                                                                        [
                                                                              0.6666666666666666,
                                                                              "#ed7953"
                                                                        ],
                                                                        [
                                                                              0.7777777777777778,
                                                                              "#fb9f3a"
                                                                        ],
                                                                        [
                                                                              0.8888888888888888,
                                                                              "#fdca26"
                                                                        ],
                                                                        [
                                                                              1,
                                                                              "#f0f921"
                                                                        ]
                                                                  ],
                                                                  "sequentialminus": [
                                                                        [
                                                                              0,
                                                                              "#0d0887"
                                                                        ],
                                                                        [
                                                                              0.1111111111111111,
                                                                              "#46039f"
                                                                        ],
                                                                        [
                                                                              0.2222222222222222,
                                                                              "#7201a8"
                                                                        ],
                                                                        [
                                                                              0.3333333333333333,
                                                                              "#9c179e"
                                                                        ],
                                                                        [
                                                                              0.4444444444444444,
                                                                              "#bd3786"
                                                                        ],
                                                                        [
                                                                              0.5555555555555556,
                                                                              "#d8576b"
                                                                        ],
                                                                        [
                                                                              0.6666666666666666,
                                                                              "#ed7953"
                                                                        ],
                                                                        [
                                                                              0.7777777777777778,
                                                                              "#fb9f3a"
                                                                        ],
                                                                        [
                                                                              0.8888888888888888,
                                                                              "#fdca26"
                                                                        ],
                                                                        [
                                                                              1,
                                                                              "#f0f921"
                                                                        ]
                                                                  ]
                                                            },
                                                            "colorway": [
                                                                  "#636efa",
                                                                  "#EF553B",
                                                                  "#00cc96",
                                                                  "#ab63fa",
                                                                  "#FFA15A",
                                                                  "#19d3f3",
                                                                  "#FF6692",
                                                                  "#B6E880",
                                                                  "#FF97FF",
                                                                  "#FECB52"
                                                            ],
                                                            "font": {
                                                                  "color": "#2a3f5f"
                                                            },
                                                            "geo": {
                                                                  "bgcolor": "white",
                                                                  "lakecolor": "white",
                                                                  "landcolor": "white",
                                                                  "showlakes": true,
                                                                  "showland": true,
                                                                  "subunitcolor": "#C8D4E3"
                                                            },
                                                            "hoverlabel": {
                                                                  "align": "left"
                                                            },
                                                            "hovermode": "closest",
                                                            "mapbox": {
                                                                  "style": "light"
                                                            },
                                                            "paper_bgcolor": "white",
                                                            "plot_bgcolor": "white",
                                                            "polar": {
                                                                  "angularaxis": {
                                                                        "gridcolor": "#EBF0F8",
                                                                        "linecolor": "#EBF0F8",
                                                                        "ticks": ""
                                                                  },
                                                                  "bgcolor": "white",
                                                                  "radialaxis": {
                                                                        "gridcolor": "#EBF0F8",
                                                                        "linecolor": "#EBF0F8",
                                                                        "ticks": ""
                                                                  }
                                                            },
                                                            "scene": {
                                                                  "xaxis": {
                                                                        "backgroundcolor": "white",
                                                                        "gridcolor": "#DFE8F3",
                                                                        "gridwidth": 2,
                                                                        "linecolor": "#EBF0F8",
                                                                        "showbackground": true,
                                                                        "ticks": "",
                                                                        "zerolinecolor": "#EBF0F8"
                                                                  },
                                                                  "yaxis": {
                                                                        "backgroundcolor": "white",
                                                                        "gridcolor": "#DFE8F3",
                                                                        "gridwidth": 2,
                                                                        "linecolor": "#EBF0F8",
                                                                        "showbackground": true,
                                                                        "ticks": "",
                                                                        "zerolinecolor": "#EBF0F8"
                                                                  },
                                                                  "zaxis": {
                                                                        "backgroundcolor": "white",
                                                                        "gridcolor": "#DFE8F3",
                                                                        "gridwidth": 2,
                                                                        "linecolor": "#EBF0F8",
                                                                        "showbackground": true,
                                                                        "ticks": "",
                                                                        "zerolinecolor": "#EBF0F8"
                                                                  }
                                                            },
                                                            "shapedefaults": {
                                                                  "line": {
                                                                        "color": "#2a3f5f"
                                                                  }
                                                            },
                                                            "ternary": {
                                                                  "aaxis": {
                                                                        "gridcolor": "#DFE8F3",
                                                                        "linecolor": "#A2B1C6",
                                                                        "ticks": ""
                                                                  },
                                                                  "baxis": {
                                                                        "gridcolor": "#DFE8F3",
                                                                        "linecolor": "#A2B1C6",
                                                                        "ticks": ""
                                                                  },
                                                                  "bgcolor": "white",
                                                                  "caxis": {
                                                                        "gridcolor": "#DFE8F3",
                                                                        "linecolor": "#A2B1C6",
                                                                        "ticks": ""
                                                                  }
                                                            },
                                                            "title": {
                                                                  "x": 0.05
                                                            },
                                                            "xaxis": {
                                                                  "automargin": true,
                                                                  "gridcolor": "#EBF0F8",
                                                                  "linecolor": "#EBF0F8",
                                                                  "ticks": "",
                                                                  "title": {
                                                                        "standoff": 15
                                                                  },
                                                                  "zerolinecolor": "#EBF0F8",
                                                                  "zerolinewidth": 2
                                                            },
                                                            "yaxis": {
                                                                  "automargin": true,
                                                                  "gridcolor": "#EBF0F8",
                                                                  "linecolor": "#EBF0F8",
                                                                  "ticks": "",
                                                                  "title": {
                                                                        "standoff": 15
                                                                  },
                                                                  "zerolinecolor": "#EBF0F8",
                                                                  "zerolinewidth": 2
                                                            }
                                                      }
                                                },
                                                "title": {
                                                      "font": {
                                                            "color": "Black",
                                                            "size": 22
                                                      },
                                                      "text": "Topic Word Scores",
                                                      "x": 0.5,
                                                      "xanchor": "center",
                                                      "yanchor": "top"
                                                },
                                                "width": 1000,
                                                "xaxis": {
                                                      "anchor": "y",
                                                      "domain": [
                                                            0,
                                                            0.175
                                                      ],
                                                      "showgrid": true
                                                },
                                                "xaxis2": {
                                                      "anchor": "y2",
                                                      "domain": [
                                                            0.275,
                                                            0.45
                                                      ],
                                                      "showgrid": true
                                                },
                                                "xaxis3": {
                                                      "anchor": "y3",
                                                      "domain": [
                                                            0.55,
                                                            0.7250000000000001
                                                      ],
                                                      "showgrid": true
                                                },
                                                "xaxis4": {
                                                      "anchor": "y4",
                                                      "domain": [
                                                            0.825,
                                                            1
                                                      ],
                                                      "showgrid": true
                                                },
                                                "yaxis": {
                                                      "anchor": "x",
                                                      "domain": [
                                                            0,
                                                            1
                                                      ],
                                                      "showgrid": true
                                                },
                                                "yaxis2": {
                                                      "anchor": "x2",
                                                      "domain": [
                                                            0,
                                                            1
                                                      ],
                                                      "showgrid": true
                                                },
                                                "yaxis3": {
                                                      "anchor": "x3",
                                                      "domain": [
                                                            0,
                                                            1
                                                      ],
                                                      "showgrid": true
                                                },
                                                "yaxis4": {
                                                      "anchor": "x4",
                                                      "domain": [
                                                            0,
                                                            1
                                                      ],
                                                      "showgrid": true
                                                }
                                          }
                                    }
                              },
                              "metadata": {},
                              "output_type": "display_data"
                        }
                  ],
                  "source": [
                        "topic_model.visualize_barchart(top_n_topics=7)"
                  ]
            },
            {
                  "cell_type": "code",
                  "execution_count": null,
                  "metadata": {},
                  "outputs": [
                        {
                              "data": {
                                    "application/vnd.plotly.v1+json": {
                                          "config": {
                                                "plotlyServerURL": "https://plot.ly"
                                          },
                                          "data": [
                                                {
                                                      "customdata": [
                                                            [
                                                                  0,
                                                                  "galaxies | mass | data | formation | star",
                                                                  321
                                                            ],
                                                            [
                                                                  1,
                                                                  "quantum | graphene | optical | spin | states",
                                                                  249
                                                            ],
                                                            [
                                                                  2,
                                                                  "climate | global | ocean | carbon | aerosol",
                                                                  75
                                                            ],
                                                            [
                                                                  3,
                                                                  "theory | models | model | gauge | scalar",
                                                                  66
                                                            ]
                                                      ],
                                                      "hovertemplate": "<b>Topic %{customdata[0]}</b><br>%{customdata[1]}<br>Size: %{customdata[2]}",
                                                      "legendgroup": "",
                                                      "marker": {
                                                            "color": "#B0BEC5",
                                                            "line": {
                                                                  "color": "DarkSlateGrey",
                                                                  "width": 2
                                                            },
                                                            "size": [
                                                                  321,
                                                                  249,
                                                                  75,
                                                                  66
                                                            ],
                                                            "sizemode": "area",
                                                            "sizeref": 0.200625,
                                                            "symbol": "circle"
                                                      },
                                                      "mode": "markers",
                                                      "name": "",
                                                      "orientation": "v",
                                                      "showlegend": false,
                                                      "type": "scatter",
                                                      "x": [
                                                            8.97247314453125,
                                                            7.468338489532471,
                                                            9.374425888061523,
                                                            8.056370735168457
                                                      ],
                                                      "xaxis": "x",
                                                      "y": [
                                                            12.094095230102539,
                                                            11.7435884475708,
                                                            11.369583129882812,
                                                            12.232958793640137
                                                      ],
                                                      "yaxis": "y"
                                                }
                                          ],
                                          "layout": {
                                                "annotations": [
                                                      {
                                                            "showarrow": false,
                                                            "text": "D1",
                                                            "x": 6.3480877161026,
                                                            "y": 11.866024136543274,
                                                            "yshift": 10
                                                      },
                                                      {
                                                            "showarrow": false,
                                                            "text": "D2",
                                                            "x": 8.564338743686676,
                                                            "xshift": 10,
                                                            "y": 14.067902612686158
                                                      }
                                                ],
                                                "height": 650,
                                                "hoverlabel": {
                                                      "bgcolor": "white",
                                                      "font": {
                                                            "family": "Rockwell",
                                                            "size": 16
                                                      }
                                                },
                                                "legend": {
                                                      "itemsizing": "constant",
                                                      "tracegroupgap": 0
                                                },
                                                "margin": {
                                                      "t": 60
                                                },
                                                "shapes": [
                                                      {
                                                            "line": {
                                                                  "color": "#CFD8DC",
                                                                  "width": 2
                                                            },
                                                            "type": "line",
                                                            "x0": 8.564338743686676,
                                                            "x1": 8.564338743686676,
                                                            "y0": 9.66414566040039,
                                                            "y1": 14.067902612686158
                                                      },
                                                      {
                                                            "line": {
                                                                  "color": "#9E9E9E",
                                                                  "width": 2
                                                            },
                                                            "type": "line",
                                                            "x0": 6.3480877161026,
                                                            "x1": 10.780589771270751,
                                                            "y0": 11.866024136543274,
                                                            "y1": 11.866024136543274
                                                      }
                                                ],
                                                "sliders": [
                                                      {
                                                            "active": 0,
                                                            "pad": {
                                                                  "t": 50
                                                            },
                                                            "steps": [
                                                                  {
                                                                        "args": [
                                                                              {
                                                                                    "marker.color": [
                                                                                          [
                                                                                                "red",
                                                                                                "#B0BEC5",
                                                                                                "#B0BEC5",
                                                                                                "#B0BEC5"
                                                                                          ]
                                                                                    ]
                                                                              }
                                                                        ],
                                                                        "label": "Topic 0",
                                                                        "method": "update"
                                                                  },
                                                                  {
                                                                        "args": [
                                                                              {
                                                                                    "marker.color": [
                                                                                          [
                                                                                                "#B0BEC5",
                                                                                                "red",
                                                                                                "#B0BEC5",
                                                                                                "#B0BEC5"
                                                                                          ]
                                                                                    ]
                                                                              }
                                                                        ],
                                                                        "label": "Topic 1",
                                                                        "method": "update"
                                                                  },
                                                                  {
                                                                        "args": [
                                                                              {
                                                                                    "marker.color": [
                                                                                          [
                                                                                                "#B0BEC5",
                                                                                                "#B0BEC5",
                                                                                                "red",
                                                                                                "#B0BEC5"
                                                                                          ]
                                                                                    ]
                                                                              }
                                                                        ],
                                                                        "label": "Topic 2",
                                                                        "method": "update"
                                                                  },
                                                                  {
                                                                        "args": [
                                                                              {
                                                                                    "marker.color": [
                                                                                          [
                                                                                                "#B0BEC5",
                                                                                                "#B0BEC5",
                                                                                                "#B0BEC5",
                                                                                                "red"
                                                                                          ]
                                                                                    ]
                                                                              }
                                                                        ],
                                                                        "label": "Topic 3",
                                                                        "method": "update"
                                                                  }
                                                            ]
                                                      }
                                                ],
                                                "template": {
                                                      "data": {
                                                            "bar": [
                                                                  {
                                                                        "error_x": {
                                                                              "color": "rgb(36,36,36)"
                                                                        },
                                                                        "error_y": {
                                                                              "color": "rgb(36,36,36)"
                                                                        },
                                                                        "marker": {
                                                                              "line": {
                                                                                    "color": "white",
                                                                                    "width": 0.5
                                                                              },
                                                                              "pattern": {
                                                                                    "fillmode": "overlay",
                                                                                    "size": 10,
                                                                                    "solidity": 0.2
                                                                              }
                                                                        },
                                                                        "type": "bar"
                                                                  }
                                                            ],
                                                            "barpolar": [
                                                                  {
                                                                        "marker": {
                                                                              "line": {
                                                                                    "color": "white",
                                                                                    "width": 0.5
                                                                              },
                                                                              "pattern": {
                                                                                    "fillmode": "overlay",
                                                                                    "size": 10,
                                                                                    "solidity": 0.2
                                                                              }
                                                                        },
                                                                        "type": "barpolar"
                                                                  }
                                                            ],
                                                            "carpet": [
                                                                  {
                                                                        "aaxis": {
                                                                              "endlinecolor": "rgb(36,36,36)",
                                                                              "gridcolor": "white",
                                                                              "linecolor": "white",
                                                                              "minorgridcolor": "white",
                                                                              "startlinecolor": "rgb(36,36,36)"
                                                                        },
                                                                        "baxis": {
                                                                              "endlinecolor": "rgb(36,36,36)",
                                                                              "gridcolor": "white",
                                                                              "linecolor": "white",
                                                                              "minorgridcolor": "white",
                                                                              "startlinecolor": "rgb(36,36,36)"
                                                                        },
                                                                        "type": "carpet"
                                                                  }
                                                            ],
                                                            "choropleth": [
                                                                  {
                                                                        "colorbar": {
                                                                              "outlinewidth": 1,
                                                                              "tickcolor": "rgb(36,36,36)",
                                                                              "ticks": "outside"
                                                                        },
                                                                        "type": "choropleth"
                                                                  }
                                                            ],
                                                            "contour": [
                                                                  {
                                                                        "colorbar": {
                                                                              "outlinewidth": 1,
                                                                              "tickcolor": "rgb(36,36,36)",
                                                                              "ticks": "outside"
                                                                        },
                                                                        "colorscale": [
                                                                              [
                                                                                    0,
                                                                                    "#440154"
                                                                              ],
                                                                              [
                                                                                    0.1111111111111111,
                                                                                    "#482878"
                                                                              ],
                                                                              [
                                                                                    0.2222222222222222,
                                                                                    "#3e4989"
                                                                              ],
                                                                              [
                                                                                    0.3333333333333333,
                                                                                    "#31688e"
                                                                              ],
                                                                              [
                                                                                    0.4444444444444444,
                                                                                    "#26828e"
                                                                              ],
                                                                              [
                                                                                    0.5555555555555556,
                                                                                    "#1f9e89"
                                                                              ],
                                                                              [
                                                                                    0.6666666666666666,
                                                                                    "#35b779"
                                                                              ],
                                                                              [
                                                                                    0.7777777777777778,
                                                                                    "#6ece58"
                                                                              ],
                                                                              [
                                                                                    0.8888888888888888,
                                                                                    "#b5de2b"
                                                                              ],
                                                                              [
                                                                                    1,
                                                                                    "#fde725"
                                                                              ]
                                                                        ],
                                                                        "type": "contour"
                                                                  }
                                                            ],
                                                            "contourcarpet": [
                                                                  {
                                                                        "colorbar": {
                                                                              "outlinewidth": 1,
                                                                              "tickcolor": "rgb(36,36,36)",
                                                                              "ticks": "outside"
                                                                        },
                                                                        "type": "contourcarpet"
                                                                  }
                                                            ],
                                                            "heatmap": [
                                                                  {
                                                                        "colorbar": {
                                                                              "outlinewidth": 1,
                                                                              "tickcolor": "rgb(36,36,36)",
                                                                              "ticks": "outside"
                                                                        },
                                                                        "colorscale": [
                                                                              [
                                                                                    0,
                                                                                    "#440154"
                                                                              ],
                                                                              [
                                                                                    0.1111111111111111,
                                                                                    "#482878"
                                                                              ],
                                                                              [
                                                                                    0.2222222222222222,
                                                                                    "#3e4989"
                                                                              ],
                                                                              [
                                                                                    0.3333333333333333,
                                                                                    "#31688e"
                                                                              ],
                                                                              [
                                                                                    0.4444444444444444,
                                                                                    "#26828e"
                                                                              ],
                                                                              [
                                                                                    0.5555555555555556,
                                                                                    "#1f9e89"
                                                                              ],
                                                                              [
                                                                                    0.6666666666666666,
                                                                                    "#35b779"
                                                                              ],
                                                                              [
                                                                                    0.7777777777777778,
                                                                                    "#6ece58"
                                                                              ],
                                                                              [
                                                                                    0.8888888888888888,
                                                                                    "#b5de2b"
                                                                              ],
                                                                              [
                                                                                    1,
                                                                                    "#fde725"
                                                                              ]
                                                                        ],
                                                                        "type": "heatmap"
                                                                  }
                                                            ],
                                                            "heatmapgl": [
                                                                  {
                                                                        "colorbar": {
                                                                              "outlinewidth": 1,
                                                                              "tickcolor": "rgb(36,36,36)",
                                                                              "ticks": "outside"
                                                                        },
                                                                        "colorscale": [
                                                                              [
                                                                                    0,
                                                                                    "#440154"
                                                                              ],
                                                                              [
                                                                                    0.1111111111111111,
                                                                                    "#482878"
                                                                              ],
                                                                              [
                                                                                    0.2222222222222222,
                                                                                    "#3e4989"
                                                                              ],
                                                                              [
                                                                                    0.3333333333333333,
                                                                                    "#31688e"
                                                                              ],
                                                                              [
                                                                                    0.4444444444444444,
                                                                                    "#26828e"
                                                                              ],
                                                                              [
                                                                                    0.5555555555555556,
                                                                                    "#1f9e89"
                                                                              ],
                                                                              [
                                                                                    0.6666666666666666,
                                                                                    "#35b779"
                                                                              ],
                                                                              [
                                                                                    0.7777777777777778,
                                                                                    "#6ece58"
                                                                              ],
                                                                              [
                                                                                    0.8888888888888888,
                                                                                    "#b5de2b"
                                                                              ],
                                                                              [
                                                                                    1,
                                                                                    "#fde725"
                                                                              ]
                                                                        ],
                                                                        "type": "heatmapgl"
                                                                  }
                                                            ],
                                                            "histogram": [
                                                                  {
                                                                        "marker": {
                                                                              "line": {
                                                                                    "color": "white",
                                                                                    "width": 0.6
                                                                              }
                                                                        },
                                                                        "type": "histogram"
                                                                  }
                                                            ],
                                                            "histogram2d": [
                                                                  {
                                                                        "colorbar": {
                                                                              "outlinewidth": 1,
                                                                              "tickcolor": "rgb(36,36,36)",
                                                                              "ticks": "outside"
                                                                        },
                                                                        "colorscale": [
                                                                              [
                                                                                    0,
                                                                                    "#440154"
                                                                              ],
                                                                              [
                                                                                    0.1111111111111111,
                                                                                    "#482878"
                                                                              ],
                                                                              [
                                                                                    0.2222222222222222,
                                                                                    "#3e4989"
                                                                              ],
                                                                              [
                                                                                    0.3333333333333333,
                                                                                    "#31688e"
                                                                              ],
                                                                              [
                                                                                    0.4444444444444444,
                                                                                    "#26828e"
                                                                              ],
                                                                              [
                                                                                    0.5555555555555556,
                                                                                    "#1f9e89"
                                                                              ],
                                                                              [
                                                                                    0.6666666666666666,
                                                                                    "#35b779"
                                                                              ],
                                                                              [
                                                                                    0.7777777777777778,
                                                                                    "#6ece58"
                                                                              ],
                                                                              [
                                                                                    0.8888888888888888,
                                                                                    "#b5de2b"
                                                                              ],
                                                                              [
                                                                                    1,
                                                                                    "#fde725"
                                                                              ]
                                                                        ],
                                                                        "type": "histogram2d"
                                                                  }
                                                            ],
                                                            "histogram2dcontour": [
                                                                  {
                                                                        "colorbar": {
                                                                              "outlinewidth": 1,
                                                                              "tickcolor": "rgb(36,36,36)",
                                                                              "ticks": "outside"
                                                                        },
                                                                        "colorscale": [
                                                                              [
                                                                                    0,
                                                                                    "#440154"
                                                                              ],
                                                                              [
                                                                                    0.1111111111111111,
                                                                                    "#482878"
                                                                              ],
                                                                              [
                                                                                    0.2222222222222222,
                                                                                    "#3e4989"
                                                                              ],
                                                                              [
                                                                                    0.3333333333333333,
                                                                                    "#31688e"
                                                                              ],
                                                                              [
                                                                                    0.4444444444444444,
                                                                                    "#26828e"
                                                                              ],
                                                                              [
                                                                                    0.5555555555555556,
                                                                                    "#1f9e89"
                                                                              ],
                                                                              [
                                                                                    0.6666666666666666,
                                                                                    "#35b779"
                                                                              ],
                                                                              [
                                                                                    0.7777777777777778,
                                                                                    "#6ece58"
                                                                              ],
                                                                              [
                                                                                    0.8888888888888888,
                                                                                    "#b5de2b"
                                                                              ],
                                                                              [
                                                                                    1,
                                                                                    "#fde725"
                                                                              ]
                                                                        ],
                                                                        "type": "histogram2dcontour"
                                                                  }
                                                            ],
                                                            "mesh3d": [
                                                                  {
                                                                        "colorbar": {
                                                                              "outlinewidth": 1,
                                                                              "tickcolor": "rgb(36,36,36)",
                                                                              "ticks": "outside"
                                                                        },
                                                                        "type": "mesh3d"
                                                                  }
                                                            ],
                                                            "parcoords": [
                                                                  {
                                                                        "line": {
                                                                              "colorbar": {
                                                                                    "outlinewidth": 1,
                                                                                    "tickcolor": "rgb(36,36,36)",
                                                                                    "ticks": "outside"
                                                                              }
                                                                        },
                                                                        "type": "parcoords"
                                                                  }
                                                            ],
                                                            "pie": [
                                                                  {
                                                                        "automargin": true,
                                                                        "type": "pie"
                                                                  }
                                                            ],
                                                            "scatter": [
                                                                  {
                                                                        "fillpattern": {
                                                                              "fillmode": "overlay",
                                                                              "size": 10,
                                                                              "solidity": 0.2
                                                                        },
                                                                        "type": "scatter"
                                                                  }
                                                            ],
                                                            "scatter3d": [
                                                                  {
                                                                        "line": {
                                                                              "colorbar": {
                                                                                    "outlinewidth": 1,
                                                                                    "tickcolor": "rgb(36,36,36)",
                                                                                    "ticks": "outside"
                                                                              }
                                                                        },
                                                                        "marker": {
                                                                              "colorbar": {
                                                                                    "outlinewidth": 1,
                                                                                    "tickcolor": "rgb(36,36,36)",
                                                                                    "ticks": "outside"
                                                                              }
                                                                        },
                                                                        "type": "scatter3d"
                                                                  }
                                                            ],
                                                            "scattercarpet": [
                                                                  {
                                                                        "marker": {
                                                                              "colorbar": {
                                                                                    "outlinewidth": 1,
                                                                                    "tickcolor": "rgb(36,36,36)",
                                                                                    "ticks": "outside"
                                                                              }
                                                                        },
                                                                        "type": "scattercarpet"
                                                                  }
                                                            ],
                                                            "scattergeo": [
                                                                  {
                                                                        "marker": {
                                                                              "colorbar": {
                                                                                    "outlinewidth": 1,
                                                                                    "tickcolor": "rgb(36,36,36)",
                                                                                    "ticks": "outside"
                                                                              }
                                                                        },
                                                                        "type": "scattergeo"
                                                                  }
                                                            ],
                                                            "scattergl": [
                                                                  {
                                                                        "marker": {
                                                                              "colorbar": {
                                                                                    "outlinewidth": 1,
                                                                                    "tickcolor": "rgb(36,36,36)",
                                                                                    "ticks": "outside"
                                                                              }
                                                                        },
                                                                        "type": "scattergl"
                                                                  }
                                                            ],
                                                            "scattermapbox": [
                                                                  {
                                                                        "marker": {
                                                                              "colorbar": {
                                                                                    "outlinewidth": 1,
                                                                                    "tickcolor": "rgb(36,36,36)",
                                                                                    "ticks": "outside"
                                                                              }
                                                                        },
                                                                        "type": "scattermapbox"
                                                                  }
                                                            ],
                                                            "scatterpolar": [
                                                                  {
                                                                        "marker": {
                                                                              "colorbar": {
                                                                                    "outlinewidth": 1,
                                                                                    "tickcolor": "rgb(36,36,36)",
                                                                                    "ticks": "outside"
                                                                              }
                                                                        },
                                                                        "type": "scatterpolar"
                                                                  }
                                                            ],
                                                            "scatterpolargl": [
                                                                  {
                                                                        "marker": {
                                                                              "colorbar": {
                                                                                    "outlinewidth": 1,
                                                                                    "tickcolor": "rgb(36,36,36)",
                                                                                    "ticks": "outside"
                                                                              }
                                                                        },
                                                                        "type": "scatterpolargl"
                                                                  }
                                                            ],
                                                            "scatterternary": [
                                                                  {
                                                                        "marker": {
                                                                              "colorbar": {
                                                                                    "outlinewidth": 1,
                                                                                    "tickcolor": "rgb(36,36,36)",
                                                                                    "ticks": "outside"
                                                                              }
                                                                        },
                                                                        "type": "scatterternary"
                                                                  }
                                                            ],
                                                            "surface": [
                                                                  {
                                                                        "colorbar": {
                                                                              "outlinewidth": 1,
                                                                              "tickcolor": "rgb(36,36,36)",
                                                                              "ticks": "outside"
                                                                        },
                                                                        "colorscale": [
                                                                              [
                                                                                    0,
                                                                                    "#440154"
                                                                              ],
                                                                              [
                                                                                    0.1111111111111111,
                                                                                    "#482878"
                                                                              ],
                                                                              [
                                                                                    0.2222222222222222,
                                                                                    "#3e4989"
                                                                              ],
                                                                              [
                                                                                    0.3333333333333333,
                                                                                    "#31688e"
                                                                              ],
                                                                              [
                                                                                    0.4444444444444444,
                                                                                    "#26828e"
                                                                              ],
                                                                              [
                                                                                    0.5555555555555556,
                                                                                    "#1f9e89"
                                                                              ],
                                                                              [
                                                                                    0.6666666666666666,
                                                                                    "#35b779"
                                                                              ],
                                                                              [
                                                                                    0.7777777777777778,
                                                                                    "#6ece58"
                                                                              ],
                                                                              [
                                                                                    0.8888888888888888,
                                                                                    "#b5de2b"
                                                                              ],
                                                                              [
                                                                                    1,
                                                                                    "#fde725"
                                                                              ]
                                                                        ],
                                                                        "type": "surface"
                                                                  }
                                                            ],
                                                            "table": [
                                                                  {
                                                                        "cells": {
                                                                              "fill": {
                                                                                    "color": "rgb(237,237,237)"
                                                                              },
                                                                              "line": {
                                                                                    "color": "white"
                                                                              }
                                                                        },
                                                                        "header": {
                                                                              "fill": {
                                                                                    "color": "rgb(217,217,217)"
                                                                              },
                                                                              "line": {
                                                                                    "color": "white"
                                                                              }
                                                                        },
                                                                        "type": "table"
                                                                  }
                                                            ]
                                                      },
                                                      "layout": {
                                                            "annotationdefaults": {
                                                                  "arrowhead": 0,
                                                                  "arrowwidth": 1
                                                            },
                                                            "autotypenumbers": "strict",
                                                            "coloraxis": {
                                                                  "colorbar": {
                                                                        "outlinewidth": 1,
                                                                        "tickcolor": "rgb(36,36,36)",
                                                                        "ticks": "outside"
                                                                  }
                                                            },
                                                            "colorscale": {
                                                                  "diverging": [
                                                                        [
                                                                              0,
                                                                              "rgb(103,0,31)"
                                                                        ],
                                                                        [
                                                                              0.1,
                                                                              "rgb(178,24,43)"
                                                                        ],
                                                                        [
                                                                              0.2,
                                                                              "rgb(214,96,77)"
                                                                        ],
                                                                        [
                                                                              0.3,
                                                                              "rgb(244,165,130)"
                                                                        ],
                                                                        [
                                                                              0.4,
                                                                              "rgb(253,219,199)"
                                                                        ],
                                                                        [
                                                                              0.5,
                                                                              "rgb(247,247,247)"
                                                                        ],
                                                                        [
                                                                              0.6,
                                                                              "rgb(209,229,240)"
                                                                        ],
                                                                        [
                                                                              0.7,
                                                                              "rgb(146,197,222)"
                                                                        ],
                                                                        [
                                                                              0.8,
                                                                              "rgb(67,147,195)"
                                                                        ],
                                                                        [
                                                                              0.9,
                                                                              "rgb(33,102,172)"
                                                                        ],
                                                                        [
                                                                              1,
                                                                              "rgb(5,48,97)"
                                                                        ]
                                                                  ],
                                                                  "sequential": [
                                                                        [
                                                                              0,
                                                                              "#440154"
                                                                        ],
                                                                        [
                                                                              0.1111111111111111,
                                                                              "#482878"
                                                                        ],
                                                                        [
                                                                              0.2222222222222222,
                                                                              "#3e4989"
                                                                        ],
                                                                        [
                                                                              0.3333333333333333,
                                                                              "#31688e"
                                                                        ],
                                                                        [
                                                                              0.4444444444444444,
                                                                              "#26828e"
                                                                        ],
                                                                        [
                                                                              0.5555555555555556,
                                                                              "#1f9e89"
                                                                        ],
                                                                        [
                                                                              0.6666666666666666,
                                                                              "#35b779"
                                                                        ],
                                                                        [
                                                                              0.7777777777777778,
                                                                              "#6ece58"
                                                                        ],
                                                                        [
                                                                              0.8888888888888888,
                                                                              "#b5de2b"
                                                                        ],
                                                                        [
                                                                              1,
                                                                              "#fde725"
                                                                        ]
                                                                  ],
                                                                  "sequentialminus": [
                                                                        [
                                                                              0,
                                                                              "#440154"
                                                                        ],
                                                                        [
                                                                              0.1111111111111111,
                                                                              "#482878"
                                                                        ],
                                                                        [
                                                                              0.2222222222222222,
                                                                              "#3e4989"
                                                                        ],
                                                                        [
                                                                              0.3333333333333333,
                                                                              "#31688e"
                                                                        ],
                                                                        [
                                                                              0.4444444444444444,
                                                                              "#26828e"
                                                                        ],
                                                                        [
                                                                              0.5555555555555556,
                                                                              "#1f9e89"
                                                                        ],
                                                                        [
                                                                              0.6666666666666666,
                                                                              "#35b779"
                                                                        ],
                                                                        [
                                                                              0.7777777777777778,
                                                                              "#6ece58"
                                                                        ],
                                                                        [
                                                                              0.8888888888888888,
                                                                              "#b5de2b"
                                                                        ],
                                                                        [
                                                                              1,
                                                                              "#fde725"
                                                                        ]
                                                                  ]
                                                            },
                                                            "colorway": [
                                                                  "#1F77B4",
                                                                  "#FF7F0E",
                                                                  "#2CA02C",
                                                                  "#D62728",
                                                                  "#9467BD",
                                                                  "#8C564B",
                                                                  "#E377C2",
                                                                  "#7F7F7F",
                                                                  "#BCBD22",
                                                                  "#17BECF"
                                                            ],
                                                            "font": {
                                                                  "color": "rgb(36,36,36)"
                                                            },
                                                            "geo": {
                                                                  "bgcolor": "white",
                                                                  "lakecolor": "white",
                                                                  "landcolor": "white",
                                                                  "showlakes": true,
                                                                  "showland": true,
                                                                  "subunitcolor": "white"
                                                            },
                                                            "hoverlabel": {
                                                                  "align": "left"
                                                            },
                                                            "hovermode": "closest",
                                                            "mapbox": {
                                                                  "style": "light"
                                                            },
                                                            "paper_bgcolor": "white",
                                                            "plot_bgcolor": "white",
                                                            "polar": {
                                                                  "angularaxis": {
                                                                        "gridcolor": "rgb(232,232,232)",
                                                                        "linecolor": "rgb(36,36,36)",
                                                                        "showgrid": false,
                                                                        "showline": true,
                                                                        "ticks": "outside"
                                                                  },
                                                                  "bgcolor": "white",
                                                                  "radialaxis": {
                                                                        "gridcolor": "rgb(232,232,232)",
                                                                        "linecolor": "rgb(36,36,36)",
                                                                        "showgrid": false,
                                                                        "showline": true,
                                                                        "ticks": "outside"
                                                                  }
                                                            },
                                                            "scene": {
                                                                  "xaxis": {
                                                                        "backgroundcolor": "white",
                                                                        "gridcolor": "rgb(232,232,232)",
                                                                        "gridwidth": 2,
                                                                        "linecolor": "rgb(36,36,36)",
                                                                        "showbackground": true,
                                                                        "showgrid": false,
                                                                        "showline": true,
                                                                        "ticks": "outside",
                                                                        "zeroline": false,
                                                                        "zerolinecolor": "rgb(36,36,36)"
                                                                  },
                                                                  "yaxis": {
                                                                        "backgroundcolor": "white",
                                                                        "gridcolor": "rgb(232,232,232)",
                                                                        "gridwidth": 2,
                                                                        "linecolor": "rgb(36,36,36)",
                                                                        "showbackground": true,
                                                                        "showgrid": false,
                                                                        "showline": true,
                                                                        "ticks": "outside",
                                                                        "zeroline": false,
                                                                        "zerolinecolor": "rgb(36,36,36)"
                                                                  },
                                                                  "zaxis": {
                                                                        "backgroundcolor": "white",
                                                                        "gridcolor": "rgb(232,232,232)",
                                                                        "gridwidth": 2,
                                                                        "linecolor": "rgb(36,36,36)",
                                                                        "showbackground": true,
                                                                        "showgrid": false,
                                                                        "showline": true,
                                                                        "ticks": "outside",
                                                                        "zeroline": false,
                                                                        "zerolinecolor": "rgb(36,36,36)"
                                                                  }
                                                            },
                                                            "shapedefaults": {
                                                                  "fillcolor": "black",
                                                                  "line": {
                                                                        "width": 0
                                                                  },
                                                                  "opacity": 0.3
                                                            },
                                                            "ternary": {
                                                                  "aaxis": {
                                                                        "gridcolor": "rgb(232,232,232)",
                                                                        "linecolor": "rgb(36,36,36)",
                                                                        "showgrid": false,
                                                                        "showline": true,
                                                                        "ticks": "outside"
                                                                  },
                                                                  "baxis": {
                                                                        "gridcolor": "rgb(232,232,232)",
                                                                        "linecolor": "rgb(36,36,36)",
                                                                        "showgrid": false,
                                                                        "showline": true,
                                                                        "ticks": "outside"
                                                                  },
                                                                  "bgcolor": "white",
                                                                  "caxis": {
                                                                        "gridcolor": "rgb(232,232,232)",
                                                                        "linecolor": "rgb(36,36,36)",
                                                                        "showgrid": false,
                                                                        "showline": true,
                                                                        "ticks": "outside"
                                                                  }
                                                            },
                                                            "title": {
                                                                  "x": 0.05
                                                            },
                                                            "xaxis": {
                                                                  "automargin": true,
                                                                  "gridcolor": "rgb(232,232,232)",
                                                                  "linecolor": "rgb(36,36,36)",
                                                                  "showgrid": false,
                                                                  "showline": true,
                                                                  "ticks": "outside",
                                                                  "title": {
                                                                        "standoff": 15
                                                                  },
                                                                  "zeroline": false,
                                                                  "zerolinecolor": "rgb(36,36,36)"
                                                            },
                                                            "yaxis": {
                                                                  "automargin": true,
                                                                  "gridcolor": "rgb(232,232,232)",
                                                                  "linecolor": "rgb(36,36,36)",
                                                                  "showgrid": false,
                                                                  "showline": true,
                                                                  "ticks": "outside",
                                                                  "title": {
                                                                        "standoff": 15
                                                                  },
                                                                  "zeroline": false,
                                                                  "zerolinecolor": "rgb(36,36,36)"
                                                            }
                                                      }
                                                },
                                                "title": {
                                                      "font": {
                                                            "color": "Black",
                                                            "size": 22
                                                      },
                                                      "text": "<b>Intertopic Distance Map</b>",
                                                      "x": 0.5,
                                                      "xanchor": "center",
                                                      "y": 0.95,
                                                      "yanchor": "top"
                                                },
                                                "width": 650,
                                                "xaxis": {
                                                      "anchor": "y",
                                                      "domain": [
                                                            0,
                                                            1
                                                      ],
                                                      "range": [
                                                            6.3480877161026,
                                                            10.780589771270751
                                                      ],
                                                      "title": {
                                                            "text": ""
                                                      },
                                                      "visible": false
                                                },
                                                "yaxis": {
                                                      "anchor": "x",
                                                      "domain": [
                                                            0,
                                                            1
                                                      ],
                                                      "range": [
                                                            9.66414566040039,
                                                            14.067902612686158
                                                      ],
                                                      "title": {
                                                            "text": ""
                                                      },
                                                      "visible": false
                                                }
                                          }
                                    }
                              },
                              "metadata": {},
                              "output_type": "display_data"
                        }
                  ],
                  "source": [
                        "topic_model.visualize_topics()"
                  ]
            },
            {
                  "cell_type": "code",
                  "execution_count": null,
                  "metadata": {},
                  "outputs": [
                        {
                              "data": {
                                    "application/vnd.plotly.v1+json": {
                                          "config": {
                                                "plotlyServerURL": "https://plot.ly"
                                          },
                                          "data": [
                                                {
                                                      "coloraxis": "coloraxis",
                                                      "hovertemplate": "x: %{x}<br>y: %{y}<br>Similarity Score: %{z}<extra></extra>",
                                                      "name": "0",
                                                      "type": "heatmap",
                                                      "x": [
                                                            "0_galaxies_mass_data",
                                                            "1_quantum_graphene_optical",
                                                            "2_climate_global_ocean",
                                                            "3_theory_models_model"
                                                      ],
                                                      "xaxis": "x",
                                                      "y": [
                                                            "0_galaxies_mass_data",
                                                            "1_quantum_graphene_optical",
                                                            "2_climate_global_ocean",
                                                            "3_theory_models_model"
                                                      ],
                                                      "yaxis": "y",
                                                      "z": [
                                                            [
                                                                  0.9999998807907104,
                                                                  0.24234938621520996,
                                                                  0.4804413318634033,
                                                                  0.6178486347198486
                                                            ],
                                                            [
                                                                  0.24234938621520996,
                                                                  0.9999997615814209,
                                                                  0.07587073743343353,
                                                                  0.2909831404685974
                                                            ],
                                                            [
                                                                  0.4804413318634033,
                                                                  0.07587073743343353,
                                                                  0.9999997615814209,
                                                                  0.23917393386363983
                                                            ],
                                                            [
                                                                  0.6178486347198486,
                                                                  0.2909831404685974,
                                                                  0.23917393386363983,
                                                                  1.0000001192092896
                                                            ]
                                                      ]
                                                }
                                          ],
                                          "layout": {
                                                "coloraxis": {
                                                      "colorbar": {
                                                            "title": {
                                                                  "text": "Similarity Score"
                                                            }
                                                      },
                                                      "colorscale": [
                                                            [
                                                                  0,
                                                                  "rgb(247,252,240)"
                                                            ],
                                                            [
                                                                  0.125,
                                                                  "rgb(224,243,219)"
                                                            ],
                                                            [
                                                                  0.25,
                                                                  "rgb(204,235,197)"
                                                            ],
                                                            [
                                                                  0.375,
                                                                  "rgb(168,221,181)"
                                                            ],
                                                            [
                                                                  0.5,
                                                                  "rgb(123,204,196)"
                                                            ],
                                                            [
                                                                  0.625,
                                                                  "rgb(78,179,211)"
                                                            ],
                                                            [
                                                                  0.75,
                                                                  "rgb(43,140,190)"
                                                            ],
                                                            [
                                                                  0.875,
                                                                  "rgb(8,104,172)"
                                                            ],
                                                            [
                                                                  1,
                                                                  "rgb(8,64,129)"
                                                            ]
                                                      ]
                                                },
                                                "height": 800,
                                                "hoverlabel": {
                                                      "bgcolor": "white",
                                                      "font": {
                                                            "family": "Rockwell",
                                                            "size": 16
                                                      }
                                                },
                                                "legend": {
                                                      "title": {
                                                            "text": "Trend"
                                                      }
                                                },
                                                "margin": {
                                                      "t": 60
                                                },
                                                "showlegend": true,
                                                "template": {
                                                      "data": {
                                                            "bar": [
                                                                  {
                                                                        "error_x": {
                                                                              "color": "#2a3f5f"
                                                                        },
                                                                        "error_y": {
                                                                              "color": "#2a3f5f"
                                                                        },
                                                                        "marker": {
                                                                              "line": {
                                                                                    "color": "#E5ECF6",
                                                                                    "width": 0.5
                                                                              },
                                                                              "pattern": {
                                                                                    "fillmode": "overlay",
                                                                                    "size": 10,
                                                                                    "solidity": 0.2
                                                                              }
                                                                        },
                                                                        "type": "bar"
                                                                  }
                                                            ],
                                                            "barpolar": [
                                                                  {
                                                                        "marker": {
                                                                              "line": {
                                                                                    "color": "#E5ECF6",
                                                                                    "width": 0.5
                                                                              },
                                                                              "pattern": {
                                                                                    "fillmode": "overlay",
                                                                                    "size": 10,
                                                                                    "solidity": 0.2
                                                                              }
                                                                        },
                                                                        "type": "barpolar"
                                                                  }
                                                            ],
                                                            "carpet": [
                                                                  {
                                                                        "aaxis": {
                                                                              "endlinecolor": "#2a3f5f",
                                                                              "gridcolor": "white",
                                                                              "linecolor": "white",
                                                                              "minorgridcolor": "white",
                                                                              "startlinecolor": "#2a3f5f"
                                                                        },
                                                                        "baxis": {
                                                                              "endlinecolor": "#2a3f5f",
                                                                              "gridcolor": "white",
                                                                              "linecolor": "white",
                                                                              "minorgridcolor": "white",
                                                                              "startlinecolor": "#2a3f5f"
                                                                        },
                                                                        "type": "carpet"
                                                                  }
                                                            ],
                                                            "choropleth": [
                                                                  {
                                                                        "colorbar": {
                                                                              "outlinewidth": 0,
                                                                              "ticks": ""
                                                                        },
                                                                        "type": "choropleth"
                                                                  }
                                                            ],
                                                            "contour": [
                                                                  {
                                                                        "colorbar": {
                                                                              "outlinewidth": 0,
                                                                              "ticks": ""
                                                                        },
                                                                        "colorscale": [
                                                                              [
                                                                                    0,
                                                                                    "#0d0887"
                                                                              ],
                                                                              [
                                                                                    0.1111111111111111,
                                                                                    "#46039f"
                                                                              ],
                                                                              [
                                                                                    0.2222222222222222,
                                                                                    "#7201a8"
                                                                              ],
                                                                              [
                                                                                    0.3333333333333333,
                                                                                    "#9c179e"
                                                                              ],
                                                                              [
                                                                                    0.4444444444444444,
                                                                                    "#bd3786"
                                                                              ],
                                                                              [
                                                                                    0.5555555555555556,
                                                                                    "#d8576b"
                                                                              ],
                                                                              [
                                                                                    0.6666666666666666,
                                                                                    "#ed7953"
                                                                              ],
                                                                              [
                                                                                    0.7777777777777778,
                                                                                    "#fb9f3a"
                                                                              ],
                                                                              [
                                                                                    0.8888888888888888,
                                                                                    "#fdca26"
                                                                              ],
                                                                              [
                                                                                    1,
                                                                                    "#f0f921"
                                                                              ]
                                                                        ],
                                                                        "type": "contour"
                                                                  }
                                                            ],
                                                            "contourcarpet": [
                                                                  {
                                                                        "colorbar": {
                                                                              "outlinewidth": 0,
                                                                              "ticks": ""
                                                                        },
                                                                        "type": "contourcarpet"
                                                                  }
                                                            ],
                                                            "heatmap": [
                                                                  {
                                                                        "colorbar": {
                                                                              "outlinewidth": 0,
                                                                              "ticks": ""
                                                                        },
                                                                        "colorscale": [
                                                                              [
                                                                                    0,
                                                                                    "#0d0887"
                                                                              ],
                                                                              [
                                                                                    0.1111111111111111,
                                                                                    "#46039f"
                                                                              ],
                                                                              [
                                                                                    0.2222222222222222,
                                                                                    "#7201a8"
                                                                              ],
                                                                              [
                                                                                    0.3333333333333333,
                                                                                    "#9c179e"
                                                                              ],
                                                                              [
                                                                                    0.4444444444444444,
                                                                                    "#bd3786"
                                                                              ],
                                                                              [
                                                                                    0.5555555555555556,
                                                                                    "#d8576b"
                                                                              ],
                                                                              [
                                                                                    0.6666666666666666,
                                                                                    "#ed7953"
                                                                              ],
                                                                              [
                                                                                    0.7777777777777778,
                                                                                    "#fb9f3a"
                                                                              ],
                                                                              [
                                                                                    0.8888888888888888,
                                                                                    "#fdca26"
                                                                              ],
                                                                              [
                                                                                    1,
                                                                                    "#f0f921"
                                                                              ]
                                                                        ],
                                                                        "type": "heatmap"
                                                                  }
                                                            ],
                                                            "heatmapgl": [
                                                                  {
                                                                        "colorbar": {
                                                                              "outlinewidth": 0,
                                                                              "ticks": ""
                                                                        },
                                                                        "colorscale": [
                                                                              [
                                                                                    0,
                                                                                    "#0d0887"
                                                                              ],
                                                                              [
                                                                                    0.1111111111111111,
                                                                                    "#46039f"
                                                                              ],
                                                                              [
                                                                                    0.2222222222222222,
                                                                                    "#7201a8"
                                                                              ],
                                                                              [
                                                                                    0.3333333333333333,
                                                                                    "#9c179e"
                                                                              ],
                                                                              [
                                                                                    0.4444444444444444,
                                                                                    "#bd3786"
                                                                              ],
                                                                              [
                                                                                    0.5555555555555556,
                                                                                    "#d8576b"
                                                                              ],
                                                                              [
                                                                                    0.6666666666666666,
                                                                                    "#ed7953"
                                                                              ],
                                                                              [
                                                                                    0.7777777777777778,
                                                                                    "#fb9f3a"
                                                                              ],
                                                                              [
                                                                                    0.8888888888888888,
                                                                                    "#fdca26"
                                                                              ],
                                                                              [
                                                                                    1,
                                                                                    "#f0f921"
                                                                              ]
                                                                        ],
                                                                        "type": "heatmapgl"
                                                                  }
                                                            ],
                                                            "histogram": [
                                                                  {
                                                                        "marker": {
                                                                              "pattern": {
                                                                                    "fillmode": "overlay",
                                                                                    "size": 10,
                                                                                    "solidity": 0.2
                                                                              }
                                                                        },
                                                                        "type": "histogram"
                                                                  }
                                                            ],
                                                            "histogram2d": [
                                                                  {
                                                                        "colorbar": {
                                                                              "outlinewidth": 0,
                                                                              "ticks": ""
                                                                        },
                                                                        "colorscale": [
                                                                              [
                                                                                    0,
                                                                                    "#0d0887"
                                                                              ],
                                                                              [
                                                                                    0.1111111111111111,
                                                                                    "#46039f"
                                                                              ],
                                                                              [
                                                                                    0.2222222222222222,
                                                                                    "#7201a8"
                                                                              ],
                                                                              [
                                                                                    0.3333333333333333,
                                                                                    "#9c179e"
                                                                              ],
                                                                              [
                                                                                    0.4444444444444444,
                                                                                    "#bd3786"
                                                                              ],
                                                                              [
                                                                                    0.5555555555555556,
                                                                                    "#d8576b"
                                                                              ],
                                                                              [
                                                                                    0.6666666666666666,
                                                                                    "#ed7953"
                                                                              ],
                                                                              [
                                                                                    0.7777777777777778,
                                                                                    "#fb9f3a"
                                                                              ],
                                                                              [
                                                                                    0.8888888888888888,
                                                                                    "#fdca26"
                                                                              ],
                                                                              [
                                                                                    1,
                                                                                    "#f0f921"
                                                                              ]
                                                                        ],
                                                                        "type": "histogram2d"
                                                                  }
                                                            ],
                                                            "histogram2dcontour": [
                                                                  {
                                                                        "colorbar": {
                                                                              "outlinewidth": 0,
                                                                              "ticks": ""
                                                                        },
                                                                        "colorscale": [
                                                                              [
                                                                                    0,
                                                                                    "#0d0887"
                                                                              ],
                                                                              [
                                                                                    0.1111111111111111,
                                                                                    "#46039f"
                                                                              ],
                                                                              [
                                                                                    0.2222222222222222,
                                                                                    "#7201a8"
                                                                              ],
                                                                              [
                                                                                    0.3333333333333333,
                                                                                    "#9c179e"
                                                                              ],
                                                                              [
                                                                                    0.4444444444444444,
                                                                                    "#bd3786"
                                                                              ],
                                                                              [
                                                                                    0.5555555555555556,
                                                                                    "#d8576b"
                                                                              ],
                                                                              [
                                                                                    0.6666666666666666,
                                                                                    "#ed7953"
                                                                              ],
                                                                              [
                                                                                    0.7777777777777778,
                                                                                    "#fb9f3a"
                                                                              ],
                                                                              [
                                                                                    0.8888888888888888,
                                                                                    "#fdca26"
                                                                              ],
                                                                              [
                                                                                    1,
                                                                                    "#f0f921"
                                                                              ]
                                                                        ],
                                                                        "type": "histogram2dcontour"
                                                                  }
                                                            ],
                                                            "mesh3d": [
                                                                  {
                                                                        "colorbar": {
                                                                              "outlinewidth": 0,
                                                                              "ticks": ""
                                                                        },
                                                                        "type": "mesh3d"
                                                                  }
                                                            ],
                                                            "parcoords": [
                                                                  {
                                                                        "line": {
                                                                              "colorbar": {
                                                                                    "outlinewidth": 0,
                                                                                    "ticks": ""
                                                                              }
                                                                        },
                                                                        "type": "parcoords"
                                                                  }
                                                            ],
                                                            "pie": [
                                                                  {
                                                                        "automargin": true,
                                                                        "type": "pie"
                                                                  }
                                                            ],
                                                            "scatter": [
                                                                  {
                                                                        "fillpattern": {
                                                                              "fillmode": "overlay",
                                                                              "size": 10,
                                                                              "solidity": 0.2
                                                                        },
                                                                        "type": "scatter"
                                                                  }
                                                            ],
                                                            "scatter3d": [
                                                                  {
                                                                        "line": {
                                                                              "colorbar": {
                                                                                    "outlinewidth": 0,
                                                                                    "ticks": ""
                                                                              }
                                                                        },
                                                                        "marker": {
                                                                              "colorbar": {
                                                                                    "outlinewidth": 0,
                                                                                    "ticks": ""
                                                                              }
                                                                        },
                                                                        "type": "scatter3d"
                                                                  }
                                                            ],
                                                            "scattercarpet": [
                                                                  {
                                                                        "marker": {
                                                                              "colorbar": {
                                                                                    "outlinewidth": 0,
                                                                                    "ticks": ""
                                                                              }
                                                                        },
                                                                        "type": "scattercarpet"
                                                                  }
                                                            ],
                                                            "scattergeo": [
                                                                  {
                                                                        "marker": {
                                                                              "colorbar": {
                                                                                    "outlinewidth": 0,
                                                                                    "ticks": ""
                                                                              }
                                                                        },
                                                                        "type": "scattergeo"
                                                                  }
                                                            ],
                                                            "scattergl": [
                                                                  {
                                                                        "marker": {
                                                                              "colorbar": {
                                                                                    "outlinewidth": 0,
                                                                                    "ticks": ""
                                                                              }
                                                                        },
                                                                        "type": "scattergl"
                                                                  }
                                                            ],
                                                            "scattermapbox": [
                                                                  {
                                                                        "marker": {
                                                                              "colorbar": {
                                                                                    "outlinewidth": 0,
                                                                                    "ticks": ""
                                                                              }
                                                                        },
                                                                        "type": "scattermapbox"
                                                                  }
                                                            ],
                                                            "scatterpolar": [
                                                                  {
                                                                        "marker": {
                                                                              "colorbar": {
                                                                                    "outlinewidth": 0,
                                                                                    "ticks": ""
                                                                              }
                                                                        },
                                                                        "type": "scatterpolar"
                                                                  }
                                                            ],
                                                            "scatterpolargl": [
                                                                  {
                                                                        "marker": {
                                                                              "colorbar": {
                                                                                    "outlinewidth": 0,
                                                                                    "ticks": ""
                                                                              }
                                                                        },
                                                                        "type": "scatterpolargl"
                                                                  }
                                                            ],
                                                            "scatterternary": [
                                                                  {
                                                                        "marker": {
                                                                              "colorbar": {
                                                                                    "outlinewidth": 0,
                                                                                    "ticks": ""
                                                                              }
                                                                        },
                                                                        "type": "scatterternary"
                                                                  }
                                                            ],
                                                            "surface": [
                                                                  {
                                                                        "colorbar": {
                                                                              "outlinewidth": 0,
                                                                              "ticks": ""
                                                                        },
                                                                        "colorscale": [
                                                                              [
                                                                                    0,
                                                                                    "#0d0887"
                                                                              ],
                                                                              [
                                                                                    0.1111111111111111,
                                                                                    "#46039f"
                                                                              ],
                                                                              [
                                                                                    0.2222222222222222,
                                                                                    "#7201a8"
                                                                              ],
                                                                              [
                                                                                    0.3333333333333333,
                                                                                    "#9c179e"
                                                                              ],
                                                                              [
                                                                                    0.4444444444444444,
                                                                                    "#bd3786"
                                                                              ],
                                                                              [
                                                                                    0.5555555555555556,
                                                                                    "#d8576b"
                                                                              ],
                                                                              [
                                                                                    0.6666666666666666,
                                                                                    "#ed7953"
                                                                              ],
                                                                              [
                                                                                    0.7777777777777778,
                                                                                    "#fb9f3a"
                                                                              ],
                                                                              [
                                                                                    0.8888888888888888,
                                                                                    "#fdca26"
                                                                              ],
                                                                              [
                                                                                    1,
                                                                                    "#f0f921"
                                                                              ]
                                                                        ],
                                                                        "type": "surface"
                                                                  }
                                                            ],
                                                            "table": [
                                                                  {
                                                                        "cells": {
                                                                              "fill": {
                                                                                    "color": "#EBF0F8"
                                                                              },
                                                                              "line": {
                                                                                    "color": "white"
                                                                              }
                                                                        },
                                                                        "header": {
                                                                              "fill": {
                                                                                    "color": "#C8D4E3"
                                                                              },
                                                                              "line": {
                                                                                    "color": "white"
                                                                              }
                                                                        },
                                                                        "type": "table"
                                                                  }
                                                            ]
                                                      },
                                                      "layout": {
                                                            "annotationdefaults": {
                                                                  "arrowcolor": "#2a3f5f",
                                                                  "arrowhead": 0,
                                                                  "arrowwidth": 1
                                                            },
                                                            "autotypenumbers": "strict",
                                                            "coloraxis": {
                                                                  "colorbar": {
                                                                        "outlinewidth": 0,
                                                                        "ticks": ""
                                                                  }
                                                            },
                                                            "colorscale": {
                                                                  "diverging": [
                                                                        [
                                                                              0,
                                                                              "#8e0152"
                                                                        ],
                                                                        [
                                                                              0.1,
                                                                              "#c51b7d"
                                                                        ],
                                                                        [
                                                                              0.2,
                                                                              "#de77ae"
                                                                        ],
                                                                        [
                                                                              0.3,
                                                                              "#f1b6da"
                                                                        ],
                                                                        [
                                                                              0.4,
                                                                              "#fde0ef"
                                                                        ],
                                                                        [
                                                                              0.5,
                                                                              "#f7f7f7"
                                                                        ],
                                                                        [
                                                                              0.6,
                                                                              "#e6f5d0"
                                                                        ],
                                                                        [
                                                                              0.7,
                                                                              "#b8e186"
                                                                        ],
                                                                        [
                                                                              0.8,
                                                                              "#7fbc41"
                                                                        ],
                                                                        [
                                                                              0.9,
                                                                              "#4d9221"
                                                                        ],
                                                                        [
                                                                              1,
                                                                              "#276419"
                                                                        ]
                                                                  ],
                                                                  "sequential": [
                                                                        [
                                                                              0,
                                                                              "#0d0887"
                                                                        ],
                                                                        [
                                                                              0.1111111111111111,
                                                                              "#46039f"
                                                                        ],
                                                                        [
                                                                              0.2222222222222222,
                                                                              "#7201a8"
                                                                        ],
                                                                        [
                                                                              0.3333333333333333,
                                                                              "#9c179e"
                                                                        ],
                                                                        [
                                                                              0.4444444444444444,
                                                                              "#bd3786"
                                                                        ],
                                                                        [
                                                                              0.5555555555555556,
                                                                              "#d8576b"
                                                                        ],
                                                                        [
                                                                              0.6666666666666666,
                                                                              "#ed7953"
                                                                        ],
                                                                        [
                                                                              0.7777777777777778,
                                                                              "#fb9f3a"
                                                                        ],
                                                                        [
                                                                              0.8888888888888888,
                                                                              "#fdca26"
                                                                        ],
                                                                        [
                                                                              1,
                                                                              "#f0f921"
                                                                        ]
                                                                  ],
                                                                  "sequentialminus": [
                                                                        [
                                                                              0,
                                                                              "#0d0887"
                                                                        ],
                                                                        [
                                                                              0.1111111111111111,
                                                                              "#46039f"
                                                                        ],
                                                                        [
                                                                              0.2222222222222222,
                                                                              "#7201a8"
                                                                        ],
                                                                        [
                                                                              0.3333333333333333,
                                                                              "#9c179e"
                                                                        ],
                                                                        [
                                                                              0.4444444444444444,
                                                                              "#bd3786"
                                                                        ],
                                                                        [
                                                                              0.5555555555555556,
                                                                              "#d8576b"
                                                                        ],
                                                                        [
                                                                              0.6666666666666666,
                                                                              "#ed7953"
                                                                        ],
                                                                        [
                                                                              0.7777777777777778,
                                                                              "#fb9f3a"
                                                                        ],
                                                                        [
                                                                              0.8888888888888888,
                                                                              "#fdca26"
                                                                        ],
                                                                        [
                                                                              1,
                                                                              "#f0f921"
                                                                        ]
                                                                  ]
                                                            },
                                                            "colorway": [
                                                                  "#636efa",
                                                                  "#EF553B",
                                                                  "#00cc96",
                                                                  "#ab63fa",
                                                                  "#FFA15A",
                                                                  "#19d3f3",
                                                                  "#FF6692",
                                                                  "#B6E880",
                                                                  "#FF97FF",
                                                                  "#FECB52"
                                                            ],
                                                            "font": {
                                                                  "color": "#2a3f5f"
                                                            },
                                                            "geo": {
                                                                  "bgcolor": "white",
                                                                  "lakecolor": "white",
                                                                  "landcolor": "#E5ECF6",
                                                                  "showlakes": true,
                                                                  "showland": true,
                                                                  "subunitcolor": "white"
                                                            },
                                                            "hoverlabel": {
                                                                  "align": "left"
                                                            },
                                                            "hovermode": "closest",
                                                            "mapbox": {
                                                                  "style": "light"
                                                            },
                                                            "paper_bgcolor": "white",
                                                            "plot_bgcolor": "#E5ECF6",
                                                            "polar": {
                                                                  "angularaxis": {
                                                                        "gridcolor": "white",
                                                                        "linecolor": "white",
                                                                        "ticks": ""
                                                                  },
                                                                  "bgcolor": "#E5ECF6",
                                                                  "radialaxis": {
                                                                        "gridcolor": "white",
                                                                        "linecolor": "white",
                                                                        "ticks": ""
                                                                  }
                                                            },
                                                            "scene": {
                                                                  "xaxis": {
                                                                        "backgroundcolor": "#E5ECF6",
                                                                        "gridcolor": "white",
                                                                        "gridwidth": 2,
                                                                        "linecolor": "white",
                                                                        "showbackground": true,
                                                                        "ticks": "",
                                                                        "zerolinecolor": "white"
                                                                  },
                                                                  "yaxis": {
                                                                        "backgroundcolor": "#E5ECF6",
                                                                        "gridcolor": "white",
                                                                        "gridwidth": 2,
                                                                        "linecolor": "white",
                                                                        "showbackground": true,
                                                                        "ticks": "",
                                                                        "zerolinecolor": "white"
                                                                  },
                                                                  "zaxis": {
                                                                        "backgroundcolor": "#E5ECF6",
                                                                        "gridcolor": "white",
                                                                        "gridwidth": 2,
                                                                        "linecolor": "white",
                                                                        "showbackground": true,
                                                                        "ticks": "",
                                                                        "zerolinecolor": "white"
                                                                  }
                                                            },
                                                            "shapedefaults": {
                                                                  "line": {
                                                                        "color": "#2a3f5f"
                                                                  }
                                                            },
                                                            "ternary": {
                                                                  "aaxis": {
                                                                        "gridcolor": "white",
                                                                        "linecolor": "white",
                                                                        "ticks": ""
                                                                  },
                                                                  "baxis": {
                                                                        "gridcolor": "white",
                                                                        "linecolor": "white",
                                                                        "ticks": ""
                                                                  },
                                                                  "bgcolor": "#E5ECF6",
                                                                  "caxis": {
                                                                        "gridcolor": "white",
                                                                        "linecolor": "white",
                                                                        "ticks": ""
                                                                  }
                                                            },
                                                            "title": {
                                                                  "x": 0.05
                                                            },
                                                            "xaxis": {
                                                                  "automargin": true,
                                                                  "gridcolor": "white",
                                                                  "linecolor": "white",
                                                                  "ticks": "",
                                                                  "title": {
                                                                        "standoff": 15
                                                                  },
                                                                  "zerolinecolor": "white",
                                                                  "zerolinewidth": 2
                                                            },
                                                            "yaxis": {
                                                                  "automargin": true,
                                                                  "gridcolor": "white",
                                                                  "linecolor": "white",
                                                                  "ticks": "",
                                                                  "title": {
                                                                        "standoff": 15
                                                                  },
                                                                  "zerolinecolor": "white",
                                                                  "zerolinewidth": 2
                                                            }
                                                      }
                                                },
                                                "title": {
                                                      "font": {
                                                            "color": "Black",
                                                            "size": 22
                                                      },
                                                      "text": "<b>Similarity Matrix</b>",
                                                      "x": 0.55,
                                                      "xanchor": "center",
                                                      "y": 0.95,
                                                      "yanchor": "top"
                                                },
                                                "width": 800,
                                                "xaxis": {
                                                      "anchor": "y",
                                                      "constrain": "domain",
                                                      "domain": [
                                                            0,
                                                            1
                                                      ],
                                                      "scaleanchor": "y"
                                                },
                                                "yaxis": {
                                                      "anchor": "x",
                                                      "autorange": "reversed",
                                                      "constrain": "domain",
                                                      "domain": [
                                                            0,
                                                            1
                                                      ]
                                                }
                                          }
                                    }
                              },
                              "metadata": {},
                              "output_type": "display_data"
                        }
                  ],
                  "source": [
                        "topic_model.visualize_heatmap()"
                  ]
            },
            {
                  "cell_type": "code",
                  "execution_count": null,
                  "metadata": {},
                  "outputs": [
                        {
                              "data": {
                                    "application/vnd.plotly.v1+json": {
                                          "config": {
                                                "plotlyServerURL": "https://plot.ly"
                                          },
                                          "data": [
                                                {
                                                      "hoverinfo": "text",
                                                      "marker": {
                                                            "color": "rgb(61,153,112)"
                                                      },
                                                      "mode": "lines",
                                                      "type": "scatter",
                                                      "x": [
                                                            0,
                                                            0.6438133834375133,
                                                            0.6438133834375133,
                                                            0
                                                      ],
                                                      "xaxis": "x",
                                                      "y": [
                                                            -15,
                                                            -15,
                                                            -25,
                                                            -25
                                                      ],
                                                      "yaxis": "y"
                                                },
                                                {
                                                      "hoverinfo": "text",
                                                      "marker": {
                                                            "color": "rgb(61,153,112)"
                                                      },
                                                      "mode": "lines",
                                                      "type": "scatter",
                                                      "x": [
                                                            0.6438133834375133,
                                                            0.6933125970317209,
                                                            0.6933125970317209,
                                                            0
                                                      ],
                                                      "xaxis": "x",
                                                      "y": [
                                                            -20,
                                                            -20,
                                                            -35,
                                                            -35
                                                      ],
                                                      "yaxis": "y"
                                                },
                                                {
                                                      "hoverinfo": "text",
                                                      "marker": {
                                                            "color": "rgb(61,153,112)"
                                                      },
                                                      "mode": "lines",
                                                      "type": "scatter",
                                                      "x": [
                                                            0,
                                                            0.8144203308252889,
                                                            0.8144203308252889,
                                                            0.6933125970317209
                                                      ],
                                                      "xaxis": "x",
                                                      "y": [
                                                            -5,
                                                            -5,
                                                            -27.5,
                                                            -27.5
                                                      ],
                                                      "yaxis": "y"
                                                }
                                          ],
                                          "layout": {
                                                "autosize": false,
                                                "height": 260,
                                                "hoverlabel": {
                                                      "bgcolor": "white",
                                                      "font": {
                                                            "family": "Rockwell",
                                                            "size": 16
                                                      }
                                                },
                                                "hovermode": "closest",
                                                "plot_bgcolor": "#ECEFF1",
                                                "showlegend": false,
                                                "template": {
                                                      "data": {
                                                            "bar": [
                                                                  {
                                                                        "error_x": {
                                                                              "color": "#2a3f5f"
                                                                        },
                                                                        "error_y": {
                                                                              "color": "#2a3f5f"
                                                                        },
                                                                        "marker": {
                                                                              "line": {
                                                                                    "color": "white",
                                                                                    "width": 0.5
                                                                              },
                                                                              "pattern": {
                                                                                    "fillmode": "overlay",
                                                                                    "size": 10,
                                                                                    "solidity": 0.2
                                                                              }
                                                                        },
                                                                        "type": "bar"
                                                                  }
                                                            ],
                                                            "barpolar": [
                                                                  {
                                                                        "marker": {
                                                                              "line": {
                                                                                    "color": "white",
                                                                                    "width": 0.5
                                                                              },
                                                                              "pattern": {
                                                                                    "fillmode": "overlay",
                                                                                    "size": 10,
                                                                                    "solidity": 0.2
                                                                              }
                                                                        },
                                                                        "type": "barpolar"
                                                                  }
                                                            ],
                                                            "carpet": [
                                                                  {
                                                                        "aaxis": {
                                                                              "endlinecolor": "#2a3f5f",
                                                                              "gridcolor": "#C8D4E3",
                                                                              "linecolor": "#C8D4E3",
                                                                              "minorgridcolor": "#C8D4E3",
                                                                              "startlinecolor": "#2a3f5f"
                                                                        },
                                                                        "baxis": {
                                                                              "endlinecolor": "#2a3f5f",
                                                                              "gridcolor": "#C8D4E3",
                                                                              "linecolor": "#C8D4E3",
                                                                              "minorgridcolor": "#C8D4E3",
                                                                              "startlinecolor": "#2a3f5f"
                                                                        },
                                                                        "type": "carpet"
                                                                  }
                                                            ],
                                                            "choropleth": [
                                                                  {
                                                                        "colorbar": {
                                                                              "outlinewidth": 0,
                                                                              "ticks": ""
                                                                        },
                                                                        "type": "choropleth"
                                                                  }
                                                            ],
                                                            "contour": [
                                                                  {
                                                                        "colorbar": {
                                                                              "outlinewidth": 0,
                                                                              "ticks": ""
                                                                        },
                                                                        "colorscale": [
                                                                              [
                                                                                    0,
                                                                                    "#0d0887"
                                                                              ],
                                                                              [
                                                                                    0.1111111111111111,
                                                                                    "#46039f"
                                                                              ],
                                                                              [
                                                                                    0.2222222222222222,
                                                                                    "#7201a8"
                                                                              ],
                                                                              [
                                                                                    0.3333333333333333,
                                                                                    "#9c179e"
                                                                              ],
                                                                              [
                                                                                    0.4444444444444444,
                                                                                    "#bd3786"
                                                                              ],
                                                                              [
                                                                                    0.5555555555555556,
                                                                                    "#d8576b"
                                                                              ],
                                                                              [
                                                                                    0.6666666666666666,
                                                                                    "#ed7953"
                                                                              ],
                                                                              [
                                                                                    0.7777777777777778,
                                                                                    "#fb9f3a"
                                                                              ],
                                                                              [
                                                                                    0.8888888888888888,
                                                                                    "#fdca26"
                                                                              ],
                                                                              [
                                                                                    1,
                                                                                    "#f0f921"
                                                                              ]
                                                                        ],
                                                                        "type": "contour"
                                                                  }
                                                            ],
                                                            "contourcarpet": [
                                                                  {
                                                                        "colorbar": {
                                                                              "outlinewidth": 0,
                                                                              "ticks": ""
                                                                        },
                                                                        "type": "contourcarpet"
                                                                  }
                                                            ],
                                                            "heatmap": [
                                                                  {
                                                                        "colorbar": {
                                                                              "outlinewidth": 0,
                                                                              "ticks": ""
                                                                        },
                                                                        "colorscale": [
                                                                              [
                                                                                    0,
                                                                                    "#0d0887"
                                                                              ],
                                                                              [
                                                                                    0.1111111111111111,
                                                                                    "#46039f"
                                                                              ],
                                                                              [
                                                                                    0.2222222222222222,
                                                                                    "#7201a8"
                                                                              ],
                                                                              [
                                                                                    0.3333333333333333,
                                                                                    "#9c179e"
                                                                              ],
                                                                              [
                                                                                    0.4444444444444444,
                                                                                    "#bd3786"
                                                                              ],
                                                                              [
                                                                                    0.5555555555555556,
                                                                                    "#d8576b"
                                                                              ],
                                                                              [
                                                                                    0.6666666666666666,
                                                                                    "#ed7953"
                                                                              ],
                                                                              [
                                                                                    0.7777777777777778,
                                                                                    "#fb9f3a"
                                                                              ],
                                                                              [
                                                                                    0.8888888888888888,
                                                                                    "#fdca26"
                                                                              ],
                                                                              [
                                                                                    1,
                                                                                    "#f0f921"
                                                                              ]
                                                                        ],
                                                                        "type": "heatmap"
                                                                  }
                                                            ],
                                                            "heatmapgl": [
                                                                  {
                                                                        "colorbar": {
                                                                              "outlinewidth": 0,
                                                                              "ticks": ""
                                                                        },
                                                                        "colorscale": [
                                                                              [
                                                                                    0,
                                                                                    "#0d0887"
                                                                              ],
                                                                              [
                                                                                    0.1111111111111111,
                                                                                    "#46039f"
                                                                              ],
                                                                              [
                                                                                    0.2222222222222222,
                                                                                    "#7201a8"
                                                                              ],
                                                                              [
                                                                                    0.3333333333333333,
                                                                                    "#9c179e"
                                                                              ],
                                                                              [
                                                                                    0.4444444444444444,
                                                                                    "#bd3786"
                                                                              ],
                                                                              [
                                                                                    0.5555555555555556,
                                                                                    "#d8576b"
                                                                              ],
                                                                              [
                                                                                    0.6666666666666666,
                                                                                    "#ed7953"
                                                                              ],
                                                                              [
                                                                                    0.7777777777777778,
                                                                                    "#fb9f3a"
                                                                              ],
                                                                              [
                                                                                    0.8888888888888888,
                                                                                    "#fdca26"
                                                                              ],
                                                                              [
                                                                                    1,
                                                                                    "#f0f921"
                                                                              ]
                                                                        ],
                                                                        "type": "heatmapgl"
                                                                  }
                                                            ],
                                                            "histogram": [
                                                                  {
                                                                        "marker": {
                                                                              "pattern": {
                                                                                    "fillmode": "overlay",
                                                                                    "size": 10,
                                                                                    "solidity": 0.2
                                                                              }
                                                                        },
                                                                        "type": "histogram"
                                                                  }
                                                            ],
                                                            "histogram2d": [
                                                                  {
                                                                        "colorbar": {
                                                                              "outlinewidth": 0,
                                                                              "ticks": ""
                                                                        },
                                                                        "colorscale": [
                                                                              [
                                                                                    0,
                                                                                    "#0d0887"
                                                                              ],
                                                                              [
                                                                                    0.1111111111111111,
                                                                                    "#46039f"
                                                                              ],
                                                                              [
                                                                                    0.2222222222222222,
                                                                                    "#7201a8"
                                                                              ],
                                                                              [
                                                                                    0.3333333333333333,
                                                                                    "#9c179e"
                                                                              ],
                                                                              [
                                                                                    0.4444444444444444,
                                                                                    "#bd3786"
                                                                              ],
                                                                              [
                                                                                    0.5555555555555556,
                                                                                    "#d8576b"
                                                                              ],
                                                                              [
                                                                                    0.6666666666666666,
                                                                                    "#ed7953"
                                                                              ],
                                                                              [
                                                                                    0.7777777777777778,
                                                                                    "#fb9f3a"
                                                                              ],
                                                                              [
                                                                                    0.8888888888888888,
                                                                                    "#fdca26"
                                                                              ],
                                                                              [
                                                                                    1,
                                                                                    "#f0f921"
                                                                              ]
                                                                        ],
                                                                        "type": "histogram2d"
                                                                  }
                                                            ],
                                                            "histogram2dcontour": [
                                                                  {
                                                                        "colorbar": {
                                                                              "outlinewidth": 0,
                                                                              "ticks": ""
                                                                        },
                                                                        "colorscale": [
                                                                              [
                                                                                    0,
                                                                                    "#0d0887"
                                                                              ],
                                                                              [
                                                                                    0.1111111111111111,
                                                                                    "#46039f"
                                                                              ],
                                                                              [
                                                                                    0.2222222222222222,
                                                                                    "#7201a8"
                                                                              ],
                                                                              [
                                                                                    0.3333333333333333,
                                                                                    "#9c179e"
                                                                              ],
                                                                              [
                                                                                    0.4444444444444444,
                                                                                    "#bd3786"
                                                                              ],
                                                                              [
                                                                                    0.5555555555555556,
                                                                                    "#d8576b"
                                                                              ],
                                                                              [
                                                                                    0.6666666666666666,
                                                                                    "#ed7953"
                                                                              ],
                                                                              [
                                                                                    0.7777777777777778,
                                                                                    "#fb9f3a"
                                                                              ],
                                                                              [
                                                                                    0.8888888888888888,
                                                                                    "#fdca26"
                                                                              ],
                                                                              [
                                                                                    1,
                                                                                    "#f0f921"
                                                                              ]
                                                                        ],
                                                                        "type": "histogram2dcontour"
                                                                  }
                                                            ],
                                                            "mesh3d": [
                                                                  {
                                                                        "colorbar": {
                                                                              "outlinewidth": 0,
                                                                              "ticks": ""
                                                                        },
                                                                        "type": "mesh3d"
                                                                  }
                                                            ],
                                                            "parcoords": [
                                                                  {
                                                                        "line": {
                                                                              "colorbar": {
                                                                                    "outlinewidth": 0,
                                                                                    "ticks": ""
                                                                              }
                                                                        },
                                                                        "type": "parcoords"
                                                                  }
                                                            ],
                                                            "pie": [
                                                                  {
                                                                        "automargin": true,
                                                                        "type": "pie"
                                                                  }
                                                            ],
                                                            "scatter": [
                                                                  {
                                                                        "fillpattern": {
                                                                              "fillmode": "overlay",
                                                                              "size": 10,
                                                                              "solidity": 0.2
                                                                        },
                                                                        "type": "scatter"
                                                                  }
                                                            ],
                                                            "scatter3d": [
                                                                  {
                                                                        "line": {
                                                                              "colorbar": {
                                                                                    "outlinewidth": 0,
                                                                                    "ticks": ""
                                                                              }
                                                                        },
                                                                        "marker": {
                                                                              "colorbar": {
                                                                                    "outlinewidth": 0,
                                                                                    "ticks": ""
                                                                              }
                                                                        },
                                                                        "type": "scatter3d"
                                                                  }
                                                            ],
                                                            "scattercarpet": [
                                                                  {
                                                                        "marker": {
                                                                              "colorbar": {
                                                                                    "outlinewidth": 0,
                                                                                    "ticks": ""
                                                                              }
                                                                        },
                                                                        "type": "scattercarpet"
                                                                  }
                                                            ],
                                                            "scattergeo": [
                                                                  {
                                                                        "marker": {
                                                                              "colorbar": {
                                                                                    "outlinewidth": 0,
                                                                                    "ticks": ""
                                                                              }
                                                                        },
                                                                        "type": "scattergeo"
                                                                  }
                                                            ],
                                                            "scattergl": [
                                                                  {
                                                                        "marker": {
                                                                              "colorbar": {
                                                                                    "outlinewidth": 0,
                                                                                    "ticks": ""
                                                                              }
                                                                        },
                                                                        "type": "scattergl"
                                                                  }
                                                            ],
                                                            "scattermapbox": [
                                                                  {
                                                                        "marker": {
                                                                              "colorbar": {
                                                                                    "outlinewidth": 0,
                                                                                    "ticks": ""
                                                                              }
                                                                        },
                                                                        "type": "scattermapbox"
                                                                  }
                                                            ],
                                                            "scatterpolar": [
                                                                  {
                                                                        "marker": {
                                                                              "colorbar": {
                                                                                    "outlinewidth": 0,
                                                                                    "ticks": ""
                                                                              }
                                                                        },
                                                                        "type": "scatterpolar"
                                                                  }
                                                            ],
                                                            "scatterpolargl": [
                                                                  {
                                                                        "marker": {
                                                                              "colorbar": {
                                                                                    "outlinewidth": 0,
                                                                                    "ticks": ""
                                                                              }
                                                                        },
                                                                        "type": "scatterpolargl"
                                                                  }
                                                            ],
                                                            "scatterternary": [
                                                                  {
                                                                        "marker": {
                                                                              "colorbar": {
                                                                                    "outlinewidth": 0,
                                                                                    "ticks": ""
                                                                              }
                                                                        },
                                                                        "type": "scatterternary"
                                                                  }
                                                            ],
                                                            "surface": [
                                                                  {
                                                                        "colorbar": {
                                                                              "outlinewidth": 0,
                                                                              "ticks": ""
                                                                        },
                                                                        "colorscale": [
                                                                              [
                                                                                    0,
                                                                                    "#0d0887"
                                                                              ],
                                                                              [
                                                                                    0.1111111111111111,
                                                                                    "#46039f"
                                                                              ],
                                                                              [
                                                                                    0.2222222222222222,
                                                                                    "#7201a8"
                                                                              ],
                                                                              [
                                                                                    0.3333333333333333,
                                                                                    "#9c179e"
                                                                              ],
                                                                              [
                                                                                    0.4444444444444444,
                                                                                    "#bd3786"
                                                                              ],
                                                                              [
                                                                                    0.5555555555555556,
                                                                                    "#d8576b"
                                                                              ],
                                                                              [
                                                                                    0.6666666666666666,
                                                                                    "#ed7953"
                                                                              ],
                                                                              [
                                                                                    0.7777777777777778,
                                                                                    "#fb9f3a"
                                                                              ],
                                                                              [
                                                                                    0.8888888888888888,
                                                                                    "#fdca26"
                                                                              ],
                                                                              [
                                                                                    1,
                                                                                    "#f0f921"
                                                                              ]
                                                                        ],
                                                                        "type": "surface"
                                                                  }
                                                            ],
                                                            "table": [
                                                                  {
                                                                        "cells": {
                                                                              "fill": {
                                                                                    "color": "#EBF0F8"
                                                                              },
                                                                              "line": {
                                                                                    "color": "white"
                                                                              }
                                                                        },
                                                                        "header": {
                                                                              "fill": {
                                                                                    "color": "#C8D4E3"
                                                                              },
                                                                              "line": {
                                                                                    "color": "white"
                                                                              }
                                                                        },
                                                                        "type": "table"
                                                                  }
                                                            ]
                                                      },
                                                      "layout": {
                                                            "annotationdefaults": {
                                                                  "arrowcolor": "#2a3f5f",
                                                                  "arrowhead": 0,
                                                                  "arrowwidth": 1
                                                            },
                                                            "autotypenumbers": "strict",
                                                            "coloraxis": {
                                                                  "colorbar": {
                                                                        "outlinewidth": 0,
                                                                        "ticks": ""
                                                                  }
                                                            },
                                                            "colorscale": {
                                                                  "diverging": [
                                                                        [
                                                                              0,
                                                                              "#8e0152"
                                                                        ],
                                                                        [
                                                                              0.1,
                                                                              "#c51b7d"
                                                                        ],
                                                                        [
                                                                              0.2,
                                                                              "#de77ae"
                                                                        ],
                                                                        [
                                                                              0.3,
                                                                              "#f1b6da"
                                                                        ],
                                                                        [
                                                                              0.4,
                                                                              "#fde0ef"
                                                                        ],
                                                                        [
                                                                              0.5,
                                                                              "#f7f7f7"
                                                                        ],
                                                                        [
                                                                              0.6,
                                                                              "#e6f5d0"
                                                                        ],
                                                                        [
                                                                              0.7,
                                                                              "#b8e186"
                                                                        ],
                                                                        [
                                                                              0.8,
                                                                              "#7fbc41"
                                                                        ],
                                                                        [
                                                                              0.9,
                                                                              "#4d9221"
                                                                        ],
                                                                        [
                                                                              1,
                                                                              "#276419"
                                                                        ]
                                                                  ],
                                                                  "sequential": [
                                                                        [
                                                                              0,
                                                                              "#0d0887"
                                                                        ],
                                                                        [
                                                                              0.1111111111111111,
                                                                              "#46039f"
                                                                        ],
                                                                        [
                                                                              0.2222222222222222,
                                                                              "#7201a8"
                                                                        ],
                                                                        [
                                                                              0.3333333333333333,
                                                                              "#9c179e"
                                                                        ],
                                                                        [
                                                                              0.4444444444444444,
                                                                              "#bd3786"
                                                                        ],
                                                                        [
                                                                              0.5555555555555556,
                                                                              "#d8576b"
                                                                        ],
                                                                        [
                                                                              0.6666666666666666,
                                                                              "#ed7953"
                                                                        ],
                                                                        [
                                                                              0.7777777777777778,
                                                                              "#fb9f3a"
                                                                        ],
                                                                        [
                                                                              0.8888888888888888,
                                                                              "#fdca26"
                                                                        ],
                                                                        [
                                                                              1,
                                                                              "#f0f921"
                                                                        ]
                                                                  ],
                                                                  "sequentialminus": [
                                                                        [
                                                                              0,
                                                                              "#0d0887"
                                                                        ],
                                                                        [
                                                                              0.1111111111111111,
                                                                              "#46039f"
                                                                        ],
                                                                        [
                                                                              0.2222222222222222,
                                                                              "#7201a8"
                                                                        ],
                                                                        [
                                                                              0.3333333333333333,
                                                                              "#9c179e"
                                                                        ],
                                                                        [
                                                                              0.4444444444444444,
                                                                              "#bd3786"
                                                                        ],
                                                                        [
                                                                              0.5555555555555556,
                                                                              "#d8576b"
                                                                        ],
                                                                        [
                                                                              0.6666666666666666,
                                                                              "#ed7953"
                                                                        ],
                                                                        [
                                                                              0.7777777777777778,
                                                                              "#fb9f3a"
                                                                        ],
                                                                        [
                                                                              0.8888888888888888,
                                                                              "#fdca26"
                                                                        ],
                                                                        [
                                                                              1,
                                                                              "#f0f921"
                                                                        ]
                                                                  ]
                                                            },
                                                            "colorway": [
                                                                  "#636efa",
                                                                  "#EF553B",
                                                                  "#00cc96",
                                                                  "#ab63fa",
                                                                  "#FFA15A",
                                                                  "#19d3f3",
                                                                  "#FF6692",
                                                                  "#B6E880",
                                                                  "#FF97FF",
                                                                  "#FECB52"
                                                            ],
                                                            "font": {
                                                                  "color": "#2a3f5f"
                                                            },
                                                            "geo": {
                                                                  "bgcolor": "white",
                                                                  "lakecolor": "white",
                                                                  "landcolor": "white",
                                                                  "showlakes": true,
                                                                  "showland": true,
                                                                  "subunitcolor": "#C8D4E3"
                                                            },
                                                            "hoverlabel": {
                                                                  "align": "left"
                                                            },
                                                            "hovermode": "closest",
                                                            "mapbox": {
                                                                  "style": "light"
                                                            },
                                                            "paper_bgcolor": "white",
                                                            "plot_bgcolor": "white",
                                                            "polar": {
                                                                  "angularaxis": {
                                                                        "gridcolor": "#EBF0F8",
                                                                        "linecolor": "#EBF0F8",
                                                                        "ticks": ""
                                                                  },
                                                                  "bgcolor": "white",
                                                                  "radialaxis": {
                                                                        "gridcolor": "#EBF0F8",
                                                                        "linecolor": "#EBF0F8",
                                                                        "ticks": ""
                                                                  }
                                                            },
                                                            "scene": {
                                                                  "xaxis": {
                                                                        "backgroundcolor": "white",
                                                                        "gridcolor": "#DFE8F3",
                                                                        "gridwidth": 2,
                                                                        "linecolor": "#EBF0F8",
                                                                        "showbackground": true,
                                                                        "ticks": "",
                                                                        "zerolinecolor": "#EBF0F8"
                                                                  },
                                                                  "yaxis": {
                                                                        "backgroundcolor": "white",
                                                                        "gridcolor": "#DFE8F3",
                                                                        "gridwidth": 2,
                                                                        "linecolor": "#EBF0F8",
                                                                        "showbackground": true,
                                                                        "ticks": "",
                                                                        "zerolinecolor": "#EBF0F8"
                                                                  },
                                                                  "zaxis": {
                                                                        "backgroundcolor": "white",
                                                                        "gridcolor": "#DFE8F3",
                                                                        "gridwidth": 2,
                                                                        "linecolor": "#EBF0F8",
                                                                        "showbackground": true,
                                                                        "ticks": "",
                                                                        "zerolinecolor": "#EBF0F8"
                                                                  }
                                                            },
                                                            "shapedefaults": {
                                                                  "line": {
                                                                        "color": "#2a3f5f"
                                                                  }
                                                            },
                                                            "ternary": {
                                                                  "aaxis": {
                                                                        "gridcolor": "#DFE8F3",
                                                                        "linecolor": "#A2B1C6",
                                                                        "ticks": ""
                                                                  },
                                                                  "baxis": {
                                                                        "gridcolor": "#DFE8F3",
                                                                        "linecolor": "#A2B1C6",
                                                                        "ticks": ""
                                                                  },
                                                                  "bgcolor": "white",
                                                                  "caxis": {
                                                                        "gridcolor": "#DFE8F3",
                                                                        "linecolor": "#A2B1C6",
                                                                        "ticks": ""
                                                                  }
                                                            },
                                                            "title": {
                                                                  "x": 0.05
                                                            },
                                                            "xaxis": {
                                                                  "automargin": true,
                                                                  "gridcolor": "#EBF0F8",
                                                                  "linecolor": "#EBF0F8",
                                                                  "ticks": "",
                                                                  "title": {
                                                                        "standoff": 15
                                                                  },
                                                                  "zerolinecolor": "#EBF0F8",
                                                                  "zerolinewidth": 2
                                                            },
                                                            "yaxis": {
                                                                  "automargin": true,
                                                                  "gridcolor": "#EBF0F8",
                                                                  "linecolor": "#EBF0F8",
                                                                  "ticks": "",
                                                                  "title": {
                                                                        "standoff": 15
                                                                  },
                                                                  "zerolinecolor": "#EBF0F8",
                                                                  "zerolinewidth": 2
                                                            }
                                                      }
                                                },
                                                "title": {
                                                      "font": {
                                                            "color": "Black",
                                                            "size": 22
                                                      },
                                                      "text": "<b>Hierarchical Clustering</b>",
                                                      "x": 0.5,
                                                      "xanchor": "center",
                                                      "yanchor": "top"
                                                },
                                                "width": 1000,
                                                "xaxis": {
                                                      "mirror": "allticks",
                                                      "rangemode": "tozero",
                                                      "showgrid": false,
                                                      "showline": true,
                                                      "showticklabels": true,
                                                      "ticks": "outside",
                                                      "type": "linear",
                                                      "zeroline": false
                                                },
                                                "yaxis": {
                                                      "mirror": "allticks",
                                                      "range": [
                                                            -40,
                                                            0
                                                      ],
                                                      "rangemode": "tozero",
                                                      "showgrid": false,
                                                      "showline": true,
                                                      "showticklabels": true,
                                                      "tickmode": "array",
                                                      "ticks": "outside",
                                                      "ticktext": [
                                                            "2_climate_global_ocean",
                                                            "1_quantum_graphene_optical",
                                                            "0_galaxies_mass_data",
                                                            "3_theory_models_model"
                                                      ],
                                                      "tickvals": [
                                                            -5,
                                                            -15,
                                                            -25,
                                                            -35
                                                      ],
                                                      "type": "linear",
                                                      "zeroline": false
                                                }
                                          }
                                    }
                              },
                              "metadata": {},
                              "output_type": "display_data"
                        }
                  ],
                  "source": [
                        "topic_model.visualize_hierarchy()"
                  ]
            },
            {
                  "cell_type": "code",
                  "execution_count": null,
                  "metadata": {},
                  "outputs": [
                        {
                              "data": {
                                    "application/vnd.plotly.v1+json": {
                                          "config": {
                                                "plotlyServerURL": "https://plot.ly"
                                          },
                                          "data": [
                                                {
                                                      "hovertext": "<b>Topic -1</b>:recurrence_network_data_shm_analys",
                                                      "line": {
                                                            "color": "black",
                                                            "width": 1.5
                                                      },
                                                      "mode": "lines+lines",
                                                      "name": "",
                                                      "opacity": 0.1,
                                                      "type": "scatter",
                                                      "x": [
                                                            1,
                                                            2,
                                                            3,
                                                            4,
                                                            5,
                                                            6,
                                                            7,
                                                            8,
                                                            9,
                                                            10
                                                      ],
                                                      "y": [
                                                            0.038663013527935074,
                                                            0.037604109462079,
                                                            0.03531490463996746,
                                                            0.03486110229102639,
                                                            0.03288584896956969,
                                                            0.03251424849032495,
                                                            0.02302025856975368,
                                                            0.022601243926161797,
                                                            0.022542306814659414,
                                                            0.02247292871373114
                                                      ]
                                                },
                                                {
                                                      "hovertext": "<b>Topic 0</b>:galaxies_mass_data_formation_star_s",
                                                      "line": {
                                                            "color": "black",
                                                            "width": 1.5
                                                      },
                                                      "mode": "lines+lines",
                                                      "name": "",
                                                      "opacity": 0.1,
                                                      "type": "scatter",
                                                      "x": [
                                                            1,
                                                            2,
                                                            3,
                                                            4,
                                                            5,
                                                            6,
                                                            7,
                                                            8,
                                                            9,
                                                            10
                                                      ],
                                                      "y": [
                                                            0.02054381140248669,
                                                            0.014987553691281887,
                                                            0.013493322121999569,
                                                            0.011249967319913267,
                                                            0.011225092562337844,
                                                            0.011015374509030167,
                                                            0.010982190020222361,
                                                            0.010168237730303743,
                                                            0.00949673811262126,
                                                            0.008561697725772609
                                                      ]
                                                },
                                                {
                                                      "hovertext": "<b>Topic 1</b>:quantum_graphene_optical_spin_state",
                                                      "line": {
                                                            "color": "black",
                                                            "width": 1.5
                                                      },
                                                      "mode": "lines+lines",
                                                      "name": "",
                                                      "opacity": 0.1,
                                                      "type": "scatter",
                                                      "x": [
                                                            1,
                                                            2,
                                                            3,
                                                            4,
                                                            5,
                                                            6,
                                                            7,
                                                            8,
                                                            9,
                                                            10
                                                      ],
                                                      "y": [
                                                            0.031180980633339277,
                                                            0.015970515541805688,
                                                            0.013409120479402998,
                                                            0.01209499994770244,
                                                            0.012043315223917698,
                                                            0.011092171728009477,
                                                            0.010812970020223158,
                                                            0.010791972132611663,
                                                            0.010423968611864327,
                                                            0.010055100689132086
                                                      ]
                                                },
                                                {
                                                      "hovertext": "<b>Topic 2</b>:climate_global_ocean_carbon_aerosol",
                                                      "line": {
                                                            "color": "black",
                                                            "width": 1.5
                                                      },
                                                      "mode": "lines+lines",
                                                      "name": "",
                                                      "opacity": 0.1,
                                                      "type": "scatter",
                                                      "x": [
                                                            1,
                                                            2,
                                                            3,
                                                            4,
                                                            5,
                                                            6,
                                                            7,
                                                            8,
                                                            9,
                                                            10
                                                      ],
                                                      "y": [
                                                            0.01630637010627973,
                                                            0.01356003528934735,
                                                            0.012393044429752167,
                                                            0.01194984580655485,
                                                            0.011877119939910937,
                                                            0.011495955290118444,
                                                            0.01089265179501901,
                                                            0.010679114462294427,
                                                            0.01025560049514405,
                                                            0.009942623809722398
                                                      ]
                                                },
                                                {
                                                      "hovertext": "<b>Topic 3</b>:theory_models_model_gauge_scalar_ne",
                                                      "line": {
                                                            "color": "black",
                                                            "width": 1.5
                                                      },
                                                      "mode": "lines+lines",
                                                      "name": "",
                                                      "opacity": 0.1,
                                                      "type": "scatter",
                                                      "x": [
                                                            1,
                                                            2,
                                                            3,
                                                            4,
                                                            5,
                                                            6,
                                                            7,
                                                            8,
                                                            9,
                                                            10
                                                      ],
                                                      "y": [
                                                            0.02416202872975638,
                                                            0.02173165188195821,
                                                            0.018801918641615026,
                                                            0.017783400355046365,
                                                            0.016327287066974058,
                                                            0.014916068830842628,
                                                            0.014576599061749866,
                                                            0.014287293869866487,
                                                            0.014091858897100231,
                                                            0.01392090397038547
                                                      ]
                                                }
                                          ],
                                          "layout": {
                                                "height": 500,
                                                "hoverlabel": {
                                                      "bgcolor": "white",
                                                      "font": {
                                                            "family": "Rockwell",
                                                            "size": 16
                                                      }
                                                },
                                                "showlegend": false,
                                                "template": {
                                                      "data": {
                                                            "bar": [
                                                                  {
                                                                        "error_x": {
                                                                              "color": "#2a3f5f"
                                                                        },
                                                                        "error_y": {
                                                                              "color": "#2a3f5f"
                                                                        },
                                                                        "marker": {
                                                                              "line": {
                                                                                    "color": "white",
                                                                                    "width": 0.5
                                                                              },
                                                                              "pattern": {
                                                                                    "fillmode": "overlay",
                                                                                    "size": 10,
                                                                                    "solidity": 0.2
                                                                              }
                                                                        },
                                                                        "type": "bar"
                                                                  }
                                                            ],
                                                            "barpolar": [
                                                                  {
                                                                        "marker": {
                                                                              "line": {
                                                                                    "color": "white",
                                                                                    "width": 0.5
                                                                              },
                                                                              "pattern": {
                                                                                    "fillmode": "overlay",
                                                                                    "size": 10,
                                                                                    "solidity": 0.2
                                                                              }
                                                                        },
                                                                        "type": "barpolar"
                                                                  }
                                                            ],
                                                            "carpet": [
                                                                  {
                                                                        "aaxis": {
                                                                              "endlinecolor": "#2a3f5f",
                                                                              "gridcolor": "#C8D4E3",
                                                                              "linecolor": "#C8D4E3",
                                                                              "minorgridcolor": "#C8D4E3",
                                                                              "startlinecolor": "#2a3f5f"
                                                                        },
                                                                        "baxis": {
                                                                              "endlinecolor": "#2a3f5f",
                                                                              "gridcolor": "#C8D4E3",
                                                                              "linecolor": "#C8D4E3",
                                                                              "minorgridcolor": "#C8D4E3",
                                                                              "startlinecolor": "#2a3f5f"
                                                                        },
                                                                        "type": "carpet"
                                                                  }
                                                            ],
                                                            "choropleth": [
                                                                  {
                                                                        "colorbar": {
                                                                              "outlinewidth": 0,
                                                                              "ticks": ""
                                                                        },
                                                                        "type": "choropleth"
                                                                  }
                                                            ],
                                                            "contour": [
                                                                  {
                                                                        "colorbar": {
                                                                              "outlinewidth": 0,
                                                                              "ticks": ""
                                                                        },
                                                                        "colorscale": [
                                                                              [
                                                                                    0,
                                                                                    "#0d0887"
                                                                              ],
                                                                              [
                                                                                    0.1111111111111111,
                                                                                    "#46039f"
                                                                              ],
                                                                              [
                                                                                    0.2222222222222222,
                                                                                    "#7201a8"
                                                                              ],
                                                                              [
                                                                                    0.3333333333333333,
                                                                                    "#9c179e"
                                                                              ],
                                                                              [
                                                                                    0.4444444444444444,
                                                                                    "#bd3786"
                                                                              ],
                                                                              [
                                                                                    0.5555555555555556,
                                                                                    "#d8576b"
                                                                              ],
                                                                              [
                                                                                    0.6666666666666666,
                                                                                    "#ed7953"
                                                                              ],
                                                                              [
                                                                                    0.7777777777777778,
                                                                                    "#fb9f3a"
                                                                              ],
                                                                              [
                                                                                    0.8888888888888888,
                                                                                    "#fdca26"
                                                                              ],
                                                                              [
                                                                                    1,
                                                                                    "#f0f921"
                                                                              ]
                                                                        ],
                                                                        "type": "contour"
                                                                  }
                                                            ],
                                                            "contourcarpet": [
                                                                  {
                                                                        "colorbar": {
                                                                              "outlinewidth": 0,
                                                                              "ticks": ""
                                                                        },
                                                                        "type": "contourcarpet"
                                                                  }
                                                            ],
                                                            "heatmap": [
                                                                  {
                                                                        "colorbar": {
                                                                              "outlinewidth": 0,
                                                                              "ticks": ""
                                                                        },
                                                                        "colorscale": [
                                                                              [
                                                                                    0,
                                                                                    "#0d0887"
                                                                              ],
                                                                              [
                                                                                    0.1111111111111111,
                                                                                    "#46039f"
                                                                              ],
                                                                              [
                                                                                    0.2222222222222222,
                                                                                    "#7201a8"
                                                                              ],
                                                                              [
                                                                                    0.3333333333333333,
                                                                                    "#9c179e"
                                                                              ],
                                                                              [
                                                                                    0.4444444444444444,
                                                                                    "#bd3786"
                                                                              ],
                                                                              [
                                                                                    0.5555555555555556,
                                                                                    "#d8576b"
                                                                              ],
                                                                              [
                                                                                    0.6666666666666666,
                                                                                    "#ed7953"
                                                                              ],
                                                                              [
                                                                                    0.7777777777777778,
                                                                                    "#fb9f3a"
                                                                              ],
                                                                              [
                                                                                    0.8888888888888888,
                                                                                    "#fdca26"
                                                                              ],
                                                                              [
                                                                                    1,
                                                                                    "#f0f921"
                                                                              ]
                                                                        ],
                                                                        "type": "heatmap"
                                                                  }
                                                            ],
                                                            "heatmapgl": [
                                                                  {
                                                                        "colorbar": {
                                                                              "outlinewidth": 0,
                                                                              "ticks": ""
                                                                        },
                                                                        "colorscale": [
                                                                              [
                                                                                    0,
                                                                                    "#0d0887"
                                                                              ],
                                                                              [
                                                                                    0.1111111111111111,
                                                                                    "#46039f"
                                                                              ],
                                                                              [
                                                                                    0.2222222222222222,
                                                                                    "#7201a8"
                                                                              ],
                                                                              [
                                                                                    0.3333333333333333,
                                                                                    "#9c179e"
                                                                              ],
                                                                              [
                                                                                    0.4444444444444444,
                                                                                    "#bd3786"
                                                                              ],
                                                                              [
                                                                                    0.5555555555555556,
                                                                                    "#d8576b"
                                                                              ],
                                                                              [
                                                                                    0.6666666666666666,
                                                                                    "#ed7953"
                                                                              ],
                                                                              [
                                                                                    0.7777777777777778,
                                                                                    "#fb9f3a"
                                                                              ],
                                                                              [
                                                                                    0.8888888888888888,
                                                                                    "#fdca26"
                                                                              ],
                                                                              [
                                                                                    1,
                                                                                    "#f0f921"
                                                                              ]
                                                                        ],
                                                                        "type": "heatmapgl"
                                                                  }
                                                            ],
                                                            "histogram": [
                                                                  {
                                                                        "marker": {
                                                                              "pattern": {
                                                                                    "fillmode": "overlay",
                                                                                    "size": 10,
                                                                                    "solidity": 0.2
                                                                              }
                                                                        },
                                                                        "type": "histogram"
                                                                  }
                                                            ],
                                                            "histogram2d": [
                                                                  {
                                                                        "colorbar": {
                                                                              "outlinewidth": 0,
                                                                              "ticks": ""
                                                                        },
                                                                        "colorscale": [
                                                                              [
                                                                                    0,
                                                                                    "#0d0887"
                                                                              ],
                                                                              [
                                                                                    0.1111111111111111,
                                                                                    "#46039f"
                                                                              ],
                                                                              [
                                                                                    0.2222222222222222,
                                                                                    "#7201a8"
                                                                              ],
                                                                              [
                                                                                    0.3333333333333333,
                                                                                    "#9c179e"
                                                                              ],
                                                                              [
                                                                                    0.4444444444444444,
                                                                                    "#bd3786"
                                                                              ],
                                                                              [
                                                                                    0.5555555555555556,
                                                                                    "#d8576b"
                                                                              ],
                                                                              [
                                                                                    0.6666666666666666,
                                                                                    "#ed7953"
                                                                              ],
                                                                              [
                                                                                    0.7777777777777778,
                                                                                    "#fb9f3a"
                                                                              ],
                                                                              [
                                                                                    0.8888888888888888,
                                                                                    "#fdca26"
                                                                              ],
                                                                              [
                                                                                    1,
                                                                                    "#f0f921"
                                                                              ]
                                                                        ],
                                                                        "type": "histogram2d"
                                                                  }
                                                            ],
                                                            "histogram2dcontour": [
                                                                  {
                                                                        "colorbar": {
                                                                              "outlinewidth": 0,
                                                                              "ticks": ""
                                                                        },
                                                                        "colorscale": [
                                                                              [
                                                                                    0,
                                                                                    "#0d0887"
                                                                              ],
                                                                              [
                                                                                    0.1111111111111111,
                                                                                    "#46039f"
                                                                              ],
                                                                              [
                                                                                    0.2222222222222222,
                                                                                    "#7201a8"
                                                                              ],
                                                                              [
                                                                                    0.3333333333333333,
                                                                                    "#9c179e"
                                                                              ],
                                                                              [
                                                                                    0.4444444444444444,
                                                                                    "#bd3786"
                                                                              ],
                                                                              [
                                                                                    0.5555555555555556,
                                                                                    "#d8576b"
                                                                              ],
                                                                              [
                                                                                    0.6666666666666666,
                                                                                    "#ed7953"
                                                                              ],
                                                                              [
                                                                                    0.7777777777777778,
                                                                                    "#fb9f3a"
                                                                              ],
                                                                              [
                                                                                    0.8888888888888888,
                                                                                    "#fdca26"
                                                                              ],
                                                                              [
                                                                                    1,
                                                                                    "#f0f921"
                                                                              ]
                                                                        ],
                                                                        "type": "histogram2dcontour"
                                                                  }
                                                            ],
                                                            "mesh3d": [
                                                                  {
                                                                        "colorbar": {
                                                                              "outlinewidth": 0,
                                                                              "ticks": ""
                                                                        },
                                                                        "type": "mesh3d"
                                                                  }
                                                            ],
                                                            "parcoords": [
                                                                  {
                                                                        "line": {
                                                                              "colorbar": {
                                                                                    "outlinewidth": 0,
                                                                                    "ticks": ""
                                                                              }
                                                                        },
                                                                        "type": "parcoords"
                                                                  }
                                                            ],
                                                            "pie": [
                                                                  {
                                                                        "automargin": true,
                                                                        "type": "pie"
                                                                  }
                                                            ],
                                                            "scatter": [
                                                                  {
                                                                        "fillpattern": {
                                                                              "fillmode": "overlay",
                                                                              "size": 10,
                                                                              "solidity": 0.2
                                                                        },
                                                                        "type": "scatter"
                                                                  }
                                                            ],
                                                            "scatter3d": [
                                                                  {
                                                                        "line": {
                                                                              "colorbar": {
                                                                                    "outlinewidth": 0,
                                                                                    "ticks": ""
                                                                              }
                                                                        },
                                                                        "marker": {
                                                                              "colorbar": {
                                                                                    "outlinewidth": 0,
                                                                                    "ticks": ""
                                                                              }
                                                                        },
                                                                        "type": "scatter3d"
                                                                  }
                                                            ],
                                                            "scattercarpet": [
                                                                  {
                                                                        "marker": {
                                                                              "colorbar": {
                                                                                    "outlinewidth": 0,
                                                                                    "ticks": ""
                                                                              }
                                                                        },
                                                                        "type": "scattercarpet"
                                                                  }
                                                            ],
                                                            "scattergeo": [
                                                                  {
                                                                        "marker": {
                                                                              "colorbar": {
                                                                                    "outlinewidth": 0,
                                                                                    "ticks": ""
                                                                              }
                                                                        },
                                                                        "type": "scattergeo"
                                                                  }
                                                            ],
                                                            "scattergl": [
                                                                  {
                                                                        "marker": {
                                                                              "colorbar": {
                                                                                    "outlinewidth": 0,
                                                                                    "ticks": ""
                                                                              }
                                                                        },
                                                                        "type": "scattergl"
                                                                  }
                                                            ],
                                                            "scattermapbox": [
                                                                  {
                                                                        "marker": {
                                                                              "colorbar": {
                                                                                    "outlinewidth": 0,
                                                                                    "ticks": ""
                                                                              }
                                                                        },
                                                                        "type": "scattermapbox"
                                                                  }
                                                            ],
                                                            "scatterpolar": [
                                                                  {
                                                                        "marker": {
                                                                              "colorbar": {
                                                                                    "outlinewidth": 0,
                                                                                    "ticks": ""
                                                                              }
                                                                        },
                                                                        "type": "scatterpolar"
                                                                  }
                                                            ],
                                                            "scatterpolargl": [
                                                                  {
                                                                        "marker": {
                                                                              "colorbar": {
                                                                                    "outlinewidth": 0,
                                                                                    "ticks": ""
                                                                              }
                                                                        },
                                                                        "type": "scatterpolargl"
                                                                  }
                                                            ],
                                                            "scatterternary": [
                                                                  {
                                                                        "marker": {
                                                                              "colorbar": {
                                                                                    "outlinewidth": 0,
                                                                                    "ticks": ""
                                                                              }
                                                                        },
                                                                        "type": "scatterternary"
                                                                  }
                                                            ],
                                                            "surface": [
                                                                  {
                                                                        "colorbar": {
                                                                              "outlinewidth": 0,
                                                                              "ticks": ""
                                                                        },
                                                                        "colorscale": [
                                                                              [
                                                                                    0,
                                                                                    "#0d0887"
                                                                              ],
                                                                              [
                                                                                    0.1111111111111111,
                                                                                    "#46039f"
                                                                              ],
                                                                              [
                                                                                    0.2222222222222222,
                                                                                    "#7201a8"
                                                                              ],
                                                                              [
                                                                                    0.3333333333333333,
                                                                                    "#9c179e"
                                                                              ],
                                                                              [
                                                                                    0.4444444444444444,
                                                                                    "#bd3786"
                                                                              ],
                                                                              [
                                                                                    0.5555555555555556,
                                                                                    "#d8576b"
                                                                              ],
                                                                              [
                                                                                    0.6666666666666666,
                                                                                    "#ed7953"
                                                                              ],
                                                                              [
                                                                                    0.7777777777777778,
                                                                                    "#fb9f3a"
                                                                              ],
                                                                              [
                                                                                    0.8888888888888888,
                                                                                    "#fdca26"
                                                                              ],
                                                                              [
                                                                                    1,
                                                                                    "#f0f921"
                                                                              ]
                                                                        ],
                                                                        "type": "surface"
                                                                  }
                                                            ],
                                                            "table": [
                                                                  {
                                                                        "cells": {
                                                                              "fill": {
                                                                                    "color": "#EBF0F8"
                                                                              },
                                                                              "line": {
                                                                                    "color": "white"
                                                                              }
                                                                        },
                                                                        "header": {
                                                                              "fill": {
                                                                                    "color": "#C8D4E3"
                                                                              },
                                                                              "line": {
                                                                                    "color": "white"
                                                                              }
                                                                        },
                                                                        "type": "table"
                                                                  }
                                                            ]
                                                      },
                                                      "layout": {
                                                            "annotationdefaults": {
                                                                  "arrowcolor": "#2a3f5f",
                                                                  "arrowhead": 0,
                                                                  "arrowwidth": 1
                                                            },
                                                            "autotypenumbers": "strict",
                                                            "coloraxis": {
                                                                  "colorbar": {
                                                                        "outlinewidth": 0,
                                                                        "ticks": ""
                                                                  }
                                                            },
                                                            "colorscale": {
                                                                  "diverging": [
                                                                        [
                                                                              0,
                                                                              "#8e0152"
                                                                        ],
                                                                        [
                                                                              0.1,
                                                                              "#c51b7d"
                                                                        ],
                                                                        [
                                                                              0.2,
                                                                              "#de77ae"
                                                                        ],
                                                                        [
                                                                              0.3,
                                                                              "#f1b6da"
                                                                        ],
                                                                        [
                                                                              0.4,
                                                                              "#fde0ef"
                                                                        ],
                                                                        [
                                                                              0.5,
                                                                              "#f7f7f7"
                                                                        ],
                                                                        [
                                                                              0.6,
                                                                              "#e6f5d0"
                                                                        ],
                                                                        [
                                                                              0.7,
                                                                              "#b8e186"
                                                                        ],
                                                                        [
                                                                              0.8,
                                                                              "#7fbc41"
                                                                        ],
                                                                        [
                                                                              0.9,
                                                                              "#4d9221"
                                                                        ],
                                                                        [
                                                                              1,
                                                                              "#276419"
                                                                        ]
                                                                  ],
                                                                  "sequential": [
                                                                        [
                                                                              0,
                                                                              "#0d0887"
                                                                        ],
                                                                        [
                                                                              0.1111111111111111,
                                                                              "#46039f"
                                                                        ],
                                                                        [
                                                                              0.2222222222222222,
                                                                              "#7201a8"
                                                                        ],
                                                                        [
                                                                              0.3333333333333333,
                                                                              "#9c179e"
                                                                        ],
                                                                        [
                                                                              0.4444444444444444,
                                                                              "#bd3786"
                                                                        ],
                                                                        [
                                                                              0.5555555555555556,
                                                                              "#d8576b"
                                                                        ],
                                                                        [
                                                                              0.6666666666666666,
                                                                              "#ed7953"
                                                                        ],
                                                                        [
                                                                              0.7777777777777778,
                                                                              "#fb9f3a"
                                                                        ],
                                                                        [
                                                                              0.8888888888888888,
                                                                              "#fdca26"
                                                                        ],
                                                                        [
                                                                              1,
                                                                              "#f0f921"
                                                                        ]
                                                                  ],
                                                                  "sequentialminus": [
                                                                        [
                                                                              0,
                                                                              "#0d0887"
                                                                        ],
                                                                        [
                                                                              0.1111111111111111,
                                                                              "#46039f"
                                                                        ],
                                                                        [
                                                                              0.2222222222222222,
                                                                              "#7201a8"
                                                                        ],
                                                                        [
                                                                              0.3333333333333333,
                                                                              "#9c179e"
                                                                        ],
                                                                        [
                                                                              0.4444444444444444,
                                                                              "#bd3786"
                                                                        ],
                                                                        [
                                                                              0.5555555555555556,
                                                                              "#d8576b"
                                                                        ],
                                                                        [
                                                                              0.6666666666666666,
                                                                              "#ed7953"
                                                                        ],
                                                                        [
                                                                              0.7777777777777778,
                                                                              "#fb9f3a"
                                                                        ],
                                                                        [
                                                                              0.8888888888888888,
                                                                              "#fdca26"
                                                                        ],
                                                                        [
                                                                              1,
                                                                              "#f0f921"
                                                                        ]
                                                                  ]
                                                            },
                                                            "colorway": [
                                                                  "#636efa",
                                                                  "#EF553B",
                                                                  "#00cc96",
                                                                  "#ab63fa",
                                                                  "#FFA15A",
                                                                  "#19d3f3",
                                                                  "#FF6692",
                                                                  "#B6E880",
                                                                  "#FF97FF",
                                                                  "#FECB52"
                                                            ],
                                                            "font": {
                                                                  "color": "#2a3f5f"
                                                            },
                                                            "geo": {
                                                                  "bgcolor": "white",
                                                                  "lakecolor": "white",
                                                                  "landcolor": "white",
                                                                  "showlakes": true,
                                                                  "showland": true,
                                                                  "subunitcolor": "#C8D4E3"
                                                            },
                                                            "hoverlabel": {
                                                                  "align": "left"
                                                            },
                                                            "hovermode": "closest",
                                                            "mapbox": {
                                                                  "style": "light"
                                                            },
                                                            "paper_bgcolor": "white",
                                                            "plot_bgcolor": "white",
                                                            "polar": {
                                                                  "angularaxis": {
                                                                        "gridcolor": "#EBF0F8",
                                                                        "linecolor": "#EBF0F8",
                                                                        "ticks": ""
                                                                  },
                                                                  "bgcolor": "white",
                                                                  "radialaxis": {
                                                                        "gridcolor": "#EBF0F8",
                                                                        "linecolor": "#EBF0F8",
                                                                        "ticks": ""
                                                                  }
                                                            },
                                                            "scene": {
                                                                  "xaxis": {
                                                                        "backgroundcolor": "white",
                                                                        "gridcolor": "#DFE8F3",
                                                                        "gridwidth": 2,
                                                                        "linecolor": "#EBF0F8",
                                                                        "showbackground": true,
                                                                        "ticks": "",
                                                                        "zerolinecolor": "#EBF0F8"
                                                                  },
                                                                  "yaxis": {
                                                                        "backgroundcolor": "white",
                                                                        "gridcolor": "#DFE8F3",
                                                                        "gridwidth": 2,
                                                                        "linecolor": "#EBF0F8",
                                                                        "showbackground": true,
                                                                        "ticks": "",
                                                                        "zerolinecolor": "#EBF0F8"
                                                                  },
                                                                  "zaxis": {
                                                                        "backgroundcolor": "white",
                                                                        "gridcolor": "#DFE8F3",
                                                                        "gridwidth": 2,
                                                                        "linecolor": "#EBF0F8",
                                                                        "showbackground": true,
                                                                        "ticks": "",
                                                                        "zerolinecolor": "#EBF0F8"
                                                                  }
                                                            },
                                                            "shapedefaults": {
                                                                  "line": {
                                                                        "color": "#2a3f5f"
                                                                  }
                                                            },
                                                            "ternary": {
                                                                  "aaxis": {
                                                                        "gridcolor": "#DFE8F3",
                                                                        "linecolor": "#A2B1C6",
                                                                        "ticks": ""
                                                                  },
                                                                  "baxis": {
                                                                        "gridcolor": "#DFE8F3",
                                                                        "linecolor": "#A2B1C6",
                                                                        "ticks": ""
                                                                  },
                                                                  "bgcolor": "white",
                                                                  "caxis": {
                                                                        "gridcolor": "#DFE8F3",
                                                                        "linecolor": "#A2B1C6",
                                                                        "ticks": ""
                                                                  }
                                                            },
                                                            "title": {
                                                                  "x": 0.05
                                                            },
                                                            "xaxis": {
                                                                  "automargin": true,
                                                                  "gridcolor": "#EBF0F8",
                                                                  "linecolor": "#EBF0F8",
                                                                  "ticks": "",
                                                                  "title": {
                                                                        "standoff": 15
                                                                  },
                                                                  "zerolinecolor": "#EBF0F8",
                                                                  "zerolinewidth": 2
                                                            },
                                                            "yaxis": {
                                                                  "automargin": true,
                                                                  "gridcolor": "#EBF0F8",
                                                                  "linecolor": "#EBF0F8",
                                                                  "ticks": "",
                                                                  "title": {
                                                                        "standoff": 15
                                                                  },
                                                                  "zerolinecolor": "#EBF0F8",
                                                                  "zerolinewidth": 2
                                                            }
                                                      }
                                                },
                                                "title": {
                                                      "font": {
                                                            "color": "Black",
                                                            "size": 22
                                                      },
                                                      "text": "<b>Term score decline per Topic</b>",
                                                      "x": 0.5,
                                                      "xanchor": "center",
                                                      "y": 0.9,
                                                      "yanchor": "top"
                                                },
                                                "width": 800,
                                                "xaxis": {
                                                      "dtick": 2,
                                                      "range": [
                                                            0,
                                                            10
                                                      ],
                                                      "tick0": 1,
                                                      "title": {
                                                            "text": "Term Rank"
                                                      }
                                                },
                                                "yaxis": {
                                                      "title": {
                                                            "text": "c-TF-IDF score"
                                                      }
                                                }
                                          }
                                    }
                              },
                              "metadata": {},
                              "output_type": "display_data"
                        }
                  ],
                  "source": [
                        "topic_model.visualize_term_rank()"
                  ]
            },
            {
                  "cell_type": "code",
                  "execution_count": null,
                  "metadata": {},
                  "outputs": [
                        {
                              "data": {
                                    "application/vnd.plotly.v1+json": {
                                          "config": {
                                                "plotlyServerURL": "https://plot.ly"
                                          },
                                          "data": [
                                                {
                                                      "marker": {
                                                            "color": "#C8D2D7",
                                                            "line": {
                                                                  "color": "#6E8484",
                                                                  "width": 1
                                                            }
                                                      },
                                                      "orientation": "h",
                                                      "type": "bar",
                                                      "x": [
                                                            0.28242408628906296,
                                                            0.0328104459862243,
                                                            0.06388474280826272,
                                                            0.1472944896686015
                                                      ],
                                                      "y": [
                                                            "<b>Topic 0</b>: galaxies_mass_data_forma...",
                                                            "<b>Topic 1</b>: quantum_graphene_optical...",
                                                            "<b>Topic 2</b>: climate_global_ocean_car...",
                                                            "<b>Topic 3</b>: theory_models_model_gaug..."
                                                      ]
                                                }
                                          ],
                                          "layout": {
                                                "height": 600,
                                                "hoverlabel": {
                                                      "bgcolor": "white",
                                                      "font": {
                                                            "family": "Rockwell",
                                                            "size": 16
                                                      }
                                                },
                                                "template": {
                                                      "data": {
                                                            "bar": [
                                                                  {
                                                                        "error_x": {
                                                                              "color": "rgb(36,36,36)"
                                                                        },
                                                                        "error_y": {
                                                                              "color": "rgb(36,36,36)"
                                                                        },
                                                                        "marker": {
                                                                              "line": {
                                                                                    "color": "white",
                                                                                    "width": 0.5
                                                                              },
                                                                              "pattern": {
                                                                                    "fillmode": "overlay",
                                                                                    "size": 10,
                                                                                    "solidity": 0.2
                                                                              }
                                                                        },
                                                                        "type": "bar"
                                                                  }
                                                            ],
                                                            "barpolar": [
                                                                  {
                                                                        "marker": {
                                                                              "line": {
                                                                                    "color": "white",
                                                                                    "width": 0.5
                                                                              },
                                                                              "pattern": {
                                                                                    "fillmode": "overlay",
                                                                                    "size": 10,
                                                                                    "solidity": 0.2
                                                                              }
                                                                        },
                                                                        "type": "barpolar"
                                                                  }
                                                            ],
                                                            "carpet": [
                                                                  {
                                                                        "aaxis": {
                                                                              "endlinecolor": "rgb(36,36,36)",
                                                                              "gridcolor": "white",
                                                                              "linecolor": "white",
                                                                              "minorgridcolor": "white",
                                                                              "startlinecolor": "rgb(36,36,36)"
                                                                        },
                                                                        "baxis": {
                                                                              "endlinecolor": "rgb(36,36,36)",
                                                                              "gridcolor": "white",
                                                                              "linecolor": "white",
                                                                              "minorgridcolor": "white",
                                                                              "startlinecolor": "rgb(36,36,36)"
                                                                        },
                                                                        "type": "carpet"
                                                                  }
                                                            ],
                                                            "choropleth": [
                                                                  {
                                                                        "colorbar": {
                                                                              "outlinewidth": 1,
                                                                              "tickcolor": "rgb(36,36,36)",
                                                                              "ticks": "outside"
                                                                        },
                                                                        "type": "choropleth"
                                                                  }
                                                            ],
                                                            "contour": [
                                                                  {
                                                                        "colorbar": {
                                                                              "outlinewidth": 1,
                                                                              "tickcolor": "rgb(36,36,36)",
                                                                              "ticks": "outside"
                                                                        },
                                                                        "colorscale": [
                                                                              [
                                                                                    0,
                                                                                    "#440154"
                                                                              ],
                                                                              [
                                                                                    0.1111111111111111,
                                                                                    "#482878"
                                                                              ],
                                                                              [
                                                                                    0.2222222222222222,
                                                                                    "#3e4989"
                                                                              ],
                                                                              [
                                                                                    0.3333333333333333,
                                                                                    "#31688e"
                                                                              ],
                                                                              [
                                                                                    0.4444444444444444,
                                                                                    "#26828e"
                                                                              ],
                                                                              [
                                                                                    0.5555555555555556,
                                                                                    "#1f9e89"
                                                                              ],
                                                                              [
                                                                                    0.6666666666666666,
                                                                                    "#35b779"
                                                                              ],
                                                                              [
                                                                                    0.7777777777777778,
                                                                                    "#6ece58"
                                                                              ],
                                                                              [
                                                                                    0.8888888888888888,
                                                                                    "#b5de2b"
                                                                              ],
                                                                              [
                                                                                    1,
                                                                                    "#fde725"
                                                                              ]
                                                                        ],
                                                                        "type": "contour"
                                                                  }
                                                            ],
                                                            "contourcarpet": [
                                                                  {
                                                                        "colorbar": {
                                                                              "outlinewidth": 1,
                                                                              "tickcolor": "rgb(36,36,36)",
                                                                              "ticks": "outside"
                                                                        },
                                                                        "type": "contourcarpet"
                                                                  }
                                                            ],
                                                            "heatmap": [
                                                                  {
                                                                        "colorbar": {
                                                                              "outlinewidth": 1,
                                                                              "tickcolor": "rgb(36,36,36)",
                                                                              "ticks": "outside"
                                                                        },
                                                                        "colorscale": [
                                                                              [
                                                                                    0,
                                                                                    "#440154"
                                                                              ],
                                                                              [
                                                                                    0.1111111111111111,
                                                                                    "#482878"
                                                                              ],
                                                                              [
                                                                                    0.2222222222222222,
                                                                                    "#3e4989"
                                                                              ],
                                                                              [
                                                                                    0.3333333333333333,
                                                                                    "#31688e"
                                                                              ],
                                                                              [
                                                                                    0.4444444444444444,
                                                                                    "#26828e"
                                                                              ],
                                                                              [
                                                                                    0.5555555555555556,
                                                                                    "#1f9e89"
                                                                              ],
                                                                              [
                                                                                    0.6666666666666666,
                                                                                    "#35b779"
                                                                              ],
                                                                              [
                                                                                    0.7777777777777778,
                                                                                    "#6ece58"
                                                                              ],
                                                                              [
                                                                                    0.8888888888888888,
                                                                                    "#b5de2b"
                                                                              ],
                                                                              [
                                                                                    1,
                                                                                    "#fde725"
                                                                              ]
                                                                        ],
                                                                        "type": "heatmap"
                                                                  }
                                                            ],
                                                            "heatmapgl": [
                                                                  {
                                                                        "colorbar": {
                                                                              "outlinewidth": 1,
                                                                              "tickcolor": "rgb(36,36,36)",
                                                                              "ticks": "outside"
                                                                        },
                                                                        "colorscale": [
                                                                              [
                                                                                    0,
                                                                                    "#440154"
                                                                              ],
                                                                              [
                                                                                    0.1111111111111111,
                                                                                    "#482878"
                                                                              ],
                                                                              [
                                                                                    0.2222222222222222,
                                                                                    "#3e4989"
                                                                              ],
                                                                              [
                                                                                    0.3333333333333333,
                                                                                    "#31688e"
                                                                              ],
                                                                              [
                                                                                    0.4444444444444444,
                                                                                    "#26828e"
                                                                              ],
                                                                              [
                                                                                    0.5555555555555556,
                                                                                    "#1f9e89"
                                                                              ],
                                                                              [
                                                                                    0.6666666666666666,
                                                                                    "#35b779"
                                                                              ],
                                                                              [
                                                                                    0.7777777777777778,
                                                                                    "#6ece58"
                                                                              ],
                                                                              [
                                                                                    0.8888888888888888,
                                                                                    "#b5de2b"
                                                                              ],
                                                                              [
                                                                                    1,
                                                                                    "#fde725"
                                                                              ]
                                                                        ],
                                                                        "type": "heatmapgl"
                                                                  }
                                                            ],
                                                            "histogram": [
                                                                  {
                                                                        "marker": {
                                                                              "line": {
                                                                                    "color": "white",
                                                                                    "width": 0.6
                                                                              }
                                                                        },
                                                                        "type": "histogram"
                                                                  }
                                                            ],
                                                            "histogram2d": [
                                                                  {
                                                                        "colorbar": {
                                                                              "outlinewidth": 1,
                                                                              "tickcolor": "rgb(36,36,36)",
                                                                              "ticks": "outside"
                                                                        },
                                                                        "colorscale": [
                                                                              [
                                                                                    0,
                                                                                    "#440154"
                                                                              ],
                                                                              [
                                                                                    0.1111111111111111,
                                                                                    "#482878"
                                                                              ],
                                                                              [
                                                                                    0.2222222222222222,
                                                                                    "#3e4989"
                                                                              ],
                                                                              [
                                                                                    0.3333333333333333,
                                                                                    "#31688e"
                                                                              ],
                                                                              [
                                                                                    0.4444444444444444,
                                                                                    "#26828e"
                                                                              ],
                                                                              [
                                                                                    0.5555555555555556,
                                                                                    "#1f9e89"
                                                                              ],
                                                                              [
                                                                                    0.6666666666666666,
                                                                                    "#35b779"
                                                                              ],
                                                                              [
                                                                                    0.7777777777777778,
                                                                                    "#6ece58"
                                                                              ],
                                                                              [
                                                                                    0.8888888888888888,
                                                                                    "#b5de2b"
                                                                              ],
                                                                              [
                                                                                    1,
                                                                                    "#fde725"
                                                                              ]
                                                                        ],
                                                                        "type": "histogram2d"
                                                                  }
                                                            ],
                                                            "histogram2dcontour": [
                                                                  {
                                                                        "colorbar": {
                                                                              "outlinewidth": 1,
                                                                              "tickcolor": "rgb(36,36,36)",
                                                                              "ticks": "outside"
                                                                        },
                                                                        "colorscale": [
                                                                              [
                                                                                    0,
                                                                                    "#440154"
                                                                              ],
                                                                              [
                                                                                    0.1111111111111111,
                                                                                    "#482878"
                                                                              ],
                                                                              [
                                                                                    0.2222222222222222,
                                                                                    "#3e4989"
                                                                              ],
                                                                              [
                                                                                    0.3333333333333333,
                                                                                    "#31688e"
                                                                              ],
                                                                              [
                                                                                    0.4444444444444444,
                                                                                    "#26828e"
                                                                              ],
                                                                              [
                                                                                    0.5555555555555556,
                                                                                    "#1f9e89"
                                                                              ],
                                                                              [
                                                                                    0.6666666666666666,
                                                                                    "#35b779"
                                                                              ],
                                                                              [
                                                                                    0.7777777777777778,
                                                                                    "#6ece58"
                                                                              ],
                                                                              [
                                                                                    0.8888888888888888,
                                                                                    "#b5de2b"
                                                                              ],
                                                                              [
                                                                                    1,
                                                                                    "#fde725"
                                                                              ]
                                                                        ],
                                                                        "type": "histogram2dcontour"
                                                                  }
                                                            ],
                                                            "mesh3d": [
                                                                  {
                                                                        "colorbar": {
                                                                              "outlinewidth": 1,
                                                                              "tickcolor": "rgb(36,36,36)",
                                                                              "ticks": "outside"
                                                                        },
                                                                        "type": "mesh3d"
                                                                  }
                                                            ],
                                                            "parcoords": [
                                                                  {
                                                                        "line": {
                                                                              "colorbar": {
                                                                                    "outlinewidth": 1,
                                                                                    "tickcolor": "rgb(36,36,36)",
                                                                                    "ticks": "outside"
                                                                              }
                                                                        },
                                                                        "type": "parcoords"
                                                                  }
                                                            ],
                                                            "pie": [
                                                                  {
                                                                        "automargin": true,
                                                                        "type": "pie"
                                                                  }
                                                            ],
                                                            "scatter": [
                                                                  {
                                                                        "fillpattern": {
                                                                              "fillmode": "overlay",
                                                                              "size": 10,
                                                                              "solidity": 0.2
                                                                        },
                                                                        "type": "scatter"
                                                                  }
                                                            ],
                                                            "scatter3d": [
                                                                  {
                                                                        "line": {
                                                                              "colorbar": {
                                                                                    "outlinewidth": 1,
                                                                                    "tickcolor": "rgb(36,36,36)",
                                                                                    "ticks": "outside"
                                                                              }
                                                                        },
                                                                        "marker": {
                                                                              "colorbar": {
                                                                                    "outlinewidth": 1,
                                                                                    "tickcolor": "rgb(36,36,36)",
                                                                                    "ticks": "outside"
                                                                              }
                                                                        },
                                                                        "type": "scatter3d"
                                                                  }
                                                            ],
                                                            "scattercarpet": [
                                                                  {
                                                                        "marker": {
                                                                              "colorbar": {
                                                                                    "outlinewidth": 1,
                                                                                    "tickcolor": "rgb(36,36,36)",
                                                                                    "ticks": "outside"
                                                                              }
                                                                        },
                                                                        "type": "scattercarpet"
                                                                  }
                                                            ],
                                                            "scattergeo": [
                                                                  {
                                                                        "marker": {
                                                                              "colorbar": {
                                                                                    "outlinewidth": 1,
                                                                                    "tickcolor": "rgb(36,36,36)",
                                                                                    "ticks": "outside"
                                                                              }
                                                                        },
                                                                        "type": "scattergeo"
                                                                  }
                                                            ],
                                                            "scattergl": [
                                                                  {
                                                                        "marker": {
                                                                              "colorbar": {
                                                                                    "outlinewidth": 1,
                                                                                    "tickcolor": "rgb(36,36,36)",
                                                                                    "ticks": "outside"
                                                                              }
                                                                        },
                                                                        "type": "scattergl"
                                                                  }
                                                            ],
                                                            "scattermapbox": [
                                                                  {
                                                                        "marker": {
                                                                              "colorbar": {
                                                                                    "outlinewidth": 1,
                                                                                    "tickcolor": "rgb(36,36,36)",
                                                                                    "ticks": "outside"
                                                                              }
                                                                        },
                                                                        "type": "scattermapbox"
                                                                  }
                                                            ],
                                                            "scatterpolar": [
                                                                  {
                                                                        "marker": {
                                                                              "colorbar": {
                                                                                    "outlinewidth": 1,
                                                                                    "tickcolor": "rgb(36,36,36)",
                                                                                    "ticks": "outside"
                                                                              }
                                                                        },
                                                                        "type": "scatterpolar"
                                                                  }
                                                            ],
                                                            "scatterpolargl": [
                                                                  {
                                                                        "marker": {
                                                                              "colorbar": {
                                                                                    "outlinewidth": 1,
                                                                                    "tickcolor": "rgb(36,36,36)",
                                                                                    "ticks": "outside"
                                                                              }
                                                                        },
                                                                        "type": "scatterpolargl"
                                                                  }
                                                            ],
                                                            "scatterternary": [
                                                                  {
                                                                        "marker": {
                                                                              "colorbar": {
                                                                                    "outlinewidth": 1,
                                                                                    "tickcolor": "rgb(36,36,36)",
                                                                                    "ticks": "outside"
                                                                              }
                                                                        },
                                                                        "type": "scatterternary"
                                                                  }
                                                            ],
                                                            "surface": [
                                                                  {
                                                                        "colorbar": {
                                                                              "outlinewidth": 1,
                                                                              "tickcolor": "rgb(36,36,36)",
                                                                              "ticks": "outside"
                                                                        },
                                                                        "colorscale": [
                                                                              [
                                                                                    0,
                                                                                    "#440154"
                                                                              ],
                                                                              [
                                                                                    0.1111111111111111,
                                                                                    "#482878"
                                                                              ],
                                                                              [
                                                                                    0.2222222222222222,
                                                                                    "#3e4989"
                                                                              ],
                                                                              [
                                                                                    0.3333333333333333,
                                                                                    "#31688e"
                                                                              ],
                                                                              [
                                                                                    0.4444444444444444,
                                                                                    "#26828e"
                                                                              ],
                                                                              [
                                                                                    0.5555555555555556,
                                                                                    "#1f9e89"
                                                                              ],
                                                                              [
                                                                                    0.6666666666666666,
                                                                                    "#35b779"
                                                                              ],
                                                                              [
                                                                                    0.7777777777777778,
                                                                                    "#6ece58"
                                                                              ],
                                                                              [
                                                                                    0.8888888888888888,
                                                                                    "#b5de2b"
                                                                              ],
                                                                              [
                                                                                    1,
                                                                                    "#fde725"
                                                                              ]
                                                                        ],
                                                                        "type": "surface"
                                                                  }
                                                            ],
                                                            "table": [
                                                                  {
                                                                        "cells": {
                                                                              "fill": {
                                                                                    "color": "rgb(237,237,237)"
                                                                              },
                                                                              "line": {
                                                                                    "color": "white"
                                                                              }
                                                                        },
                                                                        "header": {
                                                                              "fill": {
                                                                                    "color": "rgb(217,217,217)"
                                                                              },
                                                                              "line": {
                                                                                    "color": "white"
                                                                              }
                                                                        },
                                                                        "type": "table"
                                                                  }
                                                            ]
                                                      },
                                                      "layout": {
                                                            "annotationdefaults": {
                                                                  "arrowhead": 0,
                                                                  "arrowwidth": 1
                                                            },
                                                            "autotypenumbers": "strict",
                                                            "coloraxis": {
                                                                  "colorbar": {
                                                                        "outlinewidth": 1,
                                                                        "tickcolor": "rgb(36,36,36)",
                                                                        "ticks": "outside"
                                                                  }
                                                            },
                                                            "colorscale": {
                                                                  "diverging": [
                                                                        [
                                                                              0,
                                                                              "rgb(103,0,31)"
                                                                        ],
                                                                        [
                                                                              0.1,
                                                                              "rgb(178,24,43)"
                                                                        ],
                                                                        [
                                                                              0.2,
                                                                              "rgb(214,96,77)"
                                                                        ],
                                                                        [
                                                                              0.3,
                                                                              "rgb(244,165,130)"
                                                                        ],
                                                                        [
                                                                              0.4,
                                                                              "rgb(253,219,199)"
                                                                        ],
                                                                        [
                                                                              0.5,
                                                                              "rgb(247,247,247)"
                                                                        ],
                                                                        [
                                                                              0.6,
                                                                              "rgb(209,229,240)"
                                                                        ],
                                                                        [
                                                                              0.7,
                                                                              "rgb(146,197,222)"
                                                                        ],
                                                                        [
                                                                              0.8,
                                                                              "rgb(67,147,195)"
                                                                        ],
                                                                        [
                                                                              0.9,
                                                                              "rgb(33,102,172)"
                                                                        ],
                                                                        [
                                                                              1,
                                                                              "rgb(5,48,97)"
                                                                        ]
                                                                  ],
                                                                  "sequential": [
                                                                        [
                                                                              0,
                                                                              "#440154"
                                                                        ],
                                                                        [
                                                                              0.1111111111111111,
                                                                              "#482878"
                                                                        ],
                                                                        [
                                                                              0.2222222222222222,
                                                                              "#3e4989"
                                                                        ],
                                                                        [
                                                                              0.3333333333333333,
                                                                              "#31688e"
                                                                        ],
                                                                        [
                                                                              0.4444444444444444,
                                                                              "#26828e"
                                                                        ],
                                                                        [
                                                                              0.5555555555555556,
                                                                              "#1f9e89"
                                                                        ],
                                                                        [
                                                                              0.6666666666666666,
                                                                              "#35b779"
                                                                        ],
                                                                        [
                                                                              0.7777777777777778,
                                                                              "#6ece58"
                                                                        ],
                                                                        [
                                                                              0.8888888888888888,
                                                                              "#b5de2b"
                                                                        ],
                                                                        [
                                                                              1,
                                                                              "#fde725"
                                                                        ]
                                                                  ],
                                                                  "sequentialminus": [
                                                                        [
                                                                              0,
                                                                              "#440154"
                                                                        ],
                                                                        [
                                                                              0.1111111111111111,
                                                                              "#482878"
                                                                        ],
                                                                        [
                                                                              0.2222222222222222,
                                                                              "#3e4989"
                                                                        ],
                                                                        [
                                                                              0.3333333333333333,
                                                                              "#31688e"
                                                                        ],
                                                                        [
                                                                              0.4444444444444444,
                                                                              "#26828e"
                                                                        ],
                                                                        [
                                                                              0.5555555555555556,
                                                                              "#1f9e89"
                                                                        ],
                                                                        [
                                                                              0.6666666666666666,
                                                                              "#35b779"
                                                                        ],
                                                                        [
                                                                              0.7777777777777778,
                                                                              "#6ece58"
                                                                        ],
                                                                        [
                                                                              0.8888888888888888,
                                                                              "#b5de2b"
                                                                        ],
                                                                        [
                                                                              1,
                                                                              "#fde725"
                                                                        ]
                                                                  ]
                                                            },
                                                            "colorway": [
                                                                  "#1F77B4",
                                                                  "#FF7F0E",
                                                                  "#2CA02C",
                                                                  "#D62728",
                                                                  "#9467BD",
                                                                  "#8C564B",
                                                                  "#E377C2",
                                                                  "#7F7F7F",
                                                                  "#BCBD22",
                                                                  "#17BECF"
                                                            ],
                                                            "font": {
                                                                  "color": "rgb(36,36,36)"
                                                            },
                                                            "geo": {
                                                                  "bgcolor": "white",
                                                                  "lakecolor": "white",
                                                                  "landcolor": "white",
                                                                  "showlakes": true,
                                                                  "showland": true,
                                                                  "subunitcolor": "white"
                                                            },
                                                            "hoverlabel": {
                                                                  "align": "left"
                                                            },
                                                            "hovermode": "closest",
                                                            "mapbox": {
                                                                  "style": "light"
                                                            },
                                                            "paper_bgcolor": "white",
                                                            "plot_bgcolor": "white",
                                                            "polar": {
                                                                  "angularaxis": {
                                                                        "gridcolor": "rgb(232,232,232)",
                                                                        "linecolor": "rgb(36,36,36)",
                                                                        "showgrid": false,
                                                                        "showline": true,
                                                                        "ticks": "outside"
                                                                  },
                                                                  "bgcolor": "white",
                                                                  "radialaxis": {
                                                                        "gridcolor": "rgb(232,232,232)",
                                                                        "linecolor": "rgb(36,36,36)",
                                                                        "showgrid": false,
                                                                        "showline": true,
                                                                        "ticks": "outside"
                                                                  }
                                                            },
                                                            "scene": {
                                                                  "xaxis": {
                                                                        "backgroundcolor": "white",
                                                                        "gridcolor": "rgb(232,232,232)",
                                                                        "gridwidth": 2,
                                                                        "linecolor": "rgb(36,36,36)",
                                                                        "showbackground": true,
                                                                        "showgrid": false,
                                                                        "showline": true,
                                                                        "ticks": "outside",
                                                                        "zeroline": false,
                                                                        "zerolinecolor": "rgb(36,36,36)"
                                                                  },
                                                                  "yaxis": {
                                                                        "backgroundcolor": "white",
                                                                        "gridcolor": "rgb(232,232,232)",
                                                                        "gridwidth": 2,
                                                                        "linecolor": "rgb(36,36,36)",
                                                                        "showbackground": true,
                                                                        "showgrid": false,
                                                                        "showline": true,
                                                                        "ticks": "outside",
                                                                        "zeroline": false,
                                                                        "zerolinecolor": "rgb(36,36,36)"
                                                                  },
                                                                  "zaxis": {
                                                                        "backgroundcolor": "white",
                                                                        "gridcolor": "rgb(232,232,232)",
                                                                        "gridwidth": 2,
                                                                        "linecolor": "rgb(36,36,36)",
                                                                        "showbackground": true,
                                                                        "showgrid": false,
                                                                        "showline": true,
                                                                        "ticks": "outside",
                                                                        "zeroline": false,
                                                                        "zerolinecolor": "rgb(36,36,36)"
                                                                  }
                                                            },
                                                            "shapedefaults": {
                                                                  "fillcolor": "black",
                                                                  "line": {
                                                                        "width": 0
                                                                  },
                                                                  "opacity": 0.3
                                                            },
                                                            "ternary": {
                                                                  "aaxis": {
                                                                        "gridcolor": "rgb(232,232,232)",
                                                                        "linecolor": "rgb(36,36,36)",
                                                                        "showgrid": false,
                                                                        "showline": true,
                                                                        "ticks": "outside"
                                                                  },
                                                                  "baxis": {
                                                                        "gridcolor": "rgb(232,232,232)",
                                                                        "linecolor": "rgb(36,36,36)",
                                                                        "showgrid": false,
                                                                        "showline": true,
                                                                        "ticks": "outside"
                                                                  },
                                                                  "bgcolor": "white",
                                                                  "caxis": {
                                                                        "gridcolor": "rgb(232,232,232)",
                                                                        "linecolor": "rgb(36,36,36)",
                                                                        "showgrid": false,
                                                                        "showline": true,
                                                                        "ticks": "outside"
                                                                  }
                                                            },
                                                            "title": {
                                                                  "x": 0.05
                                                            },
                                                            "xaxis": {
                                                                  "automargin": true,
                                                                  "gridcolor": "rgb(232,232,232)",
                                                                  "linecolor": "rgb(36,36,36)",
                                                                  "showgrid": false,
                                                                  "showline": true,
                                                                  "ticks": "outside",
                                                                  "title": {
                                                                        "standoff": 15
                                                                  },
                                                                  "zeroline": false,
                                                                  "zerolinecolor": "rgb(36,36,36)"
                                                            },
                                                            "yaxis": {
                                                                  "automargin": true,
                                                                  "gridcolor": "rgb(232,232,232)",
                                                                  "linecolor": "rgb(36,36,36)",
                                                                  "showgrid": false,
                                                                  "showline": true,
                                                                  "ticks": "outside",
                                                                  "title": {
                                                                        "standoff": 15
                                                                  },
                                                                  "zeroline": false,
                                                                  "zerolinecolor": "rgb(36,36,36)"
                                                            }
                                                      }
                                                },
                                                "title": {
                                                      "font": {
                                                            "color": "Black",
                                                            "size": 22
                                                      },
                                                      "text": "<b>Topic Probability Distribution</b>",
                                                      "x": 0.5,
                                                      "xanchor": "center",
                                                      "y": 0.95,
                                                      "yanchor": "top"
                                                },
                                                "width": 800,
                                                "xaxis": {
                                                      "title": {
                                                            "text": "Probability"
                                                      }
                                                }
                                          }
                                    }
                              },
                              "metadata": {},
                              "output_type": "display_data"
                        }
                  ],
                  "source": [
                        "\n",
                        "topic_model.visualize_distribution(probs[2])\n",
                        "\n"
                  ]
            },
            {
                  "cell_type": "code",
                  "execution_count": 135,
                  "metadata": {},
                  "outputs": [
                        {
                              "name": "stderr",
                              "output_type": "stream",
                              "text": [
                                    "10it [00:00, 12.34it/s]\n"
                              ]
                        }
                  ],
                  "source": [
                        "# Create topics over time\n",
                        "\n",
                        "year=df['year']\n",
                        "topics_over_time = topic_model.topics_over_time(docs, year)"
                  ]
            },
            {
                  "cell_type": "code",
                  "execution_count": 150,
                  "metadata": {},
                  "outputs": [
                        {
                              "data": {
                                    "text/html": [
                                          "<div>\n",
                                          "<style scoped>\n",
                                          "    .dataframe tbody tr th:only-of-type {\n",
                                          "        vertical-align: middle;\n",
                                          "    }\n",
                                          "\n",
                                          "    .dataframe tbody tr th {\n",
                                          "        vertical-align: top;\n",
                                          "    }\n",
                                          "\n",
                                          "    .dataframe thead th {\n",
                                          "        text-align: right;\n",
                                          "    }\n",
                                          "</style>\n",
                                          "<table border=\"1\" class=\"dataframe\">\n",
                                          "  <thead>\n",
                                          "    <tr style=\"text-align: right;\">\n",
                                          "      <th></th>\n",
                                          "      <th>Topic</th>\n",
                                          "      <th>Words</th>\n",
                                          "      <th>Frequency</th>\n",
                                          "      <th>Timestamp</th>\n",
                                          "      <th>Name</th>\n",
                                          "    </tr>\n",
                                          "  </thead>\n",
                                          "  <tbody>\n",
                                          "    <tr>\n",
                                          "      <th>0</th>\n",
                                          "      <td>0</td>\n",
                                          "      <td>ms, arcmin, ms 151243647, 122472007, ms 122472007</td>\n",
                                          "      <td>1</td>\n",
                                          "      <td>1998</td>\n",
                                          "      <td>0_galaxies_mass_data_star</td>\n",
                                          "    </tr>\n",
                                          "    <tr>\n",
                                          "      <th>1</th>\n",
                                          "      <td>0</td>\n",
                                          "      <td>galaxies, mass, data, stars, star</td>\n",
                                          "      <td>284</td>\n",
                                          "      <td>2007</td>\n",
                                          "      <td>0_galaxies_mass_data_star</td>\n",
                                          "    </tr>\n",
                                          "    <tr>\n",
                                          "      <th>2</th>\n",
                                          "      <td>1</td>\n",
                                          "      <td>quantum, graphene, optical, spin, states</td>\n",
                                          "      <td>247</td>\n",
                                          "      <td>2007</td>\n",
                                          "      <td>1_quantum_graphene_optical_spin</td>\n",
                                          "    </tr>\n",
                                          "    <tr>\n",
                                          "      <th>3</th>\n",
                                          "      <td>2</td>\n",
                                          "      <td>climate, global, ocean, carbon, aerosol</td>\n",
                                          "      <td>84</td>\n",
                                          "      <td>2007</td>\n",
                                          "      <td>2_climate_global_ocean_aerosol</td>\n",
                                          "    </tr>\n",
                                          "    <tr>\n",
                                          "      <th>4</th>\n",
                                          "      <td>3</td>\n",
                                          "      <td>theory, models, model, gauge, scalar</td>\n",
                                          "      <td>67</td>\n",
                                          "      <td>2007</td>\n",
                                          "      <td>3_higgs_model_gauge_new</td>\n",
                                          "    </tr>\n",
                                          "    <tr>\n",
                                          "      <th>5</th>\n",
                                          "      <td>0</td>\n",
                                          "      <td>model, iri, xray, fr, radio</td>\n",
                                          "      <td>2</td>\n",
                                          "      <td>2008</td>\n",
                                          "      <td>0_galaxies_mass_data_star</td>\n",
                                          "    </tr>\n",
                                          "    <tr>\n",
                                          "      <th>6</th>\n",
                                          "      <td>0</td>\n",
                                          "      <td>n3, lulin, c2007, c2007 n3, n3 lulin</td>\n",
                                          "      <td>1</td>\n",
                                          "      <td>2012</td>\n",
                                          "      <td>0_galaxies_mass_data_star</td>\n",
                                          "    </tr>\n",
                                          "    <tr>\n",
                                          "      <th>7</th>\n",
                                          "      <td>0</td>\n",
                                          "      <td>resonance, objects, 51, 51 resonance, clones</td>\n",
                                          "      <td>1</td>\n",
                                          "      <td>2015</td>\n",
                                          "      <td>0_galaxies_mass_data_star</td>\n",
                                          "    </tr>\n",
                                          "    <tr>\n",
                                          "      <th>8</th>\n",
                                          "      <td>0</td>\n",
                                          "      <td>2007, size, uksub126sub, 2007 uksub126sub, occ...</td>\n",
                                          "      <td>1</td>\n",
                                          "      <td>2017</td>\n",
                                          "      <td>0_galaxies_mass_data_star</td>\n",
                                          "    </tr>\n",
                                          "    <tr>\n",
                                          "      <th>9</th>\n",
                                          "      <td>0</td>\n",
                                          "      <td>latis, igm, galaxies, cluster, survey</td>\n",
                                          "      <td>2</td>\n",
                                          "      <td>2020</td>\n",
                                          "      <td>0_galaxies_mass_data_star</td>\n",
                                          "    </tr>\n",
                                          "    <tr>\n",
                                          "      <th>10</th>\n",
                                          "      <td>0</td>\n",
                                          "      <td>galaxies, mass, cluster, galaxy, slugdsfg</td>\n",
                                          "      <td>6</td>\n",
                                          "      <td>2021</td>\n",
                                          "      <td>0_galaxies_mass_data_star</td>\n",
                                          "    </tr>\n",
                                          "    <tr>\n",
                                          "      <th>11</th>\n",
                                          "      <td>0</td>\n",
                                          "      <td>galaxies, sub, galaxy, gas, field</td>\n",
                                          "      <td>12</td>\n",
                                          "      <td>2022</td>\n",
                                          "      <td>0_galaxies_mass_data_star</td>\n",
                                          "    </tr>\n",
                                          "    <tr>\n",
                                          "      <th>12</th>\n",
                                          "      <td>0</td>\n",
                                          "      <td>galaxies, cluster, galaxy, redshift, mass</td>\n",
                                          "      <td>13</td>\n",
                                          "      <td>2023</td>\n",
                                          "      <td>0_galaxies_mass_data_star</td>\n",
                                          "    </tr>\n",
                                          "  </tbody>\n",
                                          "</table>\n",
                                          "</div>"
                                    ],
                                    "text/plain": [
                                          "    Topic                                              Words  Frequency   \n",
                                          "0       0  ms, arcmin, ms 151243647, 122472007, ms 122472007          1  \\\n",
                                          "1       0                  galaxies, mass, data, stars, star        284   \n",
                                          "2       1           quantum, graphene, optical, spin, states        247   \n",
                                          "3       2            climate, global, ocean, carbon, aerosol         84   \n",
                                          "4       3               theory, models, model, gauge, scalar         67   \n",
                                          "5       0                        model, iri, xray, fr, radio          2   \n",
                                          "6       0               n3, lulin, c2007, c2007 n3, n3 lulin          1   \n",
                                          "7       0       resonance, objects, 51, 51 resonance, clones          1   \n",
                                          "8       0  2007, size, uksub126sub, 2007 uksub126sub, occ...          1   \n",
                                          "9       0              latis, igm, galaxies, cluster, survey          2   \n",
                                          "10      0          galaxies, mass, cluster, galaxy, slugdsfg          6   \n",
                                          "11      0                  galaxies, sub, galaxy, gas, field         12   \n",
                                          "12      0          galaxies, cluster, galaxy, redshift, mass         13   \n",
                                          "\n",
                                          "    Timestamp                             Name  \n",
                                          "0        1998        0_galaxies_mass_data_star  \n",
                                          "1        2007        0_galaxies_mass_data_star  \n",
                                          "2        2007  1_quantum_graphene_optical_spin  \n",
                                          "3        2007   2_climate_global_ocean_aerosol  \n",
                                          "4        2007          3_higgs_model_gauge_new  \n",
                                          "5        2008        0_galaxies_mass_data_star  \n",
                                          "6        2012        0_galaxies_mass_data_star  \n",
                                          "7        2015        0_galaxies_mass_data_star  \n",
                                          "8        2017        0_galaxies_mass_data_star  \n",
                                          "9        2020        0_galaxies_mass_data_star  \n",
                                          "10       2021        0_galaxies_mass_data_star  \n",
                                          "11       2022        0_galaxies_mass_data_star  \n",
                                          "12       2023        0_galaxies_mass_data_star  "
                                    ]
                              },
                              "execution_count": 150,
                              "metadata": {},
                              "output_type": "execute_result"
                        }
                  ],
                  "source": [
                        "topics_over_time"
                  ]
            },
            {
                  "cell_type": "code",
                  "execution_count": 153,
                  "metadata": {},
                  "outputs": [
                        {
                              "data": {
                                    "application/vnd.plotly.v1+json": {
                                          "config": {
                                                "plotlyServerURL": "https://plot.ly"
                                          },
                                          "data": [
                                                {
                                                      "hoverinfo": "text",
                                                      "hovertext": [
                                                            "<b>Topic 0</b><br>Words: ms, arcmin, ms 151243647, 122472007, ms 122472007",
                                                            "<b>Topic 0</b><br>Words: galaxies, mass, data, stars, star",
                                                            "<b>Topic 0</b><br>Words: model, iri, xray, fr, radio",
                                                            "<b>Topic 0</b><br>Words: n3, lulin, c2007, c2007 n3, n3 lulin",
                                                            "<b>Topic 0</b><br>Words: resonance, objects, 51, 51 resonance, clones",
                                                            "<b>Topic 0</b><br>Words: 2007, size, uksub126sub, 2007 uksub126sub, occultation",
                                                            "<b>Topic 0</b><br>Words: latis, igm, galaxies, cluster, survey",
                                                            "<b>Topic 0</b><br>Words: galaxies, mass, cluster, galaxy, slugdsfg",
                                                            "<b>Topic 0</b><br>Words: galaxies, sub, galaxy, gas, field",
                                                            "<b>Topic 0</b><br>Words: galaxies, cluster, galaxy, redshift, mass"
                                                      ],
                                                      "marker": {
                                                            "color": "#E69F00"
                                                      },
                                                      "mode": "lines",
                                                      "name": "0_galaxies_mass_data_star",
                                                      "type": "scatter",
                                                      "x": [
                                                            1998,
                                                            2007,
                                                            2008,
                                                            2012,
                                                            2015,
                                                            2017,
                                                            2020,
                                                            2021,
                                                            2022,
                                                            2023
                                                      ],
                                                      "y": [
                                                            1,
                                                            284,
                                                            2,
                                                            1,
                                                            1,
                                                            1,
                                                            2,
                                                            6,
                                                            12,
                                                            13
                                                      ]
                                                },
                                                {
                                                      "hoverinfo": "text",
                                                      "hovertext": [
                                                            "<b>Topic 1</b><br>Words: quantum, graphene, optical, spin, states"
                                                      ],
                                                      "marker": {
                                                            "color": "#56B4E9"
                                                      },
                                                      "mode": "lines",
                                                      "name": "1_quantum_graphene_optical_spin",
                                                      "type": "scatter",
                                                      "x": [
                                                            2007
                                                      ],
                                                      "y": [
                                                            247
                                                      ]
                                                },
                                                {
                                                      "hoverinfo": "text",
                                                      "hovertext": [
                                                            "<b>Topic 2</b><br>Words: climate, global, ocean, carbon, aerosol"
                                                      ],
                                                      "marker": {
                                                            "color": "#009E73"
                                                      },
                                                      "mode": "lines",
                                                      "name": "2_climate_global_ocean_aerosol",
                                                      "type": "scatter",
                                                      "x": [
                                                            2007
                                                      ],
                                                      "y": [
                                                            84
                                                      ]
                                                },
                                                {
                                                      "hoverinfo": "text",
                                                      "hovertext": [
                                                            "<b>Topic 3</b><br>Words: theory, models, model, gauge, scalar"
                                                      ],
                                                      "marker": {
                                                            "color": "#F0E442"
                                                      },
                                                      "mode": "lines",
                                                      "name": "3_higgs_model_gauge_new",
                                                      "type": "scatter",
                                                      "x": [
                                                            2007
                                                      ],
                                                      "y": [
                                                            67
                                                      ]
                                                }
                                          ],
                                          "layout": {
                                                "height": 450,
                                                "hoverlabel": {
                                                      "bgcolor": "white",
                                                      "font": {
                                                            "family": "Rockwell",
                                                            "size": 16
                                                      }
                                                },
                                                "legend": {
                                                      "title": {
                                                            "text": "<b>Global Topic Representation"
                                                      }
                                                },
                                                "template": {
                                                      "data": {
                                                            "bar": [
                                                                  {
                                                                        "error_x": {
                                                                              "color": "rgb(36,36,36)"
                                                                        },
                                                                        "error_y": {
                                                                              "color": "rgb(36,36,36)"
                                                                        },
                                                                        "marker": {
                                                                              "line": {
                                                                                    "color": "white",
                                                                                    "width": 0.5
                                                                              },
                                                                              "pattern": {
                                                                                    "fillmode": "overlay",
                                                                                    "size": 10,
                                                                                    "solidity": 0.2
                                                                              }
                                                                        },
                                                                        "type": "bar"
                                                                  }
                                                            ],
                                                            "barpolar": [
                                                                  {
                                                                        "marker": {
                                                                              "line": {
                                                                                    "color": "white",
                                                                                    "width": 0.5
                                                                              },
                                                                              "pattern": {
                                                                                    "fillmode": "overlay",
                                                                                    "size": 10,
                                                                                    "solidity": 0.2
                                                                              }
                                                                        },
                                                                        "type": "barpolar"
                                                                  }
                                                            ],
                                                            "carpet": [
                                                                  {
                                                                        "aaxis": {
                                                                              "endlinecolor": "rgb(36,36,36)",
                                                                              "gridcolor": "white",
                                                                              "linecolor": "white",
                                                                              "minorgridcolor": "white",
                                                                              "startlinecolor": "rgb(36,36,36)"
                                                                        },
                                                                        "baxis": {
                                                                              "endlinecolor": "rgb(36,36,36)",
                                                                              "gridcolor": "white",
                                                                              "linecolor": "white",
                                                                              "minorgridcolor": "white",
                                                                              "startlinecolor": "rgb(36,36,36)"
                                                                        },
                                                                        "type": "carpet"
                                                                  }
                                                            ],
                                                            "choropleth": [
                                                                  {
                                                                        "colorbar": {
                                                                              "outlinewidth": 1,
                                                                              "tickcolor": "rgb(36,36,36)",
                                                                              "ticks": "outside"
                                                                        },
                                                                        "type": "choropleth"
                                                                  }
                                                            ],
                                                            "contour": [
                                                                  {
                                                                        "colorbar": {
                                                                              "outlinewidth": 1,
                                                                              "tickcolor": "rgb(36,36,36)",
                                                                              "ticks": "outside"
                                                                        },
                                                                        "colorscale": [
                                                                              [
                                                                                    0,
                                                                                    "#440154"
                                                                              ],
                                                                              [
                                                                                    0.1111111111111111,
                                                                                    "#482878"
                                                                              ],
                                                                              [
                                                                                    0.2222222222222222,
                                                                                    "#3e4989"
                                                                              ],
                                                                              [
                                                                                    0.3333333333333333,
                                                                                    "#31688e"
                                                                              ],
                                                                              [
                                                                                    0.4444444444444444,
                                                                                    "#26828e"
                                                                              ],
                                                                              [
                                                                                    0.5555555555555556,
                                                                                    "#1f9e89"
                                                                              ],
                                                                              [
                                                                                    0.6666666666666666,
                                                                                    "#35b779"
                                                                              ],
                                                                              [
                                                                                    0.7777777777777778,
                                                                                    "#6ece58"
                                                                              ],
                                                                              [
                                                                                    0.8888888888888888,
                                                                                    "#b5de2b"
                                                                              ],
                                                                              [
                                                                                    1,
                                                                                    "#fde725"
                                                                              ]
                                                                        ],
                                                                        "type": "contour"
                                                                  }
                                                            ],
                                                            "contourcarpet": [
                                                                  {
                                                                        "colorbar": {
                                                                              "outlinewidth": 1,
                                                                              "tickcolor": "rgb(36,36,36)",
                                                                              "ticks": "outside"
                                                                        },
                                                                        "type": "contourcarpet"
                                                                  }
                                                            ],
                                                            "heatmap": [
                                                                  {
                                                                        "colorbar": {
                                                                              "outlinewidth": 1,
                                                                              "tickcolor": "rgb(36,36,36)",
                                                                              "ticks": "outside"
                                                                        },
                                                                        "colorscale": [
                                                                              [
                                                                                    0,
                                                                                    "#440154"
                                                                              ],
                                                                              [
                                                                                    0.1111111111111111,
                                                                                    "#482878"
                                                                              ],
                                                                              [
                                                                                    0.2222222222222222,
                                                                                    "#3e4989"
                                                                              ],
                                                                              [
                                                                                    0.3333333333333333,
                                                                                    "#31688e"
                                                                              ],
                                                                              [
                                                                                    0.4444444444444444,
                                                                                    "#26828e"
                                                                              ],
                                                                              [
                                                                                    0.5555555555555556,
                                                                                    "#1f9e89"
                                                                              ],
                                                                              [
                                                                                    0.6666666666666666,
                                                                                    "#35b779"
                                                                              ],
                                                                              [
                                                                                    0.7777777777777778,
                                                                                    "#6ece58"
                                                                              ],
                                                                              [
                                                                                    0.8888888888888888,
                                                                                    "#b5de2b"
                                                                              ],
                                                                              [
                                                                                    1,
                                                                                    "#fde725"
                                                                              ]
                                                                        ],
                                                                        "type": "heatmap"
                                                                  }
                                                            ],
                                                            "heatmapgl": [
                                                                  {
                                                                        "colorbar": {
                                                                              "outlinewidth": 1,
                                                                              "tickcolor": "rgb(36,36,36)",
                                                                              "ticks": "outside"
                                                                        },
                                                                        "colorscale": [
                                                                              [
                                                                                    0,
                                                                                    "#440154"
                                                                              ],
                                                                              [
                                                                                    0.1111111111111111,
                                                                                    "#482878"
                                                                              ],
                                                                              [
                                                                                    0.2222222222222222,
                                                                                    "#3e4989"
                                                                              ],
                                                                              [
                                                                                    0.3333333333333333,
                                                                                    "#31688e"
                                                                              ],
                                                                              [
                                                                                    0.4444444444444444,
                                                                                    "#26828e"
                                                                              ],
                                                                              [
                                                                                    0.5555555555555556,
                                                                                    "#1f9e89"
                                                                              ],
                                                                              [
                                                                                    0.6666666666666666,
                                                                                    "#35b779"
                                                                              ],
                                                                              [
                                                                                    0.7777777777777778,
                                                                                    "#6ece58"
                                                                              ],
                                                                              [
                                                                                    0.8888888888888888,
                                                                                    "#b5de2b"
                                                                              ],
                                                                              [
                                                                                    1,
                                                                                    "#fde725"
                                                                              ]
                                                                        ],
                                                                        "type": "heatmapgl"
                                                                  }
                                                            ],
                                                            "histogram": [
                                                                  {
                                                                        "marker": {
                                                                              "line": {
                                                                                    "color": "white",
                                                                                    "width": 0.6
                                                                              }
                                                                        },
                                                                        "type": "histogram"
                                                                  }
                                                            ],
                                                            "histogram2d": [
                                                                  {
                                                                        "colorbar": {
                                                                              "outlinewidth": 1,
                                                                              "tickcolor": "rgb(36,36,36)",
                                                                              "ticks": "outside"
                                                                        },
                                                                        "colorscale": [
                                                                              [
                                                                                    0,
                                                                                    "#440154"
                                                                              ],
                                                                              [
                                                                                    0.1111111111111111,
                                                                                    "#482878"
                                                                              ],
                                                                              [
                                                                                    0.2222222222222222,
                                                                                    "#3e4989"
                                                                              ],
                                                                              [
                                                                                    0.3333333333333333,
                                                                                    "#31688e"
                                                                              ],
                                                                              [
                                                                                    0.4444444444444444,
                                                                                    "#26828e"
                                                                              ],
                                                                              [
                                                                                    0.5555555555555556,
                                                                                    "#1f9e89"
                                                                              ],
                                                                              [
                                                                                    0.6666666666666666,
                                                                                    "#35b779"
                                                                              ],
                                                                              [
                                                                                    0.7777777777777778,
                                                                                    "#6ece58"
                                                                              ],
                                                                              [
                                                                                    0.8888888888888888,
                                                                                    "#b5de2b"
                                                                              ],
                                                                              [
                                                                                    1,
                                                                                    "#fde725"
                                                                              ]
                                                                        ],
                                                                        "type": "histogram2d"
                                                                  }
                                                            ],
                                                            "histogram2dcontour": [
                                                                  {
                                                                        "colorbar": {
                                                                              "outlinewidth": 1,
                                                                              "tickcolor": "rgb(36,36,36)",
                                                                              "ticks": "outside"
                                                                        },
                                                                        "colorscale": [
                                                                              [
                                                                                    0,
                                                                                    "#440154"
                                                                              ],
                                                                              [
                                                                                    0.1111111111111111,
                                                                                    "#482878"
                                                                              ],
                                                                              [
                                                                                    0.2222222222222222,
                                                                                    "#3e4989"
                                                                              ],
                                                                              [
                                                                                    0.3333333333333333,
                                                                                    "#31688e"
                                                                              ],
                                                                              [
                                                                                    0.4444444444444444,
                                                                                    "#26828e"
                                                                              ],
                                                                              [
                                                                                    0.5555555555555556,
                                                                                    "#1f9e89"
                                                                              ],
                                                                              [
                                                                                    0.6666666666666666,
                                                                                    "#35b779"
                                                                              ],
                                                                              [
                                                                                    0.7777777777777778,
                                                                                    "#6ece58"
                                                                              ],
                                                                              [
                                                                                    0.8888888888888888,
                                                                                    "#b5de2b"
                                                                              ],
                                                                              [
                                                                                    1,
                                                                                    "#fde725"
                                                                              ]
                                                                        ],
                                                                        "type": "histogram2dcontour"
                                                                  }
                                                            ],
                                                            "mesh3d": [
                                                                  {
                                                                        "colorbar": {
                                                                              "outlinewidth": 1,
                                                                              "tickcolor": "rgb(36,36,36)",
                                                                              "ticks": "outside"
                                                                        },
                                                                        "type": "mesh3d"
                                                                  }
                                                            ],
                                                            "parcoords": [
                                                                  {
                                                                        "line": {
                                                                              "colorbar": {
                                                                                    "outlinewidth": 1,
                                                                                    "tickcolor": "rgb(36,36,36)",
                                                                                    "ticks": "outside"
                                                                              }
                                                                        },
                                                                        "type": "parcoords"
                                                                  }
                                                            ],
                                                            "pie": [
                                                                  {
                                                                        "automargin": true,
                                                                        "type": "pie"
                                                                  }
                                                            ],
                                                            "scatter": [
                                                                  {
                                                                        "fillpattern": {
                                                                              "fillmode": "overlay",
                                                                              "size": 10,
                                                                              "solidity": 0.2
                                                                        },
                                                                        "type": "scatter"
                                                                  }
                                                            ],
                                                            "scatter3d": [
                                                                  {
                                                                        "line": {
                                                                              "colorbar": {
                                                                                    "outlinewidth": 1,
                                                                                    "tickcolor": "rgb(36,36,36)",
                                                                                    "ticks": "outside"
                                                                              }
                                                                        },
                                                                        "marker": {
                                                                              "colorbar": {
                                                                                    "outlinewidth": 1,
                                                                                    "tickcolor": "rgb(36,36,36)",
                                                                                    "ticks": "outside"
                                                                              }
                                                                        },
                                                                        "type": "scatter3d"
                                                                  }
                                                            ],
                                                            "scattercarpet": [
                                                                  {
                                                                        "marker": {
                                                                              "colorbar": {
                                                                                    "outlinewidth": 1,
                                                                                    "tickcolor": "rgb(36,36,36)",
                                                                                    "ticks": "outside"
                                                                              }
                                                                        },
                                                                        "type": "scattercarpet"
                                                                  }
                                                            ],
                                                            "scattergeo": [
                                                                  {
                                                                        "marker": {
                                                                              "colorbar": {
                                                                                    "outlinewidth": 1,
                                                                                    "tickcolor": "rgb(36,36,36)",
                                                                                    "ticks": "outside"
                                                                              }
                                                                        },
                                                                        "type": "scattergeo"
                                                                  }
                                                            ],
                                                            "scattergl": [
                                                                  {
                                                                        "marker": {
                                                                              "colorbar": {
                                                                                    "outlinewidth": 1,
                                                                                    "tickcolor": "rgb(36,36,36)",
                                                                                    "ticks": "outside"
                                                                              }
                                                                        },
                                                                        "type": "scattergl"
                                                                  }
                                                            ],
                                                            "scattermapbox": [
                                                                  {
                                                                        "marker": {
                                                                              "colorbar": {
                                                                                    "outlinewidth": 1,
                                                                                    "tickcolor": "rgb(36,36,36)",
                                                                                    "ticks": "outside"
                                                                              }
                                                                        },
                                                                        "type": "scattermapbox"
                                                                  }
                                                            ],
                                                            "scatterpolar": [
                                                                  {
                                                                        "marker": {
                                                                              "colorbar": {
                                                                                    "outlinewidth": 1,
                                                                                    "tickcolor": "rgb(36,36,36)",
                                                                                    "ticks": "outside"
                                                                              }
                                                                        },
                                                                        "type": "scatterpolar"
                                                                  }
                                                            ],
                                                            "scatterpolargl": [
                                                                  {
                                                                        "marker": {
                                                                              "colorbar": {
                                                                                    "outlinewidth": 1,
                                                                                    "tickcolor": "rgb(36,36,36)",
                                                                                    "ticks": "outside"
                                                                              }
                                                                        },
                                                                        "type": "scatterpolargl"
                                                                  }
                                                            ],
                                                            "scatterternary": [
                                                                  {
                                                                        "marker": {
                                                                              "colorbar": {
                                                                                    "outlinewidth": 1,
                                                                                    "tickcolor": "rgb(36,36,36)",
                                                                                    "ticks": "outside"
                                                                              }
                                                                        },
                                                                        "type": "scatterternary"
                                                                  }
                                                            ],
                                                            "surface": [
                                                                  {
                                                                        "colorbar": {
                                                                              "outlinewidth": 1,
                                                                              "tickcolor": "rgb(36,36,36)",
                                                                              "ticks": "outside"
                                                                        },
                                                                        "colorscale": [
                                                                              [
                                                                                    0,
                                                                                    "#440154"
                                                                              ],
                                                                              [
                                                                                    0.1111111111111111,
                                                                                    "#482878"
                                                                              ],
                                                                              [
                                                                                    0.2222222222222222,
                                                                                    "#3e4989"
                                                                              ],
                                                                              [
                                                                                    0.3333333333333333,
                                                                                    "#31688e"
                                                                              ],
                                                                              [
                                                                                    0.4444444444444444,
                                                                                    "#26828e"
                                                                              ],
                                                                              [
                                                                                    0.5555555555555556,
                                                                                    "#1f9e89"
                                                                              ],
                                                                              [
                                                                                    0.6666666666666666,
                                                                                    "#35b779"
                                                                              ],
                                                                              [
                                                                                    0.7777777777777778,
                                                                                    "#6ece58"
                                                                              ],
                                                                              [
                                                                                    0.8888888888888888,
                                                                                    "#b5de2b"
                                                                              ],
                                                                              [
                                                                                    1,
                                                                                    "#fde725"
                                                                              ]
                                                                        ],
                                                                        "type": "surface"
                                                                  }
                                                            ],
                                                            "table": [
                                                                  {
                                                                        "cells": {
                                                                              "fill": {
                                                                                    "color": "rgb(237,237,237)"
                                                                              },
                                                                              "line": {
                                                                                    "color": "white"
                                                                              }
                                                                        },
                                                                        "header": {
                                                                              "fill": {
                                                                                    "color": "rgb(217,217,217)"
                                                                              },
                                                                              "line": {
                                                                                    "color": "white"
                                                                              }
                                                                        },
                                                                        "type": "table"
                                                                  }
                                                            ]
                                                      },
                                                      "layout": {
                                                            "annotationdefaults": {
                                                                  "arrowhead": 0,
                                                                  "arrowwidth": 1
                                                            },
                                                            "autotypenumbers": "strict",
                                                            "coloraxis": {
                                                                  "colorbar": {
                                                                        "outlinewidth": 1,
                                                                        "tickcolor": "rgb(36,36,36)",
                                                                        "ticks": "outside"
                                                                  }
                                                            },
                                                            "colorscale": {
                                                                  "diverging": [
                                                                        [
                                                                              0,
                                                                              "rgb(103,0,31)"
                                                                        ],
                                                                        [
                                                                              0.1,
                                                                              "rgb(178,24,43)"
                                                                        ],
                                                                        [
                                                                              0.2,
                                                                              "rgb(214,96,77)"
                                                                        ],
                                                                        [
                                                                              0.3,
                                                                              "rgb(244,165,130)"
                                                                        ],
                                                                        [
                                                                              0.4,
                                                                              "rgb(253,219,199)"
                                                                        ],
                                                                        [
                                                                              0.5,
                                                                              "rgb(247,247,247)"
                                                                        ],
                                                                        [
                                                                              0.6,
                                                                              "rgb(209,229,240)"
                                                                        ],
                                                                        [
                                                                              0.7,
                                                                              "rgb(146,197,222)"
                                                                        ],
                                                                        [
                                                                              0.8,
                                                                              "rgb(67,147,195)"
                                                                        ],
                                                                        [
                                                                              0.9,
                                                                              "rgb(33,102,172)"
                                                                        ],
                                                                        [
                                                                              1,
                                                                              "rgb(5,48,97)"
                                                                        ]
                                                                  ],
                                                                  "sequential": [
                                                                        [
                                                                              0,
                                                                              "#440154"
                                                                        ],
                                                                        [
                                                                              0.1111111111111111,
                                                                              "#482878"
                                                                        ],
                                                                        [
                                                                              0.2222222222222222,
                                                                              "#3e4989"
                                                                        ],
                                                                        [
                                                                              0.3333333333333333,
                                                                              "#31688e"
                                                                        ],
                                                                        [
                                                                              0.4444444444444444,
                                                                              "#26828e"
                                                                        ],
                                                                        [
                                                                              0.5555555555555556,
                                                                              "#1f9e89"
                                                                        ],
                                                                        [
                                                                              0.6666666666666666,
                                                                              "#35b779"
                                                                        ],
                                                                        [
                                                                              0.7777777777777778,
                                                                              "#6ece58"
                                                                        ],
                                                                        [
                                                                              0.8888888888888888,
                                                                              "#b5de2b"
                                                                        ],
                                                                        [
                                                                              1,
                                                                              "#fde725"
                                                                        ]
                                                                  ],
                                                                  "sequentialminus": [
                                                                        [
                                                                              0,
                                                                              "#440154"
                                                                        ],
                                                                        [
                                                                              0.1111111111111111,
                                                                              "#482878"
                                                                        ],
                                                                        [
                                                                              0.2222222222222222,
                                                                              "#3e4989"
                                                                        ],
                                                                        [
                                                                              0.3333333333333333,
                                                                              "#31688e"
                                                                        ],
                                                                        [
                                                                              0.4444444444444444,
                                                                              "#26828e"
                                                                        ],
                                                                        [
                                                                              0.5555555555555556,
                                                                              "#1f9e89"
                                                                        ],
                                                                        [
                                                                              0.6666666666666666,
                                                                              "#35b779"
                                                                        ],
                                                                        [
                                                                              0.7777777777777778,
                                                                              "#6ece58"
                                                                        ],
                                                                        [
                                                                              0.8888888888888888,
                                                                              "#b5de2b"
                                                                        ],
                                                                        [
                                                                              1,
                                                                              "#fde725"
                                                                        ]
                                                                  ]
                                                            },
                                                            "colorway": [
                                                                  "#1F77B4",
                                                                  "#FF7F0E",
                                                                  "#2CA02C",
                                                                  "#D62728",
                                                                  "#9467BD",
                                                                  "#8C564B",
                                                                  "#E377C2",
                                                                  "#7F7F7F",
                                                                  "#BCBD22",
                                                                  "#17BECF"
                                                            ],
                                                            "font": {
                                                                  "color": "rgb(36,36,36)"
                                                            },
                                                            "geo": {
                                                                  "bgcolor": "white",
                                                                  "lakecolor": "white",
                                                                  "landcolor": "white",
                                                                  "showlakes": true,
                                                                  "showland": true,
                                                                  "subunitcolor": "white"
                                                            },
                                                            "hoverlabel": {
                                                                  "align": "left"
                                                            },
                                                            "hovermode": "closest",
                                                            "mapbox": {
                                                                  "style": "light"
                                                            },
                                                            "paper_bgcolor": "white",
                                                            "plot_bgcolor": "white",
                                                            "polar": {
                                                                  "angularaxis": {
                                                                        "gridcolor": "rgb(232,232,232)",
                                                                        "linecolor": "rgb(36,36,36)",
                                                                        "showgrid": false,
                                                                        "showline": true,
                                                                        "ticks": "outside"
                                                                  },
                                                                  "bgcolor": "white",
                                                                  "radialaxis": {
                                                                        "gridcolor": "rgb(232,232,232)",
                                                                        "linecolor": "rgb(36,36,36)",
                                                                        "showgrid": false,
                                                                        "showline": true,
                                                                        "ticks": "outside"
                                                                  }
                                                            },
                                                            "scene": {
                                                                  "xaxis": {
                                                                        "backgroundcolor": "white",
                                                                        "gridcolor": "rgb(232,232,232)",
                                                                        "gridwidth": 2,
                                                                        "linecolor": "rgb(36,36,36)",
                                                                        "showbackground": true,
                                                                        "showgrid": false,
                                                                        "showline": true,
                                                                        "ticks": "outside",
                                                                        "zeroline": false,
                                                                        "zerolinecolor": "rgb(36,36,36)"
                                                                  },
                                                                  "yaxis": {
                                                                        "backgroundcolor": "white",
                                                                        "gridcolor": "rgb(232,232,232)",
                                                                        "gridwidth": 2,
                                                                        "linecolor": "rgb(36,36,36)",
                                                                        "showbackground": true,
                                                                        "showgrid": false,
                                                                        "showline": true,
                                                                        "ticks": "outside",
                                                                        "zeroline": false,
                                                                        "zerolinecolor": "rgb(36,36,36)"
                                                                  },
                                                                  "zaxis": {
                                                                        "backgroundcolor": "white",
                                                                        "gridcolor": "rgb(232,232,232)",
                                                                        "gridwidth": 2,
                                                                        "linecolor": "rgb(36,36,36)",
                                                                        "showbackground": true,
                                                                        "showgrid": false,
                                                                        "showline": true,
                                                                        "ticks": "outside",
                                                                        "zeroline": false,
                                                                        "zerolinecolor": "rgb(36,36,36)"
                                                                  }
                                                            },
                                                            "shapedefaults": {
                                                                  "fillcolor": "black",
                                                                  "line": {
                                                                        "width": 0
                                                                  },
                                                                  "opacity": 0.3
                                                            },
                                                            "ternary": {
                                                                  "aaxis": {
                                                                        "gridcolor": "rgb(232,232,232)",
                                                                        "linecolor": "rgb(36,36,36)",
                                                                        "showgrid": false,
                                                                        "showline": true,
                                                                        "ticks": "outside"
                                                                  },
                                                                  "baxis": {
                                                                        "gridcolor": "rgb(232,232,232)",
                                                                        "linecolor": "rgb(36,36,36)",
                                                                        "showgrid": false,
                                                                        "showline": true,
                                                                        "ticks": "outside"
                                                                  },
                                                                  "bgcolor": "white",
                                                                  "caxis": {
                                                                        "gridcolor": "rgb(232,232,232)",
                                                                        "linecolor": "rgb(36,36,36)",
                                                                        "showgrid": false,
                                                                        "showline": true,
                                                                        "ticks": "outside"
                                                                  }
                                                            },
                                                            "title": {
                                                                  "x": 0.05
                                                            },
                                                            "xaxis": {
                                                                  "automargin": true,
                                                                  "gridcolor": "rgb(232,232,232)",
                                                                  "linecolor": "rgb(36,36,36)",
                                                                  "showgrid": false,
                                                                  "showline": true,
                                                                  "ticks": "outside",
                                                                  "title": {
                                                                        "standoff": 15
                                                                  },
                                                                  "zeroline": false,
                                                                  "zerolinecolor": "rgb(36,36,36)"
                                                            },
                                                            "yaxis": {
                                                                  "automargin": true,
                                                                  "gridcolor": "rgb(232,232,232)",
                                                                  "linecolor": "rgb(36,36,36)",
                                                                  "showgrid": false,
                                                                  "showline": true,
                                                                  "ticks": "outside",
                                                                  "title": {
                                                                        "standoff": 15
                                                                  },
                                                                  "zeroline": false,
                                                                  "zerolinecolor": "rgb(36,36,36)"
                                                            }
                                                      }
                                                },
                                                "title": {
                                                      "font": {
                                                            "color": "Black",
                                                            "size": 22
                                                      },
                                                      "text": "<b>Topics over Time</b>",
                                                      "x": 0.4,
                                                      "xanchor": "center",
                                                      "y": 0.95,
                                                      "yanchor": "top"
                                                },
                                                "width": 1250,
                                                "xaxis": {
                                                      "showgrid": true
                                                },
                                                "yaxis": {
                                                      "showgrid": true,
                                                      "title": {
                                                            "text": "Frequency"
                                                      }
                                                }
                                          }
                                    }
                              },
                              "metadata": {},
                              "output_type": "display_data"
                        }
                  ],
                  "source": [
                        "\n",
                        "model.visualize_topics_over_time(topics_over_time, topics=[0,1,2,3])"
                  ]
            },
            {
                  "cell_type": "code",
                  "execution_count": null,
                  "metadata": {},
                  "outputs": [
                        {
                              "name": "stderr",
                              "output_type": "stream",
                              "text": [
                                    "Batches: 100%|██████████| 589/589 [08:32<00:00,  1.15it/s]\n"
                              ]
                        },
                        {
                              "data": {
                                    "text/plain": [
                                          "\"\\n# Train BERTopic\\ntopic_model = BERTopic().fit(docs, embeddings)\\n\\n# Run the visualization with the original embeddings\\ntopic_model.visualize_documents(docs, embeddings=embeddings)\\n\\n# Reduce dimensionality of embeddings, this step is optional but much faster to perform iteratively:\\nreduced_embeddings = UMAP(n_neighbors=10, n_components=2, min_dist=0.0, metric='cosine').fit_transform(embeddings)\\ntopic_model.visualize_documents(docs, reduced_embeddings=reduced_embeddings)\\n\""
                                    ]
                              },
                              "execution_count": 50,
                              "metadata": {},
                              "output_type": "execute_result"
                        }
                  ],
                  "source": [
                        "'''\n",
                        "\n",
                        "from sentence_transformers import SentenceTransformer\n",
                        "from bertopic import BERTopic\n",
                        "from umap import UMAP\n",
                        "# Prepare embeddings\n",
                        "\n",
                        "#sentence_model = SentenceTransformer(\"all-MiniLM-L6-v2\")\n",
                        "#embeddings = sentence_model.encode(docs, show_progress_bar=True)\n",
                        "'''\n",
                        "\n",
                        "# Train BERTopic\n",
                        "topic_model = BERTopic().fit(docs, embeddings)\n",
                        "\n",
                        "# Run the visualization with the original embeddings\n",
                        "topic_model.visualize_documents(docs, embeddings=embeddings)\n",
                        "\n",
                        "# Reduce dimensionality of embeddings, this step is optional but much faster to perform iteratively:\n",
                        "reduced_embeddings = UMAP(n_neighbors=10, n_components=2, min_dist=0.0, metric='cosine').fit_transform(embeddings)\n",
                        "topic_model.visualize_documents(docs, reduced_embeddings=reduced_embeddings)\n"
                  ]
            },
            {
                  "cell_type": "code",
                  "execution_count": null,
                  "metadata": {},
                  "outputs": [
                        {
                              "ename": "ValueError",
                              "evalue": "Make sure that the embeddings are a numpy array with shape: (len(docs), vector_dim) where vector_dim is the dimensionality of the vector embeddings. ",
                              "output_type": "error",
                              "traceback": [
                                    "\u001b[0;31m---------------------------------------------------------------------------\u001b[0m",
                                    "\u001b[0;31mValueError\u001b[0m                                Traceback (most recent call last)",
                                    "\u001b[1;32m/Users/admin/Desktop/spiced/convergence_oracle_repos/convergence_oracle/Playground_JM/BERTopic.ipynb Cell 18\u001b[0m line \u001b[0;36m3\n\u001b[1;32m      <a href='vscode-notebook-cell:/Users/admin/Desktop/spiced/convergence_oracle_repos/convergence_oracle/Playground_JM/BERTopic.ipynb#X23sZmlsZQ%3D%3D?line=0'>1</a>\u001b[0m \u001b[39m# Train BERTopic\u001b[39;00m\n\u001b[1;32m      <a href='vscode-notebook-cell:/Users/admin/Desktop/spiced/convergence_oracle_repos/convergence_oracle/Playground_JM/BERTopic.ipynb#X23sZmlsZQ%3D%3D?line=1'>2</a>\u001b[0m docs \u001b[39m=\u001b[39m df[\u001b[39m'\u001b[39m\u001b[39mabstract\u001b[39m\u001b[39m'\u001b[39m]\u001b[39m.\u001b[39mto_numpy()\n\u001b[0;32m----> <a href='vscode-notebook-cell:/Users/admin/Desktop/spiced/convergence_oracle_repos/convergence_oracle/Playground_JM/BERTopic.ipynb#X23sZmlsZQ%3D%3D?line=2'>3</a>\u001b[0m topic_model_emb \u001b[39m=\u001b[39m BERTopic()\u001b[39m.\u001b[39;49mfit(docs, embeddings)\n\u001b[1;32m      <a href='vscode-notebook-cell:/Users/admin/Desktop/spiced/convergence_oracle_repos/convergence_oracle/Playground_JM/BERTopic.ipynb#X23sZmlsZQ%3D%3D?line=4'>5</a>\u001b[0m \u001b[39m# Run the visualization with the original embeddings\u001b[39;00m\n\u001b[1;32m      <a href='vscode-notebook-cell:/Users/admin/Desktop/spiced/convergence_oracle_repos/convergence_oracle/Playground_JM/BERTopic.ipynb#X23sZmlsZQ%3D%3D?line=5'>6</a>\u001b[0m topic_model_emb\u001b[39m.\u001b[39mvisualize_documents(docs, embeddings\u001b[39m=\u001b[39membeddings)\n",
                                    "File \u001b[0;32m~/Desktop/spiced/convergence_oracle_repos/convergence_oracle/.venv/lib/python3.11/site-packages/bertopic/_bertopic.py:303\u001b[0m, in \u001b[0;36mBERTopic.fit\u001b[0;34m(self, documents, embeddings, images, y)\u001b[0m\n\u001b[1;32m    262\u001b[0m \u001b[39mdef\u001b[39;00m \u001b[39mfit\u001b[39m(\u001b[39mself\u001b[39m,\n\u001b[1;32m    263\u001b[0m         documents: List[\u001b[39mstr\u001b[39m],\n\u001b[1;32m    264\u001b[0m         embeddings: np\u001b[39m.\u001b[39mndarray \u001b[39m=\u001b[39m \u001b[39mNone\u001b[39;00m,\n\u001b[1;32m    265\u001b[0m         images: List[\u001b[39mstr\u001b[39m] \u001b[39m=\u001b[39m \u001b[39mNone\u001b[39;00m,\n\u001b[1;32m    266\u001b[0m         y: Union[List[\u001b[39mint\u001b[39m], np\u001b[39m.\u001b[39mndarray] \u001b[39m=\u001b[39m \u001b[39mNone\u001b[39;00m):\n\u001b[1;32m    267\u001b[0m \u001b[39m    \u001b[39m\u001b[39m\"\"\" Fit the models (Bert, UMAP, and, HDBSCAN) on a collection of documents and generate topics\u001b[39;00m\n\u001b[1;32m    268\u001b[0m \n\u001b[1;32m    269\u001b[0m \u001b[39m    Arguments:\u001b[39;00m\n\u001b[0;32m   (...)\u001b[0m\n\u001b[1;32m    301\u001b[0m \u001b[39m    ```\u001b[39;00m\n\u001b[1;32m    302\u001b[0m \u001b[39m    \"\"\"\u001b[39;00m\n\u001b[0;32m--> 303\u001b[0m     \u001b[39mself\u001b[39;49m\u001b[39m.\u001b[39;49mfit_transform(documents\u001b[39m=\u001b[39;49mdocuments, embeddings\u001b[39m=\u001b[39;49membeddings, y\u001b[39m=\u001b[39;49my, images\u001b[39m=\u001b[39;49mimages)\n\u001b[1;32m    304\u001b[0m     \u001b[39mreturn\u001b[39;00m \u001b[39mself\u001b[39m\n",
                                    "File \u001b[0;32m~/Desktop/spiced/convergence_oracle_repos/convergence_oracle/.venv/lib/python3.11/site-packages/bertopic/_bertopic.py:361\u001b[0m, in \u001b[0;36mBERTopic.fit_transform\u001b[0;34m(self, documents, embeddings, images, y)\u001b[0m\n\u001b[1;32m    359\u001b[0m \u001b[39mif\u001b[39;00m documents \u001b[39mis\u001b[39;00m \u001b[39mnot\u001b[39;00m \u001b[39mNone\u001b[39;00m:\n\u001b[1;32m    360\u001b[0m     check_documents_type(documents)\n\u001b[0;32m--> 361\u001b[0m     check_embeddings_shape(embeddings, documents)\n\u001b[1;32m    363\u001b[0m doc_ids \u001b[39m=\u001b[39m \u001b[39mrange\u001b[39m(\u001b[39mlen\u001b[39m(documents)) \u001b[39mif\u001b[39;00m documents \u001b[39mis\u001b[39;00m \u001b[39mnot\u001b[39;00m \u001b[39mNone\u001b[39;00m \u001b[39melse\u001b[39;00m \u001b[39mrange\u001b[39m(\u001b[39mlen\u001b[39m(images))\n\u001b[1;32m    364\u001b[0m documents \u001b[39m=\u001b[39m pd\u001b[39m.\u001b[39mDataFrame({\u001b[39m\"\u001b[39m\u001b[39mDocument\u001b[39m\u001b[39m\"\u001b[39m: documents,\n\u001b[1;32m    365\u001b[0m                           \u001b[39m\"\u001b[39m\u001b[39mID\u001b[39m\u001b[39m\"\u001b[39m: doc_ids,\n\u001b[1;32m    366\u001b[0m                           \u001b[39m\"\u001b[39m\u001b[39mTopic\u001b[39m\u001b[39m\"\u001b[39m: \u001b[39mNone\u001b[39;00m,\n\u001b[1;32m    367\u001b[0m                           \u001b[39m\"\u001b[39m\u001b[39mImage\u001b[39m\u001b[39m\"\u001b[39m: images})\n",
                                    "File \u001b[0;32m~/Desktop/spiced/convergence_oracle_repos/convergence_oracle/.venv/lib/python3.11/site-packages/bertopic/_utils.py:50\u001b[0m, in \u001b[0;36mcheck_embeddings_shape\u001b[0;34m(embeddings, docs)\u001b[0m\n\u001b[1;32m     48\u001b[0m \u001b[39melse\u001b[39;00m:\n\u001b[1;32m     49\u001b[0m     \u001b[39mif\u001b[39;00m embeddings\u001b[39m.\u001b[39mshape[\u001b[39m0\u001b[39m] \u001b[39m!=\u001b[39m \u001b[39mlen\u001b[39m(docs):\n\u001b[0;32m---> 50\u001b[0m         \u001b[39mraise\u001b[39;00m \u001b[39mValueError\u001b[39;00m(\u001b[39m\"\u001b[39m\u001b[39mMake sure that the embeddings are a numpy array with shape: \u001b[39m\u001b[39m\"\u001b[39m\n\u001b[1;32m     51\u001b[0m                          \u001b[39m\"\u001b[39m\u001b[39m(len(docs), vector_dim) where vector_dim is the dimensionality \u001b[39m\u001b[39m\"\u001b[39m\n\u001b[1;32m     52\u001b[0m                          \u001b[39m\"\u001b[39m\u001b[39mof the vector embeddings. \u001b[39m\u001b[39m\"\u001b[39m)\n",
                                    "\u001b[0;31mValueError\u001b[0m: Make sure that the embeddings are a numpy array with shape: (len(docs), vector_dim) where vector_dim is the dimensionality of the vector embeddings. "
                              ]
                        }
                  ],
                  "source": [
                        "# Train BERTopic\n",
                        "docs = df['abstract'].to_numpy()\n",
                        "topic_model_emb = BERTopic().fit(docs, embeddings)\n",
                        "\n",
                        "# Run the visualization with the original emb   eddings\n",
                        "topic_model_emb.visualize_documents(docs, embeddings=embeddings)\n",
                        "\n",
                        "# Reduce dimensionality of embeddings, this step is optional but much faster to perform iteratively:\n",
                        "reduced_embeddings = UMAP(n_neighbors=10, n_components=2, min_dist=0.0, metric='cosine').fit_transform(embeddings)\n",
                        "topic_model_emb.visualize_documents(docs, reduced_embeddings=reduced_embeddings)"
                  ]
            }
      ],
      "metadata": {
            "kernelspec": {
                  "display_name": "Python 3",
                  "language": "python",
                  "name": "python3"
            },
            "language_info": {
                  "codemirror_mode": {
                        "name": "ipython",
                        "version": 3
                  },
                  "file_extension": ".py",
                  "mimetype": "text/x-python",
                  "name": "python",
                  "nbconvert_exporter": "python",
                  "pygments_lexer": "ipython3",
                  "version": "3.11.3"
            },
            "orig_nbformat": 4
      },
      "nbformat": 4,
      "nbformat_minor": 2
}
