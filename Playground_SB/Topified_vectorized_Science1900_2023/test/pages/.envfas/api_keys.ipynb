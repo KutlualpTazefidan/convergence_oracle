{
 "cells": [
  {
   "cell_type": "code",
   "execution_count": 8,
   "metadata": {},
   "outputs": [],
   "source": [
    "import pandas as pd\n",
    "api_dictionary = {'api_server':[], 'api_key':[]}\n",
    "\n",
    "api_dictionary['api_server'].append('springer_eric')\n",
    "api_dictionary['api_key'].append('509b1b28aacae6635c78ba106789f9c4')\n",
    "\n",
    "apiDataframe = pd.DataFrame(api_dictionary)\n",
    "apiDataframe.to_csv('C:/Users/erick/gitrepositories/convergence_oracle/data/apikeys.csv',index=False)"
   ]
  }
 ],
 "metadata": {
  "kernelspec": {
   "display_name": ".venv",
   "language": "python",
   "name": "python3"
  },
  "language_info": {
   "codemirror_mode": {
    "name": "ipython",
    "version": 3
   },
   "file_extension": ".py",
   "mimetype": "text/x-python",
   "name": "python",
   "nbconvert_exporter": "python",
   "pygments_lexer": "ipython3",
   "version": "3.11.4"
  },
  "orig_nbformat": 4
 },
 "nbformat": 4,
 "nbformat_minor": 2
}
