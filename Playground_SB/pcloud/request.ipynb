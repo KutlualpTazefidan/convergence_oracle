{
 "cells": [
  {
   "cell_type": "code",
   "execution_count": null,
   "metadata": {},
   "outputs": [],
   "source": [
    "#!pip install requests"
   ]
  },
  {
   "cell_type": "code",
   "execution_count": null,
   "metadata": {},
   "outputs": [],
   "source": [
    "import requests\n",
    "\n",
    "# API credentials\n",
    "api_key = \"your_api_key_here\"\n",
    "api_secret = \"your_api_secret_here\"\n",
    "\n",
    "# File to upload\n",
    "file_path = \"path_to_your_file.txt\"\n",
    "\n",
    "# API endpoint for file upload\n",
    "upload_url = \"https://api.pcloud.com/uploadfile\"\n",
    "\n",
    "# Create the upload request\n",
    "headers = {\"Authorization\": f\"Bearer {api_key}\"}\n",
    "files = {\"file\": (file_path, open(file_path, \"rb\"))}\n",
    "params = {\"path\": \"/\", \"filename\": \"uploaded_file.txt\"}  # Adjust the path and filename as needed\n",
    "\n",
    "# Make the POST request to upload the file\n",
    "response = requests.post(upload_url, headers=headers, files=files, params=params)\n",
    "\n",
    "# Check the response\n",
    "if response.status_code == 200:\n",
    "    print(\"File uploaded successfully!\")\n",
    "else:\n",
    "    print(f\"Error uploading file: {response.status_code} - {response.text}\")\n"
   ]
  }
 ],
 "metadata": {
  "kernelspec": {
   "display_name": ".venv",
   "language": "python",
   "name": "python3"
  },
  "language_info": {
   "codemirror_mode": {
    "name": "ipython",
    "version": 3
   },
   "file_extension": ".py",
   "mimetype": "text/x-python",
   "name": "python",
   "nbconvert_exporter": "python",
   "pygments_lexer": "ipython3",
   "version": "3.11.4"
  }
 },
 "nbformat": 4,
 "nbformat_minor": 2
}
