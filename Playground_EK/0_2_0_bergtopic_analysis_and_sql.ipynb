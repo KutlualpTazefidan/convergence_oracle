{
 "cells": [
  {
   "cell_type": "code",
   "execution_count": 1,
   "metadata": {},
   "outputs": [
    {
     "name": "stdout",
     "output_type": "stream",
     "text": [
      "Step 1/7: Loading the dataset ...\n",
      "Step 2/7: Cleaning the dataset ...\n",
      "Dropping 0 duplicates out of 4933 data points.\n",
      "Dropping 0 NaNs out of 4933 data points.\n",
      "Cleaned df size 4933; Original df size: 4933\n",
      "Step 3/7: Creating the analysis column ...\n",
      "Step 4/7: Removing stopwords ...\n",
      "Step 5/7: We longer drop columns, its not needed ...\n",
      "Step 1/4: RUNNING BERTOPIC ...\n",
      "Step 6/7: Extracting topics ...\n",
      "Model fitting completed in 8.71 minutes\n",
      "Step 7/7: Adding topic labels to the df ...\n",
      "Step 2/4: SAVING MODEL ...\n",
      "Step 3/4: CREATING VECTORIZED TABLE ...\n",
      "Step 3/4: CREATING TOPIC PROBA ...\n"
     ]
    },
    {
     "data": {
      "text/plain": [
       "{'aws_raw_sql_name': ['eric_raw_data_testing_on_aws'],\n",
       " 'aws_vectorized_sql_name': ['topified_vectorized_data_sept2023'],\n",
       " 'aws_topic_proba_sql_name': ['topic_proba_data_sept2023'],\n",
       " 'model_name_filepath': ['test_model_sept2023']}"
      ]
     },
     "execution_count": 1,
     "metadata": {},
     "output_type": "execute_result"
    }
   ],
   "source": [
    "aws_raw_data_table = 'Science1900_2023'\n",
    "aws_vectorized_data_table = 'topified_vectorized_Science1900_2023'\n",
    "aws_topic_proba_data_table = 'topic_proba_data_Science1900_2023'\n",
    "model_name = 'model_Science1900_2023'\n",
    "\n",
    "## run bertopic analysis \n",
    "## run bertopic visualization data\n",
    "from custom_functions import bertopic_addons as cfc\n",
    "\n",
    "cfc.run_bertopic_model_push_SQLdata(aws_raw_data_table, aws_vectorized_data_table, aws_topic_proba_data_table, model_name)\n",
    "    "
   ]
  },
  {
   "cell_type": "code",
   "execution_count": null,
   "metadata": {},
   "outputs": [],
   "source": [
    "### FILE PATHS FOR THE ABOVE \n",
    "# 1. vectorized data \n",
    "# 3. topics + probabilities \n",
    "# 4. model"
   ]
  },
  {
   "cell_type": "code",
   "execution_count": 2,
   "metadata": {},
   "outputs": [
    {
     "name": "stdout",
     "output_type": "stream",
     "text": [
      "Step 1/7: Loading the dataset ...\n"
     ]
    }
   ],
   "source": [
    "## TO PULL TABLES\n",
    "raw_aws_dfs = cfc.pull_aws_sql_database(aws_topic_proba_data_table)"
   ]
  },
  {
   "cell_type": "code",
   "execution_count": null,
   "metadata": {},
   "outputs": [],
   "source": [
    "# TO LOAD MODEL\n",
    "from bertopic import BERTopic\n",
    "# Load from directory\n",
    "loaded_model = BERTopic.load(\"./nonSQL_database/model_Science1900_2023\")"
   ]
  }
 ],
 "metadata": {
  "kernelspec": {
   "display_name": ".venv",
   "language": "python",
   "name": "python3"
  },
  "language_info": {
   "codemirror_mode": {
    "name": "ipython",
    "version": 3
   },
   "file_extension": ".py",
   "mimetype": "text/x-python",
   "name": "python",
   "nbconvert_exporter": "python",
   "pygments_lexer": "ipython3",
   "version": "3.11.4"
  },
  "orig_nbformat": 4
 },
 "nbformat": 4,
 "nbformat_minor": 2
}
