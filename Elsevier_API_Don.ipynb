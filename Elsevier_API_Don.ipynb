{
 "cells": [
  {
   "cell_type": "markdown",
   "metadata": {},
   "source": [
    "## Elsevier API with generated key with university account:"
   ]
  },
  {
   "cell_type": "code",
   "execution_count": 30,
   "metadata": {},
   "outputs": [
    {
     "name": "stdout",
     "output_type": "stream",
     "text": [
      "API request failed with status code 405\n"
     ]
    }
   ],
   "source": [
    "import requests\n",
    "import csv\n",
    "\n",
    "api_key = '02d0c4174287f162c45c7853a4ccd18e'\n",
    "\n",
    "\n",
    "# Define the API endpoint and query parameters\n",
    "api_url = 'https://api.elsevier.com/content/search/sciencedirect'\n",
    "query_params = {\n",
    "    # 'query': 'pub-date(2020-2022) AND random(1000)',\n",
    "    'apiKey': api_key,\n",
    "    'view': 'COMPLETE',\n",
    "    'content': 'metadata',\n",
    "    'start': 0,  # Start with the first result\n",
    "    'count': 1000,  # Retrieve 1000 results\n",
    "}\n",
    "\n",
    "# Make the API request\n",
    "response = requests.get(api_url, params=query_params) \n",
    "\n",
    "# Check the response status\n",
    "if response.status_code == 200:\n",
    "    # Parse the JSON response\n",
    "    data = response.json()\n",
    "    publications = []\n",
    "    for entry in data['search-results']['entry']:\n",
    "        title = entry['dc:title']\n",
    "        year = entry['prism:coverDisplayDate']\n",
    "        abstract = entry['dc:description']\n",
    "        citations = entry.get('citedby-count', 'N/A')\n",
    "        publications.append([title, year, abstract, citations])\n",
    "\n",
    "    # Save the data to a CSV file\n",
    "    with open('publications.csv', 'w', newline='', encoding='utf-8') as csvfile:\n",
    "        csv_writer = csv.writer(csvfile)\n",
    "        # Write the header row\n",
    "        csv_writer.writerow(['Title', 'Year', 'Abstract', 'Citations'])\n",
    "        # Write the publication data\n",
    "        csv_writer.writerows(publications)\n",
    "\n",
    "    print(\"Data saved to 'publications.csv'\")\n",
    "else:\n",
    "    print(f\"API request failed with status code {response.status_code}\")\n"
   ]
  },
  {
   "cell_type": "markdown",
   "metadata": {},
   "source": [
    "Doesn't work:\n",
    "\"The 405 error happens when a client attempts to use an HTTP method that is not allowed by the server. For example, this issue can occur when a user tries to use a method such as PUT or DELETE on a resource that only allows GET or POST requests.\"\n",
    "\n",
    "Not sure how to resolve this\n",
    "\n",
    "\n",
    "Also 'query': 'pub-date(2020-2022) AND random(1000) does not work (that's why I commented it out), it gives a 401 error:\n",
    "\"The HyperText Transfer Protocol (HTTP) 401 Unauthorized response status code indicates that the client request has not been completed because it lacks valid authentication credentials for the requested resource.\"\n",
    "\n"
   ]
  },
  {
   "cell_type": "code",
   "execution_count": null,
   "metadata": {},
   "outputs": [],
   "source": []
  },
  {
   "cell_type": "code",
   "execution_count": null,
   "metadata": {},
   "outputs": [],
   "source": []
  }
 ],
 "metadata": {
  "kernelspec": {
   "display_name": "Python 3",
   "language": "python",
   "name": "python3"
  },
  "language_info": {
   "codemirror_mode": {
    "name": "ipython",
    "version": 3
   },
   "file_extension": ".py",
   "mimetype": "text/x-python",
   "name": "python",
   "nbconvert_exporter": "python",
   "pygments_lexer": "ipython3",
   "version": "3.11.3"
  },
  "orig_nbformat": 4
 },
 "nbformat": 4,
 "nbformat_minor": 2
}
