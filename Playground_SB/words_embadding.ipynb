{
 "cells": [
  {
   "cell_type": "code",
   "execution_count": 1,
   "metadata": {},
   "outputs": [],
   "source": [
    "#!pip install spacy"
   ]
  },
  {
   "cell_type": "code",
   "execution_count": 2,
   "metadata": {},
   "outputs": [],
   "source": [
    "import pandas as pd\n",
    "import spacy\n",
    "import networkx as nx\n",
    "\n",
    "# Load spaCy model\n",
    "nlp = spacy.load(\"en_core_web_sm\")\n",
    "\n",
    "# Sample dataframe\n",
    "data = pd.read_csv(\"clistering_raw_data.csv\")\n",
    "\n",
    "# Preprocess and tokenize the text data\n",
    "def preprocess(text):\n",
    "    doc = nlp(text)\n",
    "    tokens = [token.text.lower() for token in doc if not token.is_punct and not token.is_stop]\n",
    "    return tokens\n",
    "\n",
    "data['abstract_tokens'] = data['abstract'].apply(preprocess)\n",
    "\n",
    "# Calculate pairwise word similarity\n",
    "similarity_matrix = {}\n",
    "for tokens in data['abstract_tokens']:\n",
    "    for word1 in tokens:\n",
    "        for word2 in tokens:\n",
    "            if word1 != word2:\n",
    "                similarity_score = nlp(word1).similarity(nlp(word2))\n",
    "                if similarity_score > 0.7:  # Adjust the threshold as needed\n",
    "                    if word1 not in similarity_matrix:\n",
    "                        similarity_matrix[word1] = []\n",
    "                    similarity_matrix[word1].append(word2)\n",
    "\n",
    "# Create a graph of word connections\n",
    "G = nx.Graph()\n",
    "for word, connected_words in similarity_matrix.items():\n",
    "    for connected_word in connected_words:\n",
    "        G.add_edge(word, connected_word)\n",
    "\n",
    "# Analyze or visualize the graph as needed\n"
   ]
  },
  {
   "cell_type": "code",
   "execution_count": null,
   "metadata": {},
   "outputs": [],
   "source": []
  }
 ],
 "metadata": {
  "kernelspec": {
   "display_name": ".venv",
   "language": "python",
   "name": "python3"
  },
  "language_info": {
   "codemirror_mode": {
    "name": "ipython",
    "version": 3
   },
   "file_extension": ".py",
   "mimetype": "text/x-python",
   "name": "python",
   "nbconvert_exporter": "python",
   "pygments_lexer": "ipython3",
   "version": "3.11.4"
  }
 },
 "nbformat": 4,
 "nbformat_minor": 2
}
