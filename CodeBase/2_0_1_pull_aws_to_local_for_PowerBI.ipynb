{
 "cells": [
  {
   "cell_type": "code",
   "execution_count": 1,
   "metadata": {},
   "outputs": [],
   "source": [
    "from custom_functions import time_series_addons as tsa"
   ]
  },
  {
   "cell_type": "code",
   "execution_count": 2,
   "metadata": {},
   "outputs": [],
   "source": [
    "aws_raw_data_table = 'Science1900_2023'\n",
    "aws_vectorized_data_table = 'topified_vectorized_Science1900_2023'\n",
    "aws_topic_proba_data_table = 'topic_proba_data_Science1900_2023'"
   ]
  },
  {
   "cell_type": "code",
   "execution_count": 3,
   "metadata": {},
   "outputs": [
    {
     "name": "stdout",
     "output_type": "stream",
     "text": [
      "Step 1/7: Loading the dataset ...\n",
      "Step 1/7: Loading the dataset ...\n",
      "Step 1/7: Loading the dataset ...\n"
     ]
    }
   ],
   "source": [
    "aws_raw_data_table_df = tsa.pull_aws_sql_database(aws_raw_data_table)\n",
    "aws_vectorized_data_table_df = tsa.pull_aws_sql_database(aws_vectorized_data_table)\n",
    "aws_topic_proba_data_table_df = tsa.pull_aws_sql_database(aws_topic_proba_data_table)"
   ]
  },
  {
   "cell_type": "code",
   "execution_count": 4,
   "metadata": {},
   "outputs": [],
   "source": [
    "tsa.dataframe_to_final_local_sql(aws_raw_data_table_df, aws_raw_data_table)\n",
    "tsa.dataframe_to_final_local_sql(aws_vectorized_data_table_df, aws_vectorized_data_table)\n",
    "tsa.dataframe_to_final_local_sql(aws_topic_proba_data_table_df, aws_topic_proba_data_table)"
   ]
  },
  {
   "cell_type": "code",
   "execution_count": 6,
   "metadata": {},
   "outputs": [
    {
     "name": "stdout",
     "output_type": "stream",
     "text": [
      "Step 1/7: Loading the dataset ...\n"
     ]
    },
    {
     "data": {
      "text/html": [
       "<div>\n",
       "<style scoped>\n",
       "    .dataframe tbody tr th:only-of-type {\n",
       "        vertical-align: middle;\n",
       "    }\n",
       "\n",
       "    .dataframe tbody tr th {\n",
       "        vertical-align: top;\n",
       "    }\n",
       "\n",
       "    .dataframe thead th {\n",
       "        text-align: right;\n",
       "    }\n",
       "</style>\n",
       "<table border=\"1\" class=\"dataframe\">\n",
       "  <thead>\n",
       "    <tr style=\"text-align: right;\">\n",
       "      <th></th>\n",
       "      <th>topic_code</th>\n",
       "      <th>topic</th>\n",
       "      <th>probability</th>\n",
       "    </tr>\n",
       "  </thead>\n",
       "  <tbody>\n",
       "    <tr>\n",
       "      <th>0</th>\n",
       "      <td>-1</td>\n",
       "      <td>patients</td>\n",
       "      <td>0.003368</td>\n",
       "    </tr>\n",
       "    <tr>\n",
       "      <th>1</th>\n",
       "      <td>-1</td>\n",
       "      <td>study</td>\n",
       "      <td>0.002126</td>\n",
       "    </tr>\n",
       "    <tr>\n",
       "      <th>2</th>\n",
       "      <td>-1</td>\n",
       "      <td>results</td>\n",
       "      <td>0.002106</td>\n",
       "    </tr>\n",
       "    <tr>\n",
       "      <th>3</th>\n",
       "      <td>-1</td>\n",
       "      <td>disease</td>\n",
       "      <td>0.002081</td>\n",
       "    </tr>\n",
       "    <tr>\n",
       "      <th>4</th>\n",
       "      <td>-1</td>\n",
       "      <td>cells</td>\n",
       "      <td>0.002077</td>\n",
       "    </tr>\n",
       "    <tr>\n",
       "      <th>...</th>\n",
       "      <td>...</td>\n",
       "      <td>...</td>\n",
       "      <td>...</td>\n",
       "    </tr>\n",
       "    <tr>\n",
       "      <th>1185</th>\n",
       "      <td>117</td>\n",
       "      <td>experimental autoimmune</td>\n",
       "      <td>0.015816</td>\n",
       "    </tr>\n",
       "    <tr>\n",
       "      <th>1186</th>\n",
       "      <td>117</td>\n",
       "      <td>autoimmune encephalomyelitis</td>\n",
       "      <td>0.015366</td>\n",
       "    </tr>\n",
       "    <tr>\n",
       "      <th>1187</th>\n",
       "      <td>117</td>\n",
       "      <td>autoimmune</td>\n",
       "      <td>0.015308</td>\n",
       "    </tr>\n",
       "    <tr>\n",
       "      <th>1188</th>\n",
       "      <td>117</td>\n",
       "      <td>experimental autoimmune encephalomyelitis</td>\n",
       "      <td>0.014754</td>\n",
       "    </tr>\n",
       "    <tr>\n",
       "      <th>1189</th>\n",
       "      <td>117</td>\n",
       "      <td>lesions</td>\n",
       "      <td>0.013913</td>\n",
       "    </tr>\n",
       "  </tbody>\n",
       "</table>\n",
       "<p>1190 rows × 3 columns</p>\n",
       "</div>"
      ],
      "text/plain": [
       "      topic_code                                      topic  probability\n",
       "0             -1                                   patients     0.003368\n",
       "1             -1                                      study     0.002126\n",
       "2             -1                                    results     0.002106\n",
       "3             -1                                    disease     0.002081\n",
       "4             -1                                      cells     0.002077\n",
       "...          ...                                        ...          ...\n",
       "1185         117                    experimental autoimmune     0.015816\n",
       "1186         117               autoimmune encephalomyelitis     0.015366\n",
       "1187         117                                 autoimmune     0.015308\n",
       "1188         117  experimental autoimmune encephalomyelitis     0.014754\n",
       "1189         117                                    lesions     0.013913\n",
       "\n",
       "[1190 rows x 3 columns]"
      ]
     },
     "execution_count": 6,
     "metadata": {},
     "output_type": "execute_result"
    }
   ],
   "source": [
    "tsa.pull_local_sql_database(aws_topic_proba_data_table)"
   ]
  }
 ],
 "metadata": {
  "kernelspec": {
   "display_name": ".venv",
   "language": "python",
   "name": "python3"
  },
  "language_info": {
   "codemirror_mode": {
    "name": "ipython",
    "version": 3
   },
   "file_extension": ".py",
   "mimetype": "text/x-python",
   "name": "python",
   "nbconvert_exporter": "python",
   "pygments_lexer": "ipython3",
   "version": "3.11.4"
  },
  "orig_nbformat": 4
 },
 "nbformat": 4,
 "nbformat_minor": 2
}
