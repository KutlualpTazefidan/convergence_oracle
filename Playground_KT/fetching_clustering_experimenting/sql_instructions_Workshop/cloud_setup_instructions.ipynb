{
 "cells": [
  {
   "cell_type": "markdown",
   "id": "094539e0",
   "metadata": {},
   "source": [
    "# Cloud Setup Instructions\n",
    "<hr style=\"border:2px solid black\">"
   ]
  },
  {
   "cell_type": "markdown",
   "id": "e24a1915",
   "metadata": {},
   "source": [
    "## 1. AWS account"
   ]
  },
  {
   "cell_type": "markdown",
   "id": "e232b939",
   "metadata": {},
   "source": [
    "### 1.1 create account\n",
    "\n",
    ">1. go to `aws.amazon.com`\n",
    ">2. in the Pricing tab click on `AWS Free Tier`\n",
    ">3. Follow the steps to create an account; choose `Personal` for *how do\n",
    "you plan to use AWS*"
   ]
  },
  {
   "cell_type": "markdown",
   "id": "436d6261",
   "metadata": {},
   "source": [
    "### 1.2 sign in\n",
    "\n",
    ">1. in AWS Management Console, choose `Root user`\n",
    ">2. sign in with the email address and password for the account"
   ]
  },
  {
   "cell_type": "markdown",
   "id": "d062f6c2",
   "metadata": {},
   "source": [
    "<hr style=\"border:2px solid black\">"
   ]
  },
  {
   "cell_type": "markdown",
   "id": "dfc361ea",
   "metadata": {},
   "source": [
    "## 2. RDS Instance"
   ]
  },
  {
   "cell_type": "markdown",
   "id": "3e33e47c",
   "metadata": {},
   "source": [
    "### 2.1 create instance\n",
    "\n",
    ">1. in Amazon AWS console, choose `Frankfurt` as infrastructure region (if not default)\n",
    ">2. click `RDS`, and then`Create database`\n",
    ">3. choose `Standard create`, engine type `PostgreSQL`, and `Free tier` template\n",
    ">4. under Settings, give a suitable name (identifier) for DB instance\n",
    ">5. choose `postgres` as a master username, and enter a master password (do not auto-generate)\n",
    ">6. under Storage, disable storage autoscaling\n",
    ">7. under Connectivity, click on `Yes` for Public access\n",
    ">8. click `Create database` (it takes a few minutes until the instance is ready)"
   ]
  },
  {
   "cell_type": "markdown",
   "id": "4e7a4e30",
   "metadata": {},
   "source": [
    "### 2.2 edit security rules (for first-time users)\n",
    "\n",
    ">1. on Databases, click on your database (DB identifier)\n",
    ">2. under Security group rules, click on default (sg-xxxxxxxx)\n",
    ">3. click `Inbound rules` → `Edit inbound rules` → `Add rule`\n",
    ">4. choose Type: `All traffic`, and Source: `Anywhere-IPv4`\n",
    ">5. add another rule with Type: `All traffic`, and Source: `Anywhere-IPv6`\n",
    ">6. click `Save rules`"
   ]
  },
  {
   "cell_type": "markdown",
   "id": "59debb68",
   "metadata": {},
   "source": [
    "### 2.3 create remote database\n",
    "\n",
    ">1. connect to RDS postgres: `psql -h <remote-endpoint> -U postgres -p 5432 -d postgres`\n",
    ">2. create database: `CREATE DATABASE saffrons;`, and quit postgres: `\\q`\n",
    ">3. go to the directory of the file `saffron_tables.sql` that populates saffrons database\n",
    ">4. populate database: `psql -f saffron_tables.sql -h <remote-host> -U postgres -p 5432 -d saffrons`"
   ]
  },
  {
   "cell_type": "markdown",
   "id": "316f711c",
   "metadata": {},
   "source": [
    "<hr style=\"border:2px solid black\">"
   ]
  },
  {
   "cell_type": "markdown",
   "id": "ccc56226",
   "metadata": {},
   "source": [
    "## 3. EC2 Instance"
   ]
  },
  {
   "cell_type": "markdown",
   "id": "9d2d536e",
   "metadata": {},
   "source": [
    "### 3.1 create instance\n",
    "\n",
    ">1. in Amazon AWS console click `EC2`, and then`Launch instance`\n",
    ">2. give a `Name` to the instance, and choose `ubuntu` as the Amazon Machine Image (AMI)\n",
    ">3. create new `key pair` with a suitable name \n",
    ">4. save the generated `.pem` file in a suitable directory\n",
    ">5. In network settings allow `HTTP traffic` along with `SSH traffic`\n",
    ">6. click `Launch instance`"
   ]
  },
  {
   "cell_type": "markdown",
   "id": "34e49d6e",
   "metadata": {},
   "source": [
    "### 3.2 connect to instance\n",
    "\n",
    ">1. change permissions for .pem file: `chmod 600 <.pem-file>`\n",
    ">2. check the permission change: `ls -la`\n",
    ">3. log into EC2 instance: `ssh -i <.pem-file> ubuntu@<hostname>`, (hostname = Public IPv4 DNS) \n",
    ">Note: AWS Instance get key for hostname: ec2-3-71-116-53.eu-central-1.compute.amazonaws.com"
   ]
  },
  {
   "cell_type": "markdown",
   "id": "3ac04206",
   "metadata": {},
   "source": [
    "### 3.3 ubuntu installations\n",
    "\n",
    ">1. check for ubuntu updates: `sudo apt-get update`\n",
    ">2. get ubuntu upgrades: `sudo apt-get upgrade`\n",
    ">3. install java: `sudo apt-get install -y openjdk-11-jre-headless`\n",
    ">4. log out of EC2 instance: `exit`"
   ]
  },
  {
   "cell_type": "markdown",
   "id": "91580244",
   "metadata": {},
   "source": [
    "<hr style=\"border:2px solid black\">"
   ]
  },
  {
   "cell_type": "markdown",
   "id": "3409e7e8",
   "metadata": {},
   "source": [
    "## 4. Metabase"
   ]
  },
  {
   "cell_type": "markdown",
   "id": "1f0e2044",
   "metadata": {},
   "source": [
    "### 4.1 download metabase \n",
    "\n",
    ">1. download metabase `.jar` file from [this link](https://www.metabase.com/start/oss/); https://www.metabase.com/start/oss/jar save it in the same directory as the `.pem` file\n",
    "or \n",
    "> wget https://downloads.metabase.com/v0.47.2/metabase.jar\n",
    ">2. in terminal, go to the directory of the `.jar` and `.pem` files \n",
    ">3. copy `.jar` file to EC2: `scp -i <.pem-file> metabase.jar ubuntu@<hostname>:` \n",
    "<br>\n",
    "> note the trailing \" : \"; it ensures copying to a remote location\n",
    "> scp is secure copy"
   ]
  },
  {
   "cell_type": "markdown",
   "id": "6135580a",
   "metadata": {},
   "source": [
    "### 4.2 launch metabase \n",
    "\n",
    ">1. log into EC2 instance: `ssh -i <.pem-file> ubuntu@<hostname>`\n",
    ">2. start metabase server in the background: `sudo nohup java -jar -DMB_JETTY_PORT=80 metabase.jar &`, (note \"&\")\n",
    ">3. expect the message: `nohup: ignoring input and appending output to 'nohup.out'`\n",
    ">Note: You're running metabase on the ec2 instance connect from browser: ec2-3-71-116-53.eu-central-1.compute.amazonaws.com using this adress.\n",
    ">Note: During setup use as database name the name that you defined during creation\n",
    "\n"
   ]
  },
  {
   "cell_type": "markdown",
   "id": "f7d1776b",
   "metadata": {},
   "source": [
    "<hr style=\"border:2px solid black\">"
   ]
  }
 ],
 "metadata": {
  "kernelspec": {
   "display_name": "Python 3 (ipykernel)",
   "language": "python",
   "name": "python3"
  },
  "language_info": {
   "codemirror_mode": {
    "name": "ipython",
    "version": 3
   },
   "file_extension": ".py",
   "mimetype": "text/x-python",
   "name": "python",
   "nbconvert_exporter": "python",
   "pygments_lexer": "ipython3",
   "version": "3.10.12"
  }
 },
 "nbformat": 4,
 "nbformat_minor": 5
}
