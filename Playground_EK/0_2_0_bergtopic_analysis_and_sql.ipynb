{
 "cells": [
  {
   "cell_type": "code",
   "execution_count": 1,
   "metadata": {},
   "outputs": [
    {
     "name": "stdout",
     "output_type": "stream",
     "text": [
      "Step 1/7: Loading the dataset ...\n",
      "Step 2/7: Cleaning the dataset ...\n",
      "Dropping 0 duplicates out of 4933 data points.\n",
      "Dropping 0 NaNs out of 4933 data points.\n",
      "Cleaned df size 4933; Original df size: 4933\n",
      "Step 3/7: Creating the analysis column ...\n",
      "Step 4/7: Removing stopwords ...\n",
      "Step 5/7: We longer drop columns, its not needed ...\n",
      "Step 1/4: RUNNING BERTOPIC ...\n",
      "Step 6/7: Extracting topics ...\n",
      "Model fitting completed in 8.71 minutes\n",
      "Step 7/7: Adding topic labels to the df ...\n",
      "Step 2/4: SAVING MODEL ...\n",
      "Step 3/4: CREATING VECTORIZED TABLE ...\n",
      "Step 3/4: CREATING TOPIC PROBA ...\n"
     ]
    },
    {
     "data": {
      "text/plain": [
       "{'aws_raw_sql_name': ['eric_raw_data_testing_on_aws'],\n",
       " 'aws_vectorized_sql_name': ['topified_vectorized_data_sept2023'],\n",
       " 'aws_topic_proba_sql_name': ['topic_proba_data_sept2023'],\n",
       " 'model_name_filepath': ['test_model_sept2023']}"
      ]
     },
     "execution_count": 1,
     "metadata": {},
     "output_type": "execute_result"
    }
   ],
   "source": [
    "aws_raw_data_table = 'Science1900_2023'\n",
    "aws_vectorized_data_table = 'topified_vectorized_Science1900_2023'\n",
    "aws_topic_proba_data_table = 'topic_proba_data_Science1900_2023'\n",
    "model_name = 'model_Science1900_2023'\n",
    "\n",
    "## run bertopic analysis \n",
    "## run bertopic visualization data\n",
    "from custom_functions import bertopic_addons as cfc\n",
    "\n",
    "cfc.run_bertopic_model_push_SQLdata(aws_raw_data_table, aws_vectorized_data_table, aws_topic_proba_data_table, model_name)\n",
    "    "
   ]
  },
  {
   "cell_type": "code",
   "execution_count": null,
   "metadata": {},
   "outputs": [],
   "source": [
    "### FILE PATHS FOR THE ABOVE \n",
    "# 1. vectorized data \n",
    "# 3. topics + probabilities \n",
    "# 4. model"
   ]
  },
  {
   "cell_type": "code",
   "execution_count": 2,
   "metadata": {},
   "outputs": [
    {
     "name": "stdout",
     "output_type": "stream",
     "text": [
      "Step 1/7: Loading the dataset ...\n"
     ]
    }
   ],
   "source": [
    "## TO PULL TABLES\n",
    "raw_aws_dfs = cfc.pull_aws_sql_database(aws_topic_proba_data_table)"
   ]
  },
  {
   "cell_type": "code",
   "execution_count": 3,
   "metadata": {},
   "outputs": [
    {
     "data": {
      "text/html": [
       "<div>\n",
       "<style scoped>\n",
       "    .dataframe tbody tr th:only-of-type {\n",
       "        vertical-align: middle;\n",
       "    }\n",
       "\n",
       "    .dataframe tbody tr th {\n",
       "        vertical-align: top;\n",
       "    }\n",
       "\n",
       "    .dataframe thead th {\n",
       "        text-align: right;\n",
       "    }\n",
       "</style>\n",
       "<table border=\"1\" class=\"dataframe\">\n",
       "  <thead>\n",
       "    <tr style=\"text-align: right;\">\n",
       "      <th></th>\n",
       "      <th>topic_code</th>\n",
       "      <th>topic</th>\n",
       "      <th>probability</th>\n",
       "    </tr>\n",
       "  </thead>\n",
       "  <tbody>\n",
       "    <tr>\n",
       "      <th>0</th>\n",
       "      <td>-1</td>\n",
       "      <td>cells</td>\n",
       "      <td>0.005981</td>\n",
       "    </tr>\n",
       "    <tr>\n",
       "      <th>1</th>\n",
       "      <td>-1</td>\n",
       "      <td>patients</td>\n",
       "      <td>0.005641</td>\n",
       "    </tr>\n",
       "    <tr>\n",
       "      <th>2</th>\n",
       "      <td>-1</td>\n",
       "      <td>disease</td>\n",
       "      <td>0.005194</td>\n",
       "    </tr>\n",
       "    <tr>\n",
       "      <th>3</th>\n",
       "      <td>-1</td>\n",
       "      <td>cell</td>\n",
       "      <td>0.004563</td>\n",
       "    </tr>\n",
       "    <tr>\n",
       "      <th>4</th>\n",
       "      <td>-1</td>\n",
       "      <td>health</td>\n",
       "      <td>0.004514</td>\n",
       "    </tr>\n",
       "    <tr>\n",
       "      <th>...</th>\n",
       "      <td>...</td>\n",
       "      <td>...</td>\n",
       "      <td>...</td>\n",
       "    </tr>\n",
       "    <tr>\n",
       "      <th>165</th>\n",
       "      <td>15</td>\n",
       "      <td>monkeypox</td>\n",
       "      <td>0.018492</td>\n",
       "    </tr>\n",
       "    <tr>\n",
       "      <th>166</th>\n",
       "      <td>15</td>\n",
       "      <td>swine</td>\n",
       "      <td>0.017893</td>\n",
       "    </tr>\n",
       "    <tr>\n",
       "      <th>167</th>\n",
       "      <td>15</td>\n",
       "      <td>hbv</td>\n",
       "      <td>0.015892</td>\n",
       "    </tr>\n",
       "    <tr>\n",
       "      <th>168</th>\n",
       "      <td>15</td>\n",
       "      <td>patients</td>\n",
       "      <td>0.013178</td>\n",
       "    </tr>\n",
       "    <tr>\n",
       "      <th>169</th>\n",
       "      <td>15</td>\n",
       "      <td>cases</td>\n",
       "      <td>0.012933</td>\n",
       "    </tr>\n",
       "  </tbody>\n",
       "</table>\n",
       "<p>170 rows × 3 columns</p>\n",
       "</div>"
      ],
      "text/plain": [
       "     topic_code      topic  probability\n",
       "0            -1      cells     0.005981\n",
       "1            -1   patients     0.005641\n",
       "2            -1    disease     0.005194\n",
       "3            -1       cell     0.004563\n",
       "4            -1     health     0.004514\n",
       "..          ...        ...          ...\n",
       "165          15  monkeypox     0.018492\n",
       "166          15      swine     0.017893\n",
       "167          15        hbv     0.015892\n",
       "168          15   patients     0.013178\n",
       "169          15      cases     0.012933\n",
       "\n",
       "[170 rows x 3 columns]"
      ]
     },
     "execution_count": 3,
     "metadata": {},
     "output_type": "execute_result"
    }
   ],
   "source": [
    "raw_aws_dfs"
   ]
  },
  {
   "cell_type": "code",
   "execution_count": null,
   "metadata": {},
   "outputs": [],
   "source": [
    "# TO LOAD MODEL\n",
    "from bertopic import BERTopic\n",
    "# Load from directory\n",
    "loaded_model = BERTopic.load(\"./nonSQL_database/test_model\")"
   ]
  }
 ],
 "metadata": {
  "kernelspec": {
   "display_name": ".venv",
   "language": "python",
   "name": "python3"
  },
  "language_info": {
   "codemirror_mode": {
    "name": "ipython",
    "version": 3
   },
   "file_extension": ".py",
   "mimetype": "text/x-python",
   "name": "python",
   "nbconvert_exporter": "python",
   "pygments_lexer": "ipython3",
   "version": "3.11.4"
  },
  "orig_nbformat": 4
 },
 "nbformat": 4,
 "nbformat_minor": 2
}
