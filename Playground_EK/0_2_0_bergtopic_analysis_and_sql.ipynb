{
 "cells": [
  {
   "cell_type": "code",
   "execution_count": null,
   "metadata": {},
   "outputs": [],
   "source": [
    "import pandas as pd\n",
    "pd.set_option('display.max_rows', 300)\n",
    "pd.set_option('display.max_colwidth', 100)\n",
    "from custom_functions import bertopic_addons as cfc\n",
    "\n",
    "# This is required when you're using jupyter notebook and want to make changes to your custom function\n",
    "import importlib\n",
    "importlib.reload(cfc)"
   ]
  },
  {
   "cell_type": "code",
   "execution_count": null,
   "metadata": {},
   "outputs": [],
   "source": [
    "filepath = \"./data/1880-2023_Science_48966.csv\"\n",
    "\n",
    "input_column_name = \"title_abstract\"\n",
    "\n",
    "columns_to_drop = [\n",
    "    'paperId', 's2FieldsOfStudy', 'MAG', 'DOI', 'CorpusId',\n",
    "    'ArXiv', 'DBLP', 'PubMed', 'PubMedCentral', 'id', 'issn',\n",
    "    'alternate_issns', 'alternate_urls', 'type', 'publicationTypes', 'url'\n",
    "]\n",
    "\n",
    "min_topic_size = 50\n",
    "\n",
    "fine_tune_label = False\n",
    "\n",
    "ngram = 3\n",
    "\n",
    "df,model,topics,proba,docs = cfc.extract_topics_with_bertopic(input_column_name, columns_to_drop, min_topic_size, fine_tune_label, ngram,filepath=filepath)"
   ]
  }
 ],
 "metadata": {
  "kernelspec": {
   "display_name": ".venv",
   "language": "python",
   "name": "python3"
  },
  "language_info": {
   "codemirror_mode": {
    "name": "ipython",
    "version": 3
   },
   "file_extension": ".py",
   "mimetype": "text/x-python",
   "name": "python",
   "nbconvert_exporter": "python",
   "pygments_lexer": "ipython3",
   "version": "3.11.4"
  },
  "orig_nbformat": 4
 },
 "nbformat": 4,
 "nbformat_minor": 2
}
