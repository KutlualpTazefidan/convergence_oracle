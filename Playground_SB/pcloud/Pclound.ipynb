{
 "cells": [
  {
   "cell_type": "code",
   "execution_count": 1,
   "metadata": {},
   "outputs": [
    {
     "name": "stderr",
     "output_type": "stream",
     "text": [
      "ERROR: Could not find a version that satisfies the requirement pcloudsdk (from versions: none)\n",
      "ERROR: No matching distribution found for pcloudsdk\n"
     ]
    }
   ],
   "source": [
    "!pip install pcloudsdk\n"
   ]
  },
  {
   "cell_type": "code",
   "execution_count": 2,
   "metadata": {},
   "outputs": [
    {
     "ename": "ModuleNotFoundError",
     "evalue": "No module named 'pcloud'",
     "output_type": "error",
     "traceback": [
      "\u001b[1;31m---------------------------------------------------------------------------\u001b[0m",
      "\u001b[1;31mModuleNotFoundError\u001b[0m                       Traceback (most recent call last)",
      "\u001b[1;32mc:\\Users\\sa3id\\spiced\\test\\convergence_oracle\\Playground_SB\\pcloud\\Pclound.ipynb Cell 2\u001b[0m line \u001b[0;36m1\n\u001b[1;32m----> <a href='vscode-notebook-cell:/c%3A/Users/sa3id/spiced/test/convergence_oracle/Playground_SB/pcloud/Pclound.ipynb#W1sZmlsZQ%3D%3D?line=0'>1</a>\u001b[0m \u001b[39mfrom\u001b[39;00m \u001b[39mpcloud\u001b[39;00m \u001b[39mimport\u001b[39;00m PyCloud\n\u001b[0;32m      <a href='vscode-notebook-cell:/c%3A/Users/sa3id/spiced/test/convergence_oracle/Playground_SB/pcloud/Pclound.ipynb#W1sZmlsZQ%3D%3D?line=2'>3</a>\u001b[0m api_key \u001b[39m=\u001b[39m \u001b[39m\"\u001b[39m\u001b[39myour_api_key_here\u001b[39m\u001b[39m\"\u001b[39m\n\u001b[0;32m      <a href='vscode-notebook-cell:/c%3A/Users/sa3id/spiced/test/convergence_oracle/Playground_SB/pcloud/Pclound.ipynb#W1sZmlsZQ%3D%3D?line=3'>4</a>\u001b[0m api_secret \u001b[39m=\u001b[39m \u001b[39m\"\u001b[39m\u001b[39myour_api_secret_here\u001b[39m\u001b[39m\"\u001b[39m\n",
      "\u001b[1;31mModuleNotFoundError\u001b[0m: No module named 'pcloud'"
     ]
    }
   ],
   "source": [
    "from pcloud import PyCloud\n",
    "\n",
    "api_key = \"your_api_key_here\"\n",
    "api_secret = \"your_api_secret_here\"\n",
    "\n",
    "pcloud = PyCloud(api_key, api_secret)\n"
   ]
  },
  {
   "cell_type": "code",
   "execution_count": 3,
   "metadata": {},
   "outputs": [
    {
     "ename": "NameError",
     "evalue": "name 'pcloud' is not defined",
     "output_type": "error",
     "traceback": [
      "\u001b[1;31m---------------------------------------------------------------------------\u001b[0m",
      "\u001b[1;31mNameError\u001b[0m                                 Traceback (most recent call last)",
      "\u001b[1;32mc:\\Users\\sa3id\\spiced\\test\\convergence_oracle\\Playground_SB\\pcloud\\Pclound.ipynb Cell 3\u001b[0m line \u001b[0;36m4\n\u001b[0;32m      <a href='vscode-notebook-cell:/c%3A/Users/sa3id/spiced/test/convergence_oracle/Playground_SB/pcloud/Pclound.ipynb#W2sZmlsZQ%3D%3D?line=0'>1</a>\u001b[0m file_path \u001b[39m=\u001b[39m \u001b[39m\"\u001b[39m\u001b[39mpath_to_your_model.pkl\u001b[39m\u001b[39m\"\u001b[39m\n\u001b[0;32m      <a href='vscode-notebook-cell:/c%3A/Users/sa3id/spiced/test/convergence_oracle/Playground_SB/pcloud/Pclound.ipynb#W2sZmlsZQ%3D%3D?line=1'>2</a>\u001b[0m folder_id \u001b[39m=\u001b[39m \u001b[39m0\u001b[39m  \u001b[39m# Use 0 for the root folder\u001b[39;00m\n\u001b[1;32m----> <a href='vscode-notebook-cell:/c%3A/Users/sa3id/spiced/test/convergence_oracle/Playground_SB/pcloud/Pclound.ipynb#W2sZmlsZQ%3D%3D?line=3'>4</a>\u001b[0m response \u001b[39m=\u001b[39m pcloud\u001b[39m.\u001b[39muploadfile(file_path, folder_id)\n",
      "\u001b[1;31mNameError\u001b[0m: name 'pcloud' is not defined"
     ]
    }
   ],
   "source": [
    "file_path = \"path_to_your_model.pkl\"\n",
    "folder_id = 0  # Use 0 for the root folder\n",
    "\n",
    "response = pcloud.uploadfile(file_path, folder_id)\n"
   ]
  },
  {
   "cell_type": "code",
   "execution_count": 4,
   "metadata": {},
   "outputs": [
    {
     "ename": "NameError",
     "evalue": "name 'response' is not defined",
     "output_type": "error",
     "traceback": [
      "\u001b[1;31m---------------------------------------------------------------------------\u001b[0m",
      "\u001b[1;31mNameError\u001b[0m                                 Traceback (most recent call last)",
      "\u001b[1;32mc:\\Users\\sa3id\\spiced\\test\\convergence_oracle\\Playground_SB\\pcloud\\Pclound.ipynb Cell 4\u001b[0m line \u001b[0;36m1\n\u001b[1;32m----> <a href='vscode-notebook-cell:/c%3A/Users/sa3id/spiced/test/convergence_oracle/Playground_SB/pcloud/Pclound.ipynb#W3sZmlsZQ%3D%3D?line=0'>1</a>\u001b[0m file_id \u001b[39m=\u001b[39m response[\u001b[39m'\u001b[39m\u001b[39mmetadata\u001b[39m\u001b[39m'\u001b[39m][\u001b[39m'\u001b[39m\u001b[39mfileid\u001b[39m\u001b[39m'\u001b[39m]\n\u001b[0;32m      <a href='vscode-notebook-cell:/c%3A/Users/sa3id/spiced/test/convergence_oracle/Playground_SB/pcloud/Pclound.ipynb#W3sZmlsZQ%3D%3D?line=2'>3</a>\u001b[0m \u001b[39m# Get a download link\u001b[39;00m\n\u001b[0;32m      <a href='vscode-notebook-cell:/c%3A/Users/sa3id/spiced/test/convergence_oracle/Playground_SB/pcloud/Pclound.ipynb#W3sZmlsZQ%3D%3D?line=3'>4</a>\u001b[0m download_link \u001b[39m=\u001b[39m pcloud\u001b[39m.\u001b[39mgetfilelink(file_id)[\u001b[39m'\u001b[39m\u001b[39mpath\u001b[39m\u001b[39m'\u001b[39m]\n",
      "\u001b[1;31mNameError\u001b[0m: name 'response' is not defined"
     ]
    }
   ],
   "source": [
    "file_id = response['metadata']['fileid']\n",
    "\n",
    "# Get a download link\n",
    "download_link = pcloud.getfilelink(file_id)['path']\n",
    "\n",
    "# Download the file\n",
    "import requests\n",
    "\n",
    "download_response = requests.get(download_link)\n",
    "with open(\"downloaded_model.pkl\", \"wb\") as model_file:\n",
    "    model_file.write(download_response.content)\n"
   ]
  }
 ],
 "metadata": {
  "kernelspec": {
   "display_name": ".venv",
   "language": "python",
   "name": "python3"
  },
  "language_info": {
   "codemirror_mode": {
    "name": "ipython",
    "version": 3
   },
   "file_extension": ".py",
   "mimetype": "text/x-python",
   "name": "python",
   "nbconvert_exporter": "python",
   "pygments_lexer": "ipython3",
   "version": "3.11.4"
  }
 },
 "nbformat": 4,
 "nbformat_minor": 2
}
