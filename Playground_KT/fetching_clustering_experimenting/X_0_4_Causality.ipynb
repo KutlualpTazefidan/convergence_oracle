{
 "cells": [
  {
   "cell_type": "markdown",
   "metadata": {},
   "source": [
    "Research on causality:\n",
    "- https://www.youtube.com/watch?v=4bq1ZYxXbtg&ab_channel=ZhijingJinonAIInsights\n",
    "- this one is good: https://www.youtube.com/watch?v=WqASiuM4a-A&list=PLz-ep5RbHosVVTz9HEzpI4d6xpWsc8rOa"
   ]
  }
 ],
 "metadata": {
  "language_info": {
   "name": "python"
  },
  "orig_nbformat": 4
 },
 "nbformat": 4,
 "nbformat_minor": 2
}
