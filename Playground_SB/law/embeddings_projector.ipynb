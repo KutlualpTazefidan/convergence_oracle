{
 "cells": [
  {
   "cell_type": "code",
   "execution_count": 2,
   "metadata": {},
   "outputs": [],
   "source": []
  },
  {
   "cell_type": "code",
   "execution_count": 6,
   "metadata": {},
   "outputs": [],
   "source": [
    "import pandas as pd\n",
    "import numpy as np\n",
    "import tensorflow as tf\n",
    "from tensorboard.plugins import projector\n",
    "import os\n",
    "\n",
    "# Load your data from a CSV file (replace 'your_data.csv' with your actual data file)\n",
    "df = pd.read_csv('data_with_topics.csv')\n",
    "\n",
    "# Step 1: Export DataFrame to TSV\n",
    "df.to_csv('embedding_data_projector.tsv', sep='\\t', index=False)\n",
    "\n",
    "# Step 2: Define Embeddings (Random Embeddings for Illustration)\n",
    "# Replace this with your actual embeddings if you have them\n",
    "embedding_dimension = 4  # Adjust this to match your embeddings dimension\n",
    "num_data_points = len(df)\n",
    "embeddings = np.random.randn(num_data_points, embedding_dimension)\n",
    "\n",
    "# Step 3: Create a TensorFlow Variable to hold the embeddings\n",
    "embedding_var = tf.Variable(embeddings, name='embedding')\n",
    "\n",
    "# Step 4: Projector Configuration\n",
    "config = projector.ProjectorConfig()\n",
    "\n",
    "# Specify the embeddings tensor name and metadata path\n",
    "embedding = config.embeddings.add()\n",
    "embedding.tensor_name = embedding_var.name\n",
    "embedding.metadata_path = 'metadata_projector.tsv'  # Metadata file for additional information\n",
    "\n",
    "# Step 5: Save Metadata (Assuming you have metadata for each data point)\n",
    "metadata = df[['title', 'year', 'citationCount', 'topic']]\n",
    "metadata.to_csv('metadata_projector.tsv', sep='\\t', index=False)\n",
    "\n",
    "# Step 6: Create the directory for the projector files\n",
    "projector_directory = 'projector_data'\n",
    "os.makedirs(projector_directory, exist_ok=True)\n",
    "\n",
    "# Step 7: Save the projector config\n",
    "projector.visualize_embeddings(projector_directory, config)\n",
    "\n",
    "# Step 8: Launch TensorBoard to view the embeddings projector\n",
    "# Open a terminal and navigate to the directory where your code is located.\n",
    "# Run the following command:\n",
    "# tensorboard --logdir=projector_directory\n",
    "\n",
    "# After running the above command, open a web browser and go to the TensorBoard URL to view your embeddings projector.\n"
   ]
  },
  {
   "cell_type": "code",
   "execution_count": null,
   "metadata": {},
   "outputs": [],
   "source": []
  },
  {
   "cell_type": "code",
   "execution_count": null,
   "metadata": {},
   "outputs": [],
   "source": []
  }
 ],
 "metadata": {
  "kernelspec": {
   "display_name": ".venv",
   "language": "python",
   "name": "python3"
  },
  "language_info": {
   "codemirror_mode": {
    "name": "ipython",
    "version": 3
   },
   "file_extension": ".py",
   "mimetype": "text/x-python",
   "name": "python",
   "nbconvert_exporter": "python",
   "pygments_lexer": "ipython3",
   "version": "3.11.4"
  }
 },
 "nbformat": 4,
 "nbformat_minor": 2
}
