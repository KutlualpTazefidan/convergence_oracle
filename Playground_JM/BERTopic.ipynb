{
      "cells": [
            {
                  "cell_type": "code",
                  "execution_count": 12,
                  "metadata": {},
                  "outputs": [],
                  "source": [
                        "from transformers import BertTokenizer, BertForSequenceClassification\n",
                        "from sklearn.feature_extraction.text import ENGLISH_STOP_WORDS\n",
                        "import os\n",
                        "import pandas as pd\n",
                        "\n",
                        "import time\n"
                  ]
            },
            {
                  "cell_type": "code",
                  "execution_count": 14,
                  "metadata": {},
                  "outputs": [
                        {
                              "ename": "ImportError",
                              "evalue": "cannot import name 'UMAP' from 'umap' (/Users/admin/.pyenv/versions/3.11.3/lib/python3.11/site-packages/umap/__init__.py)",
                              "output_type": "error",
                              "traceback": [
                                    "\u001b[0;31m---------------------------------------------------------------------------\u001b[0m",
                                    "\u001b[0;31mImportError\u001b[0m                               Traceback (most recent call last)",
                                    "\u001b[1;32m/Users/admin/Desktop/adsabs-dev-api/API_documentation_Python/BERTopic.ipynb Cell 2\u001b[0m line \u001b[0;36m2\n\u001b[1;32m      <a href='vscode-notebook-cell:/Users/admin/Desktop/adsabs-dev-api/API_documentation_Python/BERTopic.ipynb#X60sZmlsZQ%3D%3D?line=0'>1</a>\u001b[0m \u001b[39m#from umap import UMAP\u001b[39;00m\n\u001b[0;32m----> <a href='vscode-notebook-cell:/Users/admin/Desktop/adsabs-dev-api/API_documentation_Python/BERTopic.ipynb#X60sZmlsZQ%3D%3D?line=1'>2</a>\u001b[0m \u001b[39mfrom\u001b[39;00m \u001b[39mbertopic\u001b[39;00m \u001b[39mimport\u001b[39;00m BERTopic\n",
                                    "File \u001b[0;32m~/.pyenv/versions/3.11.3/lib/python3.11/site-packages/bertopic/__init__.py:1\u001b[0m\n\u001b[0;32m----> 1\u001b[0m \u001b[39mfrom\u001b[39;00m \u001b[39mbertopic\u001b[39;00m\u001b[39m.\u001b[39;00m\u001b[39m_bertopic\u001b[39;00m \u001b[39mimport\u001b[39;00m BERTopic\n\u001b[1;32m      3\u001b[0m __version__ \u001b[39m=\u001b[39m \u001b[39m\"\u001b[39m\u001b[39m0.15.0\u001b[39m\u001b[39m\"\u001b[39m\n\u001b[1;32m      5\u001b[0m __all__ \u001b[39m=\u001b[39m [\n\u001b[1;32m      6\u001b[0m     \u001b[39m\"\u001b[39m\u001b[39mBERTopic\u001b[39m\u001b[39m\"\u001b[39m,\n\u001b[1;32m      7\u001b[0m ]\n",
                                    "File \u001b[0;32m~/.pyenv/versions/3.11.3/lib/python3.11/site-packages/bertopic/_bertopic.py:38\u001b[0m\n\u001b[1;32m     36\u001b[0m \u001b[39m# Models\u001b[39;00m\n\u001b[1;32m     37\u001b[0m \u001b[39mimport\u001b[39;00m \u001b[39mhdbscan\u001b[39;00m\n\u001b[0;32m---> 38\u001b[0m \u001b[39mfrom\u001b[39;00m \u001b[39mumap\u001b[39;00m \u001b[39mimport\u001b[39;00m UMAP\n\u001b[1;32m     39\u001b[0m \u001b[39mfrom\u001b[39;00m \u001b[39msklearn\u001b[39;00m\u001b[39m.\u001b[39;00m\u001b[39mpreprocessing\u001b[39;00m \u001b[39mimport\u001b[39;00m normalize\n\u001b[1;32m     40\u001b[0m \u001b[39mfrom\u001b[39;00m \u001b[39msklearn\u001b[39;00m \u001b[39mimport\u001b[39;00m __version__ \u001b[39mas\u001b[39;00m sklearn_version\n",
                                    "\u001b[0;31mImportError\u001b[0m: cannot import name 'UMAP' from 'umap' (/Users/admin/.pyenv/versions/3.11.3/lib/python3.11/site-packages/umap/__init__.py)"
                              ]
                        }
                  ],
                  "source": [
                        "#from umap import UMAP\n",
                        "from bertopic import BERTopic"
                  ]
            },
            {
                  "cell_type": "markdown",
                  "metadata": {},
                  "source": [
                        "### whole Dataset"
                  ]
            },
            {
                  "cell_type": "code",
                  "execution_count": 100,
                  "metadata": {},
                  "outputs": [
                        {
                              "data": {
                                    "text/plain": [
                                          "\"\\n# Replace 'your_folder_path' with the path to your folder containing CSV files\\nfolder_path = '/Users/admin/Desktop/spiced/convergence_oracle_project/data_small'\\n\\n# Initialize an empty DataFrame to store the combined data\\ncombined_df = pd.DataFrame()\\n\\n# Iterate through all files in the folder\\nfor filename in os.listdir(folder_path):\\n    if filename.endswith('.csv'):\\n        # Construct the full path to the CSV file\\n        file_path = os.path.join(folder_path, filename)\\n        \\n        # Read the CSV file into a DataFrame\\n        csv_df = pd.read_csv(file_path)\\n        \\n        # Concatenate the current DataFrame with the combined DataFrame\\n        combined_df = pd.concat([combined_df, csv_df], ignore_index=True)\\n\\n# Print or manipulate the combined DataFrame as needed\\ncombined_df\\n\\n\""
                                    ]
                              },
                              "execution_count": 100,
                              "metadata": {},
                              "output_type": "execute_result"
                        }
                  ],
                  "source": [
                        "'''\n",
                        "# Replace 'your_folder_path' with the path to your folder containing CSV files\n",
                        "folder_path = '/Users/admin/Desktop/spiced/convergence_oracle_project/data_small'\n",
                        "\n",
                        "# Initialize an empty DataFrame to store the combined data\n",
                        "combined_df = pd.DataFrame()\n",
                        "\n",
                        "# Iterate through all files in the folder\n",
                        "for filename in os.listdir(folder_path):\n",
                        "    if filename.endswith('.csv'):\n",
                        "        # Construct the full path to the CSV file\n",
                        "        file_path = os.path.join(folder_path, filename)\n",
                        "        \n",
                        "        # Read the CSV file into a DataFrame\n",
                        "        csv_df = pd.read_csv(file_path)\n",
                        "        \n",
                        "        # Concatenate the current DataFrame with the combined DataFrame\n",
                        "        combined_df = pd.concat([combined_df, csv_df], ignore_index=True)\n",
                        "\n",
                        "# Print or manipulate the combined DataFrame as needed\n",
                        "combined_df\n",
                        "\n",
                        "'''"
                  ]
            },
            {
                  "cell_type": "markdown",
                  "metadata": {},
                  "source": [
                        "### smaller Try"
                  ]
            },
            {
                  "cell_type": "code",
                  "execution_count": 5,
                  "metadata": {},
                  "outputs": [
                        {
                              "data": {
                                    "text/html": [
                                          "<div>\n",
                                          "<style scoped>\n",
                                          "    .dataframe tbody tr th:only-of-type {\n",
                                          "        vertical-align: middle;\n",
                                          "    }\n",
                                          "\n",
                                          "    .dataframe tbody tr th {\n",
                                          "        vertical-align: top;\n",
                                          "    }\n",
                                          "\n",
                                          "    .dataframe thead th {\n",
                                          "        text-align: right;\n",
                                          "    }\n",
                                          "</style>\n",
                                          "<table border=\"1\" class=\"dataframe\">\n",
                                          "  <thead>\n",
                                          "    <tr style=\"text-align: right;\">\n",
                                          "      <th></th>\n",
                                          "      <th>abstract</th>\n",
                                          "      <th>author</th>\n",
                                          "      <th>title</th>\n",
                                          "      <th>year</th>\n",
                                          "      <th>citation_count</th>\n",
                                          "    </tr>\n",
                                          "  </thead>\n",
                                          "  <tbody>\n",
                                          "    <tr>\n",
                                          "      <th>0</th>\n",
                                          "      <td>Graphene is a rapidly rising star on the horiz...</td>\n",
                                          "      <td>['Geim, A. K.', 'Novoselov, K. S.']</td>\n",
                                          "      <td>['The rise of graphene']</td>\n",
                                          "      <td>2007</td>\n",
                                          "      <td>14425</td>\n",
                                          "    </tr>\n",
                                          "    <tr>\n",
                                          "      <th>1</th>\n",
                                          "      <td>Matplotlib is a 2D graphics package for Python...</td>\n",
                                          "      <td>['Hunter, John D.']</td>\n",
                                          "      <td>['Matplotlib: A 2D Graphics Environment']</td>\n",
                                          "      <td>2007</td>\n",
                                          "      <td>10931</td>\n",
                                          "    </tr>\n",
                                          "    <tr>\n",
                                          "      <th>2</th>\n",
                                          "      <td>A simple cosmological model with only six para...</td>\n",
                                          "      <td>['Spergel, D. N.', 'Bean, R.', 'Doré, O.', 'No...</td>\n",
                                          "      <td>['Three-Year Wilkinson Microwave Anisotropy Pr...</td>\n",
                                          "      <td>2007</td>\n",
                                          "      <td>7119</td>\n",
                                          "    </tr>\n",
                                          "    <tr>\n",
                                          "      <th>3</th>\n",
                                          "      <td>We measured the volatile chemical composition ...</td>\n",
                                          "      <td>['Gibb, Erika L.', 'Bonev, Boncho P.', 'Villan...</td>\n",
                                          "      <td>[\"Chemical Composition of Comet C/2007 N3 (Lul...</td>\n",
                                          "      <td>2012</td>\n",
                                          "      <td>49</td>\n",
                                          "    </tr>\n",
                                          "    <tr>\n",
                                          "      <th>4</th>\n",
                                          "      <td>Context: A new reduction of the astrometric da...</td>\n",
                                          "      <td>['van Leeuwen, F.']</td>\n",
                                          "      <td>['Validation of the new Hipparcos reduction']</td>\n",
                                          "      <td>2007</td>\n",
                                          "      <td>3068</td>\n",
                                          "    </tr>\n",
                                          "    <tr>\n",
                                          "      <th>...</th>\n",
                                          "      <td>...</td>\n",
                                          "      <td>...</td>\n",
                                          "      <td>...</td>\n",
                                          "      <td>...</td>\n",
                                          "      <td>...</td>\n",
                                          "    </tr>\n",
                                          "    <tr>\n",
                                          "      <th>795</th>\n",
                                          "      <td>Stable, hydrogen-burning, M dwarf stars make u...</td>\n",
                                          "      <td>['Tarter, Jill C.', 'Backus, Peter R.', 'Manci...</td>\n",
                                          "      <td>['A Reappraisal of The Habitability of Planets...</td>\n",
                                          "      <td>2007</td>\n",
                                          "      <td>278</td>\n",
                                          "    </tr>\n",
                                          "    <tr>\n",
                                          "      <th>796</th>\n",
                                          "      <td>Every three years the IAU/IAG Working Group on...</td>\n",
                                          "      <td>['Seidelmann, P. Kenneth', 'Archinal, B. A.', ...</td>\n",
                                          "      <td>['Report of the IAU/IAG Working Group on carto...</td>\n",
                                          "      <td>2007</td>\n",
                                          "      <td>198</td>\n",
                                          "    </tr>\n",
                                          "    <tr>\n",
                                          "      <th>797</th>\n",
                                          "      <td>We present here the first 2D rotating, multigr...</td>\n",
                                          "      <td>['Burrows, A.', 'Dessart, L.', 'Livne, E.', 'O...</td>\n",
                                          "      <td>['Simulations of Magnetically Driven Supernova...</td>\n",
                                          "      <td>2007</td>\n",
                                          "      <td>374</td>\n",
                                          "    </tr>\n",
                                          "    <tr>\n",
                                          "      <th>798</th>\n",
                                          "      <td>Motivated by recent graphene transport experim...</td>\n",
                                          "      <td>['Nomura, Kentaro', 'MacDonald, A. H.']</td>\n",
                                          "      <td>['Quantum Transport of Massless Dirac Fermions']</td>\n",
                                          "      <td>2007</td>\n",
                                          "      <td>483</td>\n",
                                          "    </tr>\n",
                                          "    <tr>\n",
                                          "      <th>799</th>\n",
                                          "      <td>Graph states-multipartite entangled states tha...</td>\n",
                                          "      <td>['Lu, Chao-Yang', 'Zhou, Xiao-Qi', 'Gühne, Otf...</td>\n",
                                          "      <td>['Experimental entanglement of six photons in ...</td>\n",
                                          "      <td>2007</td>\n",
                                          "      <td>478</td>\n",
                                          "    </tr>\n",
                                          "  </tbody>\n",
                                          "</table>\n",
                                          "<p>800 rows × 5 columns</p>\n",
                                          "</div>"
                                    ],
                                    "text/plain": [
                                          "                                              abstract  \\\n",
                                          "0    Graphene is a rapidly rising star on the horiz...   \n",
                                          "1    Matplotlib is a 2D graphics package for Python...   \n",
                                          "2    A simple cosmological model with only six para...   \n",
                                          "3    We measured the volatile chemical composition ...   \n",
                                          "4    Context: A new reduction of the astrometric da...   \n",
                                          "..                                                 ...   \n",
                                          "795  Stable, hydrogen-burning, M dwarf stars make u...   \n",
                                          "796  Every three years the IAU/IAG Working Group on...   \n",
                                          "797  We present here the first 2D rotating, multigr...   \n",
                                          "798  Motivated by recent graphene transport experim...   \n",
                                          "799  Graph states-multipartite entangled states tha...   \n",
                                          "\n",
                                          "                                                author  \\\n",
                                          "0                  ['Geim, A. K.', 'Novoselov, K. S.']   \n",
                                          "1                                  ['Hunter, John D.']   \n",
                                          "2    ['Spergel, D. N.', 'Bean, R.', 'Doré, O.', 'No...   \n",
                                          "3    ['Gibb, Erika L.', 'Bonev, Boncho P.', 'Villan...   \n",
                                          "4                                  ['van Leeuwen, F.']   \n",
                                          "..                                                 ...   \n",
                                          "795  ['Tarter, Jill C.', 'Backus, Peter R.', 'Manci...   \n",
                                          "796  ['Seidelmann, P. Kenneth', 'Archinal, B. A.', ...   \n",
                                          "797  ['Burrows, A.', 'Dessart, L.', 'Livne, E.', 'O...   \n",
                                          "798            ['Nomura, Kentaro', 'MacDonald, A. H.']   \n",
                                          "799  ['Lu, Chao-Yang', 'Zhou, Xiao-Qi', 'Gühne, Otf...   \n",
                                          "\n",
                                          "                                                 title  year  citation_count  \n",
                                          "0                             ['The rise of graphene']  2007           14425  \n",
                                          "1            ['Matplotlib: A 2D Graphics Environment']  2007           10931  \n",
                                          "2    ['Three-Year Wilkinson Microwave Anisotropy Pr...  2007            7119  \n",
                                          "3    [\"Chemical Composition of Comet C/2007 N3 (Lul...  2012              49  \n",
                                          "4        ['Validation of the new Hipparcos reduction']  2007            3068  \n",
                                          "..                                                 ...   ...             ...  \n",
                                          "795  ['A Reappraisal of The Habitability of Planets...  2007             278  \n",
                                          "796  ['Report of the IAU/IAG Working Group on carto...  2007             198  \n",
                                          "797  ['Simulations of Magnetically Driven Supernova...  2007             374  \n",
                                          "798   ['Quantum Transport of Massless Dirac Fermions']  2007             483  \n",
                                          "799  ['Experimental entanglement of six photons in ...  2007             478  \n",
                                          "\n",
                                          "[800 rows x 5 columns]"
                                    ]
                              },
                              "execution_count": 5,
                              "metadata": {},
                              "output_type": "execute_result"
                        }
                  ],
                  "source": [
                        "# SMALLER TRY\n",
                        "\n",
                        "\n",
                        "# Replace 'your_folder_path' with the path to your folder containing CSV files\n",
                        "folder_path = '/Users/admin/Desktop/spiced/convergence_oracle_project/data_small/2007_AADDR.csv'\n",
                        "\n",
                        "# Initialize an empty DataFrame to store the combined data\n",
                        "combined_df = pd.DataFrame()\n",
                        "\n",
                        "# Construct the full path to the CSV file\n",
                        "file_path = os.path.join(folder_path)\n",
                        "\n",
                        "# Read the CSV file into a DataFrame\n",
                        "csv_df = pd.read_csv(file_path)\n",
                        "\n",
                        "# Concatenate the current DataFrame with the combined DataFrame\n",
                        "combined_df = pd.concat([combined_df, csv_df], ignore_index=True)\n",
                        "\n",
                        "# Print or manipulate the combined DataFrame as needed\n",
                        "df=combined_df\n",
                        "df"
                  ]
            },
            {
                  "cell_type": "code",
                  "execution_count": 6,
                  "metadata": {},
                  "outputs": [],
                  "source": [
                        "# Print the count of NaN values for each column\n",
                        "nan_count = df.isna().sum()\n",
                        "nan_count\n",
                        "\n",
                        "#drop nan values in abstract column\n",
                        "df = df.dropna(subset=['abstract'])"
                  ]
            },
            {
                  "cell_type": "code",
                  "execution_count": 103,
                  "metadata": {},
                  "outputs": [
                        {
                              "data": {
                                    "text/plain": [
                                          "\" \\n\\nstop_words = set(ENGLISH_STOP_WORDS)\\ndef clean_text(row):\\n    # Tokenize and remove stopwords\\n    cleaned_tokens = [word for word in row['abstract'].split() if word.lower() not in ENGLISH_STOP_WORDS]\\n    return ' '.join(cleaned_tokens)\\ndf['abstract'] = df.apply(clean_text, axis=1)\\ndisplay(df.T)\\n\""
                                    ]
                              },
                              "execution_count": 103,
                              "metadata": {},
                              "output_type": "execute_result"
                        }
                  ],
                  "source": [
                        "''' \n",
                        "\n",
                        "stop_words = set(ENGLISH_STOP_WORDS)\n",
                        "def clean_text(row):\n",
                        "    # Tokenize and remove stopwords\n",
                        "    cleaned_tokens = [word for word in row['abstract'].split() if word.lower() not in ENGLISH_STOP_WORDS]\n",
                        "    return ' '.join(cleaned_tokens)\n",
                        "df['abstract'] = df.apply(clean_text, axis=1)\n",
                        "display(df.T)\n",
                        "'''"
                  ]
            },
            {
                  "cell_type": "code",
                  "execution_count": 7,
                  "metadata": {},
                  "outputs": [
                        {
                              "name": "stdout",
                              "output_type": "stream",
                              "text": [
                                    "                                              abstract  \\\n",
                                    "0    Graphene rapidly rising star horizon materials...   \n",
                                    "1    Matplotlib 2D graphics package Python applicat...   \n",
                                    "2    simple cosmological model parameters (matter d...   \n",
                                    "3    measured volatile chemical composition comet C...   \n",
                                    "4    Context: new reduction astrometric data produc...   \n",
                                    "..                                                 ...   \n",
                                    "795  Stable, hydrogen-burning, M dwarf stars make 7...   \n",
                                    "796  years IAU/IAG Working Group Cartographic Coord...   \n",
                                    "797  present 2D rotating, multigroup, radiation mag...   \n",
                                    "798  Motivated recent graphene transport experiment...   \n",
                                    "799  Graph states-multipartite entangled states rep...   \n",
                                    "\n",
                                    "                                                author  \\\n",
                                    "0                  ['Geim, A. K.', 'Novoselov, K. S.']   \n",
                                    "1                                  ['Hunter, John D.']   \n",
                                    "2    ['Spergel, D. N.', 'Bean, R.', 'Doré, O.', 'No...   \n",
                                    "3    ['Gibb, Erika L.', 'Bonev, Boncho P.', 'Villan...   \n",
                                    "4                                  ['van Leeuwen, F.']   \n",
                                    "..                                                 ...   \n",
                                    "795  ['Tarter, Jill C.', 'Backus, Peter R.', 'Manci...   \n",
                                    "796  ['Seidelmann, P. Kenneth', 'Archinal, B. A.', ...   \n",
                                    "797  ['Burrows, A.', 'Dessart, L.', 'Livne, E.', 'O...   \n",
                                    "798            ['Nomura, Kentaro', 'MacDonald, A. H.']   \n",
                                    "799  ['Lu, Chao-Yang', 'Zhou, Xiao-Qi', 'Gühne, Otf...   \n",
                                    "\n",
                                    "                                                 title  year  citation_count  \n",
                                    "0                             ['The rise of graphene']  2007           14425  \n",
                                    "1            ['Matplotlib: A 2D Graphics Environment']  2007           10931  \n",
                                    "2    ['Three-Year Wilkinson Microwave Anisotropy Pr...  2007            7119  \n",
                                    "3    [\"Chemical Composition of Comet C/2007 N3 (Lul...  2012              49  \n",
                                    "4        ['Validation of the new Hipparcos reduction']  2007            3068  \n",
                                    "..                                                 ...   ...             ...  \n",
                                    "795  ['A Reappraisal of The Habitability of Planets...  2007             278  \n",
                                    "796  ['Report of the IAU/IAG Working Group on carto...  2007             198  \n",
                                    "797  ['Simulations of Magnetically Driven Supernova...  2007             374  \n",
                                    "798   ['Quantum Transport of Massless Dirac Fermions']  2007             483  \n",
                                    "799  ['Experimental entanglement of six photons in ...  2007             478  \n",
                                    "\n",
                                    "[721 rows x 5 columns]\n"
                              ]
                        },
                        {
                              "name": "stderr",
                              "output_type": "stream",
                              "text": [
                                    "/var/folders/1z/z5qbgt215kz2n2kyfykkfdww0000gn/T/ipykernel_5165/957555213.py:10: SettingWithCopyWarning: \n",
                                    "A value is trying to be set on a copy of a slice from a DataFrame.\n",
                                    "Try using .loc[row_indexer,col_indexer] = value instead\n",
                                    "\n",
                                    "See the caveats in the documentation: https://pandas.pydata.org/pandas-docs/stable/user_guide/indexing.html#returning-a-view-versus-a-copy\n",
                                    "  df[column_name] = df[column_name].apply(remove_stopwords)\n"
                              ]
                        }
                  ],
                  "source": [
                        "\n",
                        "# remove stopword\n",
                        "\n",
                        "def remove_stopwords_from_column(df, column_name):\n",
                        "    # Define a function to remove stopwords from a text\n",
                        "    def remove_stopwords(text):\n",
                        "        tokens = text.split()\n",
                        "        filtered_tokens = [word for word in tokens if word.lower() not in ENGLISH_STOP_WORDS]\n",
                        "        return \" \".join(filtered_tokens)\n",
                        "    # Apply the remove_stopwords function to the specified column\n",
                        "    df[column_name] = df[column_name].apply(remove_stopwords)\n",
                        "    return df\n",
                        "\n",
                        "\n",
                        "df = remove_stopwords_from_column(df, 'abstract')\n",
                        "# Display the modified DataFrame\n",
                        "print(df)"
                  ]
            },
            {
                  "cell_type": "code",
                  "execution_count": 8,
                  "metadata": {},
                  "outputs": [
                        {
                              "ename": "NameError",
                              "evalue": "name 'BERTopic' is not defined",
                              "output_type": "error",
                              "traceback": [
                                    "\u001b[0;31m---------------------------------------------------------------------------\u001b[0m",
                                    "\u001b[0;31mNameError\u001b[0m                                 Traceback (most recent call last)",
                                    "\u001b[1;32m/Users/admin/Desktop/adsabs-dev-api/API_documentation_Python/BERTopic.ipynb Cell 9\u001b[0m line \u001b[0;36m6\n\u001b[1;32m      <a href='vscode-notebook-cell:/Users/admin/Desktop/adsabs-dev-api/API_documentation_Python/BERTopic.ipynb#X12sZmlsZQ%3D%3D?line=0'>1</a>\u001b[0m \u001b[39m# train BERTopic\u001b[39;00m\n\u001b[1;32m      <a href='vscode-notebook-cell:/Users/admin/Desktop/adsabs-dev-api/API_documentation_Python/BERTopic.ipynb#X12sZmlsZQ%3D%3D?line=1'>2</a>\u001b[0m \u001b[39m#start_time = time.time()\u001b[39;00m\n\u001b[1;32m      <a href='vscode-notebook-cell:/Users/admin/Desktop/adsabs-dev-api/API_documentation_Python/BERTopic.ipynb#X12sZmlsZQ%3D%3D?line=3'>4</a>\u001b[0m docs \u001b[39m=\u001b[39m df[\u001b[39m'\u001b[39m\u001b[39mabstract\u001b[39m\u001b[39m'\u001b[39m]\u001b[39m.\u001b[39mtolist()\n\u001b[0;32m----> <a href='vscode-notebook-cell:/Users/admin/Desktop/adsabs-dev-api/API_documentation_Python/BERTopic.ipynb#X12sZmlsZQ%3D%3D?line=5'>6</a>\u001b[0m topic_model \u001b[39m=\u001b[39m BERTopic(language\u001b[39m=\u001b[39m\u001b[39m'\u001b[39m\u001b[39menglish\u001b[39m\u001b[39m'\u001b[39m, n_gram_range\u001b[39m=\u001b[39m(\u001b[39m1\u001b[39m,\u001b[39m1\u001b[39m), min_topic_size\u001b[39m=\u001b[39m\u001b[39m30\u001b[39m)\n\u001b[1;32m      <a href='vscode-notebook-cell:/Users/admin/Desktop/adsabs-dev-api/API_documentation_Python/BERTopic.ipynb#X12sZmlsZQ%3D%3D?line=6'>7</a>\u001b[0m topics, probs \u001b[39m=\u001b[39m topic_model\u001b[39m.\u001b[39mfit_transform(docs)\n\u001b[1;32m      <a href='vscode-notebook-cell:/Users/admin/Desktop/adsabs-dev-api/API_documentation_Python/BERTopic.ipynb#X12sZmlsZQ%3D%3D?line=8'>9</a>\u001b[0m \u001b[39m#print('it took', (time.time() - start_time)/60, 'minutes')\u001b[39;00m\n",
                                    "\u001b[0;31mNameError\u001b[0m: name 'BERTopic' is not defined"
                              ]
                        }
                  ],
                  "source": [
                        "# train BERTopic\n",
                        "# start_time = time.time()\n",
                        "\n",
                        "docs = df['abstract'].tolist()\n",
                        "\n",
                        "topic_model = BERTopic(language='english', n_gram_range=(1,1), min_topic_size=30)\n",
                        "topics, probs = topic_model.fit_transform(docs)\n",
                        "\n",
                        "# print('it took', (time.time() - start_time)/60, 'minutes')"
                  ]
            },
            {
                  "cell_type": "code",
                  "execution_count": 106,
                  "metadata": {},
                  "outputs": [
                        {
                              "data": {
                                    "text/html": [
                                          "<div>\n",
                                          "<style scoped>\n",
                                          "    .dataframe tbody tr th:only-of-type {\n",
                                          "        vertical-align: middle;\n",
                                          "    }\n",
                                          "\n",
                                          "    .dataframe tbody tr th {\n",
                                          "        vertical-align: top;\n",
                                          "    }\n",
                                          "\n",
                                          "    .dataframe thead th {\n",
                                          "        text-align: right;\n",
                                          "    }\n",
                                          "</style>\n",
                                          "<table border=\"1\" class=\"dataframe\">\n",
                                          "  <thead>\n",
                                          "    <tr style=\"text-align: right;\">\n",
                                          "      <th></th>\n",
                                          "      <th>Topic</th>\n",
                                          "      <th>Count</th>\n",
                                          "      <th>Name</th>\n",
                                          "      <th>Representation</th>\n",
                                          "      <th>Representative_Docs</th>\n",
                                          "    </tr>\n",
                                          "  </thead>\n",
                                          "  <tbody>\n",
                                          "    <tr>\n",
                                          "      <th>0</th>\n",
                                          "      <td>-1</td>\n",
                                          "      <td>833</td>\n",
                                          "      <td>-1_energy_theory_models_quantum</td>\n",
                                          "      <td>[energy, theory, models, quantum, surface, dat...</td>\n",
                                          "      <td>[micrOMEGAs 2.0 code calculates relic density ...</td>\n",
                                          "    </tr>\n",
                                          "    <tr>\n",
                                          "      <th>1</th>\n",
                                          "      <td>0</td>\n",
                                          "      <td>129</td>\n",
                                          "      <td>0_galaxies_stellar_stars_formation</td>\n",
                                          "      <td>[galaxies, stellar, stars, formation, galaxy, ...</td>\n",
                                          "      <td>[Aims:We study relationship local environment ...</td>\n",
                                          "    </tr>\n",
                                          "    <tr>\n",
                                          "      <th>2</th>\n",
                                          "      <td>1</td>\n",
                                          "      <td>87</td>\n",
                                          "      <td>1_plasma_iter_magnetic_mhd</td>\n",
                                          "      <td>[plasma, iter, magnetic, mhd, transport, icm, ...</td>\n",
                                          "      <td>[Progress, ITER Physics Basis publication (ITE...</td>\n",
                                          "    </tr>\n",
                                          "    <tr>\n",
                                          "      <th>3</th>\n",
                                          "      <td>2</td>\n",
                                          "      <td>76</td>\n",
                                          "      <td>2_graphene_transport_electronic_dirac</td>\n",
                                          "      <td>[graphene, transport, electronic, dirac, gap, ...</td>\n",
                                          "      <td>[Electronic transport single layers graphene s...</td>\n",
                                          "    </tr>\n",
                                          "    <tr>\n",
                                          "      <th>4</th>\n",
                                          "      <td>3</td>\n",
                                          "      <td>69</td>\n",
                                          "      <td>3_solar_emissions_waves_alfvn</td>\n",
                                          "      <td>[solar, emissions, waves, alfvn, coronal, soa,...</td>\n",
                                          "      <td>[present results investigation sequence events...</td>\n",
                                          "    </tr>\n",
                                          "    <tr>\n",
                                          "      <th>5</th>\n",
                                          "      <td>4</td>\n",
                                          "      <td>66</td>\n",
                                          "      <td>4_disk_formation_star_outflows</td>\n",
                                          "      <td>[disk, formation, star, outflows, collapse, ac...</td>\n",
                                          "      <td>[review current understanding star formation, ...</td>\n",
                                          "    </tr>\n",
                                          "    <tr>\n",
                                          "      <th>6</th>\n",
                                          "      <td>5</td>\n",
                                          "      <td>63</td>\n",
                                          "      <td>5_optical_frequency_light_laser</td>\n",
                                          "      <td>[optical, frequency, light, laser, waves, plas...</td>\n",
                                          "      <td>[Optical frequency combs provide equidistant f...</td>\n",
                                          "    </tr>\n",
                                          "    <tr>\n",
                                          "      <th>7</th>\n",
                                          "      <td>6</td>\n",
                                          "      <td>63</td>\n",
                                          "      <td>6_telescope_national_observatory_science</td>\n",
                                          "      <td>[telescope, national, observatory, science, su...</td>\n",
                                          "      <td>[present imaging data photometry COSMOS survey...</td>\n",
                                          "    </tr>\n",
                                          "    <tr>\n",
                                          "      <th>8</th>\n",
                                          "      <td>7</td>\n",
                                          "      <td>63</td>\n",
                                          "      <td>7_josephson_tunnelling_xrt_xray</td>\n",
                                          "      <td>[josephson, tunnelling, xrt, xray, july, flux,...</td>\n",
                                          "      <td>[Tunnelling material particles classically imp...</td>\n",
                                          "    </tr>\n",
                                          "    <tr>\n",
                                          "      <th>9</th>\n",
                                          "      <td>8</td>\n",
                                          "      <td>57</td>\n",
                                          "      <td>8_quantum_cells_nanowire_efficiency</td>\n",
                                          "      <td>[quantum, cells, nanowire, efficiency, teraher...</td>\n",
                                          "      <td>[Solar cells attractive candidates clean renew...</td>\n",
                                          "    </tr>\n",
                                          "    <tr>\n",
                                          "      <th>10</th>\n",
                                          "      <td>9</td>\n",
                                          "      <td>57</td>\n",
                                          "      <td>9_crust_zircon_continental_plate</td>\n",
                                          "      <td>[crust, zircon, continental, plate, ma, easter...</td>\n",
                                          "      <td>[mass, age, chemical composition continental c...</td>\n",
                                          "    </tr>\n",
                                          "    <tr>\n",
                                          "      <th>11</th>\n",
                                          "      <td>10</td>\n",
                                          "      <td>55</td>\n",
                                          "      <td>10_agn_xray_disc_data</td>\n",
                                          "      <td>[agn, xray, disc, data, black, emission, mas, ...</td>\n",
                                          "      <td>[present analysis X-ray spectra sample 37 obse...</td>\n",
                                          "    </tr>\n",
                                          "    <tr>\n",
                                          "      <th>12</th>\n",
                                          "      <td>11</td>\n",
                                          "      <td>54</td>\n",
                                          "      <td>11_cavity_dynamics_systems_quantum</td>\n",
                                          "      <td>[cavity, dynamics, systems, quantum, nonequili...</td>\n",
                                          "      <td>[optical cavity enhances interaction atoms lig...</td>\n",
                                          "    </tr>\n",
                                          "    <tr>\n",
                                          "      <th>13</th>\n",
                                          "      <td>12</td>\n",
                                          "      <td>54</td>\n",
                                          "      <td>12_entanglement_states_quantum_gaussian</td>\n",
                                          "      <td>[entanglement, states, quantum, gaussian, stat...</td>\n",
                                          "      <td>[paper describes grasp2K, general-purpose rela...</td>\n",
                                          "    </tr>\n",
                                          "    <tr>\n",
                                          "      <th>14</th>\n",
                                          "      <td>13</td>\n",
                                          "      <td>51</td>\n",
                                          "      <td>13_tsunami_sph_tsunamis_recurrence</td>\n",
                                          "      <td>[tsunami, sph, tsunamis, recurrence, network, ...</td>\n",
                                          "      <td>[2004 Indian Ocean tsunami, generated gigantic...</td>\n",
                                          "    </tr>\n",
                                          "    <tr>\n",
                                          "      <th>15</th>\n",
                                          "      <td>14</td>\n",
                                          "      <td>45</td>\n",
                                          "      <td>14_gas_galaxies_protoclusters_msubsub</td>\n",
                                          "      <td>[gas, galaxies, protoclusters, msubsub, relati...</td>\n",
                                          "      <td>[Using largest volumes hydrodynamical cosmolog...</td>\n",
                                          "    </tr>\n",
                                          "    <tr>\n",
                                          "      <th>16</th>\n",
                                          "      <td>15</td>\n",
                                          "      <td>43</td>\n",
                                          "      <td>15_graphene_conductivity_twodimensional_2d</td>\n",
                                          "      <td>[graphene, conductivity, twodimensional, 2d, s...</td>\n",
                                          "      <td>[recent discovery graphene sparked interest, f...</td>\n",
                                          "    </tr>\n",
                                          "    <tr>\n",
                                          "      <th>17</th>\n",
                                          "      <td>16</td>\n",
                                          "      <td>43</td>\n",
                                          "      <td>16_galaxies_mass_color_red</td>\n",
                                          "      <td>[galaxies, mass, color, red, blue, galaxy, ste...</td>\n",
                                          "      <td>[analyze deep HST, VLT, Spitzer photometry gal...</td>\n",
                                          "    </tr>\n",
                                          "    <tr>\n",
                                          "      <th>18</th>\n",
                                          "      <td>17</td>\n",
                                          "      <td>42</td>\n",
                                          "      <td>17_aerosol_carbon_soil_forcing</td>\n",
                                          "      <td>[aerosol, carbon, soil, forcing, snow, atmosph...</td>\n",
                                          "      <td>[apply Snow, Ice, Aerosol Radiative (SNICAR) m...</td>\n",
                                          "    </tr>\n",
                                          "    <tr>\n",
                                          "      <th>19</th>\n",
                                          "      <td>18</td>\n",
                                          "      <td>39</td>\n",
                                          "      <td>18_climate_global_precipitation_water</td>\n",
                                          "      <td>[climate, global, precipitation, water, change...</td>\n",
                                          "      <td>[Human influence climate detected surface air ...</td>\n",
                                          "    </tr>\n",
                                          "    <tr>\n",
                                          "      <th>20</th>\n",
                                          "      <td>19</td>\n",
                                          "      <td>39</td>\n",
                                          "      <td>19_sub_survey_galaxies_ly</td>\n",
                                          "      <td>[sub, survey, galaxies, ly, emitters, radio, g...</td>\n",
                                          "      <td>[luminous quasars z &amp;gt; 6 suspected highly cl...</td>\n",
                                          "    </tr>\n",
                                          "    <tr>\n",
                                          "      <th>21</th>\n",
                                          "      <td>20</td>\n",
                                          "      <td>36</td>\n",
                                          "      <td>20_bcgs_mass_galaxies_luminosity</td>\n",
                                          "      <td>[bcgs, mass, galaxies, luminosity, galaxy, bla...</td>\n",
                                          "      <td>[use Sloan Digital Sky Survey (SDSS) construct...</td>\n",
                                          "    </tr>\n",
                                          "    <tr>\n",
                                          "      <th>22</th>\n",
                                          "      <td>21</td>\n",
                                          "      <td>33</td>\n",
                                          "      <td>21_quantum_information_qubits_superconducting</td>\n",
                                          "      <td>[quantum, information, qubits, superconducting...</td>\n",
                                          "      <td>[classical information processing, quantum inf...</td>\n",
                                          "    </tr>\n",
                                          "    <tr>\n",
                                          "      <th>23</th>\n",
                                          "      <td>22</td>\n",
                                          "      <td>33</td>\n",
                                          "      <td>22_haloes_halo_excursion_wmap</td>\n",
                                          "      <td>[haloes, halo, excursion, wmap, mass, universe...</td>\n",
                                          "      <td>[investigate spins shapes million dark matter ...</td>\n",
                                          "    </tr>\n",
                                          "    <tr>\n",
                                          "      <th>24</th>\n",
                                          "      <td>23</td>\n",
                                          "      <td>33</td>\n",
                                          "      <td>23_quasars_radio_ia_sne</td>\n",
                                          "      <td>[quasars, radio, ia, sne, catalog, redshift, h...</td>\n",
                                          "      <td>[present technique explore radio sky nanojansk...</td>\n",
                                          "    </tr>\n",
                                          "  </tbody>\n",
                                          "</table>\n",
                                          "</div>"
                                    ],
                                    "text/plain": [
                                          "    Topic  Count                                           Name  \\\n",
                                          "0      -1    833                -1_energy_theory_models_quantum   \n",
                                          "1       0    129             0_galaxies_stellar_stars_formation   \n",
                                          "2       1     87                     1_plasma_iter_magnetic_mhd   \n",
                                          "3       2     76          2_graphene_transport_electronic_dirac   \n",
                                          "4       3     69                  3_solar_emissions_waves_alfvn   \n",
                                          "5       4     66                 4_disk_formation_star_outflows   \n",
                                          "6       5     63                5_optical_frequency_light_laser   \n",
                                          "7       6     63       6_telescope_national_observatory_science   \n",
                                          "8       7     63                7_josephson_tunnelling_xrt_xray   \n",
                                          "9       8     57            8_quantum_cells_nanowire_efficiency   \n",
                                          "10      9     57               9_crust_zircon_continental_plate   \n",
                                          "11     10     55                          10_agn_xray_disc_data   \n",
                                          "12     11     54             11_cavity_dynamics_systems_quantum   \n",
                                          "13     12     54        12_entanglement_states_quantum_gaussian   \n",
                                          "14     13     51             13_tsunami_sph_tsunamis_recurrence   \n",
                                          "15     14     45          14_gas_galaxies_protoclusters_msubsub   \n",
                                          "16     15     43     15_graphene_conductivity_twodimensional_2d   \n",
                                          "17     16     43                     16_galaxies_mass_color_red   \n",
                                          "18     17     42                 17_aerosol_carbon_soil_forcing   \n",
                                          "19     18     39          18_climate_global_precipitation_water   \n",
                                          "20     19     39                      19_sub_survey_galaxies_ly   \n",
                                          "21     20     36               20_bcgs_mass_galaxies_luminosity   \n",
                                          "22     21     33  21_quantum_information_qubits_superconducting   \n",
                                          "23     22     33                  22_haloes_halo_excursion_wmap   \n",
                                          "24     23     33                        23_quasars_radio_ia_sne   \n",
                                          "\n",
                                          "                                       Representation  \\\n",
                                          "0   [energy, theory, models, quantum, surface, dat...   \n",
                                          "1   [galaxies, stellar, stars, formation, galaxy, ...   \n",
                                          "2   [plasma, iter, magnetic, mhd, transport, icm, ...   \n",
                                          "3   [graphene, transport, electronic, dirac, gap, ...   \n",
                                          "4   [solar, emissions, waves, alfvn, coronal, soa,...   \n",
                                          "5   [disk, formation, star, outflows, collapse, ac...   \n",
                                          "6   [optical, frequency, light, laser, waves, plas...   \n",
                                          "7   [telescope, national, observatory, science, su...   \n",
                                          "8   [josephson, tunnelling, xrt, xray, july, flux,...   \n",
                                          "9   [quantum, cells, nanowire, efficiency, teraher...   \n",
                                          "10  [crust, zircon, continental, plate, ma, easter...   \n",
                                          "11  [agn, xray, disc, data, black, emission, mas, ...   \n",
                                          "12  [cavity, dynamics, systems, quantum, nonequili...   \n",
                                          "13  [entanglement, states, quantum, gaussian, stat...   \n",
                                          "14  [tsunami, sph, tsunamis, recurrence, network, ...   \n",
                                          "15  [gas, galaxies, protoclusters, msubsub, relati...   \n",
                                          "16  [graphene, conductivity, twodimensional, 2d, s...   \n",
                                          "17  [galaxies, mass, color, red, blue, galaxy, ste...   \n",
                                          "18  [aerosol, carbon, soil, forcing, snow, atmosph...   \n",
                                          "19  [climate, global, precipitation, water, change...   \n",
                                          "20  [sub, survey, galaxies, ly, emitters, radio, g...   \n",
                                          "21  [bcgs, mass, galaxies, luminosity, galaxy, bla...   \n",
                                          "22  [quantum, information, qubits, superconducting...   \n",
                                          "23  [haloes, halo, excursion, wmap, mass, universe...   \n",
                                          "24  [quasars, radio, ia, sne, catalog, redshift, h...   \n",
                                          "\n",
                                          "                                  Representative_Docs  \n",
                                          "0   [micrOMEGAs 2.0 code calculates relic density ...  \n",
                                          "1   [Aims:We study relationship local environment ...  \n",
                                          "2   [Progress, ITER Physics Basis publication (ITE...  \n",
                                          "3   [Electronic transport single layers graphene s...  \n",
                                          "4   [present results investigation sequence events...  \n",
                                          "5   [review current understanding star formation, ...  \n",
                                          "6   [Optical frequency combs provide equidistant f...  \n",
                                          "7   [present imaging data photometry COSMOS survey...  \n",
                                          "8   [Tunnelling material particles classically imp...  \n",
                                          "9   [Solar cells attractive candidates clean renew...  \n",
                                          "10  [mass, age, chemical composition continental c...  \n",
                                          "11  [present analysis X-ray spectra sample 37 obse...  \n",
                                          "12  [optical cavity enhances interaction atoms lig...  \n",
                                          "13  [paper describes grasp2K, general-purpose rela...  \n",
                                          "14  [2004 Indian Ocean tsunami, generated gigantic...  \n",
                                          "15  [Using largest volumes hydrodynamical cosmolog...  \n",
                                          "16  [recent discovery graphene sparked interest, f...  \n",
                                          "17  [analyze deep HST, VLT, Spitzer photometry gal...  \n",
                                          "18  [apply Snow, Ice, Aerosol Radiative (SNICAR) m...  \n",
                                          "19  [Human influence climate detected surface air ...  \n",
                                          "20  [luminous quasars z &gt; 6 suspected highly cl...  \n",
                                          "21  [use Sloan Digital Sky Survey (SDSS) construct...  \n",
                                          "22  [classical information processing, quantum inf...  \n",
                                          "23  [investigate spins shapes million dark matter ...  \n",
                                          "24  [present technique explore radio sky nanojansk...  "
                                    ]
                              },
                              "execution_count": 106,
                              "metadata": {},
                              "output_type": "execute_result"
                        }
                  ],
                  "source": [
                        "topic_model.get_topic_info()"
                  ]
            },
            {
                  "cell_type": "code",
                  "execution_count": 107,
                  "metadata": {},
                  "outputs": [
                        {
                              "data": {
                                    "application/vnd.plotly.v1+json": {
                                          "config": {
                                                "plotlyServerURL": "https://plot.ly"
                                          },
                                          "data": [
                                                {
                                                      "marker": {
                                                            "color": "#D55E00"
                                                      },
                                                      "orientation": "h",
                                                      "type": "bar",
                                                      "x": [
                                                            0.020483005023766793,
                                                            0.026310188571477777,
                                                            0.02653534599124061,
                                                            0.03353599379841677,
                                                            0.04596441425418901
                                                      ],
                                                      "xaxis": "x",
                                                      "y": [
                                                            "galaxy  ",
                                                            "formation  ",
                                                            "stars  ",
                                                            "stellar  ",
                                                            "galaxies  "
                                                      ],
                                                      "yaxis": "y"
                                                },
                                                {
                                                      "marker": {
                                                            "color": "#0072B2"
                                                      },
                                                      "orientation": "h",
                                                      "type": "bar",
                                                      "x": [
                                                            0.023605948999256374,
                                                            0.02869543648919516,
                                                            0.029222826338836234,
                                                            0.03287082567978773,
                                                            0.032996312466631546
                                                      ],
                                                      "xaxis": "x2",
                                                      "y": [
                                                            "transport  ",
                                                            "mhd  ",
                                                            "magnetic  ",
                                                            "iter  ",
                                                            "plasma  "
                                                      ],
                                                      "yaxis": "y2"
                                                },
                                                {
                                                      "marker": {
                                                            "color": "#CC79A7"
                                                      },
                                                      "orientation": "h",
                                                      "type": "bar",
                                                      "x": [
                                                            0.03214308106397214,
                                                            0.033368196248120804,
                                                            0.039649439962771676,
                                                            0.04027879615265695,
                                                            0.08080915911192456
                                                      ],
                                                      "xaxis": "x3",
                                                      "y": [
                                                            "gap  ",
                                                            "dirac  ",
                                                            "electronic  ",
                                                            "transport  ",
                                                            "graphene  "
                                                      ],
                                                      "yaxis": "y3"
                                                },
                                                {
                                                      "marker": {
                                                            "color": "#E69F00"
                                                      },
                                                      "orientation": "h",
                                                      "type": "bar",
                                                      "x": [
                                                            0.02411677710107638,
                                                            0.024917541080634247,
                                                            0.025316193722223462,
                                                            0.036044230520485825,
                                                            0.04314626057166588
                                                      ],
                                                      "xaxis": "x4",
                                                      "y": [
                                                            "coronal  ",
                                                            "alfvn  ",
                                                            "waves  ",
                                                            "emissions  ",
                                                            "solar  "
                                                      ],
                                                      "yaxis": "y4"
                                                },
                                                {
                                                      "marker": {
                                                            "color": "#56B4E9"
                                                      },
                                                      "orientation": "h",
                                                      "type": "bar",
                                                      "x": [
                                                            0.025686608803966778,
                                                            0.025828776443977717,
                                                            0.026989146929877833,
                                                            0.034900777493740424,
                                                            0.03924071692397435
                                                      ],
                                                      "xaxis": "x5",
                                                      "y": [
                                                            "collapse  ",
                                                            "outflows  ",
                                                            "star  ",
                                                            "formation  ",
                                                            "disk  "
                                                      ],
                                                      "yaxis": "y5"
                                                },
                                                {
                                                      "marker": {
                                                            "color": "#009E73"
                                                      },
                                                      "orientation": "h",
                                                      "type": "bar",
                                                      "x": [
                                                            0.027247228537493253,
                                                            0.03178285669390737,
                                                            0.0395567210706649,
                                                            0.041245289384243884,
                                                            0.058618390628319264
                                                      ],
                                                      "xaxis": "x6",
                                                      "y": [
                                                            "waves  ",
                                                            "laser  ",
                                                            "light  ",
                                                            "frequency  ",
                                                            "optical  "
                                                      ],
                                                      "yaxis": "y6"
                                                },
                                                {
                                                      "marker": {
                                                            "color": "#F0E442"
                                                      },
                                                      "orientation": "h",
                                                      "type": "bar",
                                                      "x": [
                                                            0.03252777695794743,
                                                            0.033302443535169625,
                                                            0.035461686588591924,
                                                            0.03890727681352414,
                                                            0.04549061112671245
                                                      ],
                                                      "xaxis": "x7",
                                                      "y": [
                                                            "survey  ",
                                                            "science  ",
                                                            "observatory  ",
                                                            "national  ",
                                                            "telescope  "
                                                      ],
                                                      "yaxis": "y7"
                                                },
                                                {
                                                      "marker": {
                                                            "color": "#D55E00"
                                                      },
                                                      "orientation": "h",
                                                      "type": "bar",
                                                      "x": [
                                                            0.022851340017520816,
                                                            0.028261352315860265,
                                                            0.03043402188902812,
                                                            0.031504067050843666,
                                                            0.033032604370921495
                                                      ],
                                                      "xaxis": "x8",
                                                      "y": [
                                                            "july  ",
                                                            "xray  ",
                                                            "xrt  ",
                                                            "tunnelling  ",
                                                            "josephson  "
                                                      ],
                                                      "yaxis": "y8"
                                                },
                                                {
                                                      "marker": {
                                                            "color": "#0072B2"
                                                      },
                                                      "orientation": "h",
                                                      "type": "bar",
                                                      "x": [
                                                            0.04095034761412731,
                                                            0.043243911871146914,
                                                            0.04471029130018719,
                                                            0.04542847099146291,
                                                            0.05118638148974118
                                                      ],
                                                      "xaxis": "x9",
                                                      "y": [
                                                            "terahertz  ",
                                                            "efficiency  ",
                                                            "nanowire  ",
                                                            "cells  ",
                                                            "quantum  "
                                                      ],
                                                      "yaxis": "y9"
                                                },
                                                {
                                                      "marker": {
                                                            "color": "#CC79A7"
                                                      },
                                                      "orientation": "h",
                                                      "type": "bar",
                                                      "x": [
                                                            0.030232163621283666,
                                                            0.030835966791358346,
                                                            0.03166445118756993,
                                                            0.03307814761983955,
                                                            0.046980136723670476
                                                      ],
                                                      "xaxis": "x10",
                                                      "y": [
                                                            "ma  ",
                                                            "plate  ",
                                                            "continental  ",
                                                            "zircon  ",
                                                            "crust  "
                                                      ],
                                                      "yaxis": "y10"
                                                },
                                                {
                                                      "marker": {
                                                            "color": "#E69F00"
                                                      },
                                                      "orientation": "h",
                                                      "type": "bar",
                                                      "x": [
                                                            0.026221719205594254,
                                                            0.026784898274756372,
                                                            0.031362947036595853,
                                                            0.03950961210193031,
                                                            0.04166123162984965
                                                      ],
                                                      "xaxis": "x11",
                                                      "y": [
                                                            "black  ",
                                                            "data  ",
                                                            "disc  ",
                                                            "xray  ",
                                                            "agn  "
                                                      ],
                                                      "yaxis": "y11"
                                                },
                                                {
                                                      "marker": {
                                                            "color": "#56B4E9"
                                                      },
                                                      "orientation": "h",
                                                      "type": "bar",
                                                      "x": [
                                                            0.02919024778648049,
                                                            0.029592901731419787,
                                                            0.031753330421803595,
                                                            0.044816969460172086,
                                                            0.04767644610805814
                                                      ],
                                                      "xaxis": "x12",
                                                      "y": [
                                                            "nonequilibrium  ",
                                                            "quantum  ",
                                                            "systems  ",
                                                            "dynamics  ",
                                                            "cavity  "
                                                      ],
                                                      "yaxis": "y12"
                                                },
                                                {
                                                      "marker": {
                                                            "color": "#009E73"
                                                      },
                                                      "orientation": "h",
                                                      "type": "bar",
                                                      "x": [
                                                            0.031256740337969685,
                                                            0.03389450675141297,
                                                            0.0381078404371585,
                                                            0.05482660548677634,
                                                            0.05583875766497635
                                                      ],
                                                      "xaxis": "x13",
                                                      "y": [
                                                            "state  ",
                                                            "gaussian  ",
                                                            "quantum  ",
                                                            "states  ",
                                                            "entanglement  "
                                                      ],
                                                      "yaxis": "y13"
                                                },
                                                {
                                                      "marker": {
                                                            "color": "#F0E442"
                                                      },
                                                      "orientation": "h",
                                                      "type": "bar",
                                                      "x": [
                                                            0.02823046244832725,
                                                            0.030706080359450792,
                                                            0.030706080359450792,
                                                            0.03472519499349615,
                                                            0.059027409880211684
                                                      ],
                                                      "xaxis": "x14",
                                                      "y": [
                                                            "network  ",
                                                            "recurrence  ",
                                                            "tsunamis  ",
                                                            "sph  ",
                                                            "tsunami  "
                                                      ],
                                                      "yaxis": "y14"
                                                },
                                                {
                                                      "marker": {
                                                            "color": "#D55E00"
                                                      },
                                                      "orientation": "h",
                                                      "type": "bar",
                                                      "x": [
                                                            0.027381833680947137,
                                                            0.028451393570084665,
                                                            0.03050452413039472,
                                                            0.03396668730634891,
                                                            0.03588411232443446
                                                      ],
                                                      "xaxis": "x15",
                                                      "y": [
                                                            "relationship  ",
                                                            "msubsub  ",
                                                            "protoclusters  ",
                                                            "galaxies  ",
                                                            "gas  "
                                                      ],
                                                      "yaxis": "y15"
                                                }
                                          ],
                                          "layout": {
                                                "annotations": [
                                                      {
                                                            "font": {
                                                                  "size": 16
                                                            },
                                                            "showarrow": false,
                                                            "text": "Topic 0",
                                                            "x": 0.0875,
                                                            "xanchor": "center",
                                                            "xref": "paper",
                                                            "y": 1,
                                                            "yanchor": "bottom",
                                                            "yref": "paper"
                                                      },
                                                      {
                                                            "font": {
                                                                  "size": 16
                                                            },
                                                            "showarrow": false,
                                                            "text": "Topic 1",
                                                            "x": 0.36250000000000004,
                                                            "xanchor": "center",
                                                            "xref": "paper",
                                                            "y": 1,
                                                            "yanchor": "bottom",
                                                            "yref": "paper"
                                                      },
                                                      {
                                                            "font": {
                                                                  "size": 16
                                                            },
                                                            "showarrow": false,
                                                            "text": "Topic 2",
                                                            "x": 0.6375000000000001,
                                                            "xanchor": "center",
                                                            "xref": "paper",
                                                            "y": 1,
                                                            "yanchor": "bottom",
                                                            "yref": "paper"
                                                      },
                                                      {
                                                            "font": {
                                                                  "size": 16
                                                            },
                                                            "showarrow": false,
                                                            "text": "Topic 3",
                                                            "x": 0.9125,
                                                            "xanchor": "center",
                                                            "xref": "paper",
                                                            "y": 1,
                                                            "yanchor": "bottom",
                                                            "yref": "paper"
                                                      },
                                                      {
                                                            "font": {
                                                                  "size": 16
                                                            },
                                                            "showarrow": false,
                                                            "text": "Topic 4",
                                                            "x": 0.0875,
                                                            "xanchor": "center",
                                                            "xref": "paper",
                                                            "y": 0.7250000000000001,
                                                            "yanchor": "bottom",
                                                            "yref": "paper"
                                                      },
                                                      {
                                                            "font": {
                                                                  "size": 16
                                                            },
                                                            "showarrow": false,
                                                            "text": "Topic 5",
                                                            "x": 0.36250000000000004,
                                                            "xanchor": "center",
                                                            "xref": "paper",
                                                            "y": 0.7250000000000001,
                                                            "yanchor": "bottom",
                                                            "yref": "paper"
                                                      },
                                                      {
                                                            "font": {
                                                                  "size": 16
                                                            },
                                                            "showarrow": false,
                                                            "text": "Topic 6",
                                                            "x": 0.6375000000000001,
                                                            "xanchor": "center",
                                                            "xref": "paper",
                                                            "y": 0.7250000000000001,
                                                            "yanchor": "bottom",
                                                            "yref": "paper"
                                                      },
                                                      {
                                                            "font": {
                                                                  "size": 16
                                                            },
                                                            "showarrow": false,
                                                            "text": "Topic 7",
                                                            "x": 0.9125,
                                                            "xanchor": "center",
                                                            "xref": "paper",
                                                            "y": 0.7250000000000001,
                                                            "yanchor": "bottom",
                                                            "yref": "paper"
                                                      },
                                                      {
                                                            "font": {
                                                                  "size": 16
                                                            },
                                                            "showarrow": false,
                                                            "text": "Topic 8",
                                                            "x": 0.0875,
                                                            "xanchor": "center",
                                                            "xref": "paper",
                                                            "y": 0.45,
                                                            "yanchor": "bottom",
                                                            "yref": "paper"
                                                      },
                                                      {
                                                            "font": {
                                                                  "size": 16
                                                            },
                                                            "showarrow": false,
                                                            "text": "Topic 9",
                                                            "x": 0.36250000000000004,
                                                            "xanchor": "center",
                                                            "xref": "paper",
                                                            "y": 0.45,
                                                            "yanchor": "bottom",
                                                            "yref": "paper"
                                                      },
                                                      {
                                                            "font": {
                                                                  "size": 16
                                                            },
                                                            "showarrow": false,
                                                            "text": "Topic 10",
                                                            "x": 0.6375000000000001,
                                                            "xanchor": "center",
                                                            "xref": "paper",
                                                            "y": 0.45,
                                                            "yanchor": "bottom",
                                                            "yref": "paper"
                                                      },
                                                      {
                                                            "font": {
                                                                  "size": 16
                                                            },
                                                            "showarrow": false,
                                                            "text": "Topic 11",
                                                            "x": 0.9125,
                                                            "xanchor": "center",
                                                            "xref": "paper",
                                                            "y": 0.45,
                                                            "yanchor": "bottom",
                                                            "yref": "paper"
                                                      },
                                                      {
                                                            "font": {
                                                                  "size": 16
                                                            },
                                                            "showarrow": false,
                                                            "text": "Topic 12",
                                                            "x": 0.0875,
                                                            "xanchor": "center",
                                                            "xref": "paper",
                                                            "y": 0.175,
                                                            "yanchor": "bottom",
                                                            "yref": "paper"
                                                      },
                                                      {
                                                            "font": {
                                                                  "size": 16
                                                            },
                                                            "showarrow": false,
                                                            "text": "Topic 13",
                                                            "x": 0.36250000000000004,
                                                            "xanchor": "center",
                                                            "xref": "paper",
                                                            "y": 0.175,
                                                            "yanchor": "bottom",
                                                            "yref": "paper"
                                                      },
                                                      {
                                                            "font": {
                                                                  "size": 16
                                                            },
                                                            "showarrow": false,
                                                            "text": "Topic 14",
                                                            "x": 0.6375000000000001,
                                                            "xanchor": "center",
                                                            "xref": "paper",
                                                            "y": 0.175,
                                                            "yanchor": "bottom",
                                                            "yref": "paper"
                                                      }
                                                ],
                                                "height": 1000,
                                                "hoverlabel": {
                                                      "bgcolor": "white",
                                                      "font": {
                                                            "family": "Rockwell",
                                                            "size": 16
                                                      }
                                                },
                                                "showlegend": false,
                                                "template": {
                                                      "data": {
                                                            "bar": [
                                                                  {
                                                                        "error_x": {
                                                                              "color": "#2a3f5f"
                                                                        },
                                                                        "error_y": {
                                                                              "color": "#2a3f5f"
                                                                        },
                                                                        "marker": {
                                                                              "line": {
                                                                                    "color": "white",
                                                                                    "width": 0.5
                                                                              },
                                                                              "pattern": {
                                                                                    "fillmode": "overlay",
                                                                                    "size": 10,
                                                                                    "solidity": 0.2
                                                                              }
                                                                        },
                                                                        "type": "bar"
                                                                  }
                                                            ],
                                                            "barpolar": [
                                                                  {
                                                                        "marker": {
                                                                              "line": {
                                                                                    "color": "white",
                                                                                    "width": 0.5
                                                                              },
                                                                              "pattern": {
                                                                                    "fillmode": "overlay",
                                                                                    "size": 10,
                                                                                    "solidity": 0.2
                                                                              }
                                                                        },
                                                                        "type": "barpolar"
                                                                  }
                                                            ],
                                                            "carpet": [
                                                                  {
                                                                        "aaxis": {
                                                                              "endlinecolor": "#2a3f5f",
                                                                              "gridcolor": "#C8D4E3",
                                                                              "linecolor": "#C8D4E3",
                                                                              "minorgridcolor": "#C8D4E3",
                                                                              "startlinecolor": "#2a3f5f"
                                                                        },
                                                                        "baxis": {
                                                                              "endlinecolor": "#2a3f5f",
                                                                              "gridcolor": "#C8D4E3",
                                                                              "linecolor": "#C8D4E3",
                                                                              "minorgridcolor": "#C8D4E3",
                                                                              "startlinecolor": "#2a3f5f"
                                                                        },
                                                                        "type": "carpet"
                                                                  }
                                                            ],
                                                            "choropleth": [
                                                                  {
                                                                        "colorbar": {
                                                                              "outlinewidth": 0,
                                                                              "ticks": ""
                                                                        },
                                                                        "type": "choropleth"
                                                                  }
                                                            ],
                                                            "contour": [
                                                                  {
                                                                        "colorbar": {
                                                                              "outlinewidth": 0,
                                                                              "ticks": ""
                                                                        },
                                                                        "colorscale": [
                                                                              [
                                                                                    0,
                                                                                    "#0d0887"
                                                                              ],
                                                                              [
                                                                                    0.1111111111111111,
                                                                                    "#46039f"
                                                                              ],
                                                                              [
                                                                                    0.2222222222222222,
                                                                                    "#7201a8"
                                                                              ],
                                                                              [
                                                                                    0.3333333333333333,
                                                                                    "#9c179e"
                                                                              ],
                                                                              [
                                                                                    0.4444444444444444,
                                                                                    "#bd3786"
                                                                              ],
                                                                              [
                                                                                    0.5555555555555556,
                                                                                    "#d8576b"
                                                                              ],
                                                                              [
                                                                                    0.6666666666666666,
                                                                                    "#ed7953"
                                                                              ],
                                                                              [
                                                                                    0.7777777777777778,
                                                                                    "#fb9f3a"
                                                                              ],
                                                                              [
                                                                                    0.8888888888888888,
                                                                                    "#fdca26"
                                                                              ],
                                                                              [
                                                                                    1,
                                                                                    "#f0f921"
                                                                              ]
                                                                        ],
                                                                        "type": "contour"
                                                                  }
                                                            ],
                                                            "contourcarpet": [
                                                                  {
                                                                        "colorbar": {
                                                                              "outlinewidth": 0,
                                                                              "ticks": ""
                                                                        },
                                                                        "type": "contourcarpet"
                                                                  }
                                                            ],
                                                            "heatmap": [
                                                                  {
                                                                        "colorbar": {
                                                                              "outlinewidth": 0,
                                                                              "ticks": ""
                                                                        },
                                                                        "colorscale": [
                                                                              [
                                                                                    0,
                                                                                    "#0d0887"
                                                                              ],
                                                                              [
                                                                                    0.1111111111111111,
                                                                                    "#46039f"
                                                                              ],
                                                                              [
                                                                                    0.2222222222222222,
                                                                                    "#7201a8"
                                                                              ],
                                                                              [
                                                                                    0.3333333333333333,
                                                                                    "#9c179e"
                                                                              ],
                                                                              [
                                                                                    0.4444444444444444,
                                                                                    "#bd3786"
                                                                              ],
                                                                              [
                                                                                    0.5555555555555556,
                                                                                    "#d8576b"
                                                                              ],
                                                                              [
                                                                                    0.6666666666666666,
                                                                                    "#ed7953"
                                                                              ],
                                                                              [
                                                                                    0.7777777777777778,
                                                                                    "#fb9f3a"
                                                                              ],
                                                                              [
                                                                                    0.8888888888888888,
                                                                                    "#fdca26"
                                                                              ],
                                                                              [
                                                                                    1,
                                                                                    "#f0f921"
                                                                              ]
                                                                        ],
                                                                        "type": "heatmap"
                                                                  }
                                                            ],
                                                            "heatmapgl": [
                                                                  {
                                                                        "colorbar": {
                                                                              "outlinewidth": 0,
                                                                              "ticks": ""
                                                                        },
                                                                        "colorscale": [
                                                                              [
                                                                                    0,
                                                                                    "#0d0887"
                                                                              ],
                                                                              [
                                                                                    0.1111111111111111,
                                                                                    "#46039f"
                                                                              ],
                                                                              [
                                                                                    0.2222222222222222,
                                                                                    "#7201a8"
                                                                              ],
                                                                              [
                                                                                    0.3333333333333333,
                                                                                    "#9c179e"
                                                                              ],
                                                                              [
                                                                                    0.4444444444444444,
                                                                                    "#bd3786"
                                                                              ],
                                                                              [
                                                                                    0.5555555555555556,
                                                                                    "#d8576b"
                                                                              ],
                                                                              [
                                                                                    0.6666666666666666,
                                                                                    "#ed7953"
                                                                              ],
                                                                              [
                                                                                    0.7777777777777778,
                                                                                    "#fb9f3a"
                                                                              ],
                                                                              [
                                                                                    0.8888888888888888,
                                                                                    "#fdca26"
                                                                              ],
                                                                              [
                                                                                    1,
                                                                                    "#f0f921"
                                                                              ]
                                                                        ],
                                                                        "type": "heatmapgl"
                                                                  }
                                                            ],
                                                            "histogram": [
                                                                  {
                                                                        "marker": {
                                                                              "pattern": {
                                                                                    "fillmode": "overlay",
                                                                                    "size": 10,
                                                                                    "solidity": 0.2
                                                                              }
                                                                        },
                                                                        "type": "histogram"
                                                                  }
                                                            ],
                                                            "histogram2d": [
                                                                  {
                                                                        "colorbar": {
                                                                              "outlinewidth": 0,
                                                                              "ticks": ""
                                                                        },
                                                                        "colorscale": [
                                                                              [
                                                                                    0,
                                                                                    "#0d0887"
                                                                              ],
                                                                              [
                                                                                    0.1111111111111111,
                                                                                    "#46039f"
                                                                              ],
                                                                              [
                                                                                    0.2222222222222222,
                                                                                    "#7201a8"
                                                                              ],
                                                                              [
                                                                                    0.3333333333333333,
                                                                                    "#9c179e"
                                                                              ],
                                                                              [
                                                                                    0.4444444444444444,
                                                                                    "#bd3786"
                                                                              ],
                                                                              [
                                                                                    0.5555555555555556,
                                                                                    "#d8576b"
                                                                              ],
                                                                              [
                                                                                    0.6666666666666666,
                                                                                    "#ed7953"
                                                                              ],
                                                                              [
                                                                                    0.7777777777777778,
                                                                                    "#fb9f3a"
                                                                              ],
                                                                              [
                                                                                    0.8888888888888888,
                                                                                    "#fdca26"
                                                                              ],
                                                                              [
                                                                                    1,
                                                                                    "#f0f921"
                                                                              ]
                                                                        ],
                                                                        "type": "histogram2d"
                                                                  }
                                                            ],
                                                            "histogram2dcontour": [
                                                                  {
                                                                        "colorbar": {
                                                                              "outlinewidth": 0,
                                                                              "ticks": ""
                                                                        },
                                                                        "colorscale": [
                                                                              [
                                                                                    0,
                                                                                    "#0d0887"
                                                                              ],
                                                                              [
                                                                                    0.1111111111111111,
                                                                                    "#46039f"
                                                                              ],
                                                                              [
                                                                                    0.2222222222222222,
                                                                                    "#7201a8"
                                                                              ],
                                                                              [
                                                                                    0.3333333333333333,
                                                                                    "#9c179e"
                                                                              ],
                                                                              [
                                                                                    0.4444444444444444,
                                                                                    "#bd3786"
                                                                              ],
                                                                              [
                                                                                    0.5555555555555556,
                                                                                    "#d8576b"
                                                                              ],
                                                                              [
                                                                                    0.6666666666666666,
                                                                                    "#ed7953"
                                                                              ],
                                                                              [
                                                                                    0.7777777777777778,
                                                                                    "#fb9f3a"
                                                                              ],
                                                                              [
                                                                                    0.8888888888888888,
                                                                                    "#fdca26"
                                                                              ],
                                                                              [
                                                                                    1,
                                                                                    "#f0f921"
                                                                              ]
                                                                        ],
                                                                        "type": "histogram2dcontour"
                                                                  }
                                                            ],
                                                            "mesh3d": [
                                                                  {
                                                                        "colorbar": {
                                                                              "outlinewidth": 0,
                                                                              "ticks": ""
                                                                        },
                                                                        "type": "mesh3d"
                                                                  }
                                                            ],
                                                            "parcoords": [
                                                                  {
                                                                        "line": {
                                                                              "colorbar": {
                                                                                    "outlinewidth": 0,
                                                                                    "ticks": ""
                                                                              }
                                                                        },
                                                                        "type": "parcoords"
                                                                  }
                                                            ],
                                                            "pie": [
                                                                  {
                                                                        "automargin": true,
                                                                        "type": "pie"
                                                                  }
                                                            ],
                                                            "scatter": [
                                                                  {
                                                                        "fillpattern": {
                                                                              "fillmode": "overlay",
                                                                              "size": 10,
                                                                              "solidity": 0.2
                                                                        },
                                                                        "type": "scatter"
                                                                  }
                                                            ],
                                                            "scatter3d": [
                                                                  {
                                                                        "line": {
                                                                              "colorbar": {
                                                                                    "outlinewidth": 0,
                                                                                    "ticks": ""
                                                                              }
                                                                        },
                                                                        "marker": {
                                                                              "colorbar": {
                                                                                    "outlinewidth": 0,
                                                                                    "ticks": ""
                                                                              }
                                                                        },
                                                                        "type": "scatter3d"
                                                                  }
                                                            ],
                                                            "scattercarpet": [
                                                                  {
                                                                        "marker": {
                                                                              "colorbar": {
                                                                                    "outlinewidth": 0,
                                                                                    "ticks": ""
                                                                              }
                                                                        },
                                                                        "type": "scattercarpet"
                                                                  }
                                                            ],
                                                            "scattergeo": [
                                                                  {
                                                                        "marker": {
                                                                              "colorbar": {
                                                                                    "outlinewidth": 0,
                                                                                    "ticks": ""
                                                                              }
                                                                        },
                                                                        "type": "scattergeo"
                                                                  }
                                                            ],
                                                            "scattergl": [
                                                                  {
                                                                        "marker": {
                                                                              "colorbar": {
                                                                                    "outlinewidth": 0,
                                                                                    "ticks": ""
                                                                              }
                                                                        },
                                                                        "type": "scattergl"
                                                                  }
                                                            ],
                                                            "scattermapbox": [
                                                                  {
                                                                        "marker": {
                                                                              "colorbar": {
                                                                                    "outlinewidth": 0,
                                                                                    "ticks": ""
                                                                              }
                                                                        },
                                                                        "type": "scattermapbox"
                                                                  }
                                                            ],
                                                            "scatterpolar": [
                                                                  {
                                                                        "marker": {
                                                                              "colorbar": {
                                                                                    "outlinewidth": 0,
                                                                                    "ticks": ""
                                                                              }
                                                                        },
                                                                        "type": "scatterpolar"
                                                                  }
                                                            ],
                                                            "scatterpolargl": [
                                                                  {
                                                                        "marker": {
                                                                              "colorbar": {
                                                                                    "outlinewidth": 0,
                                                                                    "ticks": ""
                                                                              }
                                                                        },
                                                                        "type": "scatterpolargl"
                                                                  }
                                                            ],
                                                            "scatterternary": [
                                                                  {
                                                                        "marker": {
                                                                              "colorbar": {
                                                                                    "outlinewidth": 0,
                                                                                    "ticks": ""
                                                                              }
                                                                        },
                                                                        "type": "scatterternary"
                                                                  }
                                                            ],
                                                            "surface": [
                                                                  {
                                                                        "colorbar": {
                                                                              "outlinewidth": 0,
                                                                              "ticks": ""
                                                                        },
                                                                        "colorscale": [
                                                                              [
                                                                                    0,
                                                                                    "#0d0887"
                                                                              ],
                                                                              [
                                                                                    0.1111111111111111,
                                                                                    "#46039f"
                                                                              ],
                                                                              [
                                                                                    0.2222222222222222,
                                                                                    "#7201a8"
                                                                              ],
                                                                              [
                                                                                    0.3333333333333333,
                                                                                    "#9c179e"
                                                                              ],
                                                                              [
                                                                                    0.4444444444444444,
                                                                                    "#bd3786"
                                                                              ],
                                                                              [
                                                                                    0.5555555555555556,
                                                                                    "#d8576b"
                                                                              ],
                                                                              [
                                                                                    0.6666666666666666,
                                                                                    "#ed7953"
                                                                              ],
                                                                              [
                                                                                    0.7777777777777778,
                                                                                    "#fb9f3a"
                                                                              ],
                                                                              [
                                                                                    0.8888888888888888,
                                                                                    "#fdca26"
                                                                              ],
                                                                              [
                                                                                    1,
                                                                                    "#f0f921"
                                                                              ]
                                                                        ],
                                                                        "type": "surface"
                                                                  }
                                                            ],
                                                            "table": [
                                                                  {
                                                                        "cells": {
                                                                              "fill": {
                                                                                    "color": "#EBF0F8"
                                                                              },
                                                                              "line": {
                                                                                    "color": "white"
                                                                              }
                                                                        },
                                                                        "header": {
                                                                              "fill": {
                                                                                    "color": "#C8D4E3"
                                                                              },
                                                                              "line": {
                                                                                    "color": "white"
                                                                              }
                                                                        },
                                                                        "type": "table"
                                                                  }
                                                            ]
                                                      },
                                                      "layout": {
                                                            "annotationdefaults": {
                                                                  "arrowcolor": "#2a3f5f",
                                                                  "arrowhead": 0,
                                                                  "arrowwidth": 1
                                                            },
                                                            "autotypenumbers": "strict",
                                                            "coloraxis": {
                                                                  "colorbar": {
                                                                        "outlinewidth": 0,
                                                                        "ticks": ""
                                                                  }
                                                            },
                                                            "colorscale": {
                                                                  "diverging": [
                                                                        [
                                                                              0,
                                                                              "#8e0152"
                                                                        ],
                                                                        [
                                                                              0.1,
                                                                              "#c51b7d"
                                                                        ],
                                                                        [
                                                                              0.2,
                                                                              "#de77ae"
                                                                        ],
                                                                        [
                                                                              0.3,
                                                                              "#f1b6da"
                                                                        ],
                                                                        [
                                                                              0.4,
                                                                              "#fde0ef"
                                                                        ],
                                                                        [
                                                                              0.5,
                                                                              "#f7f7f7"
                                                                        ],
                                                                        [
                                                                              0.6,
                                                                              "#e6f5d0"
                                                                        ],
                                                                        [
                                                                              0.7,
                                                                              "#b8e186"
                                                                        ],
                                                                        [
                                                                              0.8,
                                                                              "#7fbc41"
                                                                        ],
                                                                        [
                                                                              0.9,
                                                                              "#4d9221"
                                                                        ],
                                                                        [
                                                                              1,
                                                                              "#276419"
                                                                        ]
                                                                  ],
                                                                  "sequential": [
                                                                        [
                                                                              0,
                                                                              "#0d0887"
                                                                        ],
                                                                        [
                                                                              0.1111111111111111,
                                                                              "#46039f"
                                                                        ],
                                                                        [
                                                                              0.2222222222222222,
                                                                              "#7201a8"
                                                                        ],
                                                                        [
                                                                              0.3333333333333333,
                                                                              "#9c179e"
                                                                        ],
                                                                        [
                                                                              0.4444444444444444,
                                                                              "#bd3786"
                                                                        ],
                                                                        [
                                                                              0.5555555555555556,
                                                                              "#d8576b"
                                                                        ],
                                                                        [
                                                                              0.6666666666666666,
                                                                              "#ed7953"
                                                                        ],
                                                                        [
                                                                              0.7777777777777778,
                                                                              "#fb9f3a"
                                                                        ],
                                                                        [
                                                                              0.8888888888888888,
                                                                              "#fdca26"
                                                                        ],
                                                                        [
                                                                              1,
                                                                              "#f0f921"
                                                                        ]
                                                                  ],
                                                                  "sequentialminus": [
                                                                        [
                                                                              0,
                                                                              "#0d0887"
                                                                        ],
                                                                        [
                                                                              0.1111111111111111,
                                                                              "#46039f"
                                                                        ],
                                                                        [
                                                                              0.2222222222222222,
                                                                              "#7201a8"
                                                                        ],
                                                                        [
                                                                              0.3333333333333333,
                                                                              "#9c179e"
                                                                        ],
                                                                        [
                                                                              0.4444444444444444,
                                                                              "#bd3786"
                                                                        ],
                                                                        [
                                                                              0.5555555555555556,
                                                                              "#d8576b"
                                                                        ],
                                                                        [
                                                                              0.6666666666666666,
                                                                              "#ed7953"
                                                                        ],
                                                                        [
                                                                              0.7777777777777778,
                                                                              "#fb9f3a"
                                                                        ],
                                                                        [
                                                                              0.8888888888888888,
                                                                              "#fdca26"
                                                                        ],
                                                                        [
                                                                              1,
                                                                              "#f0f921"
                                                                        ]
                                                                  ]
                                                            },
                                                            "colorway": [
                                                                  "#636efa",
                                                                  "#EF553B",
                                                                  "#00cc96",
                                                                  "#ab63fa",
                                                                  "#FFA15A",
                                                                  "#19d3f3",
                                                                  "#FF6692",
                                                                  "#B6E880",
                                                                  "#FF97FF",
                                                                  "#FECB52"
                                                            ],
                                                            "font": {
                                                                  "color": "#2a3f5f"
                                                            },
                                                            "geo": {
                                                                  "bgcolor": "white",
                                                                  "lakecolor": "white",
                                                                  "landcolor": "white",
                                                                  "showlakes": true,
                                                                  "showland": true,
                                                                  "subunitcolor": "#C8D4E3"
                                                            },
                                                            "hoverlabel": {
                                                                  "align": "left"
                                                            },
                                                            "hovermode": "closest",
                                                            "mapbox": {
                                                                  "style": "light"
                                                            },
                                                            "paper_bgcolor": "white",
                                                            "plot_bgcolor": "white",
                                                            "polar": {
                                                                  "angularaxis": {
                                                                        "gridcolor": "#EBF0F8",
                                                                        "linecolor": "#EBF0F8",
                                                                        "ticks": ""
                                                                  },
                                                                  "bgcolor": "white",
                                                                  "radialaxis": {
                                                                        "gridcolor": "#EBF0F8",
                                                                        "linecolor": "#EBF0F8",
                                                                        "ticks": ""
                                                                  }
                                                            },
                                                            "scene": {
                                                                  "xaxis": {
                                                                        "backgroundcolor": "white",
                                                                        "gridcolor": "#DFE8F3",
                                                                        "gridwidth": 2,
                                                                        "linecolor": "#EBF0F8",
                                                                        "showbackground": true,
                                                                        "ticks": "",
                                                                        "zerolinecolor": "#EBF0F8"
                                                                  },
                                                                  "yaxis": {
                                                                        "backgroundcolor": "white",
                                                                        "gridcolor": "#DFE8F3",
                                                                        "gridwidth": 2,
                                                                        "linecolor": "#EBF0F8",
                                                                        "showbackground": true,
                                                                        "ticks": "",
                                                                        "zerolinecolor": "#EBF0F8"
                                                                  },
                                                                  "zaxis": {
                                                                        "backgroundcolor": "white",
                                                                        "gridcolor": "#DFE8F3",
                                                                        "gridwidth": 2,
                                                                        "linecolor": "#EBF0F8",
                                                                        "showbackground": true,
                                                                        "ticks": "",
                                                                        "zerolinecolor": "#EBF0F8"
                                                                  }
                                                            },
                                                            "shapedefaults": {
                                                                  "line": {
                                                                        "color": "#2a3f5f"
                                                                  }
                                                            },
                                                            "ternary": {
                                                                  "aaxis": {
                                                                        "gridcolor": "#DFE8F3",
                                                                        "linecolor": "#A2B1C6",
                                                                        "ticks": ""
                                                                  },
                                                                  "baxis": {
                                                                        "gridcolor": "#DFE8F3",
                                                                        "linecolor": "#A2B1C6",
                                                                        "ticks": ""
                                                                  },
                                                                  "bgcolor": "white",
                                                                  "caxis": {
                                                                        "gridcolor": "#DFE8F3",
                                                                        "linecolor": "#A2B1C6",
                                                                        "ticks": ""
                                                                  }
                                                            },
                                                            "title": {
                                                                  "x": 0.05
                                                            },
                                                            "xaxis": {
                                                                  "automargin": true,
                                                                  "gridcolor": "#EBF0F8",
                                                                  "linecolor": "#EBF0F8",
                                                                  "ticks": "",
                                                                  "title": {
                                                                        "standoff": 15
                                                                  },
                                                                  "zerolinecolor": "#EBF0F8",
                                                                  "zerolinewidth": 2
                                                            },
                                                            "yaxis": {
                                                                  "automargin": true,
                                                                  "gridcolor": "#EBF0F8",
                                                                  "linecolor": "#EBF0F8",
                                                                  "ticks": "",
                                                                  "title": {
                                                                        "standoff": 15
                                                                  },
                                                                  "zerolinecolor": "#EBF0F8",
                                                                  "zerolinewidth": 2
                                                            }
                                                      }
                                                },
                                                "title": {
                                                      "font": {
                                                            "color": "Black",
                                                            "size": 22
                                                      },
                                                      "text": "Topic Word Scores",
                                                      "x": 0.5,
                                                      "xanchor": "center",
                                                      "yanchor": "top"
                                                },
                                                "width": 1000,
                                                "xaxis": {
                                                      "anchor": "y",
                                                      "domain": [
                                                            0,
                                                            0.175
                                                      ],
                                                      "showgrid": true
                                                },
                                                "xaxis10": {
                                                      "anchor": "y10",
                                                      "domain": [
                                                            0.275,
                                                            0.45
                                                      ],
                                                      "showgrid": true
                                                },
                                                "xaxis11": {
                                                      "anchor": "y11",
                                                      "domain": [
                                                            0.55,
                                                            0.7250000000000001
                                                      ],
                                                      "showgrid": true
                                                },
                                                "xaxis12": {
                                                      "anchor": "y12",
                                                      "domain": [
                                                            0.825,
                                                            1
                                                      ],
                                                      "showgrid": true
                                                },
                                                "xaxis13": {
                                                      "anchor": "y13",
                                                      "domain": [
                                                            0,
                                                            0.175
                                                      ],
                                                      "showgrid": true
                                                },
                                                "xaxis14": {
                                                      "anchor": "y14",
                                                      "domain": [
                                                            0.275,
                                                            0.45
                                                      ],
                                                      "showgrid": true
                                                },
                                                "xaxis15": {
                                                      "anchor": "y15",
                                                      "domain": [
                                                            0.55,
                                                            0.7250000000000001
                                                      ],
                                                      "showgrid": true
                                                },
                                                "xaxis16": {
                                                      "anchor": "y16",
                                                      "domain": [
                                                            0.825,
                                                            1
                                                      ],
                                                      "showgrid": true
                                                },
                                                "xaxis2": {
                                                      "anchor": "y2",
                                                      "domain": [
                                                            0.275,
                                                            0.45
                                                      ],
                                                      "showgrid": true
                                                },
                                                "xaxis3": {
                                                      "anchor": "y3",
                                                      "domain": [
                                                            0.55,
                                                            0.7250000000000001
                                                      ],
                                                      "showgrid": true
                                                },
                                                "xaxis4": {
                                                      "anchor": "y4",
                                                      "domain": [
                                                            0.825,
                                                            1
                                                      ],
                                                      "showgrid": true
                                                },
                                                "xaxis5": {
                                                      "anchor": "y5",
                                                      "domain": [
                                                            0,
                                                            0.175
                                                      ],
                                                      "showgrid": true
                                                },
                                                "xaxis6": {
                                                      "anchor": "y6",
                                                      "domain": [
                                                            0.275,
                                                            0.45
                                                      ],
                                                      "showgrid": true
                                                },
                                                "xaxis7": {
                                                      "anchor": "y7",
                                                      "domain": [
                                                            0.55,
                                                            0.7250000000000001
                                                      ],
                                                      "showgrid": true
                                                },
                                                "xaxis8": {
                                                      "anchor": "y8",
                                                      "domain": [
                                                            0.825,
                                                            1
                                                      ],
                                                      "showgrid": true
                                                },
                                                "xaxis9": {
                                                      "anchor": "y9",
                                                      "domain": [
                                                            0,
                                                            0.175
                                                      ],
                                                      "showgrid": true
                                                },
                                                "yaxis": {
                                                      "anchor": "x",
                                                      "domain": [
                                                            0.825,
                                                            1
                                                      ],
                                                      "showgrid": true
                                                },
                                                "yaxis10": {
                                                      "anchor": "x10",
                                                      "domain": [
                                                            0.275,
                                                            0.45
                                                      ],
                                                      "showgrid": true
                                                },
                                                "yaxis11": {
                                                      "anchor": "x11",
                                                      "domain": [
                                                            0.275,
                                                            0.45
                                                      ],
                                                      "showgrid": true
                                                },
                                                "yaxis12": {
                                                      "anchor": "x12",
                                                      "domain": [
                                                            0.275,
                                                            0.45
                                                      ],
                                                      "showgrid": true
                                                },
                                                "yaxis13": {
                                                      "anchor": "x13",
                                                      "domain": [
                                                            0,
                                                            0.175
                                                      ],
                                                      "showgrid": true
                                                },
                                                "yaxis14": {
                                                      "anchor": "x14",
                                                      "domain": [
                                                            0,
                                                            0.175
                                                      ],
                                                      "showgrid": true
                                                },
                                                "yaxis15": {
                                                      "anchor": "x15",
                                                      "domain": [
                                                            0,
                                                            0.175
                                                      ],
                                                      "showgrid": true
                                                },
                                                "yaxis16": {
                                                      "anchor": "x16",
                                                      "domain": [
                                                            0,
                                                            0.175
                                                      ],
                                                      "showgrid": true
                                                },
                                                "yaxis2": {
                                                      "anchor": "x2",
                                                      "domain": [
                                                            0.825,
                                                            1
                                                      ],
                                                      "showgrid": true
                                                },
                                                "yaxis3": {
                                                      "anchor": "x3",
                                                      "domain": [
                                                            0.825,
                                                            1
                                                      ],
                                                      "showgrid": true
                                                },
                                                "yaxis4": {
                                                      "anchor": "x4",
                                                      "domain": [
                                                            0.825,
                                                            1
                                                      ],
                                                      "showgrid": true
                                                },
                                                "yaxis5": {
                                                      "anchor": "x5",
                                                      "domain": [
                                                            0.55,
                                                            0.7250000000000001
                                                      ],
                                                      "showgrid": true
                                                },
                                                "yaxis6": {
                                                      "anchor": "x6",
                                                      "domain": [
                                                            0.55,
                                                            0.7250000000000001
                                                      ],
                                                      "showgrid": true
                                                },
                                                "yaxis7": {
                                                      "anchor": "x7",
                                                      "domain": [
                                                            0.55,
                                                            0.7250000000000001
                                                      ],
                                                      "showgrid": true
                                                },
                                                "yaxis8": {
                                                      "anchor": "x8",
                                                      "domain": [
                                                            0.55,
                                                            0.7250000000000001
                                                      ],
                                                      "showgrid": true
                                                },
                                                "yaxis9": {
                                                      "anchor": "x9",
                                                      "domain": [
                                                            0.275,
                                                            0.45
                                                      ],
                                                      "showgrid": true
                                                }
                                          }
                                    }
                              },
                              "metadata": {},
                              "output_type": "display_data"
                        }
                  ],
                  "source": [
                        "topic_model.visualize_barchart(top_n_topics=15)"
                  ]
            },
            {
                  "cell_type": "code",
                  "execution_count": 108,
                  "metadata": {},
                  "outputs": [
                        {
                              "data": {
                                    "application/vnd.plotly.v1+json": {
                                          "config": {
                                                "plotlyServerURL": "https://plot.ly"
                                          },
                                          "data": [
                                                {
                                                      "customdata": [
                                                            [
                                                                  0,
                                                                  "galaxies | stellar | stars | formation | galaxy",
                                                                  129
                                                            ],
                                                            [
                                                                  1,
                                                                  "plasma | iter | magnetic | mhd | transport",
                                                                  87
                                                            ],
                                                            [
                                                                  2,
                                                                  "graphene | transport | electronic | dirac | gap",
                                                                  76
                                                            ],
                                                            [
                                                                  3,
                                                                  "solar | emissions | waves | alfvn | coronal",
                                                                  69
                                                            ],
                                                            [
                                                                  4,
                                                                  "disk | formation | star | outflows | collapse",
                                                                  66
                                                            ],
                                                            [
                                                                  5,
                                                                  "optical | frequency | light | laser | waves",
                                                                  63
                                                            ],
                                                            [
                                                                  6,
                                                                  "telescope | national | observatory | science | survey",
                                                                  63
                                                            ],
                                                            [
                                                                  7,
                                                                  "josephson | tunnelling | xrt | xray | july",
                                                                  63
                                                            ],
                                                            [
                                                                  8,
                                                                  "quantum | cells | nanowire | efficiency | terahertz",
                                                                  57
                                                            ],
                                                            [
                                                                  9,
                                                                  "crust | zircon | continental | plate | ma",
                                                                  57
                                                            ],
                                                            [
                                                                  10,
                                                                  "agn | xray | disc | data | black",
                                                                  55
                                                            ],
                                                            [
                                                                  11,
                                                                  "cavity | dynamics | systems | quantum | nonequilibrium",
                                                                  54
                                                            ],
                                                            [
                                                                  12,
                                                                  "entanglement | states | quantum | gaussian | state",
                                                                  54
                                                            ],
                                                            [
                                                                  13,
                                                                  "tsunami | sph | tsunamis | recurrence | network",
                                                                  51
                                                            ],
                                                            [
                                                                  14,
                                                                  "gas | galaxies | protoclusters | msubsub | relationship",
                                                                  45
                                                            ],
                                                            [
                                                                  15,
                                                                  "graphene | conductivity | twodimensional | 2d | samples",
                                                                  43
                                                            ],
                                                            [
                                                                  16,
                                                                  "galaxies | mass | color | red | blue",
                                                                  43
                                                            ],
                                                            [
                                                                  17,
                                                                  "aerosol | carbon | soil | forcing | snow",
                                                                  42
                                                            ],
                                                            [
                                                                  18,
                                                                  "climate | global | precipitation | water | changes",
                                                                  39
                                                            ],
                                                            [
                                                                  19,
                                                                  "sub | survey | galaxies | ly | emitters",
                                                                  39
                                                            ],
                                                            [
                                                                  20,
                                                                  "bcgs | mass | galaxies | luminosity | galaxy",
                                                                  36
                                                            ],
                                                            [
                                                                  21,
                                                                  "quantum | information | qubits | superconducting | bus",
                                                                  33
                                                            ],
                                                            [
                                                                  22,
                                                                  "haloes | halo | excursion | wmap | mass",
                                                                  33
                                                            ],
                                                            [
                                                                  23,
                                                                  "quasars | radio | ia | sne | catalog",
                                                                  33
                                                            ]
                                                      ],
                                                      "hovertemplate": "<b>Topic %{customdata[0]}</b><br>%{customdata[1]}<br>Size: %{customdata[2]}",
                                                      "legendgroup": "",
                                                      "marker": {
                                                            "color": "#B0BEC5",
                                                            "line": {
                                                                  "color": "DarkSlateGrey",
                                                                  "width": 2
                                                            },
                                                            "size": [
                                                                  129,
                                                                  87,
                                                                  76,
                                                                  69,
                                                                  66,
                                                                  63,
                                                                  63,
                                                                  63,
                                                                  57,
                                                                  57,
                                                                  55,
                                                                  54,
                                                                  54,
                                                                  51,
                                                                  45,
                                                                  43,
                                                                  43,
                                                                  42,
                                                                  39,
                                                                  39,
                                                                  36,
                                                                  33,
                                                                  33,
                                                                  33
                                                            ],
                                                            "sizemode": "area",
                                                            "sizeref": 0.080625,
                                                            "symbol": "circle"
                                                      },
                                                      "mode": "markers",
                                                      "name": "",
                                                      "orientation": "v",
                                                      "showlegend": false,
                                                      "type": "scatter",
                                                      "x": [
                                                            4.283181667327881,
                                                            6.511432647705078,
                                                            6.177112579345703,
                                                            4.968735218048096,
                                                            6.303102970123291,
                                                            13.693597793579102,
                                                            4.948084354400635,
                                                            4.521921157836914,
                                                            13.900745391845703,
                                                            4.365354061126709,
                                                            4.776907920837402,
                                                            19.505733489990234,
                                                            19.250171661376953,
                                                            6.06200647354126,
                                                            4.660782337188721,
                                                            6.3817267417907715,
                                                            3.563124418258667,
                                                            -3.144148349761963,
                                                            -3.061009168624878,
                                                            3.101217031478882,
                                                            4.447018146514893,
                                                            19.165895462036133,
                                                            4.663877487182617,
                                                            2.889054536819458
                                                      ],
                                                      "xaxis": "x",
                                                      "y": [
                                                            -6.21266508102417,
                                                            -4.930053234100342,
                                                            14.212806701660156,
                                                            -6.17965030670166,
                                                            -5.3676347732543945,
                                                            -3.4388113021850586,
                                                            5.8370161056518555,
                                                            5.411348819732666,
                                                            -3.2317867279052734,
                                                            -5.699121952056885,
                                                            5.665803909301758,
                                                            6.996352195739746,
                                                            6.740771770477295,
                                                            -5.051442623138428,
                                                            -5.948719024658203,
                                                            13.998255729675293,
                                                            -5.786217212677002,
                                                            7.9005255699157715,
                                                            7.817548751831055,
                                                            -5.551164150238037,
                                                            -6.799574851989746,
                                                            6.656525611877441,
                                                            -7.099506378173828,
                                                            -5.383663654327393
                                                      ],
                                                      "yaxis": "y"
                                                }
                                          ],
                                          "layout": {
                                                "annotations": [
                                                      {
                                                            "showarrow": false,
                                                            "text": "D1",
                                                            "x": -3.6157706022262572,
                                                            "y": 4.090147686004638,
                                                            "yshift": 10
                                                      },
                                                      {
                                                            "showarrow": false,
                                                            "text": "D2",
                                                            "x": 9.407911455631258,
                                                            "xshift": 10,
                                                            "y": 16.34472770690918
                                                      }
                                                ],
                                                "height": 650,
                                                "hoverlabel": {
                                                      "bgcolor": "white",
                                                      "font": {
                                                            "family": "Rockwell",
                                                            "size": 16
                                                      }
                                                },
                                                "legend": {
                                                      "itemsizing": "constant",
                                                      "tracegroupgap": 0
                                                },
                                                "margin": {
                                                      "t": 60
                                                },
                                                "shapes": [
                                                      {
                                                            "line": {
                                                                  "color": "#CFD8DC",
                                                                  "width": 2
                                                            },
                                                            "type": "line",
                                                            "x0": 9.407911455631258,
                                                            "x1": 9.407911455631258,
                                                            "y0": -8.164432334899903,
                                                            "y1": 16.34472770690918
                                                      },
                                                      {
                                                            "line": {
                                                                  "color": "#9E9E9E",
                                                                  "width": 2
                                                            },
                                                            "type": "line",
                                                            "x0": -3.6157706022262572,
                                                            "x1": 22.43159351348877,
                                                            "y0": 4.090147686004638,
                                                            "y1": 4.090147686004638
                                                      }
                                                ],
                                                "sliders": [
                                                      {
                                                            "active": 0,
                                                            "pad": {
                                                                  "t": 50
                                                            },
                                                            "steps": [
                                                                  {
                                                                        "args": [
                                                                              {
                                                                                    "marker.color": [
                                                                                          [
                                                                                                "red",
                                                                                                "#B0BEC5",
                                                                                                "#B0BEC5",
                                                                                                "#B0BEC5",
                                                                                                "#B0BEC5",
                                                                                                "#B0BEC5",
                                                                                                "#B0BEC5",
                                                                                                "#B0BEC5",
                                                                                                "#B0BEC5",
                                                                                                "#B0BEC5",
                                                                                                "#B0BEC5",
                                                                                                "#B0BEC5",
                                                                                                "#B0BEC5",
                                                                                                "#B0BEC5",
                                                                                                "#B0BEC5",
                                                                                                "#B0BEC5",
                                                                                                "#B0BEC5",
                                                                                                "#B0BEC5",
                                                                                                "#B0BEC5",
                                                                                                "#B0BEC5",
                                                                                                "#B0BEC5",
                                                                                                "#B0BEC5",
                                                                                                "#B0BEC5",
                                                                                                "#B0BEC5"
                                                                                          ]
                                                                                    ]
                                                                              }
                                                                        ],
                                                                        "label": "Topic 0",
                                                                        "method": "update"
                                                                  },
                                                                  {
                                                                        "args": [
                                                                              {
                                                                                    "marker.color": [
                                                                                          [
                                                                                                "#B0BEC5",
                                                                                                "red",
                                                                                                "#B0BEC5",
                                                                                                "#B0BEC5",
                                                                                                "#B0BEC5",
                                                                                                "#B0BEC5",
                                                                                                "#B0BEC5",
                                                                                                "#B0BEC5",
                                                                                                "#B0BEC5",
                                                                                                "#B0BEC5",
                                                                                                "#B0BEC5",
                                                                                                "#B0BEC5",
                                                                                                "#B0BEC5",
                                                                                                "#B0BEC5",
                                                                                                "#B0BEC5",
                                                                                                "#B0BEC5",
                                                                                                "#B0BEC5",
                                                                                                "#B0BEC5",
                                                                                                "#B0BEC5",
                                                                                                "#B0BEC5",
                                                                                                "#B0BEC5",
                                                                                                "#B0BEC5",
                                                                                                "#B0BEC5",
                                                                                                "#B0BEC5"
                                                                                          ]
                                                                                    ]
                                                                              }
                                                                        ],
                                                                        "label": "Topic 1",
                                                                        "method": "update"
                                                                  },
                                                                  {
                                                                        "args": [
                                                                              {
                                                                                    "marker.color": [
                                                                                          [
                                                                                                "#B0BEC5",
                                                                                                "#B0BEC5",
                                                                                                "red",
                                                                                                "#B0BEC5",
                                                                                                "#B0BEC5",
                                                                                                "#B0BEC5",
                                                                                                "#B0BEC5",
                                                                                                "#B0BEC5",
                                                                                                "#B0BEC5",
                                                                                                "#B0BEC5",
                                                                                                "#B0BEC5",
                                                                                                "#B0BEC5",
                                                                                                "#B0BEC5",
                                                                                                "#B0BEC5",
                                                                                                "#B0BEC5",
                                                                                                "#B0BEC5",
                                                                                                "#B0BEC5",
                                                                                                "#B0BEC5",
                                                                                                "#B0BEC5",
                                                                                                "#B0BEC5",
                                                                                                "#B0BEC5",
                                                                                                "#B0BEC5",
                                                                                                "#B0BEC5",
                                                                                                "#B0BEC5"
                                                                                          ]
                                                                                    ]
                                                                              }
                                                                        ],
                                                                        "label": "Topic 2",
                                                                        "method": "update"
                                                                  },
                                                                  {
                                                                        "args": [
                                                                              {
                                                                                    "marker.color": [
                                                                                          [
                                                                                                "#B0BEC5",
                                                                                                "#B0BEC5",
                                                                                                "#B0BEC5",
                                                                                                "red",
                                                                                                "#B0BEC5",
                                                                                                "#B0BEC5",
                                                                                                "#B0BEC5",
                                                                                                "#B0BEC5",
                                                                                                "#B0BEC5",
                                                                                                "#B0BEC5",
                                                                                                "#B0BEC5",
                                                                                                "#B0BEC5",
                                                                                                "#B0BEC5",
                                                                                                "#B0BEC5",
                                                                                                "#B0BEC5",
                                                                                                "#B0BEC5",
                                                                                                "#B0BEC5",
                                                                                                "#B0BEC5",
                                                                                                "#B0BEC5",
                                                                                                "#B0BEC5",
                                                                                                "#B0BEC5",
                                                                                                "#B0BEC5",
                                                                                                "#B0BEC5",
                                                                                                "#B0BEC5"
                                                                                          ]
                                                                                    ]
                                                                              }
                                                                        ],
                                                                        "label": "Topic 3",
                                                                        "method": "update"
                                                                  },
                                                                  {
                                                                        "args": [
                                                                              {
                                                                                    "marker.color": [
                                                                                          [
                                                                                                "#B0BEC5",
                                                                                                "#B0BEC5",
                                                                                                "#B0BEC5",
                                                                                                "#B0BEC5",
                                                                                                "red",
                                                                                                "#B0BEC5",
                                                                                                "#B0BEC5",
                                                                                                "#B0BEC5",
                                                                                                "#B0BEC5",
                                                                                                "#B0BEC5",
                                                                                                "#B0BEC5",
                                                                                                "#B0BEC5",
                                                                                                "#B0BEC5",
                                                                                                "#B0BEC5",
                                                                                                "#B0BEC5",
                                                                                                "#B0BEC5",
                                                                                                "#B0BEC5",
                                                                                                "#B0BEC5",
                                                                                                "#B0BEC5",
                                                                                                "#B0BEC5",
                                                                                                "#B0BEC5",
                                                                                                "#B0BEC5",
                                                                                                "#B0BEC5",
                                                                                                "#B0BEC5"
                                                                                          ]
                                                                                    ]
                                                                              }
                                                                        ],
                                                                        "label": "Topic 4",
                                                                        "method": "update"
                                                                  },
                                                                  {
                                                                        "args": [
                                                                              {
                                                                                    "marker.color": [
                                                                                          [
                                                                                                "#B0BEC5",
                                                                                                "#B0BEC5",
                                                                                                "#B0BEC5",
                                                                                                "#B0BEC5",
                                                                                                "#B0BEC5",
                                                                                                "red",
                                                                                                "#B0BEC5",
                                                                                                "#B0BEC5",
                                                                                                "#B0BEC5",
                                                                                                "#B0BEC5",
                                                                                                "#B0BEC5",
                                                                                                "#B0BEC5",
                                                                                                "#B0BEC5",
                                                                                                "#B0BEC5",
                                                                                                "#B0BEC5",
                                                                                                "#B0BEC5",
                                                                                                "#B0BEC5",
                                                                                                "#B0BEC5",
                                                                                                "#B0BEC5",
                                                                                                "#B0BEC5",
                                                                                                "#B0BEC5",
                                                                                                "#B0BEC5",
                                                                                                "#B0BEC5",
                                                                                                "#B0BEC5"
                                                                                          ]
                                                                                    ]
                                                                              }
                                                                        ],
                                                                        "label": "Topic 5",
                                                                        "method": "update"
                                                                  },
                                                                  {
                                                                        "args": [
                                                                              {
                                                                                    "marker.color": [
                                                                                          [
                                                                                                "#B0BEC5",
                                                                                                "#B0BEC5",
                                                                                                "#B0BEC5",
                                                                                                "#B0BEC5",
                                                                                                "#B0BEC5",
                                                                                                "#B0BEC5",
                                                                                                "red",
                                                                                                "#B0BEC5",
                                                                                                "#B0BEC5",
                                                                                                "#B0BEC5",
                                                                                                "#B0BEC5",
                                                                                                "#B0BEC5",
                                                                                                "#B0BEC5",
                                                                                                "#B0BEC5",
                                                                                                "#B0BEC5",
                                                                                                "#B0BEC5",
                                                                                                "#B0BEC5",
                                                                                                "#B0BEC5",
                                                                                                "#B0BEC5",
                                                                                                "#B0BEC5",
                                                                                                "#B0BEC5",
                                                                                                "#B0BEC5",
                                                                                                "#B0BEC5",
                                                                                                "#B0BEC5"
                                                                                          ]
                                                                                    ]
                                                                              }
                                                                        ],
                                                                        "label": "Topic 6",
                                                                        "method": "update"
                                                                  },
                                                                  {
                                                                        "args": [
                                                                              {
                                                                                    "marker.color": [
                                                                                          [
                                                                                                "#B0BEC5",
                                                                                                "#B0BEC5",
                                                                                                "#B0BEC5",
                                                                                                "#B0BEC5",
                                                                                                "#B0BEC5",
                                                                                                "#B0BEC5",
                                                                                                "#B0BEC5",
                                                                                                "red",
                                                                                                "#B0BEC5",
                                                                                                "#B0BEC5",
                                                                                                "#B0BEC5",
                                                                                                "#B0BEC5",
                                                                                                "#B0BEC5",
                                                                                                "#B0BEC5",
                                                                                                "#B0BEC5",
                                                                                                "#B0BEC5",
                                                                                                "#B0BEC5",
                                                                                                "#B0BEC5",
                                                                                                "#B0BEC5",
                                                                                                "#B0BEC5",
                                                                                                "#B0BEC5",
                                                                                                "#B0BEC5",
                                                                                                "#B0BEC5",
                                                                                                "#B0BEC5"
                                                                                          ]
                                                                                    ]
                                                                              }
                                                                        ],
                                                                        "label": "Topic 7",
                                                                        "method": "update"
                                                                  },
                                                                  {
                                                                        "args": [
                                                                              {
                                                                                    "marker.color": [
                                                                                          [
                                                                                                "#B0BEC5",
                                                                                                "#B0BEC5",
                                                                                                "#B0BEC5",
                                                                                                "#B0BEC5",
                                                                                                "#B0BEC5",
                                                                                                "#B0BEC5",
                                                                                                "#B0BEC5",
                                                                                                "#B0BEC5",
                                                                                                "red",
                                                                                                "#B0BEC5",
                                                                                                "#B0BEC5",
                                                                                                "#B0BEC5",
                                                                                                "#B0BEC5",
                                                                                                "#B0BEC5",
                                                                                                "#B0BEC5",
                                                                                                "#B0BEC5",
                                                                                                "#B0BEC5",
                                                                                                "#B0BEC5",
                                                                                                "#B0BEC5",
                                                                                                "#B0BEC5",
                                                                                                "#B0BEC5",
                                                                                                "#B0BEC5",
                                                                                                "#B0BEC5",
                                                                                                "#B0BEC5"
                                                                                          ]
                                                                                    ]
                                                                              }
                                                                        ],
                                                                        "label": "Topic 8",
                                                                        "method": "update"
                                                                  },
                                                                  {
                                                                        "args": [
                                                                              {
                                                                                    "marker.color": [
                                                                                          [
                                                                                                "#B0BEC5",
                                                                                                "#B0BEC5",
                                                                                                "#B0BEC5",
                                                                                                "#B0BEC5",
                                                                                                "#B0BEC5",
                                                                                                "#B0BEC5",
                                                                                                "#B0BEC5",
                                                                                                "#B0BEC5",
                                                                                                "#B0BEC5",
                                                                                                "red",
                                                                                                "#B0BEC5",
                                                                                                "#B0BEC5",
                                                                                                "#B0BEC5",
                                                                                                "#B0BEC5",
                                                                                                "#B0BEC5",
                                                                                                "#B0BEC5",
                                                                                                "#B0BEC5",
                                                                                                "#B0BEC5",
                                                                                                "#B0BEC5",
                                                                                                "#B0BEC5",
                                                                                                "#B0BEC5",
                                                                                                "#B0BEC5",
                                                                                                "#B0BEC5",
                                                                                                "#B0BEC5"
                                                                                          ]
                                                                                    ]
                                                                              }
                                                                        ],
                                                                        "label": "Topic 9",
                                                                        "method": "update"
                                                                  },
                                                                  {
                                                                        "args": [
                                                                              {
                                                                                    "marker.color": [
                                                                                          [
                                                                                                "#B0BEC5",
                                                                                                "#B0BEC5",
                                                                                                "#B0BEC5",
                                                                                                "#B0BEC5",
                                                                                                "#B0BEC5",
                                                                                                "#B0BEC5",
                                                                                                "#B0BEC5",
                                                                                                "#B0BEC5",
                                                                                                "#B0BEC5",
                                                                                                "#B0BEC5",
                                                                                                "red",
                                                                                                "#B0BEC5",
                                                                                                "#B0BEC5",
                                                                                                "#B0BEC5",
                                                                                                "#B0BEC5",
                                                                                                "#B0BEC5",
                                                                                                "#B0BEC5",
                                                                                                "#B0BEC5",
                                                                                                "#B0BEC5",
                                                                                                "#B0BEC5",
                                                                                                "#B0BEC5",
                                                                                                "#B0BEC5",
                                                                                                "#B0BEC5",
                                                                                                "#B0BEC5"
                                                                                          ]
                                                                                    ]
                                                                              }
                                                                        ],
                                                                        "label": "Topic 10",
                                                                        "method": "update"
                                                                  },
                                                                  {
                                                                        "args": [
                                                                              {
                                                                                    "marker.color": [
                                                                                          [
                                                                                                "#B0BEC5",
                                                                                                "#B0BEC5",
                                                                                                "#B0BEC5",
                                                                                                "#B0BEC5",
                                                                                                "#B0BEC5",
                                                                                                "#B0BEC5",
                                                                                                "#B0BEC5",
                                                                                                "#B0BEC5",
                                                                                                "#B0BEC5",
                                                                                                "#B0BEC5",
                                                                                                "#B0BEC5",
                                                                                                "red",
                                                                                                "#B0BEC5",
                                                                                                "#B0BEC5",
                                                                                                "#B0BEC5",
                                                                                                "#B0BEC5",
                                                                                                "#B0BEC5",
                                                                                                "#B0BEC5",
                                                                                                "#B0BEC5",
                                                                                                "#B0BEC5",
                                                                                                "#B0BEC5",
                                                                                                "#B0BEC5",
                                                                                                "#B0BEC5",
                                                                                                "#B0BEC5"
                                                                                          ]
                                                                                    ]
                                                                              }
                                                                        ],
                                                                        "label": "Topic 11",
                                                                        "method": "update"
                                                                  },
                                                                  {
                                                                        "args": [
                                                                              {
                                                                                    "marker.color": [
                                                                                          [
                                                                                                "#B0BEC5",
                                                                                                "#B0BEC5",
                                                                                                "#B0BEC5",
                                                                                                "#B0BEC5",
                                                                                                "#B0BEC5",
                                                                                                "#B0BEC5",
                                                                                                "#B0BEC5",
                                                                                                "#B0BEC5",
                                                                                                "#B0BEC5",
                                                                                                "#B0BEC5",
                                                                                                "#B0BEC5",
                                                                                                "#B0BEC5",
                                                                                                "red",
                                                                                                "#B0BEC5",
                                                                                                "#B0BEC5",
                                                                                                "#B0BEC5",
                                                                                                "#B0BEC5",
                                                                                                "#B0BEC5",
                                                                                                "#B0BEC5",
                                                                                                "#B0BEC5",
                                                                                                "#B0BEC5",
                                                                                                "#B0BEC5",
                                                                                                "#B0BEC5",
                                                                                                "#B0BEC5"
                                                                                          ]
                                                                                    ]
                                                                              }
                                                                        ],
                                                                        "label": "Topic 12",
                                                                        "method": "update"
                                                                  },
                                                                  {
                                                                        "args": [
                                                                              {
                                                                                    "marker.color": [
                                                                                          [
                                                                                                "#B0BEC5",
                                                                                                "#B0BEC5",
                                                                                                "#B0BEC5",
                                                                                                "#B0BEC5",
                                                                                                "#B0BEC5",
                                                                                                "#B0BEC5",
                                                                                                "#B0BEC5",
                                                                                                "#B0BEC5",
                                                                                                "#B0BEC5",
                                                                                                "#B0BEC5",
                                                                                                "#B0BEC5",
                                                                                                "#B0BEC5",
                                                                                                "#B0BEC5",
                                                                                                "red",
                                                                                                "#B0BEC5",
                                                                                                "#B0BEC5",
                                                                                                "#B0BEC5",
                                                                                                "#B0BEC5",
                                                                                                "#B0BEC5",
                                                                                                "#B0BEC5",
                                                                                                "#B0BEC5",
                                                                                                "#B0BEC5",
                                                                                                "#B0BEC5",
                                                                                                "#B0BEC5"
                                                                                          ]
                                                                                    ]
                                                                              }
                                                                        ],
                                                                        "label": "Topic 13",
                                                                        "method": "update"
                                                                  },
                                                                  {
                                                                        "args": [
                                                                              {
                                                                                    "marker.color": [
                                                                                          [
                                                                                                "#B0BEC5",
                                                                                                "#B0BEC5",
                                                                                                "#B0BEC5",
                                                                                                "#B0BEC5",
                                                                                                "#B0BEC5",
                                                                                                "#B0BEC5",
                                                                                                "#B0BEC5",
                                                                                                "#B0BEC5",
                                                                                                "#B0BEC5",
                                                                                                "#B0BEC5",
                                                                                                "#B0BEC5",
                                                                                                "#B0BEC5",
                                                                                                "#B0BEC5",
                                                                                                "#B0BEC5",
                                                                                                "red",
                                                                                                "#B0BEC5",
                                                                                                "#B0BEC5",
                                                                                                "#B0BEC5",
                                                                                                "#B0BEC5",
                                                                                                "#B0BEC5",
                                                                                                "#B0BEC5",
                                                                                                "#B0BEC5",
                                                                                                "#B0BEC5",
                                                                                                "#B0BEC5"
                                                                                          ]
                                                                                    ]
                                                                              }
                                                                        ],
                                                                        "label": "Topic 14",
                                                                        "method": "update"
                                                                  },
                                                                  {
                                                                        "args": [
                                                                              {
                                                                                    "marker.color": [
                                                                                          [
                                                                                                "#B0BEC5",
                                                                                                "#B0BEC5",
                                                                                                "#B0BEC5",
                                                                                                "#B0BEC5",
                                                                                                "#B0BEC5",
                                                                                                "#B0BEC5",
                                                                                                "#B0BEC5",
                                                                                                "#B0BEC5",
                                                                                                "#B0BEC5",
                                                                                                "#B0BEC5",
                                                                                                "#B0BEC5",
                                                                                                "#B0BEC5",
                                                                                                "#B0BEC5",
                                                                                                "#B0BEC5",
                                                                                                "#B0BEC5",
                                                                                                "red",
                                                                                                "#B0BEC5",
                                                                                                "#B0BEC5",
                                                                                                "#B0BEC5",
                                                                                                "#B0BEC5",
                                                                                                "#B0BEC5",
                                                                                                "#B0BEC5",
                                                                                                "#B0BEC5",
                                                                                                "#B0BEC5"
                                                                                          ]
                                                                                    ]
                                                                              }
                                                                        ],
                                                                        "label": "Topic 15",
                                                                        "method": "update"
                                                                  },
                                                                  {
                                                                        "args": [
                                                                              {
                                                                                    "marker.color": [
                                                                                          [
                                                                                                "#B0BEC5",
                                                                                                "#B0BEC5",
                                                                                                "#B0BEC5",
                                                                                                "#B0BEC5",
                                                                                                "#B0BEC5",
                                                                                                "#B0BEC5",
                                                                                                "#B0BEC5",
                                                                                                "#B0BEC5",
                                                                                                "#B0BEC5",
                                                                                                "#B0BEC5",
                                                                                                "#B0BEC5",
                                                                                                "#B0BEC5",
                                                                                                "#B0BEC5",
                                                                                                "#B0BEC5",
                                                                                                "#B0BEC5",
                                                                                                "#B0BEC5",
                                                                                                "red",
                                                                                                "#B0BEC5",
                                                                                                "#B0BEC5",
                                                                                                "#B0BEC5",
                                                                                                "#B0BEC5",
                                                                                                "#B0BEC5",
                                                                                                "#B0BEC5",
                                                                                                "#B0BEC5"
                                                                                          ]
                                                                                    ]
                                                                              }
                                                                        ],
                                                                        "label": "Topic 16",
                                                                        "method": "update"
                                                                  },
                                                                  {
                                                                        "args": [
                                                                              {
                                                                                    "marker.color": [
                                                                                          [
                                                                                                "#B0BEC5",
                                                                                                "#B0BEC5",
                                                                                                "#B0BEC5",
                                                                                                "#B0BEC5",
                                                                                                "#B0BEC5",
                                                                                                "#B0BEC5",
                                                                                                "#B0BEC5",
                                                                                                "#B0BEC5",
                                                                                                "#B0BEC5",
                                                                                                "#B0BEC5",
                                                                                                "#B0BEC5",
                                                                                                "#B0BEC5",
                                                                                                "#B0BEC5",
                                                                                                "#B0BEC5",
                                                                                                "#B0BEC5",
                                                                                                "#B0BEC5",
                                                                                                "#B0BEC5",
                                                                                                "red",
                                                                                                "#B0BEC5",
                                                                                                "#B0BEC5",
                                                                                                "#B0BEC5",
                                                                                                "#B0BEC5",
                                                                                                "#B0BEC5",
                                                                                                "#B0BEC5"
                                                                                          ]
                                                                                    ]
                                                                              }
                                                                        ],
                                                                        "label": "Topic 17",
                                                                        "method": "update"
                                                                  },
                                                                  {
                                                                        "args": [
                                                                              {
                                                                                    "marker.color": [
                                                                                          [
                                                                                                "#B0BEC5",
                                                                                                "#B0BEC5",
                                                                                                "#B0BEC5",
                                                                                                "#B0BEC5",
                                                                                                "#B0BEC5",
                                                                                                "#B0BEC5",
                                                                                                "#B0BEC5",
                                                                                                "#B0BEC5",
                                                                                                "#B0BEC5",
                                                                                                "#B0BEC5",
                                                                                                "#B0BEC5",
                                                                                                "#B0BEC5",
                                                                                                "#B0BEC5",
                                                                                                "#B0BEC5",
                                                                                                "#B0BEC5",
                                                                                                "#B0BEC5",
                                                                                                "#B0BEC5",
                                                                                                "#B0BEC5",
                                                                                                "red",
                                                                                                "#B0BEC5",
                                                                                                "#B0BEC5",
                                                                                                "#B0BEC5",
                                                                                                "#B0BEC5",
                                                                                                "#B0BEC5"
                                                                                          ]
                                                                                    ]
                                                                              }
                                                                        ],
                                                                        "label": "Topic 18",
                                                                        "method": "update"
                                                                  },
                                                                  {
                                                                        "args": [
                                                                              {
                                                                                    "marker.color": [
                                                                                          [
                                                                                                "#B0BEC5",
                                                                                                "#B0BEC5",
                                                                                                "#B0BEC5",
                                                                                                "#B0BEC5",
                                                                                                "#B0BEC5",
                                                                                                "#B0BEC5",
                                                                                                "#B0BEC5",
                                                                                                "#B0BEC5",
                                                                                                "#B0BEC5",
                                                                                                "#B0BEC5",
                                                                                                "#B0BEC5",
                                                                                                "#B0BEC5",
                                                                                                "#B0BEC5",
                                                                                                "#B0BEC5",
                                                                                                "#B0BEC5",
                                                                                                "#B0BEC5",
                                                                                                "#B0BEC5",
                                                                                                "#B0BEC5",
                                                                                                "#B0BEC5",
                                                                                                "red",
                                                                                                "#B0BEC5",
                                                                                                "#B0BEC5",
                                                                                                "#B0BEC5",
                                                                                                "#B0BEC5"
                                                                                          ]
                                                                                    ]
                                                                              }
                                                                        ],
                                                                        "label": "Topic 19",
                                                                        "method": "update"
                                                                  },
                                                                  {
                                                                        "args": [
                                                                              {
                                                                                    "marker.color": [
                                                                                          [
                                                                                                "#B0BEC5",
                                                                                                "#B0BEC5",
                                                                                                "#B0BEC5",
                                                                                                "#B0BEC5",
                                                                                                "#B0BEC5",
                                                                                                "#B0BEC5",
                                                                                                "#B0BEC5",
                                                                                                "#B0BEC5",
                                                                                                "#B0BEC5",
                                                                                                "#B0BEC5",
                                                                                                "#B0BEC5",
                                                                                                "#B0BEC5",
                                                                                                "#B0BEC5",
                                                                                                "#B0BEC5",
                                                                                                "#B0BEC5",
                                                                                                "#B0BEC5",
                                                                                                "#B0BEC5",
                                                                                                "#B0BEC5",
                                                                                                "#B0BEC5",
                                                                                                "#B0BEC5",
                                                                                                "red",
                                                                                                "#B0BEC5",
                                                                                                "#B0BEC5",
                                                                                                "#B0BEC5"
                                                                                          ]
                                                                                    ]
                                                                              }
                                                                        ],
                                                                        "label": "Topic 20",
                                                                        "method": "update"
                                                                  },
                                                                  {
                                                                        "args": [
                                                                              {
                                                                                    "marker.color": [
                                                                                          [
                                                                                                "#B0BEC5",
                                                                                                "#B0BEC5",
                                                                                                "#B0BEC5",
                                                                                                "#B0BEC5",
                                                                                                "#B0BEC5",
                                                                                                "#B0BEC5",
                                                                                                "#B0BEC5",
                                                                                                "#B0BEC5",
                                                                                                "#B0BEC5",
                                                                                                "#B0BEC5",
                                                                                                "#B0BEC5",
                                                                                                "#B0BEC5",
                                                                                                "#B0BEC5",
                                                                                                "#B0BEC5",
                                                                                                "#B0BEC5",
                                                                                                "#B0BEC5",
                                                                                                "#B0BEC5",
                                                                                                "#B0BEC5",
                                                                                                "#B0BEC5",
                                                                                                "#B0BEC5",
                                                                                                "#B0BEC5",
                                                                                                "red",
                                                                                                "#B0BEC5",
                                                                                                "#B0BEC5"
                                                                                          ]
                                                                                    ]
                                                                              }
                                                                        ],
                                                                        "label": "Topic 21",
                                                                        "method": "update"
                                                                  },
                                                                  {
                                                                        "args": [
                                                                              {
                                                                                    "marker.color": [
                                                                                          [
                                                                                                "#B0BEC5",
                                                                                                "#B0BEC5",
                                                                                                "#B0BEC5",
                                                                                                "#B0BEC5",
                                                                                                "#B0BEC5",
                                                                                                "#B0BEC5",
                                                                                                "#B0BEC5",
                                                                                                "#B0BEC5",
                                                                                                "#B0BEC5",
                                                                                                "#B0BEC5",
                                                                                                "#B0BEC5",
                                                                                                "#B0BEC5",
                                                                                                "#B0BEC5",
                                                                                                "#B0BEC5",
                                                                                                "#B0BEC5",
                                                                                                "#B0BEC5",
                                                                                                "#B0BEC5",
                                                                                                "#B0BEC5",
                                                                                                "#B0BEC5",
                                                                                                "#B0BEC5",
                                                                                                "#B0BEC5",
                                                                                                "#B0BEC5",
                                                                                                "red",
                                                                                                "#B0BEC5"
                                                                                          ]
                                                                                    ]
                                                                              }
                                                                        ],
                                                                        "label": "Topic 22",
                                                                        "method": "update"
                                                                  },
                                                                  {
                                                                        "args": [
                                                                              {
                                                                                    "marker.color": [
                                                                                          [
                                                                                                "#B0BEC5",
                                                                                                "#B0BEC5",
                                                                                                "#B0BEC5",
                                                                                                "#B0BEC5",
                                                                                                "#B0BEC5",
                                                                                                "#B0BEC5",
                                                                                                "#B0BEC5",
                                                                                                "#B0BEC5",
                                                                                                "#B0BEC5",
                                                                                                "#B0BEC5",
                                                                                                "#B0BEC5",
                                                                                                "#B0BEC5",
                                                                                                "#B0BEC5",
                                                                                                "#B0BEC5",
                                                                                                "#B0BEC5",
                                                                                                "#B0BEC5",
                                                                                                "#B0BEC5",
                                                                                                "#B0BEC5",
                                                                                                "#B0BEC5",
                                                                                                "#B0BEC5",
                                                                                                "#B0BEC5",
                                                                                                "#B0BEC5",
                                                                                                "#B0BEC5",
                                                                                                "red"
                                                                                          ]
                                                                                    ]
                                                                              }
                                                                        ],
                                                                        "label": "Topic 23",
                                                                        "method": "update"
                                                                  }
                                                            ]
                                                      }
                                                ],
                                                "template": {
                                                      "data": {
                                                            "bar": [
                                                                  {
                                                                        "error_x": {
                                                                              "color": "rgb(36,36,36)"
                                                                        },
                                                                        "error_y": {
                                                                              "color": "rgb(36,36,36)"
                                                                        },
                                                                        "marker": {
                                                                              "line": {
                                                                                    "color": "white",
                                                                                    "width": 0.5
                                                                              },
                                                                              "pattern": {
                                                                                    "fillmode": "overlay",
                                                                                    "size": 10,
                                                                                    "solidity": 0.2
                                                                              }
                                                                        },
                                                                        "type": "bar"
                                                                  }
                                                            ],
                                                            "barpolar": [
                                                                  {
                                                                        "marker": {
                                                                              "line": {
                                                                                    "color": "white",
                                                                                    "width": 0.5
                                                                              },
                                                                              "pattern": {
                                                                                    "fillmode": "overlay",
                                                                                    "size": 10,
                                                                                    "solidity": 0.2
                                                                              }
                                                                        },
                                                                        "type": "barpolar"
                                                                  }
                                                            ],
                                                            "carpet": [
                                                                  {
                                                                        "aaxis": {
                                                                              "endlinecolor": "rgb(36,36,36)",
                                                                              "gridcolor": "white",
                                                                              "linecolor": "white",
                                                                              "minorgridcolor": "white",
                                                                              "startlinecolor": "rgb(36,36,36)"
                                                                        },
                                                                        "baxis": {
                                                                              "endlinecolor": "rgb(36,36,36)",
                                                                              "gridcolor": "white",
                                                                              "linecolor": "white",
                                                                              "minorgridcolor": "white",
                                                                              "startlinecolor": "rgb(36,36,36)"
                                                                        },
                                                                        "type": "carpet"
                                                                  }
                                                            ],
                                                            "choropleth": [
                                                                  {
                                                                        "colorbar": {
                                                                              "outlinewidth": 1,
                                                                              "tickcolor": "rgb(36,36,36)",
                                                                              "ticks": "outside"
                                                                        },
                                                                        "type": "choropleth"
                                                                  }
                                                            ],
                                                            "contour": [
                                                                  {
                                                                        "colorbar": {
                                                                              "outlinewidth": 1,
                                                                              "tickcolor": "rgb(36,36,36)",
                                                                              "ticks": "outside"
                                                                        },
                                                                        "colorscale": [
                                                                              [
                                                                                    0,
                                                                                    "#440154"
                                                                              ],
                                                                              [
                                                                                    0.1111111111111111,
                                                                                    "#482878"
                                                                              ],
                                                                              [
                                                                                    0.2222222222222222,
                                                                                    "#3e4989"
                                                                              ],
                                                                              [
                                                                                    0.3333333333333333,
                                                                                    "#31688e"
                                                                              ],
                                                                              [
                                                                                    0.4444444444444444,
                                                                                    "#26828e"
                                                                              ],
                                                                              [
                                                                                    0.5555555555555556,
                                                                                    "#1f9e89"
                                                                              ],
                                                                              [
                                                                                    0.6666666666666666,
                                                                                    "#35b779"
                                                                              ],
                                                                              [
                                                                                    0.7777777777777778,
                                                                                    "#6ece58"
                                                                              ],
                                                                              [
                                                                                    0.8888888888888888,
                                                                                    "#b5de2b"
                                                                              ],
                                                                              [
                                                                                    1,
                                                                                    "#fde725"
                                                                              ]
                                                                        ],
                                                                        "type": "contour"
                                                                  }
                                                            ],
                                                            "contourcarpet": [
                                                                  {
                                                                        "colorbar": {
                                                                              "outlinewidth": 1,
                                                                              "tickcolor": "rgb(36,36,36)",
                                                                              "ticks": "outside"
                                                                        },
                                                                        "type": "contourcarpet"
                                                                  }
                                                            ],
                                                            "heatmap": [
                                                                  {
                                                                        "colorbar": {
                                                                              "outlinewidth": 1,
                                                                              "tickcolor": "rgb(36,36,36)",
                                                                              "ticks": "outside"
                                                                        },
                                                                        "colorscale": [
                                                                              [
                                                                                    0,
                                                                                    "#440154"
                                                                              ],
                                                                              [
                                                                                    0.1111111111111111,
                                                                                    "#482878"
                                                                              ],
                                                                              [
                                                                                    0.2222222222222222,
                                                                                    "#3e4989"
                                                                              ],
                                                                              [
                                                                                    0.3333333333333333,
                                                                                    "#31688e"
                                                                              ],
                                                                              [
                                                                                    0.4444444444444444,
                                                                                    "#26828e"
                                                                              ],
                                                                              [
                                                                                    0.5555555555555556,
                                                                                    "#1f9e89"
                                                                              ],
                                                                              [
                                                                                    0.6666666666666666,
                                                                                    "#35b779"
                                                                              ],
                                                                              [
                                                                                    0.7777777777777778,
                                                                                    "#6ece58"
                                                                              ],
                                                                              [
                                                                                    0.8888888888888888,
                                                                                    "#b5de2b"
                                                                              ],
                                                                              [
                                                                                    1,
                                                                                    "#fde725"
                                                                              ]
                                                                        ],
                                                                        "type": "heatmap"
                                                                  }
                                                            ],
                                                            "heatmapgl": [
                                                                  {
                                                                        "colorbar": {
                                                                              "outlinewidth": 1,
                                                                              "tickcolor": "rgb(36,36,36)",
                                                                              "ticks": "outside"
                                                                        },
                                                                        "colorscale": [
                                                                              [
                                                                                    0,
                                                                                    "#440154"
                                                                              ],
                                                                              [
                                                                                    0.1111111111111111,
                                                                                    "#482878"
                                                                              ],
                                                                              [
                                                                                    0.2222222222222222,
                                                                                    "#3e4989"
                                                                              ],
                                                                              [
                                                                                    0.3333333333333333,
                                                                                    "#31688e"
                                                                              ],
                                                                              [
                                                                                    0.4444444444444444,
                                                                                    "#26828e"
                                                                              ],
                                                                              [
                                                                                    0.5555555555555556,
                                                                                    "#1f9e89"
                                                                              ],
                                                                              [
                                                                                    0.6666666666666666,
                                                                                    "#35b779"
                                                                              ],
                                                                              [
                                                                                    0.7777777777777778,
                                                                                    "#6ece58"
                                                                              ],
                                                                              [
                                                                                    0.8888888888888888,
                                                                                    "#b5de2b"
                                                                              ],
                                                                              [
                                                                                    1,
                                                                                    "#fde725"
                                                                              ]
                                                                        ],
                                                                        "type": "heatmapgl"
                                                                  }
                                                            ],
                                                            "histogram": [
                                                                  {
                                                                        "marker": {
                                                                              "line": {
                                                                                    "color": "white",
                                                                                    "width": 0.6
                                                                              }
                                                                        },
                                                                        "type": "histogram"
                                                                  }
                                                            ],
                                                            "histogram2d": [
                                                                  {
                                                                        "colorbar": {
                                                                              "outlinewidth": 1,
                                                                              "tickcolor": "rgb(36,36,36)",
                                                                              "ticks": "outside"
                                                                        },
                                                                        "colorscale": [
                                                                              [
                                                                                    0,
                                                                                    "#440154"
                                                                              ],
                                                                              [
                                                                                    0.1111111111111111,
                                                                                    "#482878"
                                                                              ],
                                                                              [
                                                                                    0.2222222222222222,
                                                                                    "#3e4989"
                                                                              ],
                                                                              [
                                                                                    0.3333333333333333,
                                                                                    "#31688e"
                                                                              ],
                                                                              [
                                                                                    0.4444444444444444,
                                                                                    "#26828e"
                                                                              ],
                                                                              [
                                                                                    0.5555555555555556,
                                                                                    "#1f9e89"
                                                                              ],
                                                                              [
                                                                                    0.6666666666666666,
                                                                                    "#35b779"
                                                                              ],
                                                                              [
                                                                                    0.7777777777777778,
                                                                                    "#6ece58"
                                                                              ],
                                                                              [
                                                                                    0.8888888888888888,
                                                                                    "#b5de2b"
                                                                              ],
                                                                              [
                                                                                    1,
                                                                                    "#fde725"
                                                                              ]
                                                                        ],
                                                                        "type": "histogram2d"
                                                                  }
                                                            ],
                                                            "histogram2dcontour": [
                                                                  {
                                                                        "colorbar": {
                                                                              "outlinewidth": 1,
                                                                              "tickcolor": "rgb(36,36,36)",
                                                                              "ticks": "outside"
                                                                        },
                                                                        "colorscale": [
                                                                              [
                                                                                    0,
                                                                                    "#440154"
                                                                              ],
                                                                              [
                                                                                    0.1111111111111111,
                                                                                    "#482878"
                                                                              ],
                                                                              [
                                                                                    0.2222222222222222,
                                                                                    "#3e4989"
                                                                              ],
                                                                              [
                                                                                    0.3333333333333333,
                                                                                    "#31688e"
                                                                              ],
                                                                              [
                                                                                    0.4444444444444444,
                                                                                    "#26828e"
                                                                              ],
                                                                              [
                                                                                    0.5555555555555556,
                                                                                    "#1f9e89"
                                                                              ],
                                                                              [
                                                                                    0.6666666666666666,
                                                                                    "#35b779"
                                                                              ],
                                                                              [
                                                                                    0.7777777777777778,
                                                                                    "#6ece58"
                                                                              ],
                                                                              [
                                                                                    0.8888888888888888,
                                                                                    "#b5de2b"
                                                                              ],
                                                                              [
                                                                                    1,
                                                                                    "#fde725"
                                                                              ]
                                                                        ],
                                                                        "type": "histogram2dcontour"
                                                                  }
                                                            ],
                                                            "mesh3d": [
                                                                  {
                                                                        "colorbar": {
                                                                              "outlinewidth": 1,
                                                                              "tickcolor": "rgb(36,36,36)",
                                                                              "ticks": "outside"
                                                                        },
                                                                        "type": "mesh3d"
                                                                  }
                                                            ],
                                                            "parcoords": [
                                                                  {
                                                                        "line": {
                                                                              "colorbar": {
                                                                                    "outlinewidth": 1,
                                                                                    "tickcolor": "rgb(36,36,36)",
                                                                                    "ticks": "outside"
                                                                              }
                                                                        },
                                                                        "type": "parcoords"
                                                                  }
                                                            ],
                                                            "pie": [
                                                                  {
                                                                        "automargin": true,
                                                                        "type": "pie"
                                                                  }
                                                            ],
                                                            "scatter": [
                                                                  {
                                                                        "fillpattern": {
                                                                              "fillmode": "overlay",
                                                                              "size": 10,
                                                                              "solidity": 0.2
                                                                        },
                                                                        "type": "scatter"
                                                                  }
                                                            ],
                                                            "scatter3d": [
                                                                  {
                                                                        "line": {
                                                                              "colorbar": {
                                                                                    "outlinewidth": 1,
                                                                                    "tickcolor": "rgb(36,36,36)",
                                                                                    "ticks": "outside"
                                                                              }
                                                                        },
                                                                        "marker": {
                                                                              "colorbar": {
                                                                                    "outlinewidth": 1,
                                                                                    "tickcolor": "rgb(36,36,36)",
                                                                                    "ticks": "outside"
                                                                              }
                                                                        },
                                                                        "type": "scatter3d"
                                                                  }
                                                            ],
                                                            "scattercarpet": [
                                                                  {
                                                                        "marker": {
                                                                              "colorbar": {
                                                                                    "outlinewidth": 1,
                                                                                    "tickcolor": "rgb(36,36,36)",
                                                                                    "ticks": "outside"
                                                                              }
                                                                        },
                                                                        "type": "scattercarpet"
                                                                  }
                                                            ],
                                                            "scattergeo": [
                                                                  {
                                                                        "marker": {
                                                                              "colorbar": {
                                                                                    "outlinewidth": 1,
                                                                                    "tickcolor": "rgb(36,36,36)",
                                                                                    "ticks": "outside"
                                                                              }
                                                                        },
                                                                        "type": "scattergeo"
                                                                  }
                                                            ],
                                                            "scattergl": [
                                                                  {
                                                                        "marker": {
                                                                              "colorbar": {
                                                                                    "outlinewidth": 1,
                                                                                    "tickcolor": "rgb(36,36,36)",
                                                                                    "ticks": "outside"
                                                                              }
                                                                        },
                                                                        "type": "scattergl"
                                                                  }
                                                            ],
                                                            "scattermapbox": [
                                                                  {
                                                                        "marker": {
                                                                              "colorbar": {
                                                                                    "outlinewidth": 1,
                                                                                    "tickcolor": "rgb(36,36,36)",
                                                                                    "ticks": "outside"
                                                                              }
                                                                        },
                                                                        "type": "scattermapbox"
                                                                  }
                                                            ],
                                                            "scatterpolar": [
                                                                  {
                                                                        "marker": {
                                                                              "colorbar": {
                                                                                    "outlinewidth": 1,
                                                                                    "tickcolor": "rgb(36,36,36)",
                                                                                    "ticks": "outside"
                                                                              }
                                                                        },
                                                                        "type": "scatterpolar"
                                                                  }
                                                            ],
                                                            "scatterpolargl": [
                                                                  {
                                                                        "marker": {
                                                                              "colorbar": {
                                                                                    "outlinewidth": 1,
                                                                                    "tickcolor": "rgb(36,36,36)",
                                                                                    "ticks": "outside"
                                                                              }
                                                                        },
                                                                        "type": "scatterpolargl"
                                                                  }
                                                            ],
                                                            "scatterternary": [
                                                                  {
                                                                        "marker": {
                                                                              "colorbar": {
                                                                                    "outlinewidth": 1,
                                                                                    "tickcolor": "rgb(36,36,36)",
                                                                                    "ticks": "outside"
                                                                              }
                                                                        },
                                                                        "type": "scatterternary"
                                                                  }
                                                            ],
                                                            "surface": [
                                                                  {
                                                                        "colorbar": {
                                                                              "outlinewidth": 1,
                                                                              "tickcolor": "rgb(36,36,36)",
                                                                              "ticks": "outside"
                                                                        },
                                                                        "colorscale": [
                                                                              [
                                                                                    0,
                                                                                    "#440154"
                                                                              ],
                                                                              [
                                                                                    0.1111111111111111,
                                                                                    "#482878"
                                                                              ],
                                                                              [
                                                                                    0.2222222222222222,
                                                                                    "#3e4989"
                                                                              ],
                                                                              [
                                                                                    0.3333333333333333,
                                                                                    "#31688e"
                                                                              ],
                                                                              [
                                                                                    0.4444444444444444,
                                                                                    "#26828e"
                                                                              ],
                                                                              [
                                                                                    0.5555555555555556,
                                                                                    "#1f9e89"
                                                                              ],
                                                                              [
                                                                                    0.6666666666666666,
                                                                                    "#35b779"
                                                                              ],
                                                                              [
                                                                                    0.7777777777777778,
                                                                                    "#6ece58"
                                                                              ],
                                                                              [
                                                                                    0.8888888888888888,
                                                                                    "#b5de2b"
                                                                              ],
                                                                              [
                                                                                    1,
                                                                                    "#fde725"
                                                                              ]
                                                                        ],
                                                                        "type": "surface"
                                                                  }
                                                            ],
                                                            "table": [
                                                                  {
                                                                        "cells": {
                                                                              "fill": {
                                                                                    "color": "rgb(237,237,237)"
                                                                              },
                                                                              "line": {
                                                                                    "color": "white"
                                                                              }
                                                                        },
                                                                        "header": {
                                                                              "fill": {
                                                                                    "color": "rgb(217,217,217)"
                                                                              },
                                                                              "line": {
                                                                                    "color": "white"
                                                                              }
                                                                        },
                                                                        "type": "table"
                                                                  }
                                                            ]
                                                      },
                                                      "layout": {
                                                            "annotationdefaults": {
                                                                  "arrowhead": 0,
                                                                  "arrowwidth": 1
                                                            },
                                                            "autotypenumbers": "strict",
                                                            "coloraxis": {
                                                                  "colorbar": {
                                                                        "outlinewidth": 1,
                                                                        "tickcolor": "rgb(36,36,36)",
                                                                        "ticks": "outside"
                                                                  }
                                                            },
                                                            "colorscale": {
                                                                  "diverging": [
                                                                        [
                                                                              0,
                                                                              "rgb(103,0,31)"
                                                                        ],
                                                                        [
                                                                              0.1,
                                                                              "rgb(178,24,43)"
                                                                        ],
                                                                        [
                                                                              0.2,
                                                                              "rgb(214,96,77)"
                                                                        ],
                                                                        [
                                                                              0.3,
                                                                              "rgb(244,165,130)"
                                                                        ],
                                                                        [
                                                                              0.4,
                                                                              "rgb(253,219,199)"
                                                                        ],
                                                                        [
                                                                              0.5,
                                                                              "rgb(247,247,247)"
                                                                        ],
                                                                        [
                                                                              0.6,
                                                                              "rgb(209,229,240)"
                                                                        ],
                                                                        [
                                                                              0.7,
                                                                              "rgb(146,197,222)"
                                                                        ],
                                                                        [
                                                                              0.8,
                                                                              "rgb(67,147,195)"
                                                                        ],
                                                                        [
                                                                              0.9,
                                                                              "rgb(33,102,172)"
                                                                        ],
                                                                        [
                                                                              1,
                                                                              "rgb(5,48,97)"
                                                                        ]
                                                                  ],
                                                                  "sequential": [
                                                                        [
                                                                              0,
                                                                              "#440154"
                                                                        ],
                                                                        [
                                                                              0.1111111111111111,
                                                                              "#482878"
                                                                        ],
                                                                        [
                                                                              0.2222222222222222,
                                                                              "#3e4989"
                                                                        ],
                                                                        [
                                                                              0.3333333333333333,
                                                                              "#31688e"
                                                                        ],
                                                                        [
                                                                              0.4444444444444444,
                                                                              "#26828e"
                                                                        ],
                                                                        [
                                                                              0.5555555555555556,
                                                                              "#1f9e89"
                                                                        ],
                                                                        [
                                                                              0.6666666666666666,
                                                                              "#35b779"
                                                                        ],
                                                                        [
                                                                              0.7777777777777778,
                                                                              "#6ece58"
                                                                        ],
                                                                        [
                                                                              0.8888888888888888,
                                                                              "#b5de2b"
                                                                        ],
                                                                        [
                                                                              1,
                                                                              "#fde725"
                                                                        ]
                                                                  ],
                                                                  "sequentialminus": [
                                                                        [
                                                                              0,
                                                                              "#440154"
                                                                        ],
                                                                        [
                                                                              0.1111111111111111,
                                                                              "#482878"
                                                                        ],
                                                                        [
                                                                              0.2222222222222222,
                                                                              "#3e4989"
                                                                        ],
                                                                        [
                                                                              0.3333333333333333,
                                                                              "#31688e"
                                                                        ],
                                                                        [
                                                                              0.4444444444444444,
                                                                              "#26828e"
                                                                        ],
                                                                        [
                                                                              0.5555555555555556,
                                                                              "#1f9e89"
                                                                        ],
                                                                        [
                                                                              0.6666666666666666,
                                                                              "#35b779"
                                                                        ],
                                                                        [
                                                                              0.7777777777777778,
                                                                              "#6ece58"
                                                                        ],
                                                                        [
                                                                              0.8888888888888888,
                                                                              "#b5de2b"
                                                                        ],
                                                                        [
                                                                              1,
                                                                              "#fde725"
                                                                        ]
                                                                  ]
                                                            },
                                                            "colorway": [
                                                                  "#1F77B4",
                                                                  "#FF7F0E",
                                                                  "#2CA02C",
                                                                  "#D62728",
                                                                  "#9467BD",
                                                                  "#8C564B",
                                                                  "#E377C2",
                                                                  "#7F7F7F",
                                                                  "#BCBD22",
                                                                  "#17BECF"
                                                            ],
                                                            "font": {
                                                                  "color": "rgb(36,36,36)"
                                                            },
                                                            "geo": {
                                                                  "bgcolor": "white",
                                                                  "lakecolor": "white",
                                                                  "landcolor": "white",
                                                                  "showlakes": true,
                                                                  "showland": true,
                                                                  "subunitcolor": "white"
                                                            },
                                                            "hoverlabel": {
                                                                  "align": "left"
                                                            },
                                                            "hovermode": "closest",
                                                            "mapbox": {
                                                                  "style": "light"
                                                            },
                                                            "paper_bgcolor": "white",
                                                            "plot_bgcolor": "white",
                                                            "polar": {
                                                                  "angularaxis": {
                                                                        "gridcolor": "rgb(232,232,232)",
                                                                        "linecolor": "rgb(36,36,36)",
                                                                        "showgrid": false,
                                                                        "showline": true,
                                                                        "ticks": "outside"
                                                                  },
                                                                  "bgcolor": "white",
                                                                  "radialaxis": {
                                                                        "gridcolor": "rgb(232,232,232)",
                                                                        "linecolor": "rgb(36,36,36)",
                                                                        "showgrid": false,
                                                                        "showline": true,
                                                                        "ticks": "outside"
                                                                  }
                                                            },
                                                            "scene": {
                                                                  "xaxis": {
                                                                        "backgroundcolor": "white",
                                                                        "gridcolor": "rgb(232,232,232)",
                                                                        "gridwidth": 2,
                                                                        "linecolor": "rgb(36,36,36)",
                                                                        "showbackground": true,
                                                                        "showgrid": false,
                                                                        "showline": true,
                                                                        "ticks": "outside",
                                                                        "zeroline": false,
                                                                        "zerolinecolor": "rgb(36,36,36)"
                                                                  },
                                                                  "yaxis": {
                                                                        "backgroundcolor": "white",
                                                                        "gridcolor": "rgb(232,232,232)",
                                                                        "gridwidth": 2,
                                                                        "linecolor": "rgb(36,36,36)",
                                                                        "showbackground": true,
                                                                        "showgrid": false,
                                                                        "showline": true,
                                                                        "ticks": "outside",
                                                                        "zeroline": false,
                                                                        "zerolinecolor": "rgb(36,36,36)"
                                                                  },
                                                                  "zaxis": {
                                                                        "backgroundcolor": "white",
                                                                        "gridcolor": "rgb(232,232,232)",
                                                                        "gridwidth": 2,
                                                                        "linecolor": "rgb(36,36,36)",
                                                                        "showbackground": true,
                                                                        "showgrid": false,
                                                                        "showline": true,
                                                                        "ticks": "outside",
                                                                        "zeroline": false,
                                                                        "zerolinecolor": "rgb(36,36,36)"
                                                                  }
                                                            },
                                                            "shapedefaults": {
                                                                  "fillcolor": "black",
                                                                  "line": {
                                                                        "width": 0
                                                                  },
                                                                  "opacity": 0.3
                                                            },
                                                            "ternary": {
                                                                  "aaxis": {
                                                                        "gridcolor": "rgb(232,232,232)",
                                                                        "linecolor": "rgb(36,36,36)",
                                                                        "showgrid": false,
                                                                        "showline": true,
                                                                        "ticks": "outside"
                                                                  },
                                                                  "baxis": {
                                                                        "gridcolor": "rgb(232,232,232)",
                                                                        "linecolor": "rgb(36,36,36)",
                                                                        "showgrid": false,
                                                                        "showline": true,
                                                                        "ticks": "outside"
                                                                  },
                                                                  "bgcolor": "white",
                                                                  "caxis": {
                                                                        "gridcolor": "rgb(232,232,232)",
                                                                        "linecolor": "rgb(36,36,36)",
                                                                        "showgrid": false,
                                                                        "showline": true,
                                                                        "ticks": "outside"
                                                                  }
                                                            },
                                                            "title": {
                                                                  "x": 0.05
                                                            },
                                                            "xaxis": {
                                                                  "automargin": true,
                                                                  "gridcolor": "rgb(232,232,232)",
                                                                  "linecolor": "rgb(36,36,36)",
                                                                  "showgrid": false,
                                                                  "showline": true,
                                                                  "ticks": "outside",
                                                                  "title": {
                                                                        "standoff": 15
                                                                  },
                                                                  "zeroline": false,
                                                                  "zerolinecolor": "rgb(36,36,36)"
                                                            },
                                                            "yaxis": {
                                                                  "automargin": true,
                                                                  "gridcolor": "rgb(232,232,232)",
                                                                  "linecolor": "rgb(36,36,36)",
                                                                  "showgrid": false,
                                                                  "showline": true,
                                                                  "ticks": "outside",
                                                                  "title": {
                                                                        "standoff": 15
                                                                  },
                                                                  "zeroline": false,
                                                                  "zerolinecolor": "rgb(36,36,36)"
                                                            }
                                                      }
                                                },
                                                "title": {
                                                      "font": {
                                                            "color": "Black",
                                                            "size": 22
                                                      },
                                                      "text": "<b>Intertopic Distance Map</b>",
                                                      "x": 0.5,
                                                      "xanchor": "center",
                                                      "y": 0.95,
                                                      "yanchor": "top"
                                                },
                                                "width": 650,
                                                "xaxis": {
                                                      "anchor": "y",
                                                      "domain": [
                                                            0,
                                                            1
                                                      ],
                                                      "range": [
                                                            -3.6157706022262572,
                                                            22.43159351348877
                                                      ],
                                                      "title": {
                                                            "text": ""
                                                      },
                                                      "visible": false
                                                },
                                                "yaxis": {
                                                      "anchor": "x",
                                                      "domain": [
                                                            0,
                                                            1
                                                      ],
                                                      "range": [
                                                            -8.164432334899903,
                                                            16.34472770690918
                                                      ],
                                                      "title": {
                                                            "text": ""
                                                      },
                                                      "visible": false
                                                }
                                          }
                                    }
                              },
                              "metadata": {},
                              "output_type": "display_data"
                        }
                  ],
                  "source": [
                        "topic_model.visualize_topics()"
                  ]
            },
            {
                  "cell_type": "code",
                  "execution_count": 109,
                  "metadata": {},
                  "outputs": [
                        {
                              "data": {
                                    "application/vnd.plotly.v1+json": {
                                          "config": {
                                                "plotlyServerURL": "https://plot.ly"
                                          },
                                          "data": [
                                                {
                                                      "coloraxis": "coloraxis",
                                                      "hovertemplate": "x: %{x}<br>y: %{y}<br>Similarity Score: %{z}<extra></extra>",
                                                      "name": "0",
                                                      "type": "heatmap",
                                                      "x": [
                                                            "0_galaxies_stellar_stars",
                                                            "1_plasma_iter_magnetic",
                                                            "2_graphene_transport_electr...",
                                                            "3_solar_emissions_waves",
                                                            "4_disk_formation_star",
                                                            "5_optical_frequency_light",
                                                            "6_telescope_national_observ...",
                                                            "7_josephson_tunnelling_xrt",
                                                            "8_quantum_cells_nanowire",
                                                            "9_crust_zircon_continental",
                                                            "10_agn_xray_disc",
                                                            "11_cavity_dynamics_systems",
                                                            "12_entanglement_states_quan...",
                                                            "13_tsunami_sph_tsunamis",
                                                            "14_gas_galaxies_protoclusters",
                                                            "15_graphene_conductivity_tw...",
                                                            "16_galaxies_mass_color",
                                                            "17_aerosol_carbon_soil",
                                                            "18_climate_global_precipita...",
                                                            "19_sub_survey_galaxies",
                                                            "20_bcgs_mass_galaxies",
                                                            "21_quantum_information_qubits",
                                                            "22_haloes_halo_excursion",
                                                            "23_quasars_radio_ia"
                                                      ],
                                                      "xaxis": "x",
                                                      "y": [
                                                            "0_galaxies_stellar_stars",
                                                            "1_plasma_iter_magnetic",
                                                            "2_graphene_transport_electr...",
                                                            "3_solar_emissions_waves",
                                                            "4_disk_formation_star",
                                                            "5_optical_frequency_light",
                                                            "6_telescope_national_observ...",
                                                            "7_josephson_tunnelling_xrt",
                                                            "8_quantum_cells_nanowire",
                                                            "9_crust_zircon_continental",
                                                            "10_agn_xray_disc",
                                                            "11_cavity_dynamics_systems",
                                                            "12_entanglement_states_quan...",
                                                            "13_tsunami_sph_tsunamis",
                                                            "14_gas_galaxies_protoclusters",
                                                            "15_graphene_conductivity_tw...",
                                                            "16_galaxies_mass_color",
                                                            "17_aerosol_carbon_soil",
                                                            "18_climate_global_precipita...",
                                                            "19_sub_survey_galaxies",
                                                            "20_bcgs_mass_galaxies",
                                                            "21_quantum_information_qubits",
                                                            "22_haloes_halo_excursion",
                                                            "23_quasars_radio_ia"
                                                      ],
                                                      "yaxis": "y",
                                                      "z": [
                                                            [
                                                                  1.0000001192092896,
                                                                  0.6556753516197205,
                                                                  0.11685921996831894,
                                                                  0.6019613742828369,
                                                                  0.8039325475692749,
                                                                  0.2549244463443756,
                                                                  0.80922532081604,
                                                                  0.5383638739585876,
                                                                  0.22973035275936127,
                                                                  0.44711509346961975,
                                                                  0.8188015222549438,
                                                                  0.19327962398529053,
                                                                  0.22861219942569733,
                                                                  0.3064003586769104,
                                                                  0.9086531400680542,
                                                                  0.08497291058301926,
                                                                  0.911558985710144,
                                                                  0.380389928817749,
                                                                  0.26531878113746643,
                                                                  0.864507257938385,
                                                                  0.9061011075973511,
                                                                  0.09630504250526428,
                                                                  0.7894330024719238,
                                                                  0.8387616872787476
                                                            ],
                                                            [
                                                                  0.6556753516197205,
                                                                  0.9999998807907104,
                                                                  0.3871690034866333,
                                                                  0.593660831451416,
                                                                  0.7139506340026855,
                                                                  0.2748725414276123,
                                                                  0.529700517654419,
                                                                  0.5607706308364868,
                                                                  0.23198123276233673,
                                                                  0.37516146898269653,
                                                                  0.5698329210281372,
                                                                  0.3949713408946991,
                                                                  0.4154442846775055,
                                                                  0.3399895429611206,
                                                                  0.6679632663726807,
                                                                  0.26145026087760925,
                                                                  0.5312926769256592,
                                                                  0.20120258629322052,
                                                                  0.16598355770111084,
                                                                  0.5932195782661438,
                                                                  0.6488175988197327,
                                                                  0.19788911938667297,
                                                                  0.5866516828536987,
                                                                  0.5192782878875732
                                                            ],
                                                            [
                                                                  0.11685921996831894,
                                                                  0.3871690034866333,
                                                                  0.9999998807907104,
                                                                  0.27266761660575867,
                                                                  0.20157994329929352,
                                                                  0.27159661054611206,
                                                                  0.09545911848545074,
                                                                  0.34428104758262634,
                                                                  0.44080570340156555,
                                                                  0.05994613468647003,
                                                                  0.062377214431762695,
                                                                  0.3477136492729187,
                                                                  0.3330886960029602,
                                                                  0.048160381615161896,
                                                                  0.16362987458705902,
                                                                  0.8641245365142822,
                                                                  0.06597259640693665,
                                                                  0.04519785940647125,
                                                                  -0.06478837877511978,
                                                                  0.12024246901273727,
                                                                  0.063164122402668,
                                                                  0.34342241287231445,
                                                                  0.09463229775428772,
                                                                  0.08607526123523712
                                                            ],
                                                            [
                                                                  0.6019613742828369,
                                                                  0.593660831451416,
                                                                  0.27266761660575867,
                                                                  1.0000001192092896,
                                                                  0.5977288484573364,
                                                                  0.3370392322540283,
                                                                  0.5298515558242798,
                                                                  0.5523664951324463,
                                                                  0.3433343768119812,
                                                                  0.33498087525367737,
                                                                  0.5245352983474731,
                                                                  0.22510837018489838,
                                                                  0.1992615908384323,
                                                                  0.3395150899887085,
                                                                  0.56134033203125,
                                                                  0.23926737904548645,
                                                                  0.5080463290214539,
                                                                  0.5233347415924072,
                                                                  0.39181381464004517,
                                                                  0.5586298704147339,
                                                                  0.5127392411231995,
                                                                  0.11967465281486511,
                                                                  0.47429296374320984,
                                                                  0.5525763034820557
                                                            ],
                                                            [
                                                                  0.8039325475692749,
                                                                  0.7139506340026855,
                                                                  0.20157994329929352,
                                                                  0.5977288484573364,
                                                                  1,
                                                                  0.22410234808921814,
                                                                  0.5909982323646545,
                                                                  0.4285691976547241,
                                                                  0.1454954743385315,
                                                                  0.39727455377578735,
                                                                  0.6060640215873718,
                                                                  0.3714330196380615,
                                                                  0.25334084033966064,
                                                                  0.408050537109375,
                                                                  0.7341119647026062,
                                                                  0.2100447714328766,
                                                                  0.6526471972465515,
                                                                  0.40925532579421997,
                                                                  0.28011199831962585,
                                                                  0.6153749227523804,
                                                                  0.757920503616333,
                                                                  0.034927744418382645,
                                                                  0.6666296124458313,
                                                                  0.5685248374938965
                                                            ],
                                                            [
                                                                  0.2549244463443756,
                                                                  0.2748725414276123,
                                                                  0.27159661054611206,
                                                                  0.3370392322540283,
                                                                  0.22410234808921814,
                                                                  0.9999998807907104,
                                                                  0.24330611526966095,
                                                                  0.45984384417533875,
                                                                  0.6277792453765869,
                                                                  0.026866821572184563,
                                                                  0.27353546023368835,
                                                                  0.3723433017730713,
                                                                  0.17687705159187317,
                                                                  0.004997021518647671,
                                                                  0.2317909151315689,
                                                                  0.16945341229438782,
                                                                  0.25612902641296387,
                                                                  0.06703434884548187,
                                                                  -0.04651159048080444,
                                                                  0.2940616309642792,
                                                                  0.17200954258441925,
                                                                  0.42220425605773926,
                                                                  0.16660967469215393,
                                                                  0.2947307825088501
                                                            ],
                                                            [
                                                                  0.80922532081604,
                                                                  0.529700517654419,
                                                                  0.09545911848545074,
                                                                  0.5298515558242798,
                                                                  0.5909982323646545,
                                                                  0.24330611526966095,
                                                                  0.9999999403953552,
                                                                  0.6437512636184692,
                                                                  0.19693025946617126,
                                                                  0.3306766748428345,
                                                                  0.8660866022109985,
                                                                  0.05848278850317001,
                                                                  0.2168201506137848,
                                                                  0.32189831137657166,
                                                                  0.7611738443374634,
                                                                  0.021561218425631523,
                                                                  0.8459795713424683,
                                                                  0.3667726516723633,
                                                                  0.28908923268318176,
                                                                  0.8410440683364868,
                                                                  0.7330307960510254,
                                                                  0.1515234112739563,
                                                                  0.6572921276092529,
                                                                  0.7915952801704407
                                                            ],
                                                            [
                                                                  0.5383638739585876,
                                                                  0.5607706308364868,
                                                                  0.34428104758262634,
                                                                  0.5523664951324463,
                                                                  0.4285691976547241,
                                                                  0.45984384417533875,
                                                                  0.6437512636184692,
                                                                  1,
                                                                  0.4259418845176697,
                                                                  0.28665778040885925,
                                                                  0.6822493672370911,
                                                                  0.2910156548023224,
                                                                  0.34034261107444763,
                                                                  0.23255911469459534,
                                                                  0.5804146528244019,
                                                                  0.21171987056732178,
                                                                  0.5300059914588928,
                                                                  0.3001149892807007,
                                                                  0.13355211913585663,
                                                                  0.639545202255249,
                                                                  0.46137556433677673,
                                                                  0.30938494205474854,
                                                                  0.4291427731513977,
                                                                  0.5515611171722412
                                                            ],
                                                            [
                                                                  0.22973035275936127,
                                                                  0.23198123276233673,
                                                                  0.44080570340156555,
                                                                  0.3433343768119812,
                                                                  0.1454954743385315,
                                                                  0.6277792453765869,
                                                                  0.19693025946617126,
                                                                  0.4259418845176697,
                                                                  1.000000238418579,
                                                                  0.01957515999674797,
                                                                  0.21807581186294556,
                                                                  0.2777847647666931,
                                                                  0.2040172964334488,
                                                                  -0.08564771711826324,
                                                                  0.19866943359375,
                                                                  0.29853665828704834,
                                                                  0.20745351910591125,
                                                                  0.08140990138053894,
                                                                  -0.023768333718180656,
                                                                  0.29101237654685974,
                                                                  0.16640661656856537,
                                                                  0.5266702771186829,
                                                                  0.10999079793691635,
                                                                  0.313518226146698
                                                            ],
                                                            [
                                                                  0.44711509346961975,
                                                                  0.37516146898269653,
                                                                  0.05994613468647003,
                                                                  0.33498087525367737,
                                                                  0.39727455377578735,
                                                                  0.026866821572184563,
                                                                  0.3306766748428345,
                                                                  0.28665778040885925,
                                                                  0.01957515999674797,
                                                                  1.000000238418579,
                                                                  0.33503538370132446,
                                                                  0.11713417619466782,
                                                                  0.09680746495723724,
                                                                  0.2702396512031555,
                                                                  0.43567198514938354,
                                                                  -0.0036642346531152725,
                                                                  0.3291258215904236,
                                                                  0.43420305848121643,
                                                                  0.42480921745300293,
                                                                  0.364540696144104,
                                                                  0.3527945876121521,
                                                                  -0.039955221116542816,
                                                                  0.332970529794693,
                                                                  0.31407418847084045
                                                            ],
                                                            [
                                                                  0.8188015222549438,
                                                                  0.5698329210281372,
                                                                  0.062377214431762695,
                                                                  0.5245352983474731,
                                                                  0.6060640215873718,
                                                                  0.27353546023368835,
                                                                  0.8660866022109985,
                                                                  0.6822493672370911,
                                                                  0.21807581186294556,
                                                                  0.33503538370132446,
                                                                  1.0000001192092896,
                                                                  0.08541352301836014,
                                                                  0.24259063601493835,
                                                                  0.2928294539451599,
                                                                  0.7839215397834778,
                                                                  -0.0006097704172134399,
                                                                  0.8507737517356873,
                                                                  0.3699610233306885,
                                                                  0.24570578336715698,
                                                                  0.8573229908943176,
                                                                  0.7854797840118408,
                                                                  0.20113256573677063,
                                                                  0.7196036577224731,
                                                                  0.842821478843689
                                                            ],
                                                            [
                                                                  0.19327962398529053,
                                                                  0.3949713408946991,
                                                                  0.3477136492729187,
                                                                  0.22510837018489838,
                                                                  0.3714330196380615,
                                                                  0.3723433017730713,
                                                                  0.05848278850317001,
                                                                  0.2910156548023224,
                                                                  0.2777847647666931,
                                                                  0.11713417619466782,
                                                                  0.08541352301836014,
                                                                  1.000000238418579,
                                                                  0.5502070188522339,
                                                                  0.3236268162727356,
                                                                  0.2753083109855652,
                                                                  0.21783360838890076,
                                                                  0.1197698786854744,
                                                                  0.16204097867012024,
                                                                  0.12186778336763382,
                                                                  0.12664616107940674,
                                                                  0.23775972425937653,
                                                                  0.4796134829521179,
                                                                  0.28235161304473877,
                                                                  0.13428816199302673
                                                            ],
                                                            [
                                                                  0.22861219942569733,
                                                                  0.4154442846775055,
                                                                  0.3330886960029602,
                                                                  0.1992615908384323,
                                                                  0.25334084033966064,
                                                                  0.17687705159187317,
                                                                  0.2168201506137848,
                                                                  0.34034261107444763,
                                                                  0.2040172964334488,
                                                                  0.09680746495723724,
                                                                  0.24259063601493835,
                                                                  0.5502070188522339,
                                                                  1.0000001192092896,
                                                                  0.329615980386734,
                                                                  0.3125801086425781,
                                                                  0.1577850580215454,
                                                                  0.22581124305725098,
                                                                  0.06912049651145935,
                                                                  0.06129740923643112,
                                                                  0.250399649143219,
                                                                  0.2596508860588074,
                                                                  0.6204787492752075,
                                                                  0.37366384267807007,
                                                                  0.23814068734645844
                                                            ],
                                                            [
                                                                  0.3064003586769104,
                                                                  0.3399895429611206,
                                                                  0.048160381615161896,
                                                                  0.3395150899887085,
                                                                  0.408050537109375,
                                                                  0.004997021518647671,
                                                                  0.32189831137657166,
                                                                  0.23255911469459534,
                                                                  -0.08564771711826324,
                                                                  0.2702396512031555,
                                                                  0.2928294539451599,
                                                                  0.3236268162727356,
                                                                  0.329615980386734,
                                                                  1.000000238418579,
                                                                  0.3430982232093811,
                                                                  0.08066938072443008,
                                                                  0.29087284207344055,
                                                                  0.23960845172405243,
                                                                  0.3223177194595337,
                                                                  0.23280669748783112,
                                                                  0.34519892930984497,
                                                                  0.06751998513936996,
                                                                  0.368788480758667,
                                                                  0.22648239135742188
                                                            ],
                                                            [
                                                                  0.9086531400680542,
                                                                  0.6679632663726807,
                                                                  0.16362987458705902,
                                                                  0.56134033203125,
                                                                  0.7341119647026062,
                                                                  0.2317909151315689,
                                                                  0.7611738443374634,
                                                                  0.5804146528244019,
                                                                  0.19866943359375,
                                                                  0.43567198514938354,
                                                                  0.7839215397834778,
                                                                  0.2753083109855652,
                                                                  0.3125801086425781,
                                                                  0.3430982232093811,
                                                                  1.0000001192092896,
                                                                  0.08335646986961365,
                                                                  0.8418704271316528,
                                                                  0.36043959856033325,
                                                                  0.2144603431224823,
                                                                  0.8660259246826172,
                                                                  0.8873292207717896,
                                                                  0.1462268829345703,
                                                                  0.7846055626869202,
                                                                  0.777294397354126
                                                            ],
                                                            [
                                                                  0.08497291058301926,
                                                                  0.26145026087760925,
                                                                  0.8641245365142822,
                                                                  0.23926737904548645,
                                                                  0.2100447714328766,
                                                                  0.16945341229438782,
                                                                  0.021561218425631523,
                                                                  0.21171987056732178,
                                                                  0.29853665828704834,
                                                                  -0.0036642346531152725,
                                                                  -0.0006097704172134399,
                                                                  0.21783360838890076,
                                                                  0.1577850580215454,
                                                                  0.08066938072443008,
                                                                  0.08335646986961365,
                                                                  1.000000238418579,
                                                                  0.020945850759744644,
                                                                  0.07197725772857666,
                                                                  -0.06387869268655777,
                                                                  0.04486576467752457,
                                                                  0.008643213659524918,
                                                                  0.15926289558410645,
                                                                  0.02547711506485939,
                                                                  0.018939334899187088
                                                            ],
                                                            [
                                                                  0.911558985710144,
                                                                  0.5312926769256592,
                                                                  0.06597259640693665,
                                                                  0.5080463290214539,
                                                                  0.6526471972465515,
                                                                  0.25612902641296387,
                                                                  0.8459795713424683,
                                                                  0.5300059914588928,
                                                                  0.20745351910591125,
                                                                  0.3291258215904236,
                                                                  0.8507737517356873,
                                                                  0.1197698786854744,
                                                                  0.22581124305725098,
                                                                  0.29087284207344055,
                                                                  0.8418704271316528,
                                                                  0.020945850759744644,
                                                                  0.9999998807907104,
                                                                  0.3318840265274048,
                                                                  0.23227067291736603,
                                                                  0.882554829120636,
                                                                  0.8503245115280151,
                                                                  0.11640970408916473,
                                                                  0.7790131568908691,
                                                                  0.8486435413360596
                                                            ],
                                                            [
                                                                  0.380389928817749,
                                                                  0.20120258629322052,
                                                                  0.04519785940647125,
                                                                  0.5233347415924072,
                                                                  0.40925532579421997,
                                                                  0.06703434884548187,
                                                                  0.3667726516723633,
                                                                  0.3001149892807007,
                                                                  0.08140990138053894,
                                                                  0.43420305848121643,
                                                                  0.3699610233306885,
                                                                  0.16204097867012024,
                                                                  0.06912049651145935,
                                                                  0.23960845172405243,
                                                                  0.36043959856033325,
                                                                  0.07197725772857666,
                                                                  0.3318840265274048,
                                                                  1.000000238418579,
                                                                  0.6816943287849426,
                                                                  0.32899826765060425,
                                                                  0.28631240129470825,
                                                                  0.046317052096128464,
                                                                  0.3473462462425232,
                                                                  0.343730092048645
                                                            ],
                                                            [
                                                                  0.26531878113746643,
                                                                  0.16598355770111084,
                                                                  -0.06478837877511978,
                                                                  0.39181381464004517,
                                                                  0.28011199831962585,
                                                                  -0.04651159048080444,
                                                                  0.28908923268318176,
                                                                  0.13355211913585663,
                                                                  -0.023768333718180656,
                                                                  0.42480921745300293,
                                                                  0.24570578336715698,
                                                                  0.12186778336763382,
                                                                  0.06129740923643112,
                                                                  0.3223177194595337,
                                                                  0.2144603431224823,
                                                                  -0.06387869268655777,
                                                                  0.23227067291736603,
                                                                  0.6816943287849426,
                                                                  1,
                                                                  0.20220528542995453,
                                                                  0.2469787895679474,
                                                                  0.00481972424313426,
                                                                  0.2768913209438324,
                                                                  0.23299404978752136
                                                            ],
                                                            [
                                                                  0.864507257938385,
                                                                  0.5932195782661438,
                                                                  0.12024246901273727,
                                                                  0.5586298704147339,
                                                                  0.6153749227523804,
                                                                  0.2940616309642792,
                                                                  0.8410440683364868,
                                                                  0.639545202255249,
                                                                  0.29101237654685974,
                                                                  0.364540696144104,
                                                                  0.8573229908943176,
                                                                  0.12664616107940674,
                                                                  0.250399649143219,
                                                                  0.23280669748783112,
                                                                  0.8660259246826172,
                                                                  0.04486576467752457,
                                                                  0.882554829120636,
                                                                  0.32899826765060425,
                                                                  0.20220528542995453,
                                                                  1,
                                                                  0.8234965801239014,
                                                                  0.20194068551063538,
                                                                  0.7217352390289307,
                                                                  0.8697690963745117
                                                            ],
                                                            [
                                                                  0.9061011075973511,
                                                                  0.6488175988197327,
                                                                  0.063164122402668,
                                                                  0.5127392411231995,
                                                                  0.757920503616333,
                                                                  0.17200954258441925,
                                                                  0.7330307960510254,
                                                                  0.46137556433677673,
                                                                  0.16640661656856537,
                                                                  0.3527945876121521,
                                                                  0.7854797840118408,
                                                                  0.23775972425937653,
                                                                  0.2596508860588074,
                                                                  0.34519892930984497,
                                                                  0.8873292207717896,
                                                                  0.008643213659524918,
                                                                  0.8503245115280151,
                                                                  0.28631240129470825,
                                                                  0.2469787895679474,
                                                                  0.8234965801239014,
                                                                  1.000000238418579,
                                                                  0.1151333674788475,
                                                                  0.792885422706604,
                                                                  0.7840553522109985
                                                            ],
                                                            [
                                                                  0.09630504250526428,
                                                                  0.19788911938667297,
                                                                  0.34342241287231445,
                                                                  0.11967465281486511,
                                                                  0.034927744418382645,
                                                                  0.42220425605773926,
                                                                  0.1515234112739563,
                                                                  0.30938494205474854,
                                                                  0.5266702771186829,
                                                                  -0.039955221116542816,
                                                                  0.20113256573677063,
                                                                  0.4796134829521179,
                                                                  0.6204787492752075,
                                                                  0.06751998513936996,
                                                                  0.1462268829345703,
                                                                  0.15926289558410645,
                                                                  0.11640970408916473,
                                                                  0.046317052096128464,
                                                                  0.00481972424313426,
                                                                  0.20194068551063538,
                                                                  0.1151333674788475,
                                                                  1.0000001192092896,
                                                                  0.15531577169895172,
                                                                  0.24116837978363037
                                                            ],
                                                            [
                                                                  0.7894330024719238,
                                                                  0.5866516828536987,
                                                                  0.09463229775428772,
                                                                  0.47429296374320984,
                                                                  0.6666296124458313,
                                                                  0.16660967469215393,
                                                                  0.6572921276092529,
                                                                  0.4291427731513977,
                                                                  0.10999079793691635,
                                                                  0.332970529794693,
                                                                  0.7196036577224731,
                                                                  0.28235161304473877,
                                                                  0.37366384267807007,
                                                                  0.368788480758667,
                                                                  0.7846055626869202,
                                                                  0.02547711506485939,
                                                                  0.7790131568908691,
                                                                  0.3473462462425232,
                                                                  0.2768913209438324,
                                                                  0.7217352390289307,
                                                                  0.792885422706604,
                                                                  0.15531577169895172,
                                                                  1,
                                                                  0.717254102230072
                                                            ],
                                                            [
                                                                  0.8387616872787476,
                                                                  0.5192782878875732,
                                                                  0.08607526123523712,
                                                                  0.5525763034820557,
                                                                  0.5685248374938965,
                                                                  0.2947307825088501,
                                                                  0.7915952801704407,
                                                                  0.5515611171722412,
                                                                  0.313518226146698,
                                                                  0.31407418847084045,
                                                                  0.842821478843689,
                                                                  0.13428816199302673,
                                                                  0.23814068734645844,
                                                                  0.22648239135742188,
                                                                  0.777294397354126,
                                                                  0.018939334899187088,
                                                                  0.8486435413360596,
                                                                  0.343730092048645,
                                                                  0.23299404978752136,
                                                                  0.8697690963745117,
                                                                  0.7840553522109985,
                                                                  0.24116837978363037,
                                                                  0.717254102230072,
                                                                  1.0000001192092896
                                                            ]
                                                      ]
                                                }
                                          ],
                                          "layout": {
                                                "coloraxis": {
                                                      "colorbar": {
                                                            "title": {
                                                                  "text": "Similarity Score"
                                                            }
                                                      },
                                                      "colorscale": [
                                                            [
                                                                  0,
                                                                  "rgb(247,252,240)"
                                                            ],
                                                            [
                                                                  0.125,
                                                                  "rgb(224,243,219)"
                                                            ],
                                                            [
                                                                  0.25,
                                                                  "rgb(204,235,197)"
                                                            ],
                                                            [
                                                                  0.375,
                                                                  "rgb(168,221,181)"
                                                            ],
                                                            [
                                                                  0.5,
                                                                  "rgb(123,204,196)"
                                                            ],
                                                            [
                                                                  0.625,
                                                                  "rgb(78,179,211)"
                                                            ],
                                                            [
                                                                  0.75,
                                                                  "rgb(43,140,190)"
                                                            ],
                                                            [
                                                                  0.875,
                                                                  "rgb(8,104,172)"
                                                            ],
                                                            [
                                                                  1,
                                                                  "rgb(8,64,129)"
                                                            ]
                                                      ]
                                                },
                                                "height": 800,
                                                "hoverlabel": {
                                                      "bgcolor": "white",
                                                      "font": {
                                                            "family": "Rockwell",
                                                            "size": 16
                                                      }
                                                },
                                                "legend": {
                                                      "title": {
                                                            "text": "Trend"
                                                      }
                                                },
                                                "margin": {
                                                      "t": 60
                                                },
                                                "showlegend": true,
                                                "template": {
                                                      "data": {
                                                            "bar": [
                                                                  {
                                                                        "error_x": {
                                                                              "color": "#2a3f5f"
                                                                        },
                                                                        "error_y": {
                                                                              "color": "#2a3f5f"
                                                                        },
                                                                        "marker": {
                                                                              "line": {
                                                                                    "color": "#E5ECF6",
                                                                                    "width": 0.5
                                                                              },
                                                                              "pattern": {
                                                                                    "fillmode": "overlay",
                                                                                    "size": 10,
                                                                                    "solidity": 0.2
                                                                              }
                                                                        },
                                                                        "type": "bar"
                                                                  }
                                                            ],
                                                            "barpolar": [
                                                                  {
                                                                        "marker": {
                                                                              "line": {
                                                                                    "color": "#E5ECF6",
                                                                                    "width": 0.5
                                                                              },
                                                                              "pattern": {
                                                                                    "fillmode": "overlay",
                                                                                    "size": 10,
                                                                                    "solidity": 0.2
                                                                              }
                                                                        },
                                                                        "type": "barpolar"
                                                                  }
                                                            ],
                                                            "carpet": [
                                                                  {
                                                                        "aaxis": {
                                                                              "endlinecolor": "#2a3f5f",
                                                                              "gridcolor": "white",
                                                                              "linecolor": "white",
                                                                              "minorgridcolor": "white",
                                                                              "startlinecolor": "#2a3f5f"
                                                                        },
                                                                        "baxis": {
                                                                              "endlinecolor": "#2a3f5f",
                                                                              "gridcolor": "white",
                                                                              "linecolor": "white",
                                                                              "minorgridcolor": "white",
                                                                              "startlinecolor": "#2a3f5f"
                                                                        },
                                                                        "type": "carpet"
                                                                  }
                                                            ],
                                                            "choropleth": [
                                                                  {
                                                                        "colorbar": {
                                                                              "outlinewidth": 0,
                                                                              "ticks": ""
                                                                        },
                                                                        "type": "choropleth"
                                                                  }
                                                            ],
                                                            "contour": [
                                                                  {
                                                                        "colorbar": {
                                                                              "outlinewidth": 0,
                                                                              "ticks": ""
                                                                        },
                                                                        "colorscale": [
                                                                              [
                                                                                    0,
                                                                                    "#0d0887"
                                                                              ],
                                                                              [
                                                                                    0.1111111111111111,
                                                                                    "#46039f"
                                                                              ],
                                                                              [
                                                                                    0.2222222222222222,
                                                                                    "#7201a8"
                                                                              ],
                                                                              [
                                                                                    0.3333333333333333,
                                                                                    "#9c179e"
                                                                              ],
                                                                              [
                                                                                    0.4444444444444444,
                                                                                    "#bd3786"
                                                                              ],
                                                                              [
                                                                                    0.5555555555555556,
                                                                                    "#d8576b"
                                                                              ],
                                                                              [
                                                                                    0.6666666666666666,
                                                                                    "#ed7953"
                                                                              ],
                                                                              [
                                                                                    0.7777777777777778,
                                                                                    "#fb9f3a"
                                                                              ],
                                                                              [
                                                                                    0.8888888888888888,
                                                                                    "#fdca26"
                                                                              ],
                                                                              [
                                                                                    1,
                                                                                    "#f0f921"
                                                                              ]
                                                                        ],
                                                                        "type": "contour"
                                                                  }
                                                            ],
                                                            "contourcarpet": [
                                                                  {
                                                                        "colorbar": {
                                                                              "outlinewidth": 0,
                                                                              "ticks": ""
                                                                        },
                                                                        "type": "contourcarpet"
                                                                  }
                                                            ],
                                                            "heatmap": [
                                                                  {
                                                                        "colorbar": {
                                                                              "outlinewidth": 0,
                                                                              "ticks": ""
                                                                        },
                                                                        "colorscale": [
                                                                              [
                                                                                    0,
                                                                                    "#0d0887"
                                                                              ],
                                                                              [
                                                                                    0.1111111111111111,
                                                                                    "#46039f"
                                                                              ],
                                                                              [
                                                                                    0.2222222222222222,
                                                                                    "#7201a8"
                                                                              ],
                                                                              [
                                                                                    0.3333333333333333,
                                                                                    "#9c179e"
                                                                              ],
                                                                              [
                                                                                    0.4444444444444444,
                                                                                    "#bd3786"
                                                                              ],
                                                                              [
                                                                                    0.5555555555555556,
                                                                                    "#d8576b"
                                                                              ],
                                                                              [
                                                                                    0.6666666666666666,
                                                                                    "#ed7953"
                                                                              ],
                                                                              [
                                                                                    0.7777777777777778,
                                                                                    "#fb9f3a"
                                                                              ],
                                                                              [
                                                                                    0.8888888888888888,
                                                                                    "#fdca26"
                                                                              ],
                                                                              [
                                                                                    1,
                                                                                    "#f0f921"
                                                                              ]
                                                                        ],
                                                                        "type": "heatmap"
                                                                  }
                                                            ],
                                                            "heatmapgl": [
                                                                  {
                                                                        "colorbar": {
                                                                              "outlinewidth": 0,
                                                                              "ticks": ""
                                                                        },
                                                                        "colorscale": [
                                                                              [
                                                                                    0,
                                                                                    "#0d0887"
                                                                              ],
                                                                              [
                                                                                    0.1111111111111111,
                                                                                    "#46039f"
                                                                              ],
                                                                              [
                                                                                    0.2222222222222222,
                                                                                    "#7201a8"
                                                                              ],
                                                                              [
                                                                                    0.3333333333333333,
                                                                                    "#9c179e"
                                                                              ],
                                                                              [
                                                                                    0.4444444444444444,
                                                                                    "#bd3786"
                                                                              ],
                                                                              [
                                                                                    0.5555555555555556,
                                                                                    "#d8576b"
                                                                              ],
                                                                              [
                                                                                    0.6666666666666666,
                                                                                    "#ed7953"
                                                                              ],
                                                                              [
                                                                                    0.7777777777777778,
                                                                                    "#fb9f3a"
                                                                              ],
                                                                              [
                                                                                    0.8888888888888888,
                                                                                    "#fdca26"
                                                                              ],
                                                                              [
                                                                                    1,
                                                                                    "#f0f921"
                                                                              ]
                                                                        ],
                                                                        "type": "heatmapgl"
                                                                  }
                                                            ],
                                                            "histogram": [
                                                                  {
                                                                        "marker": {
                                                                              "pattern": {
                                                                                    "fillmode": "overlay",
                                                                                    "size": 10,
                                                                                    "solidity": 0.2
                                                                              }
                                                                        },
                                                                        "type": "histogram"
                                                                  }
                                                            ],
                                                            "histogram2d": [
                                                                  {
                                                                        "colorbar": {
                                                                              "outlinewidth": 0,
                                                                              "ticks": ""
                                                                        },
                                                                        "colorscale": [
                                                                              [
                                                                                    0,
                                                                                    "#0d0887"
                                                                              ],
                                                                              [
                                                                                    0.1111111111111111,
                                                                                    "#46039f"
                                                                              ],
                                                                              [
                                                                                    0.2222222222222222,
                                                                                    "#7201a8"
                                                                              ],
                                                                              [
                                                                                    0.3333333333333333,
                                                                                    "#9c179e"
                                                                              ],
                                                                              [
                                                                                    0.4444444444444444,
                                                                                    "#bd3786"
                                                                              ],
                                                                              [
                                                                                    0.5555555555555556,
                                                                                    "#d8576b"
                                                                              ],
                                                                              [
                                                                                    0.6666666666666666,
                                                                                    "#ed7953"
                                                                              ],
                                                                              [
                                                                                    0.7777777777777778,
                                                                                    "#fb9f3a"
                                                                              ],
                                                                              [
                                                                                    0.8888888888888888,
                                                                                    "#fdca26"
                                                                              ],
                                                                              [
                                                                                    1,
                                                                                    "#f0f921"
                                                                              ]
                                                                        ],
                                                                        "type": "histogram2d"
                                                                  }
                                                            ],
                                                            "histogram2dcontour": [
                                                                  {
                                                                        "colorbar": {
                                                                              "outlinewidth": 0,
                                                                              "ticks": ""
                                                                        },
                                                                        "colorscale": [
                                                                              [
                                                                                    0,
                                                                                    "#0d0887"
                                                                              ],
                                                                              [
                                                                                    0.1111111111111111,
                                                                                    "#46039f"
                                                                              ],
                                                                              [
                                                                                    0.2222222222222222,
                                                                                    "#7201a8"
                                                                              ],
                                                                              [
                                                                                    0.3333333333333333,
                                                                                    "#9c179e"
                                                                              ],
                                                                              [
                                                                                    0.4444444444444444,
                                                                                    "#bd3786"
                                                                              ],
                                                                              [
                                                                                    0.5555555555555556,
                                                                                    "#d8576b"
                                                                              ],
                                                                              [
                                                                                    0.6666666666666666,
                                                                                    "#ed7953"
                                                                              ],
                                                                              [
                                                                                    0.7777777777777778,
                                                                                    "#fb9f3a"
                                                                              ],
                                                                              [
                                                                                    0.8888888888888888,
                                                                                    "#fdca26"
                                                                              ],
                                                                              [
                                                                                    1,
                                                                                    "#f0f921"
                                                                              ]
                                                                        ],
                                                                        "type": "histogram2dcontour"
                                                                  }
                                                            ],
                                                            "mesh3d": [
                                                                  {
                                                                        "colorbar": {
                                                                              "outlinewidth": 0,
                                                                              "ticks": ""
                                                                        },
                                                                        "type": "mesh3d"
                                                                  }
                                                            ],
                                                            "parcoords": [
                                                                  {
                                                                        "line": {
                                                                              "colorbar": {
                                                                                    "outlinewidth": 0,
                                                                                    "ticks": ""
                                                                              }
                                                                        },
                                                                        "type": "parcoords"
                                                                  }
                                                            ],
                                                            "pie": [
                                                                  {
                                                                        "automargin": true,
                                                                        "type": "pie"
                                                                  }
                                                            ],
                                                            "scatter": [
                                                                  {
                                                                        "fillpattern": {
                                                                              "fillmode": "overlay",
                                                                              "size": 10,
                                                                              "solidity": 0.2
                                                                        },
                                                                        "type": "scatter"
                                                                  }
                                                            ],
                                                            "scatter3d": [
                                                                  {
                                                                        "line": {
                                                                              "colorbar": {
                                                                                    "outlinewidth": 0,
                                                                                    "ticks": ""
                                                                              }
                                                                        },
                                                                        "marker": {
                                                                              "colorbar": {
                                                                                    "outlinewidth": 0,
                                                                                    "ticks": ""
                                                                              }
                                                                        },
                                                                        "type": "scatter3d"
                                                                  }
                                                            ],
                                                            "scattercarpet": [
                                                                  {
                                                                        "marker": {
                                                                              "colorbar": {
                                                                                    "outlinewidth": 0,
                                                                                    "ticks": ""
                                                                              }
                                                                        },
                                                                        "type": "scattercarpet"
                                                                  }
                                                            ],
                                                            "scattergeo": [
                                                                  {
                                                                        "marker": {
                                                                              "colorbar": {
                                                                                    "outlinewidth": 0,
                                                                                    "ticks": ""
                                                                              }
                                                                        },
                                                                        "type": "scattergeo"
                                                                  }
                                                            ],
                                                            "scattergl": [
                                                                  {
                                                                        "marker": {
                                                                              "colorbar": {
                                                                                    "outlinewidth": 0,
                                                                                    "ticks": ""
                                                                              }
                                                                        },
                                                                        "type": "scattergl"
                                                                  }
                                                            ],
                                                            "scattermapbox": [
                                                                  {
                                                                        "marker": {
                                                                              "colorbar": {
                                                                                    "outlinewidth": 0,
                                                                                    "ticks": ""
                                                                              }
                                                                        },
                                                                        "type": "scattermapbox"
                                                                  }
                                                            ],
                                                            "scatterpolar": [
                                                                  {
                                                                        "marker": {
                                                                              "colorbar": {
                                                                                    "outlinewidth": 0,
                                                                                    "ticks": ""
                                                                              }
                                                                        },
                                                                        "type": "scatterpolar"
                                                                  }
                                                            ],
                                                            "scatterpolargl": [
                                                                  {
                                                                        "marker": {
                                                                              "colorbar": {
                                                                                    "outlinewidth": 0,
                                                                                    "ticks": ""
                                                                              }
                                                                        },
                                                                        "type": "scatterpolargl"
                                                                  }
                                                            ],
                                                            "scatterternary": [
                                                                  {
                                                                        "marker": {
                                                                              "colorbar": {
                                                                                    "outlinewidth": 0,
                                                                                    "ticks": ""
                                                                              }
                                                                        },
                                                                        "type": "scatterternary"
                                                                  }
                                                            ],
                                                            "surface": [
                                                                  {
                                                                        "colorbar": {
                                                                              "outlinewidth": 0,
                                                                              "ticks": ""
                                                                        },
                                                                        "colorscale": [
                                                                              [
                                                                                    0,
                                                                                    "#0d0887"
                                                                              ],
                                                                              [
                                                                                    0.1111111111111111,
                                                                                    "#46039f"
                                                                              ],
                                                                              [
                                                                                    0.2222222222222222,
                                                                                    "#7201a8"
                                                                              ],
                                                                              [
                                                                                    0.3333333333333333,
                                                                                    "#9c179e"
                                                                              ],
                                                                              [
                                                                                    0.4444444444444444,
                                                                                    "#bd3786"
                                                                              ],
                                                                              [
                                                                                    0.5555555555555556,
                                                                                    "#d8576b"
                                                                              ],
                                                                              [
                                                                                    0.6666666666666666,
                                                                                    "#ed7953"
                                                                              ],
                                                                              [
                                                                                    0.7777777777777778,
                                                                                    "#fb9f3a"
                                                                              ],
                                                                              [
                                                                                    0.8888888888888888,
                                                                                    "#fdca26"
                                                                              ],
                                                                              [
                                                                                    1,
                                                                                    "#f0f921"
                                                                              ]
                                                                        ],
                                                                        "type": "surface"
                                                                  }
                                                            ],
                                                            "table": [
                                                                  {
                                                                        "cells": {
                                                                              "fill": {
                                                                                    "color": "#EBF0F8"
                                                                              },
                                                                              "line": {
                                                                                    "color": "white"
                                                                              }
                                                                        },
                                                                        "header": {
                                                                              "fill": {
                                                                                    "color": "#C8D4E3"
                                                                              },
                                                                              "line": {
                                                                                    "color": "white"
                                                                              }
                                                                        },
                                                                        "type": "table"
                                                                  }
                                                            ]
                                                      },
                                                      "layout": {
                                                            "annotationdefaults": {
                                                                  "arrowcolor": "#2a3f5f",
                                                                  "arrowhead": 0,
                                                                  "arrowwidth": 1
                                                            },
                                                            "autotypenumbers": "strict",
                                                            "coloraxis": {
                                                                  "colorbar": {
                                                                        "outlinewidth": 0,
                                                                        "ticks": ""
                                                                  }
                                                            },
                                                            "colorscale": {
                                                                  "diverging": [
                                                                        [
                                                                              0,
                                                                              "#8e0152"
                                                                        ],
                                                                        [
                                                                              0.1,
                                                                              "#c51b7d"
                                                                        ],
                                                                        [
                                                                              0.2,
                                                                              "#de77ae"
                                                                        ],
                                                                        [
                                                                              0.3,
                                                                              "#f1b6da"
                                                                        ],
                                                                        [
                                                                              0.4,
                                                                              "#fde0ef"
                                                                        ],
                                                                        [
                                                                              0.5,
                                                                              "#f7f7f7"
                                                                        ],
                                                                        [
                                                                              0.6,
                                                                              "#e6f5d0"
                                                                        ],
                                                                        [
                                                                              0.7,
                                                                              "#b8e186"
                                                                        ],
                                                                        [
                                                                              0.8,
                                                                              "#7fbc41"
                                                                        ],
                                                                        [
                                                                              0.9,
                                                                              "#4d9221"
                                                                        ],
                                                                        [
                                                                              1,
                                                                              "#276419"
                                                                        ]
                                                                  ],
                                                                  "sequential": [
                                                                        [
                                                                              0,
                                                                              "#0d0887"
                                                                        ],
                                                                        [
                                                                              0.1111111111111111,
                                                                              "#46039f"
                                                                        ],
                                                                        [
                                                                              0.2222222222222222,
                                                                              "#7201a8"
                                                                        ],
                                                                        [
                                                                              0.3333333333333333,
                                                                              "#9c179e"
                                                                        ],
                                                                        [
                                                                              0.4444444444444444,
                                                                              "#bd3786"
                                                                        ],
                                                                        [
                                                                              0.5555555555555556,
                                                                              "#d8576b"
                                                                        ],
                                                                        [
                                                                              0.6666666666666666,
                                                                              "#ed7953"
                                                                        ],
                                                                        [
                                                                              0.7777777777777778,
                                                                              "#fb9f3a"
                                                                        ],
                                                                        [
                                                                              0.8888888888888888,
                                                                              "#fdca26"
                                                                        ],
                                                                        [
                                                                              1,
                                                                              "#f0f921"
                                                                        ]
                                                                  ],
                                                                  "sequentialminus": [
                                                                        [
                                                                              0,
                                                                              "#0d0887"
                                                                        ],
                                                                        [
                                                                              0.1111111111111111,
                                                                              "#46039f"
                                                                        ],
                                                                        [
                                                                              0.2222222222222222,
                                                                              "#7201a8"
                                                                        ],
                                                                        [
                                                                              0.3333333333333333,
                                                                              "#9c179e"
                                                                        ],
                                                                        [
                                                                              0.4444444444444444,
                                                                              "#bd3786"
                                                                        ],
                                                                        [
                                                                              0.5555555555555556,
                                                                              "#d8576b"
                                                                        ],
                                                                        [
                                                                              0.6666666666666666,
                                                                              "#ed7953"
                                                                        ],
                                                                        [
                                                                              0.7777777777777778,
                                                                              "#fb9f3a"
                                                                        ],
                                                                        [
                                                                              0.8888888888888888,
                                                                              "#fdca26"
                                                                        ],
                                                                        [
                                                                              1,
                                                                              "#f0f921"
                                                                        ]
                                                                  ]
                                                            },
                                                            "colorway": [
                                                                  "#636efa",
                                                                  "#EF553B",
                                                                  "#00cc96",
                                                                  "#ab63fa",
                                                                  "#FFA15A",
                                                                  "#19d3f3",
                                                                  "#FF6692",
                                                                  "#B6E880",
                                                                  "#FF97FF",
                                                                  "#FECB52"
                                                            ],
                                                            "font": {
                                                                  "color": "#2a3f5f"
                                                            },
                                                            "geo": {
                                                                  "bgcolor": "white",
                                                                  "lakecolor": "white",
                                                                  "landcolor": "#E5ECF6",
                                                                  "showlakes": true,
                                                                  "showland": true,
                                                                  "subunitcolor": "white"
                                                            },
                                                            "hoverlabel": {
                                                                  "align": "left"
                                                            },
                                                            "hovermode": "closest",
                                                            "mapbox": {
                                                                  "style": "light"
                                                            },
                                                            "paper_bgcolor": "white",
                                                            "plot_bgcolor": "#E5ECF6",
                                                            "polar": {
                                                                  "angularaxis": {
                                                                        "gridcolor": "white",
                                                                        "linecolor": "white",
                                                                        "ticks": ""
                                                                  },
                                                                  "bgcolor": "#E5ECF6",
                                                                  "radialaxis": {
                                                                        "gridcolor": "white",
                                                                        "linecolor": "white",
                                                                        "ticks": ""
                                                                  }
                                                            },
                                                            "scene": {
                                                                  "xaxis": {
                                                                        "backgroundcolor": "#E5ECF6",
                                                                        "gridcolor": "white",
                                                                        "gridwidth": 2,
                                                                        "linecolor": "white",
                                                                        "showbackground": true,
                                                                        "ticks": "",
                                                                        "zerolinecolor": "white"
                                                                  },
                                                                  "yaxis": {
                                                                        "backgroundcolor": "#E5ECF6",
                                                                        "gridcolor": "white",
                                                                        "gridwidth": 2,
                                                                        "linecolor": "white",
                                                                        "showbackground": true,
                                                                        "ticks": "",
                                                                        "zerolinecolor": "white"
                                                                  },
                                                                  "zaxis": {
                                                                        "backgroundcolor": "#E5ECF6",
                                                                        "gridcolor": "white",
                                                                        "gridwidth": 2,
                                                                        "linecolor": "white",
                                                                        "showbackground": true,
                                                                        "ticks": "",
                                                                        "zerolinecolor": "white"
                                                                  }
                                                            },
                                                            "shapedefaults": {
                                                                  "line": {
                                                                        "color": "#2a3f5f"
                                                                  }
                                                            },
                                                            "ternary": {
                                                                  "aaxis": {
                                                                        "gridcolor": "white",
                                                                        "linecolor": "white",
                                                                        "ticks": ""
                                                                  },
                                                                  "baxis": {
                                                                        "gridcolor": "white",
                                                                        "linecolor": "white",
                                                                        "ticks": ""
                                                                  },
                                                                  "bgcolor": "#E5ECF6",
                                                                  "caxis": {
                                                                        "gridcolor": "white",
                                                                        "linecolor": "white",
                                                                        "ticks": ""
                                                                  }
                                                            },
                                                            "title": {
                                                                  "x": 0.05
                                                            },
                                                            "xaxis": {
                                                                  "automargin": true,
                                                                  "gridcolor": "white",
                                                                  "linecolor": "white",
                                                                  "ticks": "",
                                                                  "title": {
                                                                        "standoff": 15
                                                                  },
                                                                  "zerolinecolor": "white",
                                                                  "zerolinewidth": 2
                                                            },
                                                            "yaxis": {
                                                                  "automargin": true,
                                                                  "gridcolor": "white",
                                                                  "linecolor": "white",
                                                                  "ticks": "",
                                                                  "title": {
                                                                        "standoff": 15
                                                                  },
                                                                  "zerolinecolor": "white",
                                                                  "zerolinewidth": 2
                                                            }
                                                      }
                                                },
                                                "title": {
                                                      "font": {
                                                            "color": "Black",
                                                            "size": 22
                                                      },
                                                      "text": "<b>Similarity Matrix</b>",
                                                      "x": 0.55,
                                                      "xanchor": "center",
                                                      "y": 0.95,
                                                      "yanchor": "top"
                                                },
                                                "width": 800,
                                                "xaxis": {
                                                      "anchor": "y",
                                                      "constrain": "domain",
                                                      "domain": [
                                                            0,
                                                            1
                                                      ],
                                                      "scaleanchor": "y"
                                                },
                                                "yaxis": {
                                                      "anchor": "x",
                                                      "autorange": "reversed",
                                                      "constrain": "domain",
                                                      "domain": [
                                                            0,
                                                            1
                                                      ]
                                                }
                                          }
                                    }
                              },
                              "metadata": {},
                              "output_type": "display_data"
                        }
                  ],
                  "source": [
                        "topic_model.visualize_heatmap()"
                  ]
            },
            {
                  "cell_type": "code",
                  "execution_count": 110,
                  "metadata": {},
                  "outputs": [
                        {
                              "data": {
                                    "application/vnd.plotly.v1+json": {
                                          "config": {
                                                "plotlyServerURL": "https://plot.ly"
                                          },
                                          "data": [
                                                {
                                                      "hoverinfo": "text",
                                                      "marker": {
                                                            "color": "rgb(61,153,112)"
                                                      },
                                                      "mode": "lines",
                                                      "type": "scatter",
                                                      "x": [
                                                            0,
                                                            0.6514178451920303,
                                                            0.6514178451920303,
                                                            0
                                                      ],
                                                      "xaxis": "x",
                                                      "y": [
                                                            -15,
                                                            -15,
                                                            -25,
                                                            -25
                                                      ],
                                                      "yaxis": "y"
                                                },
                                                {
                                                      "hoverinfo": "text",
                                                      "marker": {
                                                            "color": "rgb(61,153,112)"
                                                      },
                                                      "mode": "lines",
                                                      "type": "scatter",
                                                      "x": [
                                                            0,
                                                            0.7413113223453042,
                                                            0.7413113223453042,
                                                            0.6514178451920303
                                                      ],
                                                      "xaxis": "x",
                                                      "y": [
                                                            -5,
                                                            -5,
                                                            -20,
                                                            -20
                                                      ],
                                                      "yaxis": "y"
                                                },
                                                {
                                                      "hoverinfo": "text",
                                                      "marker": {
                                                            "color": "rgb(61,153,112)"
                                                      },
                                                      "mode": "lines",
                                                      "type": "scatter",
                                                      "x": [
                                                            0,
                                                            0.477181756838739,
                                                            0.477181756838739,
                                                            0
                                                      ],
                                                      "xaxis": "x",
                                                      "y": [
                                                            -45,
                                                            -45,
                                                            -55,
                                                            -55
                                                      ],
                                                      "yaxis": "y"
                                                },
                                                {
                                                      "hoverinfo": "text",
                                                      "marker": {
                                                            "color": "rgb(61,153,112)"
                                                      },
                                                      "mode": "lines",
                                                      "type": "scatter",
                                                      "x": [
                                                            0,
                                                            0.6064834032054974,
                                                            0.6064834032054974,
                                                            0.477181756838739
                                                      ],
                                                      "xaxis": "x",
                                                      "y": [
                                                            -35,
                                                            -35,
                                                            -50,
                                                            -50
                                                      ],
                                                      "yaxis": "y"
                                                },
                                                {
                                                      "hoverinfo": "text",
                                                      "marker": {
                                                            "color": "rgb(61,153,112)"
                                                      },
                                                      "mode": "lines",
                                                      "type": "scatter",
                                                      "x": [
                                                            0,
                                                            0.6229649218951845,
                                                            0.6229649218951845,
                                                            0
                                                      ],
                                                      "xaxis": "x",
                                                      "y": [
                                                            -65,
                                                            -65,
                                                            -75,
                                                            -75
                                                      ],
                                                      "yaxis": "y"
                                                },
                                                {
                                                      "hoverinfo": "text",
                                                      "marker": {
                                                            "color": "rgb(61,153,112)"
                                                      },
                                                      "mode": "lines",
                                                      "type": "scatter",
                                                      "x": [
                                                            0.6064834032054974,
                                                            0.7251788840822604,
                                                            0.7251788840822604,
                                                            0.6229649218951845
                                                      ],
                                                      "xaxis": "x",
                                                      "y": [
                                                            -42.5,
                                                            -42.5,
                                                            -70,
                                                            -70
                                                      ],
                                                      "yaxis": "y"
                                                },
                                                {
                                                      "hoverinfo": "text",
                                                      "marker": {
                                                            "color": "rgb(61,153,112)"
                                                      },
                                                      "mode": "lines",
                                                      "type": "scatter",
                                                      "x": [
                                                            0.7413113223453042,
                                                            0.8648529250028252,
                                                            0.8648529250028252,
                                                            0.7251788840822604
                                                      ],
                                                      "xaxis": "x",
                                                      "y": [
                                                            -12.5,
                                                            -12.5,
                                                            -56.25,
                                                            -56.25
                                                      ],
                                                      "yaxis": "y"
                                                },
                                                {
                                                      "hoverinfo": "text",
                                                      "marker": {
                                                            "color": "rgb(255,65,54)"
                                                      },
                                                      "mode": "lines",
                                                      "type": "scatter",
                                                      "x": [
                                                            0,
                                                            0.5608246458399606,
                                                            0.5608246458399606,
                                                            0
                                                      ],
                                                      "xaxis": "x",
                                                      "y": [
                                                            -85,
                                                            -85,
                                                            -95,
                                                            -95
                                                      ],
                                                      "yaxis": "y"
                                                },
                                                {
                                                      "hoverinfo": "text",
                                                      "marker": {
                                                            "color": "rgb(35,205,205)"
                                                      },
                                                      "mode": "lines",
                                                      "type": "scatter",
                                                      "x": [
                                                            0,
                                                            0.6648006448717274,
                                                            0.6648006448717274,
                                                            0
                                                      ],
                                                      "xaxis": "x",
                                                      "y": [
                                                            -115,
                                                            -115,
                                                            -125,
                                                            -125
                                                      ],
                                                      "yaxis": "y"
                                                },
                                                {
                                                      "hoverinfo": "text",
                                                      "marker": {
                                                            "color": "rgb(35,205,205)"
                                                      },
                                                      "mode": "lines",
                                                      "type": "scatter",
                                                      "x": [
                                                            0,
                                                            0.8353223736252982,
                                                            0.8353223736252982,
                                                            0.6648006448717274
                                                      ],
                                                      "xaxis": "x",
                                                      "y": [
                                                            -105,
                                                            -105,
                                                            -120,
                                                            -120
                                                      ],
                                                      "yaxis": "y"
                                                },
                                                {
                                                      "hoverinfo": "text",
                                                      "marker": {
                                                            "color": "rgb(35,205,205)"
                                                      },
                                                      "mode": "lines",
                                                      "type": "scatter",
                                                      "x": [
                                                            0,
                                                            0.7989698099623072,
                                                            0.7989698099623072,
                                                            0
                                                      ],
                                                      "xaxis": "x",
                                                      "y": [
                                                            -135,
                                                            -135,
                                                            -145,
                                                            -145
                                                      ],
                                                      "yaxis": "y"
                                                },
                                                {
                                                      "hoverinfo": "text",
                                                      "marker": {
                                                            "color": "rgb(35,205,205)"
                                                      },
                                                      "mode": "lines",
                                                      "type": "scatter",
                                                      "x": [
                                                            0.7989698099623072,
                                                            0.8198813802783284,
                                                            0.8198813802783284,
                                                            0
                                                      ],
                                                      "xaxis": "x",
                                                      "y": [
                                                            -140,
                                                            -140,
                                                            -155,
                                                            -155
                                                      ],
                                                      "yaxis": "y"
                                                },
                                                {
                                                      "hoverinfo": "text",
                                                      "marker": {
                                                            "color": "rgb(35,205,205)"
                                                      },
                                                      "mode": "lines",
                                                      "type": "scatter",
                                                      "x": [
                                                            0.8353223736252982,
                                                            0.9017012142637834,
                                                            0.9017012142637834,
                                                            0.8198813802783284
                                                      ],
                                                      "xaxis": "x",
                                                      "y": [
                                                            -112.5,
                                                            -112.5,
                                                            -147.5,
                                                            -147.5
                                                      ],
                                                      "yaxis": "y"
                                                },
                                                {
                                                      "hoverinfo": "text",
                                                      "marker": {
                                                            "color": "rgb(35,205,205)"
                                                      },
                                                      "mode": "lines",
                                                      "type": "scatter",
                                                      "x": [
                                                            0,
                                                            0.7179461127027407,
                                                            0.7179461127027407,
                                                            0
                                                      ],
                                                      "xaxis": "x",
                                                      "y": [
                                                            -165,
                                                            -165,
                                                            -175,
                                                            -175
                                                      ],
                                                      "yaxis": "y"
                                                },
                                                {
                                                      "hoverinfo": "text",
                                                      "marker": {
                                                            "color": "rgb(35,205,205)"
                                                      },
                                                      "mode": "lines",
                                                      "type": "scatter",
                                                      "x": [
                                                            0.7179461127027407,
                                                            0.7720126304553587,
                                                            0.7720126304553587,
                                                            0
                                                      ],
                                                      "xaxis": "x",
                                                      "y": [
                                                            -170,
                                                            -170,
                                                            -185,
                                                            -185
                                                      ],
                                                      "yaxis": "y"
                                                },
                                                {
                                                      "hoverinfo": "text",
                                                      "marker": {
                                                            "color": "rgb(35,205,205)"
                                                      },
                                                      "mode": "lines",
                                                      "type": "scatter",
                                                      "x": [
                                                            0,
                                                            0.8389232029009341,
                                                            0.8389232029009341,
                                                            0
                                                      ],
                                                      "xaxis": "x",
                                                      "y": [
                                                            -195,
                                                            -195,
                                                            -205,
                                                            -205
                                                      ],
                                                      "yaxis": "y"
                                                },
                                                {
                                                      "hoverinfo": "text",
                                                      "marker": {
                                                            "color": "rgb(35,205,205)"
                                                      },
                                                      "mode": "lines",
                                                      "type": "scatter",
                                                      "x": [
                                                            0.7720126304553587,
                                                            0.9098064389300567,
                                                            0.9098064389300567,
                                                            0.8389232029009341
                                                      ],
                                                      "xaxis": "x",
                                                      "y": [
                                                            -177.5,
                                                            -177.5,
                                                            -200,
                                                            -200
                                                      ],
                                                      "yaxis": "y"
                                                },
                                                {
                                                      "hoverinfo": "text",
                                                      "marker": {
                                                            "color": "rgb(35,205,205)"
                                                      },
                                                      "mode": "lines",
                                                      "type": "scatter",
                                                      "x": [
                                                            0.9017012142637834,
                                                            0.9892448991595753,
                                                            0.9892448991595753,
                                                            0.9098064389300567
                                                      ],
                                                      "xaxis": "x",
                                                      "y": [
                                                            -130,
                                                            -130,
                                                            -188.75,
                                                            -188.75
                                                      ],
                                                      "yaxis": "y"
                                                },
                                                {
                                                      "hoverinfo": "text",
                                                      "marker": {
                                                            "color": "rgb(0,116,217)"
                                                      },
                                                      "mode": "lines",
                                                      "type": "scatter",
                                                      "x": [
                                                            0.5608246458399606,
                                                            1.0475212967553684,
                                                            1.0475212967553684,
                                                            0.9892448991595753
                                                      ],
                                                      "xaxis": "x",
                                                      "y": [
                                                            -90,
                                                            -90,
                                                            -159.375,
                                                            -159.375
                                                      ],
                                                      "yaxis": "y"
                                                },
                                                {
                                                      "hoverinfo": "text",
                                                      "marker": {
                                                            "color": "rgb(133,20,75)"
                                                      },
                                                      "mode": "lines",
                                                      "type": "scatter",
                                                      "x": [
                                                            0,
                                                            0.7132610756334286,
                                                            0.7132610756334286,
                                                            0
                                                      ],
                                                      "xaxis": "x",
                                                      "y": [
                                                            -215,
                                                            -215,
                                                            -225,
                                                            -225
                                                      ],
                                                      "yaxis": "y"
                                                },
                                                {
                                                      "hoverinfo": "text",
                                                      "marker": {
                                                            "color": "rgb(133,20,75)"
                                                      },
                                                      "mode": "lines",
                                                      "type": "scatter",
                                                      "x": [
                                                            0.7132610756334286,
                                                            0.9444118541751406,
                                                            0.9444118541751406,
                                                            0
                                                      ],
                                                      "xaxis": "x",
                                                      "y": [
                                                            -220,
                                                            -220,
                                                            -235,
                                                            -235
                                                      ],
                                                      "yaxis": "y"
                                                },
                                                {
                                                      "hoverinfo": "text",
                                                      "marker": {
                                                            "color": "rgb(0,116,217)"
                                                      },
                                                      "mode": "lines",
                                                      "type": "scatter",
                                                      "x": [
                                                            1.0475212967553684,
                                                            1.1117296376941876,
                                                            1.1117296376941876,
                                                            0.9444118541751406
                                                      ],
                                                      "xaxis": "x",
                                                      "y": [
                                                            -124.6875,
                                                            -124.6875,
                                                            -227.5,
                                                            -227.5
                                                      ],
                                                      "yaxis": "y"
                                                },
                                                {
                                                      "hoverinfo": "text",
                                                      "marker": {
                                                            "color": "rgb(0,116,217)"
                                                      },
                                                      "mode": "lines",
                                                      "type": "scatter",
                                                      "x": [
                                                            0.8648529250028252,
                                                            1.5040824112174913,
                                                            1.5040824112174913,
                                                            1.1117296376941876
                                                      ],
                                                      "xaxis": "x",
                                                      "y": [
                                                            -34.375,
                                                            -34.375,
                                                            -176.09375,
                                                            -176.09375
                                                      ],
                                                      "yaxis": "y"
                                                }
                                          ],
                                          "layout": {
                                                "autosize": false,
                                                "height": 560,
                                                "hoverlabel": {
                                                      "bgcolor": "white",
                                                      "font": {
                                                            "family": "Rockwell",
                                                            "size": 16
                                                      }
                                                },
                                                "hovermode": "closest",
                                                "plot_bgcolor": "#ECEFF1",
                                                "showlegend": false,
                                                "template": {
                                                      "data": {
                                                            "bar": [
                                                                  {
                                                                        "error_x": {
                                                                              "color": "#2a3f5f"
                                                                        },
                                                                        "error_y": {
                                                                              "color": "#2a3f5f"
                                                                        },
                                                                        "marker": {
                                                                              "line": {
                                                                                    "color": "white",
                                                                                    "width": 0.5
                                                                              },
                                                                              "pattern": {
                                                                                    "fillmode": "overlay",
                                                                                    "size": 10,
                                                                                    "solidity": 0.2
                                                                              }
                                                                        },
                                                                        "type": "bar"
                                                                  }
                                                            ],
                                                            "barpolar": [
                                                                  {
                                                                        "marker": {
                                                                              "line": {
                                                                                    "color": "white",
                                                                                    "width": 0.5
                                                                              },
                                                                              "pattern": {
                                                                                    "fillmode": "overlay",
                                                                                    "size": 10,
                                                                                    "solidity": 0.2
                                                                              }
                                                                        },
                                                                        "type": "barpolar"
                                                                  }
                                                            ],
                                                            "carpet": [
                                                                  {
                                                                        "aaxis": {
                                                                              "endlinecolor": "#2a3f5f",
                                                                              "gridcolor": "#C8D4E3",
                                                                              "linecolor": "#C8D4E3",
                                                                              "minorgridcolor": "#C8D4E3",
                                                                              "startlinecolor": "#2a3f5f"
                                                                        },
                                                                        "baxis": {
                                                                              "endlinecolor": "#2a3f5f",
                                                                              "gridcolor": "#C8D4E3",
                                                                              "linecolor": "#C8D4E3",
                                                                              "minorgridcolor": "#C8D4E3",
                                                                              "startlinecolor": "#2a3f5f"
                                                                        },
                                                                        "type": "carpet"
                                                                  }
                                                            ],
                                                            "choropleth": [
                                                                  {
                                                                        "colorbar": {
                                                                              "outlinewidth": 0,
                                                                              "ticks": ""
                                                                        },
                                                                        "type": "choropleth"
                                                                  }
                                                            ],
                                                            "contour": [
                                                                  {
                                                                        "colorbar": {
                                                                              "outlinewidth": 0,
                                                                              "ticks": ""
                                                                        },
                                                                        "colorscale": [
                                                                              [
                                                                                    0,
                                                                                    "#0d0887"
                                                                              ],
                                                                              [
                                                                                    0.1111111111111111,
                                                                                    "#46039f"
                                                                              ],
                                                                              [
                                                                                    0.2222222222222222,
                                                                                    "#7201a8"
                                                                              ],
                                                                              [
                                                                                    0.3333333333333333,
                                                                                    "#9c179e"
                                                                              ],
                                                                              [
                                                                                    0.4444444444444444,
                                                                                    "#bd3786"
                                                                              ],
                                                                              [
                                                                                    0.5555555555555556,
                                                                                    "#d8576b"
                                                                              ],
                                                                              [
                                                                                    0.6666666666666666,
                                                                                    "#ed7953"
                                                                              ],
                                                                              [
                                                                                    0.7777777777777778,
                                                                                    "#fb9f3a"
                                                                              ],
                                                                              [
                                                                                    0.8888888888888888,
                                                                                    "#fdca26"
                                                                              ],
                                                                              [
                                                                                    1,
                                                                                    "#f0f921"
                                                                              ]
                                                                        ],
                                                                        "type": "contour"
                                                                  }
                                                            ],
                                                            "contourcarpet": [
                                                                  {
                                                                        "colorbar": {
                                                                              "outlinewidth": 0,
                                                                              "ticks": ""
                                                                        },
                                                                        "type": "contourcarpet"
                                                                  }
                                                            ],
                                                            "heatmap": [
                                                                  {
                                                                        "colorbar": {
                                                                              "outlinewidth": 0,
                                                                              "ticks": ""
                                                                        },
                                                                        "colorscale": [
                                                                              [
                                                                                    0,
                                                                                    "#0d0887"
                                                                              ],
                                                                              [
                                                                                    0.1111111111111111,
                                                                                    "#46039f"
                                                                              ],
                                                                              [
                                                                                    0.2222222222222222,
                                                                                    "#7201a8"
                                                                              ],
                                                                              [
                                                                                    0.3333333333333333,
                                                                                    "#9c179e"
                                                                              ],
                                                                              [
                                                                                    0.4444444444444444,
                                                                                    "#bd3786"
                                                                              ],
                                                                              [
                                                                                    0.5555555555555556,
                                                                                    "#d8576b"
                                                                              ],
                                                                              [
                                                                                    0.6666666666666666,
                                                                                    "#ed7953"
                                                                              ],
                                                                              [
                                                                                    0.7777777777777778,
                                                                                    "#fb9f3a"
                                                                              ],
                                                                              [
                                                                                    0.8888888888888888,
                                                                                    "#fdca26"
                                                                              ],
                                                                              [
                                                                                    1,
                                                                                    "#f0f921"
                                                                              ]
                                                                        ],
                                                                        "type": "heatmap"
                                                                  }
                                                            ],
                                                            "heatmapgl": [
                                                                  {
                                                                        "colorbar": {
                                                                              "outlinewidth": 0,
                                                                              "ticks": ""
                                                                        },
                                                                        "colorscale": [
                                                                              [
                                                                                    0,
                                                                                    "#0d0887"
                                                                              ],
                                                                              [
                                                                                    0.1111111111111111,
                                                                                    "#46039f"
                                                                              ],
                                                                              [
                                                                                    0.2222222222222222,
                                                                                    "#7201a8"
                                                                              ],
                                                                              [
                                                                                    0.3333333333333333,
                                                                                    "#9c179e"
                                                                              ],
                                                                              [
                                                                                    0.4444444444444444,
                                                                                    "#bd3786"
                                                                              ],
                                                                              [
                                                                                    0.5555555555555556,
                                                                                    "#d8576b"
                                                                              ],
                                                                              [
                                                                                    0.6666666666666666,
                                                                                    "#ed7953"
                                                                              ],
                                                                              [
                                                                                    0.7777777777777778,
                                                                                    "#fb9f3a"
                                                                              ],
                                                                              [
                                                                                    0.8888888888888888,
                                                                                    "#fdca26"
                                                                              ],
                                                                              [
                                                                                    1,
                                                                                    "#f0f921"
                                                                              ]
                                                                        ],
                                                                        "type": "heatmapgl"
                                                                  }
                                                            ],
                                                            "histogram": [
                                                                  {
                                                                        "marker": {
                                                                              "pattern": {
                                                                                    "fillmode": "overlay",
                                                                                    "size": 10,
                                                                                    "solidity": 0.2
                                                                              }
                                                                        },
                                                                        "type": "histogram"
                                                                  }
                                                            ],
                                                            "histogram2d": [
                                                                  {
                                                                        "colorbar": {
                                                                              "outlinewidth": 0,
                                                                              "ticks": ""
                                                                        },
                                                                        "colorscale": [
                                                                              [
                                                                                    0,
                                                                                    "#0d0887"
                                                                              ],
                                                                              [
                                                                                    0.1111111111111111,
                                                                                    "#46039f"
                                                                              ],
                                                                              [
                                                                                    0.2222222222222222,
                                                                                    "#7201a8"
                                                                              ],
                                                                              [
                                                                                    0.3333333333333333,
                                                                                    "#9c179e"
                                                                              ],
                                                                              [
                                                                                    0.4444444444444444,
                                                                                    "#bd3786"
                                                                              ],
                                                                              [
                                                                                    0.5555555555555556,
                                                                                    "#d8576b"
                                                                              ],
                                                                              [
                                                                                    0.6666666666666666,
                                                                                    "#ed7953"
                                                                              ],
                                                                              [
                                                                                    0.7777777777777778,
                                                                                    "#fb9f3a"
                                                                              ],
                                                                              [
                                                                                    0.8888888888888888,
                                                                                    "#fdca26"
                                                                              ],
                                                                              [
                                                                                    1,
                                                                                    "#f0f921"
                                                                              ]
                                                                        ],
                                                                        "type": "histogram2d"
                                                                  }
                                                            ],
                                                            "histogram2dcontour": [
                                                                  {
                                                                        "colorbar": {
                                                                              "outlinewidth": 0,
                                                                              "ticks": ""
                                                                        },
                                                                        "colorscale": [
                                                                              [
                                                                                    0,
                                                                                    "#0d0887"
                                                                              ],
                                                                              [
                                                                                    0.1111111111111111,
                                                                                    "#46039f"
                                                                              ],
                                                                              [
                                                                                    0.2222222222222222,
                                                                                    "#7201a8"
                                                                              ],
                                                                              [
                                                                                    0.3333333333333333,
                                                                                    "#9c179e"
                                                                              ],
                                                                              [
                                                                                    0.4444444444444444,
                                                                                    "#bd3786"
                                                                              ],
                                                                              [
                                                                                    0.5555555555555556,
                                                                                    "#d8576b"
                                                                              ],
                                                                              [
                                                                                    0.6666666666666666,
                                                                                    "#ed7953"
                                                                              ],
                                                                              [
                                                                                    0.7777777777777778,
                                                                                    "#fb9f3a"
                                                                              ],
                                                                              [
                                                                                    0.8888888888888888,
                                                                                    "#fdca26"
                                                                              ],
                                                                              [
                                                                                    1,
                                                                                    "#f0f921"
                                                                              ]
                                                                        ],
                                                                        "type": "histogram2dcontour"
                                                                  }
                                                            ],
                                                            "mesh3d": [
                                                                  {
                                                                        "colorbar": {
                                                                              "outlinewidth": 0,
                                                                              "ticks": ""
                                                                        },
                                                                        "type": "mesh3d"
                                                                  }
                                                            ],
                                                            "parcoords": [
                                                                  {
                                                                        "line": {
                                                                              "colorbar": {
                                                                                    "outlinewidth": 0,
                                                                                    "ticks": ""
                                                                              }
                                                                        },
                                                                        "type": "parcoords"
                                                                  }
                                                            ],
                                                            "pie": [
                                                                  {
                                                                        "automargin": true,
                                                                        "type": "pie"
                                                                  }
                                                            ],
                                                            "scatter": [
                                                                  {
                                                                        "fillpattern": {
                                                                              "fillmode": "overlay",
                                                                              "size": 10,
                                                                              "solidity": 0.2
                                                                        },
                                                                        "type": "scatter"
                                                                  }
                                                            ],
                                                            "scatter3d": [
                                                                  {
                                                                        "line": {
                                                                              "colorbar": {
                                                                                    "outlinewidth": 0,
                                                                                    "ticks": ""
                                                                              }
                                                                        },
                                                                        "marker": {
                                                                              "colorbar": {
                                                                                    "outlinewidth": 0,
                                                                                    "ticks": ""
                                                                              }
                                                                        },
                                                                        "type": "scatter3d"
                                                                  }
                                                            ],
                                                            "scattercarpet": [
                                                                  {
                                                                        "marker": {
                                                                              "colorbar": {
                                                                                    "outlinewidth": 0,
                                                                                    "ticks": ""
                                                                              }
                                                                        },
                                                                        "type": "scattercarpet"
                                                                  }
                                                            ],
                                                            "scattergeo": [
                                                                  {
                                                                        "marker": {
                                                                              "colorbar": {
                                                                                    "outlinewidth": 0,
                                                                                    "ticks": ""
                                                                              }
                                                                        },
                                                                        "type": "scattergeo"
                                                                  }
                                                            ],
                                                            "scattergl": [
                                                                  {
                                                                        "marker": {
                                                                              "colorbar": {
                                                                                    "outlinewidth": 0,
                                                                                    "ticks": ""
                                                                              }
                                                                        },
                                                                        "type": "scattergl"
                                                                  }
                                                            ],
                                                            "scattermapbox": [
                                                                  {
                                                                        "marker": {
                                                                              "colorbar": {
                                                                                    "outlinewidth": 0,
                                                                                    "ticks": ""
                                                                              }
                                                                        },
                                                                        "type": "scattermapbox"
                                                                  }
                                                            ],
                                                            "scatterpolar": [
                                                                  {
                                                                        "marker": {
                                                                              "colorbar": {
                                                                                    "outlinewidth": 0,
                                                                                    "ticks": ""
                                                                              }
                                                                        },
                                                                        "type": "scatterpolar"
                                                                  }
                                                            ],
                                                            "scatterpolargl": [
                                                                  {
                                                                        "marker": {
                                                                              "colorbar": {
                                                                                    "outlinewidth": 0,
                                                                                    "ticks": ""
                                                                              }
                                                                        },
                                                                        "type": "scatterpolargl"
                                                                  }
                                                            ],
                                                            "scatterternary": [
                                                                  {
                                                                        "marker": {
                                                                              "colorbar": {
                                                                                    "outlinewidth": 0,
                                                                                    "ticks": ""
                                                                              }
                                                                        },
                                                                        "type": "scatterternary"
                                                                  }
                                                            ],
                                                            "surface": [
                                                                  {
                                                                        "colorbar": {
                                                                              "outlinewidth": 0,
                                                                              "ticks": ""
                                                                        },
                                                                        "colorscale": [
                                                                              [
                                                                                    0,
                                                                                    "#0d0887"
                                                                              ],
                                                                              [
                                                                                    0.1111111111111111,
                                                                                    "#46039f"
                                                                              ],
                                                                              [
                                                                                    0.2222222222222222,
                                                                                    "#7201a8"
                                                                              ],
                                                                              [
                                                                                    0.3333333333333333,
                                                                                    "#9c179e"
                                                                              ],
                                                                              [
                                                                                    0.4444444444444444,
                                                                                    "#bd3786"
                                                                              ],
                                                                              [
                                                                                    0.5555555555555556,
                                                                                    "#d8576b"
                                                                              ],
                                                                              [
                                                                                    0.6666666666666666,
                                                                                    "#ed7953"
                                                                              ],
                                                                              [
                                                                                    0.7777777777777778,
                                                                                    "#fb9f3a"
                                                                              ],
                                                                              [
                                                                                    0.8888888888888888,
                                                                                    "#fdca26"
                                                                              ],
                                                                              [
                                                                                    1,
                                                                                    "#f0f921"
                                                                              ]
                                                                        ],
                                                                        "type": "surface"
                                                                  }
                                                            ],
                                                            "table": [
                                                                  {
                                                                        "cells": {
                                                                              "fill": {
                                                                                    "color": "#EBF0F8"
                                                                              },
                                                                              "line": {
                                                                                    "color": "white"
                                                                              }
                                                                        },
                                                                        "header": {
                                                                              "fill": {
                                                                                    "color": "#C8D4E3"
                                                                              },
                                                                              "line": {
                                                                                    "color": "white"
                                                                              }
                                                                        },
                                                                        "type": "table"
                                                                  }
                                                            ]
                                                      },
                                                      "layout": {
                                                            "annotationdefaults": {
                                                                  "arrowcolor": "#2a3f5f",
                                                                  "arrowhead": 0,
                                                                  "arrowwidth": 1
                                                            },
                                                            "autotypenumbers": "strict",
                                                            "coloraxis": {
                                                                  "colorbar": {
                                                                        "outlinewidth": 0,
                                                                        "ticks": ""
                                                                  }
                                                            },
                                                            "colorscale": {
                                                                  "diverging": [
                                                                        [
                                                                              0,
                                                                              "#8e0152"
                                                                        ],
                                                                        [
                                                                              0.1,
                                                                              "#c51b7d"
                                                                        ],
                                                                        [
                                                                              0.2,
                                                                              "#de77ae"
                                                                        ],
                                                                        [
                                                                              0.3,
                                                                              "#f1b6da"
                                                                        ],
                                                                        [
                                                                              0.4,
                                                                              "#fde0ef"
                                                                        ],
                                                                        [
                                                                              0.5,
                                                                              "#f7f7f7"
                                                                        ],
                                                                        [
                                                                              0.6,
                                                                              "#e6f5d0"
                                                                        ],
                                                                        [
                                                                              0.7,
                                                                              "#b8e186"
                                                                        ],
                                                                        [
                                                                              0.8,
                                                                              "#7fbc41"
                                                                        ],
                                                                        [
                                                                              0.9,
                                                                              "#4d9221"
                                                                        ],
                                                                        [
                                                                              1,
                                                                              "#276419"
                                                                        ]
                                                                  ],
                                                                  "sequential": [
                                                                        [
                                                                              0,
                                                                              "#0d0887"
                                                                        ],
                                                                        [
                                                                              0.1111111111111111,
                                                                              "#46039f"
                                                                        ],
                                                                        [
                                                                              0.2222222222222222,
                                                                              "#7201a8"
                                                                        ],
                                                                        [
                                                                              0.3333333333333333,
                                                                              "#9c179e"
                                                                        ],
                                                                        [
                                                                              0.4444444444444444,
                                                                              "#bd3786"
                                                                        ],
                                                                        [
                                                                              0.5555555555555556,
                                                                              "#d8576b"
                                                                        ],
                                                                        [
                                                                              0.6666666666666666,
                                                                              "#ed7953"
                                                                        ],
                                                                        [
                                                                              0.7777777777777778,
                                                                              "#fb9f3a"
                                                                        ],
                                                                        [
                                                                              0.8888888888888888,
                                                                              "#fdca26"
                                                                        ],
                                                                        [
                                                                              1,
                                                                              "#f0f921"
                                                                        ]
                                                                  ],
                                                                  "sequentialminus": [
                                                                        [
                                                                              0,
                                                                              "#0d0887"
                                                                        ],
                                                                        [
                                                                              0.1111111111111111,
                                                                              "#46039f"
                                                                        ],
                                                                        [
                                                                              0.2222222222222222,
                                                                              "#7201a8"
                                                                        ],
                                                                        [
                                                                              0.3333333333333333,
                                                                              "#9c179e"
                                                                        ],
                                                                        [
                                                                              0.4444444444444444,
                                                                              "#bd3786"
                                                                        ],
                                                                        [
                                                                              0.5555555555555556,
                                                                              "#d8576b"
                                                                        ],
                                                                        [
                                                                              0.6666666666666666,
                                                                              "#ed7953"
                                                                        ],
                                                                        [
                                                                              0.7777777777777778,
                                                                              "#fb9f3a"
                                                                        ],
                                                                        [
                                                                              0.8888888888888888,
                                                                              "#fdca26"
                                                                        ],
                                                                        [
                                                                              1,
                                                                              "#f0f921"
                                                                        ]
                                                                  ]
                                                            },
                                                            "colorway": [
                                                                  "#636efa",
                                                                  "#EF553B",
                                                                  "#00cc96",
                                                                  "#ab63fa",
                                                                  "#FFA15A",
                                                                  "#19d3f3",
                                                                  "#FF6692",
                                                                  "#B6E880",
                                                                  "#FF97FF",
                                                                  "#FECB52"
                                                            ],
                                                            "font": {
                                                                  "color": "#2a3f5f"
                                                            },
                                                            "geo": {
                                                                  "bgcolor": "white",
                                                                  "lakecolor": "white",
                                                                  "landcolor": "white",
                                                                  "showlakes": true,
                                                                  "showland": true,
                                                                  "subunitcolor": "#C8D4E3"
                                                            },
                                                            "hoverlabel": {
                                                                  "align": "left"
                                                            },
                                                            "hovermode": "closest",
                                                            "mapbox": {
                                                                  "style": "light"
                                                            },
                                                            "paper_bgcolor": "white",
                                                            "plot_bgcolor": "white",
                                                            "polar": {
                                                                  "angularaxis": {
                                                                        "gridcolor": "#EBF0F8",
                                                                        "linecolor": "#EBF0F8",
                                                                        "ticks": ""
                                                                  },
                                                                  "bgcolor": "white",
                                                                  "radialaxis": {
                                                                        "gridcolor": "#EBF0F8",
                                                                        "linecolor": "#EBF0F8",
                                                                        "ticks": ""
                                                                  }
                                                            },
                                                            "scene": {
                                                                  "xaxis": {
                                                                        "backgroundcolor": "white",
                                                                        "gridcolor": "#DFE8F3",
                                                                        "gridwidth": 2,
                                                                        "linecolor": "#EBF0F8",
                                                                        "showbackground": true,
                                                                        "ticks": "",
                                                                        "zerolinecolor": "#EBF0F8"
                                                                  },
                                                                  "yaxis": {
                                                                        "backgroundcolor": "white",
                                                                        "gridcolor": "#DFE8F3",
                                                                        "gridwidth": 2,
                                                                        "linecolor": "#EBF0F8",
                                                                        "showbackground": true,
                                                                        "ticks": "",
                                                                        "zerolinecolor": "#EBF0F8"
                                                                  },
                                                                  "zaxis": {
                                                                        "backgroundcolor": "white",
                                                                        "gridcolor": "#DFE8F3",
                                                                        "gridwidth": 2,
                                                                        "linecolor": "#EBF0F8",
                                                                        "showbackground": true,
                                                                        "ticks": "",
                                                                        "zerolinecolor": "#EBF0F8"
                                                                  }
                                                            },
                                                            "shapedefaults": {
                                                                  "line": {
                                                                        "color": "#2a3f5f"
                                                                  }
                                                            },
                                                            "ternary": {
                                                                  "aaxis": {
                                                                        "gridcolor": "#DFE8F3",
                                                                        "linecolor": "#A2B1C6",
                                                                        "ticks": ""
                                                                  },
                                                                  "baxis": {
                                                                        "gridcolor": "#DFE8F3",
                                                                        "linecolor": "#A2B1C6",
                                                                        "ticks": ""
                                                                  },
                                                                  "bgcolor": "white",
                                                                  "caxis": {
                                                                        "gridcolor": "#DFE8F3",
                                                                        "linecolor": "#A2B1C6",
                                                                        "ticks": ""
                                                                  }
                                                            },
                                                            "title": {
                                                                  "x": 0.05
                                                            },
                                                            "xaxis": {
                                                                  "automargin": true,
                                                                  "gridcolor": "#EBF0F8",
                                                                  "linecolor": "#EBF0F8",
                                                                  "ticks": "",
                                                                  "title": {
                                                                        "standoff": 15
                                                                  },
                                                                  "zerolinecolor": "#EBF0F8",
                                                                  "zerolinewidth": 2
                                                            },
                                                            "yaxis": {
                                                                  "automargin": true,
                                                                  "gridcolor": "#EBF0F8",
                                                                  "linecolor": "#EBF0F8",
                                                                  "ticks": "",
                                                                  "title": {
                                                                        "standoff": 15
                                                                  },
                                                                  "zerolinecolor": "#EBF0F8",
                                                                  "zerolinewidth": 2
                                                            }
                                                      }
                                                },
                                                "title": {
                                                      "font": {
                                                            "color": "Black",
                                                            "size": 22
                                                      },
                                                      "text": "<b>Hierarchical Clustering</b>",
                                                      "x": 0.5,
                                                      "xanchor": "center",
                                                      "yanchor": "top"
                                                },
                                                "width": 1000,
                                                "xaxis": {
                                                      "mirror": "allticks",
                                                      "rangemode": "tozero",
                                                      "showgrid": false,
                                                      "showline": true,
                                                      "showticklabels": true,
                                                      "ticks": "outside",
                                                      "type": "linear",
                                                      "zeroline": false
                                                },
                                                "yaxis": {
                                                      "mirror": "allticks",
                                                      "range": [
                                                            -240,
                                                            0
                                                      ],
                                                      "rangemode": "tozero",
                                                      "showgrid": false,
                                                      "showline": true,
                                                      "showticklabels": true,
                                                      "tickmode": "array",
                                                      "ticks": "outside",
                                                      "ticktext": [
                                                            "23_quasars_radio_ia",
                                                            "10_agn_xray_disc",
                                                            "6_telescope_national_observ...",
                                                            "20_bcgs_mass_galaxies",
                                                            "0_galaxies_stellar_stars",
                                                            "16_galaxies_mass_color",
                                                            "14_gas_galaxies_protoclusters",
                                                            "19_sub_survey_galaxies",
                                                            "15_graphene_conductivity_tw...",
                                                            "2_graphene_transport_electr...",
                                                            "22_haloes_halo_excursion",
                                                            "4_disk_formation_star",
                                                            "1_plasma_iter_magnetic",
                                                            "5_optical_frequency_light",
                                                            "7_josephson_tunnelling_xrt",
                                                            "3_solar_emissions_waves",
                                                            "8_quantum_cells_nanowire",
                                                            "21_quantum_information_qubits",
                                                            "11_cavity_dynamics_systems",
                                                            "12_entanglement_states_quan...",
                                                            "13_tsunami_sph_tsunamis",
                                                            "18_climate_global_precipita...",
                                                            "17_aerosol_carbon_soil",
                                                            "9_crust_zircon_continental"
                                                      ],
                                                      "tickvals": [
                                                            -5,
                                                            -15,
                                                            -25,
                                                            -35,
                                                            -45,
                                                            -55,
                                                            -65,
                                                            -75,
                                                            -85,
                                                            -95,
                                                            -105,
                                                            -115,
                                                            -125,
                                                            -135,
                                                            -145,
                                                            -155,
                                                            -165,
                                                            -175,
                                                            -185,
                                                            -195,
                                                            -205,
                                                            -215,
                                                            -225,
                                                            -235
                                                      ],
                                                      "type": "linear",
                                                      "zeroline": false
                                                }
                                          }
                                    }
                              },
                              "metadata": {},
                              "output_type": "display_data"
                        }
                  ],
                  "source": [
                        "topic_model.visualize_hierarchy()"
                  ]
            },
            {
                  "cell_type": "code",
                  "execution_count": 111,
                  "metadata": {},
                  "outputs": [
                        {
                              "ename": "ValueError",
                              "evalue": "This visualization cannot be used if you have set `calculate_probabilities` to False as it uses the topic probabilities of all topics. ",
                              "output_type": "error",
                              "traceback": [
                                    "\u001b[0;31m---------------------------------------------------------------------------\u001b[0m",
                                    "\u001b[0;31mValueError\u001b[0m                                Traceback (most recent call last)",
                                    "\u001b[1;32m/Users/admin/Desktop/adsabs-dev-api/API_documentation_Python/BERTopic.ipynb Cell 15\u001b[0m line \u001b[0;36m1\n\u001b[0;32m----> <a href='vscode-notebook-cell:/Users/admin/Desktop/adsabs-dev-api/API_documentation_Python/BERTopic.ipynb#X40sZmlsZQ%3D%3D?line=0'>1</a>\u001b[0m topic_model\u001b[39m.\u001b[39;49mvisualize_distribution(probs[\u001b[39m0\u001b[39;49m])\n",
                                    "File \u001b[0;32m~/.pyenv/versions/3.11.3/lib/python3.11/site-packages/bertopic/_bertopic.py:2614\u001b[0m, in \u001b[0;36mBERTopic.visualize_distribution\u001b[0;34m(self, probabilities, min_probability, custom_labels, title, width, height)\u001b[0m\n\u001b[1;32m   2585\u001b[0m \u001b[39m\u001b[39m\u001b[39m\"\"\" Visualize the distribution of topic probabilities\u001b[39;00m\n\u001b[1;32m   2586\u001b[0m \n\u001b[1;32m   2587\u001b[0m \u001b[39mArguments:\u001b[39;00m\n\u001b[0;32m   (...)\u001b[0m\n\u001b[1;32m   2611\u001b[0m \u001b[39m```\u001b[39;00m\n\u001b[1;32m   2612\u001b[0m \u001b[39m\"\"\"\u001b[39;00m\n\u001b[1;32m   2613\u001b[0m check_is_fitted(\u001b[39mself\u001b[39m)\n\u001b[0;32m-> 2614\u001b[0m \u001b[39mreturn\u001b[39;00m plotting\u001b[39m.\u001b[39;49mvisualize_distribution(\u001b[39mself\u001b[39;49m,\n\u001b[1;32m   2615\u001b[0m                                        probabilities\u001b[39m=\u001b[39;49mprobabilities,\n\u001b[1;32m   2616\u001b[0m                                        min_probability\u001b[39m=\u001b[39;49mmin_probability,\n\u001b[1;32m   2617\u001b[0m                                        custom_labels\u001b[39m=\u001b[39;49mcustom_labels,\n\u001b[1;32m   2618\u001b[0m                                        title\u001b[39m=\u001b[39;49mtitle,\n\u001b[1;32m   2619\u001b[0m                                        width\u001b[39m=\u001b[39;49mwidth,\n\u001b[1;32m   2620\u001b[0m                                        height\u001b[39m=\u001b[39;49mheight)\n",
                                    "File \u001b[0;32m~/.pyenv/versions/3.11.3/lib/python3.11/site-packages/bertopic/plotting/_distribution.py:46\u001b[0m, in \u001b[0;36mvisualize_distribution\u001b[0;34m(topic_model, probabilities, min_probability, custom_labels, title, width, height)\u001b[0m\n\u001b[1;32m     13\u001b[0m \u001b[39m\u001b[39m\u001b[39m\"\"\" Visualize the distribution of topic probabilities\u001b[39;00m\n\u001b[1;32m     14\u001b[0m \n\u001b[1;32m     15\u001b[0m \u001b[39mArguments:\u001b[39;00m\n\u001b[0;32m   (...)\u001b[0m\n\u001b[1;32m     43\u001b[0m \u001b[39mstyle=\"width:1000px; height: 500px; border: 0px;\"\"></iframe>\u001b[39;00m\n\u001b[1;32m     44\u001b[0m \u001b[39m\"\"\"\u001b[39;00m\n\u001b[1;32m     45\u001b[0m \u001b[39mif\u001b[39;00m \u001b[39mlen\u001b[39m(probabilities\u001b[39m.\u001b[39mshape) \u001b[39m!=\u001b[39m \u001b[39m1\u001b[39m:\n\u001b[0;32m---> 46\u001b[0m     \u001b[39mraise\u001b[39;00m \u001b[39mValueError\u001b[39;00m(\u001b[39m\"\u001b[39m\u001b[39mThis visualization cannot be used if you have set `calculate_probabilities` to False \u001b[39m\u001b[39m\"\u001b[39m\n\u001b[1;32m     47\u001b[0m                      \u001b[39m\"\u001b[39m\u001b[39mas it uses the topic probabilities of all topics. \u001b[39m\u001b[39m\"\u001b[39m)\n\u001b[1;32m     48\u001b[0m \u001b[39mif\u001b[39;00m \u001b[39mlen\u001b[39m(probabilities[probabilities \u001b[39m>\u001b[39m min_probability]) \u001b[39m==\u001b[39m \u001b[39m0\u001b[39m:\n\u001b[1;32m     49\u001b[0m     \u001b[39mraise\u001b[39;00m \u001b[39mValueError\u001b[39;00m(\u001b[39m\"\u001b[39m\u001b[39mThere are no values where `min_probability` is higher than the \u001b[39m\u001b[39m\"\u001b[39m\n\u001b[1;32m     50\u001b[0m                      \u001b[39m\"\u001b[39m\u001b[39mprobabilities that were supplied. Lower `min_probability` to prevent this error.\u001b[39m\u001b[39m\"\u001b[39m)\n",
                                    "\u001b[0;31mValueError\u001b[0m: This visualization cannot be used if you have set `calculate_probabilities` to False as it uses the topic probabilities of all topics. "
                              ]
                        }
                  ],
                  "source": [
                        "\n",
                        "topic_model.visualize_distribution(probs[0])\n",
                        "\n"
                  ]
            },
            {
                  "cell_type": "code",
                  "execution_count": null,
                  "metadata": {},
                  "outputs": [
                        {
                              "ename": "SyntaxError",
                              "evalue": "incomplete input (3078562000.py, line 1)",
                              "output_type": "error",
                              "traceback": [
                                    "\u001b[0;36m  Cell \u001b[0;32mIn[89], line 1\u001b[0;36m\u001b[0m\n\u001b[0;31m    ''' from sklearn.datasets import fetch_20newsgroups\u001b[0m\n\u001b[0m    ^\u001b[0m\n\u001b[0;31mSyntaxError\u001b[0m\u001b[0;31m:\u001b[0m incomplete input\n"
                              ]
                        }
                  ],
                  "source": [
                        "''' \n",
                        "from sklearn.datasets import fetch_20newsgroups\n",
                        "from sentence_transformers import SentenceTransformer\n",
                        "from bertopic import BERTopic\n",
                        "from umap import UMAP\n",
                        "# Prepare embeddings\n",
                        "docs = fetch_20newsgroups(subset='all')['data']\n",
                        "sentence_model = SentenceTransformer(\"all-MiniLM-L6-v2\")\n",
                        "embeddings = sentence_model.encode(docs, show_progress_bar=False)\n",
                        "\n",
                        "# Train BERTopic\n",
                        "topic_model = BERTopic().fit(docs, embeddings)\n",
                        "\n",
                        "# Run the visualization with the original embeddings\n",
                        "topic_model.visualize_documents(docs, embeddings=embeddings)\n",
                        "\n",
                        "# Reduce dimensionality of embeddings, this step is optional but much faster to perform iteratively:\n",
                        "reduced_embeddings = UMAP(n_neighbors=10, n_components=2, min_dist=0.0, metric='cosine').fit_transform(embeddings)\n",
                        "topic_model.visualize_documents(docs, reduced_embeddings=reduced_embeddings)\n",
                        "'''"
                  ]
            },
            {
                  "cell_type": "code",
                  "execution_count": null,
                  "metadata": {},
                  "outputs": [],
                  "source": []
            }
      ],
      "metadata": {
            "kernelspec": {
                  "display_name": "Python 3",
                  "language": "python",
                  "name": "python3"
            },
            "language_info": {
                  "codemirror_mode": {
                        "name": "ipython",
                        "version": 3
                  },
                  "file_extension": ".py",
                  "mimetype": "text/x-python",
                  "name": "python",
                  "nbconvert_exporter": "python",
                  "pygments_lexer": "ipython3",
                  "version": "3.11.3"
            },
            "orig_nbformat": 4
      },
      "nbformat": 4,
      "nbformat_minor": 2
}
