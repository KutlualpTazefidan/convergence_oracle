{
      "cells": [
            {
                  "cell_type": "code",
                  "execution_count": 81,
                  "metadata": {},
                  "outputs": [],
                  "source": [
                        "from transformers import BertTokenizer, BertForSequenceClassification\n",
                        "from sklearn.feature_extraction.text import ENGLISH_STOP_WORDS\n",
                        "import os\n",
                        "import pandas as pd\n",
                        "\n",
                        "import time\n",
                        "import re\n",
                        "\n",
                        "\n",
                        "from sentence_transformers import SentenceTransformer\n",
                        "\n",
                        "from umap import UMAP"
                  ]
            },
            {
                  "cell_type": "code",
                  "execution_count": 27,
                  "metadata": {},
                  "outputs": [],
                  "source": [
                        "from umap import UMAP\n",
                        "from bertopic import BERTopic"
                  ]
            },
            {
                  "cell_type": "markdown",
                  "metadata": {},
                  "source": [
                        "### whole Dataset"
                  ]
            },
            {
                  "cell_type": "code",
                  "execution_count": 28,
                  "metadata": {},
                  "outputs": [
                        {
                              "data": {
                                    "text/plain": [
                                          "\"\\n# Replace 'your_folder_path' with the path to your folder containing CSV files\\nfolder_path = '/Users/admin/Desktop/spiced/convergence_oracle_project/data_small'\\n\\n# Initialize an empty DataFrame to store the combined data\\ncombined_df = pd.DataFrame()\\n\\n# Iterate through all files in the folder\\nfor filename in os.listdir(folder_path):\\n    if filename.endswith('.csv'):\\n        # Construct the full path to the CSV file\\n        file_path = os.path.join(folder_path, filename)\\n        \\n        # Read the CSV file into a DataFrame\\n        csv_df = pd.read_csv(file_path)\\n        \\n        # Concatenate the current DataFrame with the combined DataFrame\\n        combined_df = pd.concat([combined_df, csv_df], ignore_index=True)\\n\\n# Print or manipulate the combined DataFrame as needed\\ncombined_df\\n\\n\""
                                    ]
                              },
                              "execution_count": 28,
                              "metadata": {},
                              "output_type": "execute_result"
                        }
                  ],
                  "source": [
                        "'''\n",
                        "# Replace 'your_folder_path' with the path to your folder containing CSV files\n",
                        "folder_path = '/Users/admin/Desktop/spiced/convergence_oracle_project/data_small'\n",
                        "\n",
                        "# Initialize an empty DataFrame to store the combined data\n",
                        "combined_df = pd.DataFrame()\n",
                        "\n",
                        "# Iterate through all files in the folder\n",
                        "for filename in os.listdir(folder_path):\n",
                        "    if filename.endswith('.csv'):\n",
                        "        # Construct the full path to the CSV file\n",
                        "        file_path = os.path.join(folder_path, filename)\n",
                        "        \n",
                        "        # Read the CSV file into a DataFrame\n",
                        "        csv_df = pd.read_csv(file_path)\n",
                        "        \n",
                        "        # Concatenate the current DataFrame with the combined DataFrame\n",
                        "        combined_df = pd.concat([combined_df, csv_df], ignore_index=True)\n",
                        "\n",
                        "# Print or manipulate the combined DataFrame as needed\n",
                        "combined_df\n",
                        "\n",
                        "'''"
                  ]
            },
            {
                  "cell_type": "markdown",
                  "metadata": {},
                  "source": [
                        "### smaller Try"
                  ]
            },
            {
                  "cell_type": "code",
                  "execution_count": 29,
                  "metadata": {},
                  "outputs": [
                        {
                              "data": {
                                    "text/html": [
                                          "<div>\n",
                                          "<style scoped>\n",
                                          "    .dataframe tbody tr th:only-of-type {\n",
                                          "        vertical-align: middle;\n",
                                          "    }\n",
                                          "\n",
                                          "    .dataframe tbody tr th {\n",
                                          "        vertical-align: top;\n",
                                          "    }\n",
                                          "\n",
                                          "    .dataframe thead th {\n",
                                          "        text-align: right;\n",
                                          "    }\n",
                                          "</style>\n",
                                          "<table border=\"1\" class=\"dataframe\">\n",
                                          "  <thead>\n",
                                          "    <tr style=\"text-align: right;\">\n",
                                          "      <th></th>\n",
                                          "      <th>abstract</th>\n",
                                          "      <th>author</th>\n",
                                          "      <th>title</th>\n",
                                          "      <th>year</th>\n",
                                          "      <th>citation_count</th>\n",
                                          "    </tr>\n",
                                          "  </thead>\n",
                                          "  <tbody>\n",
                                          "    <tr>\n",
                                          "      <th>0</th>\n",
                                          "      <td>Graphene is a rapidly rising star on the horiz...</td>\n",
                                          "      <td>['Geim, A. K.', 'Novoselov, K. S.']</td>\n",
                                          "      <td>['The rise of graphene']</td>\n",
                                          "      <td>2007</td>\n",
                                          "      <td>14425</td>\n",
                                          "    </tr>\n",
                                          "    <tr>\n",
                                          "      <th>1</th>\n",
                                          "      <td>Matplotlib is a 2D graphics package for Python...</td>\n",
                                          "      <td>['Hunter, John D.']</td>\n",
                                          "      <td>['Matplotlib: A 2D Graphics Environment']</td>\n",
                                          "      <td>2007</td>\n",
                                          "      <td>10931</td>\n",
                                          "    </tr>\n",
                                          "    <tr>\n",
                                          "      <th>2</th>\n",
                                          "      <td>A simple cosmological model with only six para...</td>\n",
                                          "      <td>['Spergel, D. N.', 'Bean, R.', 'Doré, O.', 'No...</td>\n",
                                          "      <td>['Three-Year Wilkinson Microwave Anisotropy Pr...</td>\n",
                                          "      <td>2007</td>\n",
                                          "      <td>7119</td>\n",
                                          "    </tr>\n",
                                          "    <tr>\n",
                                          "      <th>3</th>\n",
                                          "      <td>We measured the volatile chemical composition ...</td>\n",
                                          "      <td>['Gibb, Erika L.', 'Bonev, Boncho P.', 'Villan...</td>\n",
                                          "      <td>[\"Chemical Composition of Comet C/2007 N3 (Lul...</td>\n",
                                          "      <td>2012</td>\n",
                                          "      <td>49</td>\n",
                                          "    </tr>\n",
                                          "    <tr>\n",
                                          "      <th>4</th>\n",
                                          "      <td>Context: A new reduction of the astrometric da...</td>\n",
                                          "      <td>['van Leeuwen, F.']</td>\n",
                                          "      <td>['Validation of the new Hipparcos reduction']</td>\n",
                                          "      <td>2007</td>\n",
                                          "      <td>3068</td>\n",
                                          "    </tr>\n",
                                          "    <tr>\n",
                                          "      <th>...</th>\n",
                                          "      <td>...</td>\n",
                                          "      <td>...</td>\n",
                                          "      <td>...</td>\n",
                                          "      <td>...</td>\n",
                                          "      <td>...</td>\n",
                                          "    </tr>\n",
                                          "    <tr>\n",
                                          "      <th>795</th>\n",
                                          "      <td>Stable, hydrogen-burning, M dwarf stars make u...</td>\n",
                                          "      <td>['Tarter, Jill C.', 'Backus, Peter R.', 'Manci...</td>\n",
                                          "      <td>['A Reappraisal of The Habitability of Planets...</td>\n",
                                          "      <td>2007</td>\n",
                                          "      <td>278</td>\n",
                                          "    </tr>\n",
                                          "    <tr>\n",
                                          "      <th>796</th>\n",
                                          "      <td>Every three years the IAU/IAG Working Group on...</td>\n",
                                          "      <td>['Seidelmann, P. Kenneth', 'Archinal, B. A.', ...</td>\n",
                                          "      <td>['Report of the IAU/IAG Working Group on carto...</td>\n",
                                          "      <td>2007</td>\n",
                                          "      <td>198</td>\n",
                                          "    </tr>\n",
                                          "    <tr>\n",
                                          "      <th>797</th>\n",
                                          "      <td>We present here the first 2D rotating, multigr...</td>\n",
                                          "      <td>['Burrows, A.', 'Dessart, L.', 'Livne, E.', 'O...</td>\n",
                                          "      <td>['Simulations of Magnetically Driven Supernova...</td>\n",
                                          "      <td>2007</td>\n",
                                          "      <td>374</td>\n",
                                          "    </tr>\n",
                                          "    <tr>\n",
                                          "      <th>798</th>\n",
                                          "      <td>Motivated by recent graphene transport experim...</td>\n",
                                          "      <td>['Nomura, Kentaro', 'MacDonald, A. H.']</td>\n",
                                          "      <td>['Quantum Transport of Massless Dirac Fermions']</td>\n",
                                          "      <td>2007</td>\n",
                                          "      <td>483</td>\n",
                                          "    </tr>\n",
                                          "    <tr>\n",
                                          "      <th>799</th>\n",
                                          "      <td>Graph states-multipartite entangled states tha...</td>\n",
                                          "      <td>['Lu, Chao-Yang', 'Zhou, Xiao-Qi', 'Gühne, Otf...</td>\n",
                                          "      <td>['Experimental entanglement of six photons in ...</td>\n",
                                          "      <td>2007</td>\n",
                                          "      <td>478</td>\n",
                                          "    </tr>\n",
                                          "  </tbody>\n",
                                          "</table>\n",
                                          "<p>800 rows × 5 columns</p>\n",
                                          "</div>"
                                    ],
                                    "text/plain": [
                                          "                                              abstract   \n",
                                          "0    Graphene is a rapidly rising star on the horiz...  \\\n",
                                          "1    Matplotlib is a 2D graphics package for Python...   \n",
                                          "2    A simple cosmological model with only six para...   \n",
                                          "3    We measured the volatile chemical composition ...   \n",
                                          "4    Context: A new reduction of the astrometric da...   \n",
                                          "..                                                 ...   \n",
                                          "795  Stable, hydrogen-burning, M dwarf stars make u...   \n",
                                          "796  Every three years the IAU/IAG Working Group on...   \n",
                                          "797  We present here the first 2D rotating, multigr...   \n",
                                          "798  Motivated by recent graphene transport experim...   \n",
                                          "799  Graph states-multipartite entangled states tha...   \n",
                                          "\n",
                                          "                                                author   \n",
                                          "0                  ['Geim, A. K.', 'Novoselov, K. S.']  \\\n",
                                          "1                                  ['Hunter, John D.']   \n",
                                          "2    ['Spergel, D. N.', 'Bean, R.', 'Doré, O.', 'No...   \n",
                                          "3    ['Gibb, Erika L.', 'Bonev, Boncho P.', 'Villan...   \n",
                                          "4                                  ['van Leeuwen, F.']   \n",
                                          "..                                                 ...   \n",
                                          "795  ['Tarter, Jill C.', 'Backus, Peter R.', 'Manci...   \n",
                                          "796  ['Seidelmann, P. Kenneth', 'Archinal, B. A.', ...   \n",
                                          "797  ['Burrows, A.', 'Dessart, L.', 'Livne, E.', 'O...   \n",
                                          "798            ['Nomura, Kentaro', 'MacDonald, A. H.']   \n",
                                          "799  ['Lu, Chao-Yang', 'Zhou, Xiao-Qi', 'Gühne, Otf...   \n",
                                          "\n",
                                          "                                                 title  year  citation_count  \n",
                                          "0                             ['The rise of graphene']  2007           14425  \n",
                                          "1            ['Matplotlib: A 2D Graphics Environment']  2007           10931  \n",
                                          "2    ['Three-Year Wilkinson Microwave Anisotropy Pr...  2007            7119  \n",
                                          "3    [\"Chemical Composition of Comet C/2007 N3 (Lul...  2012              49  \n",
                                          "4        ['Validation of the new Hipparcos reduction']  2007            3068  \n",
                                          "..                                                 ...   ...             ...  \n",
                                          "795  ['A Reappraisal of The Habitability of Planets...  2007             278  \n",
                                          "796  ['Report of the IAU/IAG Working Group on carto...  2007             198  \n",
                                          "797  ['Simulations of Magnetically Driven Supernova...  2007             374  \n",
                                          "798   ['Quantum Transport of Massless Dirac Fermions']  2007             483  \n",
                                          "799  ['Experimental entanglement of six photons in ...  2007             478  \n",
                                          "\n",
                                          "[800 rows x 5 columns]"
                                    ]
                              },
                              "execution_count": 29,
                              "metadata": {},
                              "output_type": "execute_result"
                        }
                  ],
                  "source": [
                        "# SMALLER TRY\n",
                        "\n",
                        "\n",
                        "# Replace 'your_folder_path' with the path to your folder containing CSV files\n",
                        "folder_path = '/Users/admin/Desktop/spiced/convergence_oracle_project/data_small/2007_AADDR.csv'\n",
                        "\n",
                        "# Initialize an empty DataFrame to store the combined data\n",
                        "combined_df = pd.DataFrame()\n",
                        "\n",
                        "# Construct the full path to the CSV file\n",
                        "file_path = os.path.join(folder_path)\n",
                        "\n",
                        "# Read the CSV file into a DataFrame\n",
                        "csv_df = pd.read_csv(file_path)\n",
                        "\n",
                        "# Concatenate the current DataFrame with the combined DataFrame\n",
                        "combined_df = pd.concat([combined_df, csv_df], ignore_index=True)\n",
                        "\n",
                        "# Print or manipulate the combined DataFrame as needed\n",
                        "df=combined_df\n",
                        "df"
                  ]
            },
            {
                  "cell_type": "code",
                  "execution_count": 30,
                  "metadata": {},
                  "outputs": [],
                  "source": [
                        "# Print the count of NaN values for each column\n",
                        "nan_count = df.isna().sum()\n",
                        "nan_count\n",
                        "\n",
                        "#drop nan values in abstract column\n",
                        "df = df.dropna(subset=['abstract'])"
                  ]
            },
            {
                  "cell_type": "code",
                  "execution_count": 31,
                  "metadata": {},
                  "outputs": [
                        {
                              "data": {
                                    "text/plain": [
                                          "\" \\n\\nstop_words = set(ENGLISH_STOP_WORDS)\\ndef clean_text(row):\\n    # Tokenize and remove stopwords\\n    cleaned_tokens = [word for word in row['abstract'].split() if word.lower() not in ENGLISH_STOP_WORDS]\\n    return ' '.join(cleaned_tokens)\\ndf['abstract'] = df.apply(clean_text, axis=1)\\ndisplay(df.T)\\n\""
                                    ]
                              },
                              "execution_count": 31,
                              "metadata": {},
                              "output_type": "execute_result"
                        }
                  ],
                  "source": [
                        "''' \n",
                        "\n",
                        "stop_words = set(ENGLISH_STOP_WORDS)\n",
                        "def clean_text(row):\n",
                        "    # Tokenize and remove stopwords\n",
                        "    cleaned_tokens = [word for word in row['abstract'].split() if word.lower() not in ENGLISH_STOP_WORDS]\n",
                        "    return ' '.join(cleaned_tokens)\n",
                        "df['abstract'] = df.apply(clean_text, axis=1)\n",
                        "display(df.T)\n",
                        "'''"
                  ]
            },
            {
                  "cell_type": "code",
                  "execution_count": 32,
                  "metadata": {},
                  "outputs": [
                        {
                              "name": "stdout",
                              "output_type": "stream",
                              "text": [
                                    "                                              abstract   \n",
                                    "0    Graphene rapidly rising star horizon materials...  \\\n",
                                    "1    Matplotlib 2D graphics package Python applicat...   \n",
                                    "2    simple cosmological model parameters (matter d...   \n",
                                    "3    measured volatile chemical composition comet C...   \n",
                                    "4    Context: new reduction astrometric data produc...   \n",
                                    "..                                                 ...   \n",
                                    "795  Stable, hydrogen-burning, M dwarf stars make 7...   \n",
                                    "796  years IAU/IAG Working Group Cartographic Coord...   \n",
                                    "797  present 2D rotating, multigroup, radiation mag...   \n",
                                    "798  Motivated recent graphene transport experiment...   \n",
                                    "799  Graph states-multipartite entangled states rep...   \n",
                                    "\n",
                                    "                                                author   \n",
                                    "0                  ['Geim, A. K.', 'Novoselov, K. S.']  \\\n",
                                    "1                                  ['Hunter, John D.']   \n",
                                    "2    ['Spergel, D. N.', 'Bean, R.', 'Doré, O.', 'No...   \n",
                                    "3    ['Gibb, Erika L.', 'Bonev, Boncho P.', 'Villan...   \n",
                                    "4                                  ['van Leeuwen, F.']   \n",
                                    "..                                                 ...   \n",
                                    "795  ['Tarter, Jill C.', 'Backus, Peter R.', 'Manci...   \n",
                                    "796  ['Seidelmann, P. Kenneth', 'Archinal, B. A.', ...   \n",
                                    "797  ['Burrows, A.', 'Dessart, L.', 'Livne, E.', 'O...   \n",
                                    "798            ['Nomura, Kentaro', 'MacDonald, A. H.']   \n",
                                    "799  ['Lu, Chao-Yang', 'Zhou, Xiao-Qi', 'Gühne, Otf...   \n",
                                    "\n",
                                    "                                                 title  year  citation_count  \n",
                                    "0                             ['The rise of graphene']  2007           14425  \n",
                                    "1            ['Matplotlib: A 2D Graphics Environment']  2007           10931  \n",
                                    "2    ['Three-Year Wilkinson Microwave Anisotropy Pr...  2007            7119  \n",
                                    "3    [\"Chemical Composition of Comet C/2007 N3 (Lul...  2012              49  \n",
                                    "4        ['Validation of the new Hipparcos reduction']  2007            3068  \n",
                                    "..                                                 ...   ...             ...  \n",
                                    "795  ['A Reappraisal of The Habitability of Planets...  2007             278  \n",
                                    "796  ['Report of the IAU/IAG Working Group on carto...  2007             198  \n",
                                    "797  ['Simulations of Magnetically Driven Supernova...  2007             374  \n",
                                    "798   ['Quantum Transport of Massless Dirac Fermions']  2007             483  \n",
                                    "799  ['Experimental entanglement of six photons in ...  2007             478  \n",
                                    "\n",
                                    "[721 rows x 5 columns]\n"
                              ]
                        }
                  ],
                  "source": [
                        "\n",
                        "# remove stopword\n",
                        "\n",
                        "def remove_stopwords_from_column(df, column_name):\n",
                        "    # Define a function to remove stopwords from a text\n",
                        "    def remove_stopwords(text):\n",
                        "        tokens = text.split()\n",
                        "        filtered_tokens = [word for word in tokens if word.lower() not in ENGLISH_STOP_WORDS]\n",
                        "        return \" \".join(filtered_tokens)\n",
                        "    # Apply the remove_stopwords function to the specified column\n",
                        "    df[column_name] = df[column_name].apply(remove_stopwords)\n",
                        "    return df\n",
                        "\n",
                        "\n",
                        "df = remove_stopwords_from_column(df, 'abstract')\n",
                        "# Display the modified DataFrame\n",
                        "print(df)"
                  ]
            },
            {
                  "cell_type": "code",
                  "execution_count": 33,
                  "metadata": {},
                  "outputs": [
                        {
                              "name": "stderr",
                              "output_type": "stream",
                              "text": [
                                    "Batches: 100%|██████████| 23/23 [00:15<00:00,  1.49it/s]\n",
                                    "2023-09-22 16:00:39,696 - BERTopic - Transformed documents to Embeddings\n",
                                    "2023-09-22 16:00:40,927 - BERTopic - Reduced dimensionality\n",
                                    "2023-09-22 16:00:40,945 - BERTopic - Clustered reduced embeddings\n"
                              ]
                        },
                        {
                              "name": "stdout",
                              "output_type": "stream",
                              "text": [
                                    "it took 0.2872754176457723 minutes\n"
                              ]
                        }
                  ],
                  "source": [
                        "# train BERTopic\n",
                        "start_time = time.time()\n",
                        "\n",
                        "docs = df['abstract'].tolist()\n",
                        "\n",
                        "topic_model = BERTopic(language='english', n_gram_range=(1,2), min_topic_size=15, calculate_probabilities=True,verbose=True)\n",
                        "topics, probs = topic_model.fit_transform(docs)\n",
                        "\n",
                        "\n",
                        "#topic_model.save(.br)\n",
                        "\n",
                        "print('it took', (time.time() - start_time)/60, 'minutes')"
                  ]
            },
            {
                  "cell_type": "code",
                  "execution_count": 34,
                  "metadata": {},
                  "outputs": [
                        {
                              "data": {
                                    "text/html": [
                                          "<div>\n",
                                          "<style scoped>\n",
                                          "    .dataframe tbody tr th:only-of-type {\n",
                                          "        vertical-align: middle;\n",
                                          "    }\n",
                                          "\n",
                                          "    .dataframe tbody tr th {\n",
                                          "        vertical-align: top;\n",
                                          "    }\n",
                                          "\n",
                                          "    .dataframe thead th {\n",
                                          "        text-align: right;\n",
                                          "    }\n",
                                          "</style>\n",
                                          "<table border=\"1\" class=\"dataframe\">\n",
                                          "  <thead>\n",
                                          "    <tr style=\"text-align: right;\">\n",
                                          "      <th></th>\n",
                                          "      <th>Topic</th>\n",
                                          "      <th>Count</th>\n",
                                          "      <th>Name</th>\n",
                                          "      <th>Representation</th>\n",
                                          "      <th>Representative_Docs</th>\n",
                                          "    </tr>\n",
                                          "  </thead>\n",
                                          "  <tbody>\n",
                                          "    <tr>\n",
                                          "      <th>0</th>\n",
                                          "      <td>-1</td>\n",
                                          "      <td>13</td>\n",
                                          "      <td>-1_data_recurrence_network_shm</td>\n",
                                          "      <td>[data, recurrence, network, shm, softening, in...</td>\n",
                                          "      <td>[process implementing damage identification st...</td>\n",
                                          "    </tr>\n",
                                          "    <tr>\n",
                                          "      <th>1</th>\n",
                                          "      <td>0</td>\n",
                                          "      <td>320</td>\n",
                                          "      <td>0_galaxies_mass_data_formation</td>\n",
                                          "      <td>[galaxies, mass, data, formation, star, stars,...</td>\n",
                                          "      <td>[high-resolution smoothed particle hydrodynami...</td>\n",
                                          "    </tr>\n",
                                          "    <tr>\n",
                                          "      <th>2</th>\n",
                                          "      <td>1</td>\n",
                                          "      <td>247</td>\n",
                                          "      <td>1_quantum_graphene_optical_spin</td>\n",
                                          "      <td>[quantum, graphene, optical, spin, states, sys...</td>\n",
                                          "      <td>[classical information processing, quantum inf...</td>\n",
                                          "    </tr>\n",
                                          "    <tr>\n",
                                          "      <th>3</th>\n",
                                          "      <td>2</td>\n",
                                          "      <td>74</td>\n",
                                          "      <td>2_climate_global_ocean_carbon</td>\n",
                                          "      <td>[climate, global, ocean, carbon, aerosol, wate...</td>\n",
                                          "      <td>[mass, age, chemical composition continental c...</td>\n",
                                          "    </tr>\n",
                                          "    <tr>\n",
                                          "      <th>4</th>\n",
                                          "      <td>3</td>\n",
                                          "      <td>67</td>\n",
                                          "      <td>3_theory_models_model_gauge</td>\n",
                                          "      <td>[theory, models, model, gauge, scalar, new, hi...</td>\n",
                                          "      <td>[present FORTRAN code SuSpect version 2.3, cal...</td>\n",
                                          "    </tr>\n",
                                          "  </tbody>\n",
                                          "</table>\n",
                                          "</div>"
                                    ],
                                    "text/plain": [
                                          "   Topic  Count                             Name   \n",
                                          "0     -1     13   -1_data_recurrence_network_shm  \\\n",
                                          "1      0    320   0_galaxies_mass_data_formation   \n",
                                          "2      1    247  1_quantum_graphene_optical_spin   \n",
                                          "3      2     74    2_climate_global_ocean_carbon   \n",
                                          "4      3     67      3_theory_models_model_gauge   \n",
                                          "\n",
                                          "                                      Representation   \n",
                                          "0  [data, recurrence, network, shm, softening, in...  \\\n",
                                          "1  [galaxies, mass, data, formation, star, stars,...   \n",
                                          "2  [quantum, graphene, optical, spin, states, sys...   \n",
                                          "3  [climate, global, ocean, carbon, aerosol, wate...   \n",
                                          "4  [theory, models, model, gauge, scalar, new, hi...   \n",
                                          "\n",
                                          "                                 Representative_Docs  \n",
                                          "0  [process implementing damage identification st...  \n",
                                          "1  [high-resolution smoothed particle hydrodynami...  \n",
                                          "2  [classical information processing, quantum inf...  \n",
                                          "3  [mass, age, chemical composition continental c...  \n",
                                          "4  [present FORTRAN code SuSpect version 2.3, cal...  "
                                    ]
                              },
                              "execution_count": 34,
                              "metadata": {},
                              "output_type": "execute_result"
                        }
                  ],
                  "source": [
                        "topic_model.get_topic_info()"
                  ]
            },
            {
                  "cell_type": "code",
                  "execution_count": 35,
                  "metadata": {},
                  "outputs": [
                        {
                              "data": {
                                    "application/vnd.plotly.v1+json": {
                                          "config": {
                                                "plotlyServerURL": "https://plot.ly"
                                          },
                                          "data": [
                                                {
                                                      "marker": {
                                                            "color": "#D55E00"
                                                      },
                                                      "orientation": "h",
                                                      "type": "bar",
                                                      "x": [
                                                            0.011263490970544875,
                                                            0.011401335327018555,
                                                            0.013387918272461531,
                                                            0.014934747699463204,
                                                            0.020614086961639553
                                                      ],
                                                      "xaxis": "x",
                                                      "y": [
                                                            "star  ",
                                                            "formation  ",
                                                            "data  ",
                                                            "mass  ",
                                                            "galaxies  "
                                                      ],
                                                      "yaxis": "y"
                                                },
                                                {
                                                      "marker": {
                                                            "color": "#0072B2"
                                                      },
                                                      "orientation": "h",
                                                      "type": "bar",
                                                      "x": [
                                                            0.012149397024052874,
                                                            0.012201537005251097,
                                                            0.013527232777573152,
                                                            0.016111189517888036,
                                                            0.030977221109818126
                                                      ],
                                                      "xaxis": "x2",
                                                      "y": [
                                                            "states  ",
                                                            "spin  ",
                                                            "optical  ",
                                                            "graphene  ",
                                                            "quantum  "
                                                      ],
                                                      "yaxis": "y2"
                                                },
                                                {
                                                      "marker": {
                                                            "color": "#CC79A7"
                                                      },
                                                      "orientation": "h",
                                                      "type": "bar",
                                                      "x": [
                                                            0.012087547594537675,
                                                            0.012161561949773601,
                                                            0.012612612749869448,
                                                            0.013800279257331944,
                                                            0.016595271054851413
                                                      ],
                                                      "xaxis": "x3",
                                                      "y": [
                                                            "aerosol  ",
                                                            "carbon  ",
                                                            "ocean  ",
                                                            "global  ",
                                                            "climate  "
                                                      ],
                                                      "yaxis": "y3"
                                                },
                                                {
                                                      "marker": {
                                                            "color": "#E69F00"
                                                      },
                                                      "orientation": "h",
                                                      "type": "bar",
                                                      "x": [
                                                            0.016042925911697207,
                                                            0.017473679073796853,
                                                            0.01847445852626214,
                                                            0.0229348826585175,
                                                            0.023741215255035048
                                                      ],
                                                      "xaxis": "x4",
                                                      "y": [
                                                            "scalar  ",
                                                            "gauge  ",
                                                            "model  ",
                                                            "models  ",
                                                            "theory  "
                                                      ],
                                                      "yaxis": "y4"
                                                }
                                          ],
                                          "layout": {
                                                "annotations": [
                                                      {
                                                            "font": {
                                                                  "size": 16
                                                            },
                                                            "showarrow": false,
                                                            "text": "Topic 0",
                                                            "x": 0.0875,
                                                            "xanchor": "center",
                                                            "xref": "paper",
                                                            "y": 1,
                                                            "yanchor": "bottom",
                                                            "yref": "paper"
                                                      },
                                                      {
                                                            "font": {
                                                                  "size": 16
                                                            },
                                                            "showarrow": false,
                                                            "text": "Topic 1",
                                                            "x": 0.36250000000000004,
                                                            "xanchor": "center",
                                                            "xref": "paper",
                                                            "y": 1,
                                                            "yanchor": "bottom",
                                                            "yref": "paper"
                                                      },
                                                      {
                                                            "font": {
                                                                  "size": 16
                                                            },
                                                            "showarrow": false,
                                                            "text": "Topic 2",
                                                            "x": 0.6375000000000001,
                                                            "xanchor": "center",
                                                            "xref": "paper",
                                                            "y": 1,
                                                            "yanchor": "bottom",
                                                            "yref": "paper"
                                                      },
                                                      {
                                                            "font": {
                                                                  "size": 16
                                                            },
                                                            "showarrow": false,
                                                            "text": "Topic 3",
                                                            "x": 0.9125,
                                                            "xanchor": "center",
                                                            "xref": "paper",
                                                            "y": 1,
                                                            "yanchor": "bottom",
                                                            "yref": "paper"
                                                      }
                                                ],
                                                "height": 325,
                                                "hoverlabel": {
                                                      "bgcolor": "white",
                                                      "font": {
                                                            "family": "Rockwell",
                                                            "size": 16
                                                      }
                                                },
                                                "showlegend": false,
                                                "template": {
                                                      "data": {
                                                            "bar": [
                                                                  {
                                                                        "error_x": {
                                                                              "color": "#2a3f5f"
                                                                        },
                                                                        "error_y": {
                                                                              "color": "#2a3f5f"
                                                                        },
                                                                        "marker": {
                                                                              "line": {
                                                                                    "color": "white",
                                                                                    "width": 0.5
                                                                              },
                                                                              "pattern": {
                                                                                    "fillmode": "overlay",
                                                                                    "size": 10,
                                                                                    "solidity": 0.2
                                                                              }
                                                                        },
                                                                        "type": "bar"
                                                                  }
                                                            ],
                                                            "barpolar": [
                                                                  {
                                                                        "marker": {
                                                                              "line": {
                                                                                    "color": "white",
                                                                                    "width": 0.5
                                                                              },
                                                                              "pattern": {
                                                                                    "fillmode": "overlay",
                                                                                    "size": 10,
                                                                                    "solidity": 0.2
                                                                              }
                                                                        },
                                                                        "type": "barpolar"
                                                                  }
                                                            ],
                                                            "carpet": [
                                                                  {
                                                                        "aaxis": {
                                                                              "endlinecolor": "#2a3f5f",
                                                                              "gridcolor": "#C8D4E3",
                                                                              "linecolor": "#C8D4E3",
                                                                              "minorgridcolor": "#C8D4E3",
                                                                              "startlinecolor": "#2a3f5f"
                                                                        },
                                                                        "baxis": {
                                                                              "endlinecolor": "#2a3f5f",
                                                                              "gridcolor": "#C8D4E3",
                                                                              "linecolor": "#C8D4E3",
                                                                              "minorgridcolor": "#C8D4E3",
                                                                              "startlinecolor": "#2a3f5f"
                                                                        },
                                                                        "type": "carpet"
                                                                  }
                                                            ],
                                                            "choropleth": [
                                                                  {
                                                                        "colorbar": {
                                                                              "outlinewidth": 0,
                                                                              "ticks": ""
                                                                        },
                                                                        "type": "choropleth"
                                                                  }
                                                            ],
                                                            "contour": [
                                                                  {
                                                                        "colorbar": {
                                                                              "outlinewidth": 0,
                                                                              "ticks": ""
                                                                        },
                                                                        "colorscale": [
                                                                              [
                                                                                    0,
                                                                                    "#0d0887"
                                                                              ],
                                                                              [
                                                                                    0.1111111111111111,
                                                                                    "#46039f"
                                                                              ],
                                                                              [
                                                                                    0.2222222222222222,
                                                                                    "#7201a8"
                                                                              ],
                                                                              [
                                                                                    0.3333333333333333,
                                                                                    "#9c179e"
                                                                              ],
                                                                              [
                                                                                    0.4444444444444444,
                                                                                    "#bd3786"
                                                                              ],
                                                                              [
                                                                                    0.5555555555555556,
                                                                                    "#d8576b"
                                                                              ],
                                                                              [
                                                                                    0.6666666666666666,
                                                                                    "#ed7953"
                                                                              ],
                                                                              [
                                                                                    0.7777777777777778,
                                                                                    "#fb9f3a"
                                                                              ],
                                                                              [
                                                                                    0.8888888888888888,
                                                                                    "#fdca26"
                                                                              ],
                                                                              [
                                                                                    1,
                                                                                    "#f0f921"
                                                                              ]
                                                                        ],
                                                                        "type": "contour"
                                                                  }
                                                            ],
                                                            "contourcarpet": [
                                                                  {
                                                                        "colorbar": {
                                                                              "outlinewidth": 0,
                                                                              "ticks": ""
                                                                        },
                                                                        "type": "contourcarpet"
                                                                  }
                                                            ],
                                                            "heatmap": [
                                                                  {
                                                                        "colorbar": {
                                                                              "outlinewidth": 0,
                                                                              "ticks": ""
                                                                        },
                                                                        "colorscale": [
                                                                              [
                                                                                    0,
                                                                                    "#0d0887"
                                                                              ],
                                                                              [
                                                                                    0.1111111111111111,
                                                                                    "#46039f"
                                                                              ],
                                                                              [
                                                                                    0.2222222222222222,
                                                                                    "#7201a8"
                                                                              ],
                                                                              [
                                                                                    0.3333333333333333,
                                                                                    "#9c179e"
                                                                              ],
                                                                              [
                                                                                    0.4444444444444444,
                                                                                    "#bd3786"
                                                                              ],
                                                                              [
                                                                                    0.5555555555555556,
                                                                                    "#d8576b"
                                                                              ],
                                                                              [
                                                                                    0.6666666666666666,
                                                                                    "#ed7953"
                                                                              ],
                                                                              [
                                                                                    0.7777777777777778,
                                                                                    "#fb9f3a"
                                                                              ],
                                                                              [
                                                                                    0.8888888888888888,
                                                                                    "#fdca26"
                                                                              ],
                                                                              [
                                                                                    1,
                                                                                    "#f0f921"
                                                                              ]
                                                                        ],
                                                                        "type": "heatmap"
                                                                  }
                                                            ],
                                                            "heatmapgl": [
                                                                  {
                                                                        "colorbar": {
                                                                              "outlinewidth": 0,
                                                                              "ticks": ""
                                                                        },
                                                                        "colorscale": [
                                                                              [
                                                                                    0,
                                                                                    "#0d0887"
                                                                              ],
                                                                              [
                                                                                    0.1111111111111111,
                                                                                    "#46039f"
                                                                              ],
                                                                              [
                                                                                    0.2222222222222222,
                                                                                    "#7201a8"
                                                                              ],
                                                                              [
                                                                                    0.3333333333333333,
                                                                                    "#9c179e"
                                                                              ],
                                                                              [
                                                                                    0.4444444444444444,
                                                                                    "#bd3786"
                                                                              ],
                                                                              [
                                                                                    0.5555555555555556,
                                                                                    "#d8576b"
                                                                              ],
                                                                              [
                                                                                    0.6666666666666666,
                                                                                    "#ed7953"
                                                                              ],
                                                                              [
                                                                                    0.7777777777777778,
                                                                                    "#fb9f3a"
                                                                              ],
                                                                              [
                                                                                    0.8888888888888888,
                                                                                    "#fdca26"
                                                                              ],
                                                                              [
                                                                                    1,
                                                                                    "#f0f921"
                                                                              ]
                                                                        ],
                                                                        "type": "heatmapgl"
                                                                  }
                                                            ],
                                                            "histogram": [
                                                                  {
                                                                        "marker": {
                                                                              "pattern": {
                                                                                    "fillmode": "overlay",
                                                                                    "size": 10,
                                                                                    "solidity": 0.2
                                                                              }
                                                                        },
                                                                        "type": "histogram"
                                                                  }
                                                            ],
                                                            "histogram2d": [
                                                                  {
                                                                        "colorbar": {
                                                                              "outlinewidth": 0,
                                                                              "ticks": ""
                                                                        },
                                                                        "colorscale": [
                                                                              [
                                                                                    0,
                                                                                    "#0d0887"
                                                                              ],
                                                                              [
                                                                                    0.1111111111111111,
                                                                                    "#46039f"
                                                                              ],
                                                                              [
                                                                                    0.2222222222222222,
                                                                                    "#7201a8"
                                                                              ],
                                                                              [
                                                                                    0.3333333333333333,
                                                                                    "#9c179e"
                                                                              ],
                                                                              [
                                                                                    0.4444444444444444,
                                                                                    "#bd3786"
                                                                              ],
                                                                              [
                                                                                    0.5555555555555556,
                                                                                    "#d8576b"
                                                                              ],
                                                                              [
                                                                                    0.6666666666666666,
                                                                                    "#ed7953"
                                                                              ],
                                                                              [
                                                                                    0.7777777777777778,
                                                                                    "#fb9f3a"
                                                                              ],
                                                                              [
                                                                                    0.8888888888888888,
                                                                                    "#fdca26"
                                                                              ],
                                                                              [
                                                                                    1,
                                                                                    "#f0f921"
                                                                              ]
                                                                        ],
                                                                        "type": "histogram2d"
                                                                  }
                                                            ],
                                                            "histogram2dcontour": [
                                                                  {
                                                                        "colorbar": {
                                                                              "outlinewidth": 0,
                                                                              "ticks": ""
                                                                        },
                                                                        "colorscale": [
                                                                              [
                                                                                    0,
                                                                                    "#0d0887"
                                                                              ],
                                                                              [
                                                                                    0.1111111111111111,
                                                                                    "#46039f"
                                                                              ],
                                                                              [
                                                                                    0.2222222222222222,
                                                                                    "#7201a8"
                                                                              ],
                                                                              [
                                                                                    0.3333333333333333,
                                                                                    "#9c179e"
                                                                              ],
                                                                              [
                                                                                    0.4444444444444444,
                                                                                    "#bd3786"
                                                                              ],
                                                                              [
                                                                                    0.5555555555555556,
                                                                                    "#d8576b"
                                                                              ],
                                                                              [
                                                                                    0.6666666666666666,
                                                                                    "#ed7953"
                                                                              ],
                                                                              [
                                                                                    0.7777777777777778,
                                                                                    "#fb9f3a"
                                                                              ],
                                                                              [
                                                                                    0.8888888888888888,
                                                                                    "#fdca26"
                                                                              ],
                                                                              [
                                                                                    1,
                                                                                    "#f0f921"
                                                                              ]
                                                                        ],
                                                                        "type": "histogram2dcontour"
                                                                  }
                                                            ],
                                                            "mesh3d": [
                                                                  {
                                                                        "colorbar": {
                                                                              "outlinewidth": 0,
                                                                              "ticks": ""
                                                                        },
                                                                        "type": "mesh3d"
                                                                  }
                                                            ],
                                                            "parcoords": [
                                                                  {
                                                                        "line": {
                                                                              "colorbar": {
                                                                                    "outlinewidth": 0,
                                                                                    "ticks": ""
                                                                              }
                                                                        },
                                                                        "type": "parcoords"
                                                                  }
                                                            ],
                                                            "pie": [
                                                                  {
                                                                        "automargin": true,
                                                                        "type": "pie"
                                                                  }
                                                            ],
                                                            "scatter": [
                                                                  {
                                                                        "fillpattern": {
                                                                              "fillmode": "overlay",
                                                                              "size": 10,
                                                                              "solidity": 0.2
                                                                        },
                                                                        "type": "scatter"
                                                                  }
                                                            ],
                                                            "scatter3d": [
                                                                  {
                                                                        "line": {
                                                                              "colorbar": {
                                                                                    "outlinewidth": 0,
                                                                                    "ticks": ""
                                                                              }
                                                                        },
                                                                        "marker": {
                                                                              "colorbar": {
                                                                                    "outlinewidth": 0,
                                                                                    "ticks": ""
                                                                              }
                                                                        },
                                                                        "type": "scatter3d"
                                                                  }
                                                            ],
                                                            "scattercarpet": [
                                                                  {
                                                                        "marker": {
                                                                              "colorbar": {
                                                                                    "outlinewidth": 0,
                                                                                    "ticks": ""
                                                                              }
                                                                        },
                                                                        "type": "scattercarpet"
                                                                  }
                                                            ],
                                                            "scattergeo": [
                                                                  {
                                                                        "marker": {
                                                                              "colorbar": {
                                                                                    "outlinewidth": 0,
                                                                                    "ticks": ""
                                                                              }
                                                                        },
                                                                        "type": "scattergeo"
                                                                  }
                                                            ],
                                                            "scattergl": [
                                                                  {
                                                                        "marker": {
                                                                              "colorbar": {
                                                                                    "outlinewidth": 0,
                                                                                    "ticks": ""
                                                                              }
                                                                        },
                                                                        "type": "scattergl"
                                                                  }
                                                            ],
                                                            "scattermapbox": [
                                                                  {
                                                                        "marker": {
                                                                              "colorbar": {
                                                                                    "outlinewidth": 0,
                                                                                    "ticks": ""
                                                                              }
                                                                        },
                                                                        "type": "scattermapbox"
                                                                  }
                                                            ],
                                                            "scatterpolar": [
                                                                  {
                                                                        "marker": {
                                                                              "colorbar": {
                                                                                    "outlinewidth": 0,
                                                                                    "ticks": ""
                                                                              }
                                                                        },
                                                                        "type": "scatterpolar"
                                                                  }
                                                            ],
                                                            "scatterpolargl": [
                                                                  {
                                                                        "marker": {
                                                                              "colorbar": {
                                                                                    "outlinewidth": 0,
                                                                                    "ticks": ""
                                                                              }
                                                                        },
                                                                        "type": "scatterpolargl"
                                                                  }
                                                            ],
                                                            "scatterternary": [
                                                                  {
                                                                        "marker": {
                                                                              "colorbar": {
                                                                                    "outlinewidth": 0,
                                                                                    "ticks": ""
                                                                              }
                                                                        },
                                                                        "type": "scatterternary"
                                                                  }
                                                            ],
                                                            "surface": [
                                                                  {
                                                                        "colorbar": {
                                                                              "outlinewidth": 0,
                                                                              "ticks": ""
                                                                        },
                                                                        "colorscale": [
                                                                              [
                                                                                    0,
                                                                                    "#0d0887"
                                                                              ],
                                                                              [
                                                                                    0.1111111111111111,
                                                                                    "#46039f"
                                                                              ],
                                                                              [
                                                                                    0.2222222222222222,
                                                                                    "#7201a8"
                                                                              ],
                                                                              [
                                                                                    0.3333333333333333,
                                                                                    "#9c179e"
                                                                              ],
                                                                              [
                                                                                    0.4444444444444444,
                                                                                    "#bd3786"
                                                                              ],
                                                                              [
                                                                                    0.5555555555555556,
                                                                                    "#d8576b"
                                                                              ],
                                                                              [
                                                                                    0.6666666666666666,
                                                                                    "#ed7953"
                                                                              ],
                                                                              [
                                                                                    0.7777777777777778,
                                                                                    "#fb9f3a"
                                                                              ],
                                                                              [
                                                                                    0.8888888888888888,
                                                                                    "#fdca26"
                                                                              ],
                                                                              [
                                                                                    1,
                                                                                    "#f0f921"
                                                                              ]
                                                                        ],
                                                                        "type": "surface"
                                                                  }
                                                            ],
                                                            "table": [
                                                                  {
                                                                        "cells": {
                                                                              "fill": {
                                                                                    "color": "#EBF0F8"
                                                                              },
                                                                              "line": {
                                                                                    "color": "white"
                                                                              }
                                                                        },
                                                                        "header": {
                                                                              "fill": {
                                                                                    "color": "#C8D4E3"
                                                                              },
                                                                              "line": {
                                                                                    "color": "white"
                                                                              }
                                                                        },
                                                                        "type": "table"
                                                                  }
                                                            ]
                                                      },
                                                      "layout": {
                                                            "annotationdefaults": {
                                                                  "arrowcolor": "#2a3f5f",
                                                                  "arrowhead": 0,
                                                                  "arrowwidth": 1
                                                            },
                                                            "autotypenumbers": "strict",
                                                            "coloraxis": {
                                                                  "colorbar": {
                                                                        "outlinewidth": 0,
                                                                        "ticks": ""
                                                                  }
                                                            },
                                                            "colorscale": {
                                                                  "diverging": [
                                                                        [
                                                                              0,
                                                                              "#8e0152"
                                                                        ],
                                                                        [
                                                                              0.1,
                                                                              "#c51b7d"
                                                                        ],
                                                                        [
                                                                              0.2,
                                                                              "#de77ae"
                                                                        ],
                                                                        [
                                                                              0.3,
                                                                              "#f1b6da"
                                                                        ],
                                                                        [
                                                                              0.4,
                                                                              "#fde0ef"
                                                                        ],
                                                                        [
                                                                              0.5,
                                                                              "#f7f7f7"
                                                                        ],
                                                                        [
                                                                              0.6,
                                                                              "#e6f5d0"
                                                                        ],
                                                                        [
                                                                              0.7,
                                                                              "#b8e186"
                                                                        ],
                                                                        [
                                                                              0.8,
                                                                              "#7fbc41"
                                                                        ],
                                                                        [
                                                                              0.9,
                                                                              "#4d9221"
                                                                        ],
                                                                        [
                                                                              1,
                                                                              "#276419"
                                                                        ]
                                                                  ],
                                                                  "sequential": [
                                                                        [
                                                                              0,
                                                                              "#0d0887"
                                                                        ],
                                                                        [
                                                                              0.1111111111111111,
                                                                              "#46039f"
                                                                        ],
                                                                        [
                                                                              0.2222222222222222,
                                                                              "#7201a8"
                                                                        ],
                                                                        [
                                                                              0.3333333333333333,
                                                                              "#9c179e"
                                                                        ],
                                                                        [
                                                                              0.4444444444444444,
                                                                              "#bd3786"
                                                                        ],
                                                                        [
                                                                              0.5555555555555556,
                                                                              "#d8576b"
                                                                        ],
                                                                        [
                                                                              0.6666666666666666,
                                                                              "#ed7953"
                                                                        ],
                                                                        [
                                                                              0.7777777777777778,
                                                                              "#fb9f3a"
                                                                        ],
                                                                        [
                                                                              0.8888888888888888,
                                                                              "#fdca26"
                                                                        ],
                                                                        [
                                                                              1,
                                                                              "#f0f921"
                                                                        ]
                                                                  ],
                                                                  "sequentialminus": [
                                                                        [
                                                                              0,
                                                                              "#0d0887"
                                                                        ],
                                                                        [
                                                                              0.1111111111111111,
                                                                              "#46039f"
                                                                        ],
                                                                        [
                                                                              0.2222222222222222,
                                                                              "#7201a8"
                                                                        ],
                                                                        [
                                                                              0.3333333333333333,
                                                                              "#9c179e"
                                                                        ],
                                                                        [
                                                                              0.4444444444444444,
                                                                              "#bd3786"
                                                                        ],
                                                                        [
                                                                              0.5555555555555556,
                                                                              "#d8576b"
                                                                        ],
                                                                        [
                                                                              0.6666666666666666,
                                                                              "#ed7953"
                                                                        ],
                                                                        [
                                                                              0.7777777777777778,
                                                                              "#fb9f3a"
                                                                        ],
                                                                        [
                                                                              0.8888888888888888,
                                                                              "#fdca26"
                                                                        ],
                                                                        [
                                                                              1,
                                                                              "#f0f921"
                                                                        ]
                                                                  ]
                                                            },
                                                            "colorway": [
                                                                  "#636efa",
                                                                  "#EF553B",
                                                                  "#00cc96",
                                                                  "#ab63fa",
                                                                  "#FFA15A",
                                                                  "#19d3f3",
                                                                  "#FF6692",
                                                                  "#B6E880",
                                                                  "#FF97FF",
                                                                  "#FECB52"
                                                            ],
                                                            "font": {
                                                                  "color": "#2a3f5f"
                                                            },
                                                            "geo": {
                                                                  "bgcolor": "white",
                                                                  "lakecolor": "white",
                                                                  "landcolor": "white",
                                                                  "showlakes": true,
                                                                  "showland": true,
                                                                  "subunitcolor": "#C8D4E3"
                                                            },
                                                            "hoverlabel": {
                                                                  "align": "left"
                                                            },
                                                            "hovermode": "closest",
                                                            "mapbox": {
                                                                  "style": "light"
                                                            },
                                                            "paper_bgcolor": "white",
                                                            "plot_bgcolor": "white",
                                                            "polar": {
                                                                  "angularaxis": {
                                                                        "gridcolor": "#EBF0F8",
                                                                        "linecolor": "#EBF0F8",
                                                                        "ticks": ""
                                                                  },
                                                                  "bgcolor": "white",
                                                                  "radialaxis": {
                                                                        "gridcolor": "#EBF0F8",
                                                                        "linecolor": "#EBF0F8",
                                                                        "ticks": ""
                                                                  }
                                                            },
                                                            "scene": {
                                                                  "xaxis": {
                                                                        "backgroundcolor": "white",
                                                                        "gridcolor": "#DFE8F3",
                                                                        "gridwidth": 2,
                                                                        "linecolor": "#EBF0F8",
                                                                        "showbackground": true,
                                                                        "ticks": "",
                                                                        "zerolinecolor": "#EBF0F8"
                                                                  },
                                                                  "yaxis": {
                                                                        "backgroundcolor": "white",
                                                                        "gridcolor": "#DFE8F3",
                                                                        "gridwidth": 2,
                                                                        "linecolor": "#EBF0F8",
                                                                        "showbackground": true,
                                                                        "ticks": "",
                                                                        "zerolinecolor": "#EBF0F8"
                                                                  },
                                                                  "zaxis": {
                                                                        "backgroundcolor": "white",
                                                                        "gridcolor": "#DFE8F3",
                                                                        "gridwidth": 2,
                                                                        "linecolor": "#EBF0F8",
                                                                        "showbackground": true,
                                                                        "ticks": "",
                                                                        "zerolinecolor": "#EBF0F8"
                                                                  }
                                                            },
                                                            "shapedefaults": {
                                                                  "line": {
                                                                        "color": "#2a3f5f"
                                                                  }
                                                            },
                                                            "ternary": {
                                                                  "aaxis": {
                                                                        "gridcolor": "#DFE8F3",
                                                                        "linecolor": "#A2B1C6",
                                                                        "ticks": ""
                                                                  },
                                                                  "baxis": {
                                                                        "gridcolor": "#DFE8F3",
                                                                        "linecolor": "#A2B1C6",
                                                                        "ticks": ""
                                                                  },
                                                                  "bgcolor": "white",
                                                                  "caxis": {
                                                                        "gridcolor": "#DFE8F3",
                                                                        "linecolor": "#A2B1C6",
                                                                        "ticks": ""
                                                                  }
                                                            },
                                                            "title": {
                                                                  "x": 0.05
                                                            },
                                                            "xaxis": {
                                                                  "automargin": true,
                                                                  "gridcolor": "#EBF0F8",
                                                                  "linecolor": "#EBF0F8",
                                                                  "ticks": "",
                                                                  "title": {
                                                                        "standoff": 15
                                                                  },
                                                                  "zerolinecolor": "#EBF0F8",
                                                                  "zerolinewidth": 2
                                                            },
                                                            "yaxis": {
                                                                  "automargin": true,
                                                                  "gridcolor": "#EBF0F8",
                                                                  "linecolor": "#EBF0F8",
                                                                  "ticks": "",
                                                                  "title": {
                                                                        "standoff": 15
                                                                  },
                                                                  "zerolinecolor": "#EBF0F8",
                                                                  "zerolinewidth": 2
                                                            }
                                                      }
                                                },
                                                "title": {
                                                      "font": {
                                                            "color": "Black",
                                                            "size": 22
                                                      },
                                                      "text": "Topic Word Scores",
                                                      "x": 0.5,
                                                      "xanchor": "center",
                                                      "yanchor": "top"
                                                },
                                                "width": 1000,
                                                "xaxis": {
                                                      "anchor": "y",
                                                      "domain": [
                                                            0,
                                                            0.175
                                                      ],
                                                      "showgrid": true
                                                },
                                                "xaxis2": {
                                                      "anchor": "y2",
                                                      "domain": [
                                                            0.275,
                                                            0.45
                                                      ],
                                                      "showgrid": true
                                                },
                                                "xaxis3": {
                                                      "anchor": "y3",
                                                      "domain": [
                                                            0.55,
                                                            0.7250000000000001
                                                      ],
                                                      "showgrid": true
                                                },
                                                "xaxis4": {
                                                      "anchor": "y4",
                                                      "domain": [
                                                            0.825,
                                                            1
                                                      ],
                                                      "showgrid": true
                                                },
                                                "yaxis": {
                                                      "anchor": "x",
                                                      "domain": [
                                                            0,
                                                            1
                                                      ],
                                                      "showgrid": true
                                                },
                                                "yaxis2": {
                                                      "anchor": "x2",
                                                      "domain": [
                                                            0,
                                                            1
                                                      ],
                                                      "showgrid": true
                                                },
                                                "yaxis3": {
                                                      "anchor": "x3",
                                                      "domain": [
                                                            0,
                                                            1
                                                      ],
                                                      "showgrid": true
                                                },
                                                "yaxis4": {
                                                      "anchor": "x4",
                                                      "domain": [
                                                            0,
                                                            1
                                                      ],
                                                      "showgrid": true
                                                }
                                          }
                                    }
                              },
                              "metadata": {},
                              "output_type": "display_data"
                        }
                  ],
                  "source": [
                        "topic_model.visualize_barchart()"
                  ]
            },
            {
                  "cell_type": "code",
                  "execution_count": 36,
                  "metadata": {},
                  "outputs": [
                        {
                              "data": {
                                    "application/vnd.plotly.v1+json": {
                                          "config": {
                                                "plotlyServerURL": "https://plot.ly"
                                          },
                                          "data": [
                                                {
                                                      "customdata": [
                                                            [
                                                                  0,
                                                                  "galaxies | mass | data | formation | star",
                                                                  320
                                                            ],
                                                            [
                                                                  1,
                                                                  "quantum | graphene | optical | spin | states",
                                                                  247
                                                            ],
                                                            [
                                                                  2,
                                                                  "climate | global | ocean | carbon | aerosol",
                                                                  74
                                                            ],
                                                            [
                                                                  3,
                                                                  "theory | models | model | gauge | scalar",
                                                                  67
                                                            ]
                                                      ],
                                                      "hovertemplate": "<b>Topic %{customdata[0]}</b><br>%{customdata[1]}<br>Size: %{customdata[2]}",
                                                      "legendgroup": "",
                                                      "marker": {
                                                            "color": "#B0BEC5",
                                                            "line": {
                                                                  "color": "DarkSlateGrey",
                                                                  "width": 2
                                                            },
                                                            "size": [
                                                                  320,
                                                                  247,
                                                                  74,
                                                                  67
                                                            ],
                                                            "sizemode": "area",
                                                            "sizeref": 0.2,
                                                            "symbol": "circle"
                                                      },
                                                      "mode": "markers",
                                                      "name": "",
                                                      "orientation": "v",
                                                      "showlegend": false,
                                                      "type": "scatter",
                                                      "x": [
                                                            -8.974517822265625,
                                                            -18.819948196411133,
                                                            -8.397587776184082,
                                                            -19.24357795715332
                                                      ],
                                                      "xaxis": "x",
                                                      "y": [
                                                            13.246638298034668,
                                                            22.70258140563965,
                                                            12.690536499023438,
                                                            23.27602195739746
                                                      ],
                                                      "yaxis": "y"
                                                }
                                          ],
                                          "layout": {
                                                "annotations": [
                                                      {
                                                            "showarrow": false,
                                                            "text": "D1",
                                                            "x": -22.13011465072632,
                                                            "y": 18.7771906375885,
                                                            "yshift": 10
                                                      },
                                                      {
                                                            "showarrow": false,
                                                            "text": "D2",
                                                            "x": -14.634032130241394,
                                                            "xshift": 10,
                                                            "y": 26.76742525100708
                                                      }
                                                ],
                                                "height": 650,
                                                "hoverlabel": {
                                                      "bgcolor": "white",
                                                      "font": {
                                                            "family": "Rockwell",
                                                            "size": 16
                                                      }
                                                },
                                                "legend": {
                                                      "itemsizing": "constant",
                                                      "tracegroupgap": 0
                                                },
                                                "margin": {
                                                      "t": 60
                                                },
                                                "shapes": [
                                                      {
                                                            "line": {
                                                                  "color": "#CFD8DC",
                                                                  "width": 2
                                                            },
                                                            "type": "line",
                                                            "x0": -14.634032130241394,
                                                            "x1": -14.634032130241394,
                                                            "y0": 10.786956024169921,
                                                            "y1": 26.76742525100708
                                                      },
                                                      {
                                                            "line": {
                                                                  "color": "#9E9E9E",
                                                                  "width": 2
                                                            },
                                                            "type": "line",
                                                            "x0": -22.13011465072632,
                                                            "x1": -7.13794960975647,
                                                            "y0": 18.7771906375885,
                                                            "y1": 18.7771906375885
                                                      }
                                                ],
                                                "sliders": [
                                                      {
                                                            "active": 0,
                                                            "pad": {
                                                                  "t": 50
                                                            },
                                                            "steps": [
                                                                  {
                                                                        "args": [
                                                                              {
                                                                                    "marker.color": [
                                                                                          [
                                                                                                "red",
                                                                                                "#B0BEC5",
                                                                                                "#B0BEC5",
                                                                                                "#B0BEC5"
                                                                                          ]
                                                                                    ]
                                                                              }
                                                                        ],
                                                                        "label": "Topic 0",
                                                                        "method": "update"
                                                                  },
                                                                  {
                                                                        "args": [
                                                                              {
                                                                                    "marker.color": [
                                                                                          [
                                                                                                "#B0BEC5",
                                                                                                "red",
                                                                                                "#B0BEC5",
                                                                                                "#B0BEC5"
                                                                                          ]
                                                                                    ]
                                                                              }
                                                                        ],
                                                                        "label": "Topic 1",
                                                                        "method": "update"
                                                                  },
                                                                  {
                                                                        "args": [
                                                                              {
                                                                                    "marker.color": [
                                                                                          [
                                                                                                "#B0BEC5",
                                                                                                "#B0BEC5",
                                                                                                "red",
                                                                                                "#B0BEC5"
                                                                                          ]
                                                                                    ]
                                                                              }
                                                                        ],
                                                                        "label": "Topic 2",
                                                                        "method": "update"
                                                                  },
                                                                  {
                                                                        "args": [
                                                                              {
                                                                                    "marker.color": [
                                                                                          [
                                                                                                "#B0BEC5",
                                                                                                "#B0BEC5",
                                                                                                "#B0BEC5",
                                                                                                "red"
                                                                                          ]
                                                                                    ]
                                                                              }
                                                                        ],
                                                                        "label": "Topic 3",
                                                                        "method": "update"
                                                                  }
                                                            ]
                                                      }
                                                ],
                                                "template": {
                                                      "data": {
                                                            "bar": [
                                                                  {
                                                                        "error_x": {
                                                                              "color": "rgb(36,36,36)"
                                                                        },
                                                                        "error_y": {
                                                                              "color": "rgb(36,36,36)"
                                                                        },
                                                                        "marker": {
                                                                              "line": {
                                                                                    "color": "white",
                                                                                    "width": 0.5
                                                                              },
                                                                              "pattern": {
                                                                                    "fillmode": "overlay",
                                                                                    "size": 10,
                                                                                    "solidity": 0.2
                                                                              }
                                                                        },
                                                                        "type": "bar"
                                                                  }
                                                            ],
                                                            "barpolar": [
                                                                  {
                                                                        "marker": {
                                                                              "line": {
                                                                                    "color": "white",
                                                                                    "width": 0.5
                                                                              },
                                                                              "pattern": {
                                                                                    "fillmode": "overlay",
                                                                                    "size": 10,
                                                                                    "solidity": 0.2
                                                                              }
                                                                        },
                                                                        "type": "barpolar"
                                                                  }
                                                            ],
                                                            "carpet": [
                                                                  {
                                                                        "aaxis": {
                                                                              "endlinecolor": "rgb(36,36,36)",
                                                                              "gridcolor": "white",
                                                                              "linecolor": "white",
                                                                              "minorgridcolor": "white",
                                                                              "startlinecolor": "rgb(36,36,36)"
                                                                        },
                                                                        "baxis": {
                                                                              "endlinecolor": "rgb(36,36,36)",
                                                                              "gridcolor": "white",
                                                                              "linecolor": "white",
                                                                              "minorgridcolor": "white",
                                                                              "startlinecolor": "rgb(36,36,36)"
                                                                        },
                                                                        "type": "carpet"
                                                                  }
                                                            ],
                                                            "choropleth": [
                                                                  {
                                                                        "colorbar": {
                                                                              "outlinewidth": 1,
                                                                              "tickcolor": "rgb(36,36,36)",
                                                                              "ticks": "outside"
                                                                        },
                                                                        "type": "choropleth"
                                                                  }
                                                            ],
                                                            "contour": [
                                                                  {
                                                                        "colorbar": {
                                                                              "outlinewidth": 1,
                                                                              "tickcolor": "rgb(36,36,36)",
                                                                              "ticks": "outside"
                                                                        },
                                                                        "colorscale": [
                                                                              [
                                                                                    0,
                                                                                    "#440154"
                                                                              ],
                                                                              [
                                                                                    0.1111111111111111,
                                                                                    "#482878"
                                                                              ],
                                                                              [
                                                                                    0.2222222222222222,
                                                                                    "#3e4989"
                                                                              ],
                                                                              [
                                                                                    0.3333333333333333,
                                                                                    "#31688e"
                                                                              ],
                                                                              [
                                                                                    0.4444444444444444,
                                                                                    "#26828e"
                                                                              ],
                                                                              [
                                                                                    0.5555555555555556,
                                                                                    "#1f9e89"
                                                                              ],
                                                                              [
                                                                                    0.6666666666666666,
                                                                                    "#35b779"
                                                                              ],
                                                                              [
                                                                                    0.7777777777777778,
                                                                                    "#6ece58"
                                                                              ],
                                                                              [
                                                                                    0.8888888888888888,
                                                                                    "#b5de2b"
                                                                              ],
                                                                              [
                                                                                    1,
                                                                                    "#fde725"
                                                                              ]
                                                                        ],
                                                                        "type": "contour"
                                                                  }
                                                            ],
                                                            "contourcarpet": [
                                                                  {
                                                                        "colorbar": {
                                                                              "outlinewidth": 1,
                                                                              "tickcolor": "rgb(36,36,36)",
                                                                              "ticks": "outside"
                                                                        },
                                                                        "type": "contourcarpet"
                                                                  }
                                                            ],
                                                            "heatmap": [
                                                                  {
                                                                        "colorbar": {
                                                                              "outlinewidth": 1,
                                                                              "tickcolor": "rgb(36,36,36)",
                                                                              "ticks": "outside"
                                                                        },
                                                                        "colorscale": [
                                                                              [
                                                                                    0,
                                                                                    "#440154"
                                                                              ],
                                                                              [
                                                                                    0.1111111111111111,
                                                                                    "#482878"
                                                                              ],
                                                                              [
                                                                                    0.2222222222222222,
                                                                                    "#3e4989"
                                                                              ],
                                                                              [
                                                                                    0.3333333333333333,
                                                                                    "#31688e"
                                                                              ],
                                                                              [
                                                                                    0.4444444444444444,
                                                                                    "#26828e"
                                                                              ],
                                                                              [
                                                                                    0.5555555555555556,
                                                                                    "#1f9e89"
                                                                              ],
                                                                              [
                                                                                    0.6666666666666666,
                                                                                    "#35b779"
                                                                              ],
                                                                              [
                                                                                    0.7777777777777778,
                                                                                    "#6ece58"
                                                                              ],
                                                                              [
                                                                                    0.8888888888888888,
                                                                                    "#b5de2b"
                                                                              ],
                                                                              [
                                                                                    1,
                                                                                    "#fde725"
                                                                              ]
                                                                        ],
                                                                        "type": "heatmap"
                                                                  }
                                                            ],
                                                            "heatmapgl": [
                                                                  {
                                                                        "colorbar": {
                                                                              "outlinewidth": 1,
                                                                              "tickcolor": "rgb(36,36,36)",
                                                                              "ticks": "outside"
                                                                        },
                                                                        "colorscale": [
                                                                              [
                                                                                    0,
                                                                                    "#440154"
                                                                              ],
                                                                              [
                                                                                    0.1111111111111111,
                                                                                    "#482878"
                                                                              ],
                                                                              [
                                                                                    0.2222222222222222,
                                                                                    "#3e4989"
                                                                              ],
                                                                              [
                                                                                    0.3333333333333333,
                                                                                    "#31688e"
                                                                              ],
                                                                              [
                                                                                    0.4444444444444444,
                                                                                    "#26828e"
                                                                              ],
                                                                              [
                                                                                    0.5555555555555556,
                                                                                    "#1f9e89"
                                                                              ],
                                                                              [
                                                                                    0.6666666666666666,
                                                                                    "#35b779"
                                                                              ],
                                                                              [
                                                                                    0.7777777777777778,
                                                                                    "#6ece58"
                                                                              ],
                                                                              [
                                                                                    0.8888888888888888,
                                                                                    "#b5de2b"
                                                                              ],
                                                                              [
                                                                                    1,
                                                                                    "#fde725"
                                                                              ]
                                                                        ],
                                                                        "type": "heatmapgl"
                                                                  }
                                                            ],
                                                            "histogram": [
                                                                  {
                                                                        "marker": {
                                                                              "line": {
                                                                                    "color": "white",
                                                                                    "width": 0.6
                                                                              }
                                                                        },
                                                                        "type": "histogram"
                                                                  }
                                                            ],
                                                            "histogram2d": [
                                                                  {
                                                                        "colorbar": {
                                                                              "outlinewidth": 1,
                                                                              "tickcolor": "rgb(36,36,36)",
                                                                              "ticks": "outside"
                                                                        },
                                                                        "colorscale": [
                                                                              [
                                                                                    0,
                                                                                    "#440154"
                                                                              ],
                                                                              [
                                                                                    0.1111111111111111,
                                                                                    "#482878"
                                                                              ],
                                                                              [
                                                                                    0.2222222222222222,
                                                                                    "#3e4989"
                                                                              ],
                                                                              [
                                                                                    0.3333333333333333,
                                                                                    "#31688e"
                                                                              ],
                                                                              [
                                                                                    0.4444444444444444,
                                                                                    "#26828e"
                                                                              ],
                                                                              [
                                                                                    0.5555555555555556,
                                                                                    "#1f9e89"
                                                                              ],
                                                                              [
                                                                                    0.6666666666666666,
                                                                                    "#35b779"
                                                                              ],
                                                                              [
                                                                                    0.7777777777777778,
                                                                                    "#6ece58"
                                                                              ],
                                                                              [
                                                                                    0.8888888888888888,
                                                                                    "#b5de2b"
                                                                              ],
                                                                              [
                                                                                    1,
                                                                                    "#fde725"
                                                                              ]
                                                                        ],
                                                                        "type": "histogram2d"
                                                                  }
                                                            ],
                                                            "histogram2dcontour": [
                                                                  {
                                                                        "colorbar": {
                                                                              "outlinewidth": 1,
                                                                              "tickcolor": "rgb(36,36,36)",
                                                                              "ticks": "outside"
                                                                        },
                                                                        "colorscale": [
                                                                              [
                                                                                    0,
                                                                                    "#440154"
                                                                              ],
                                                                              [
                                                                                    0.1111111111111111,
                                                                                    "#482878"
                                                                              ],
                                                                              [
                                                                                    0.2222222222222222,
                                                                                    "#3e4989"
                                                                              ],
                                                                              [
                                                                                    0.3333333333333333,
                                                                                    "#31688e"
                                                                              ],
                                                                              [
                                                                                    0.4444444444444444,
                                                                                    "#26828e"
                                                                              ],
                                                                              [
                                                                                    0.5555555555555556,
                                                                                    "#1f9e89"
                                                                              ],
                                                                              [
                                                                                    0.6666666666666666,
                                                                                    "#35b779"
                                                                              ],
                                                                              [
                                                                                    0.7777777777777778,
                                                                                    "#6ece58"
                                                                              ],
                                                                              [
                                                                                    0.8888888888888888,
                                                                                    "#b5de2b"
                                                                              ],
                                                                              [
                                                                                    1,
                                                                                    "#fde725"
                                                                              ]
                                                                        ],
                                                                        "type": "histogram2dcontour"
                                                                  }
                                                            ],
                                                            "mesh3d": [
                                                                  {
                                                                        "colorbar": {
                                                                              "outlinewidth": 1,
                                                                              "tickcolor": "rgb(36,36,36)",
                                                                              "ticks": "outside"
                                                                        },
                                                                        "type": "mesh3d"
                                                                  }
                                                            ],
                                                            "parcoords": [
                                                                  {
                                                                        "line": {
                                                                              "colorbar": {
                                                                                    "outlinewidth": 1,
                                                                                    "tickcolor": "rgb(36,36,36)",
                                                                                    "ticks": "outside"
                                                                              }
                                                                        },
                                                                        "type": "parcoords"
                                                                  }
                                                            ],
                                                            "pie": [
                                                                  {
                                                                        "automargin": true,
                                                                        "type": "pie"
                                                                  }
                                                            ],
                                                            "scatter": [
                                                                  {
                                                                        "fillpattern": {
                                                                              "fillmode": "overlay",
                                                                              "size": 10,
                                                                              "solidity": 0.2
                                                                        },
                                                                        "type": "scatter"
                                                                  }
                                                            ],
                                                            "scatter3d": [
                                                                  {
                                                                        "line": {
                                                                              "colorbar": {
                                                                                    "outlinewidth": 1,
                                                                                    "tickcolor": "rgb(36,36,36)",
                                                                                    "ticks": "outside"
                                                                              }
                                                                        },
                                                                        "marker": {
                                                                              "colorbar": {
                                                                                    "outlinewidth": 1,
                                                                                    "tickcolor": "rgb(36,36,36)",
                                                                                    "ticks": "outside"
                                                                              }
                                                                        },
                                                                        "type": "scatter3d"
                                                                  }
                                                            ],
                                                            "scattercarpet": [
                                                                  {
                                                                        "marker": {
                                                                              "colorbar": {
                                                                                    "outlinewidth": 1,
                                                                                    "tickcolor": "rgb(36,36,36)",
                                                                                    "ticks": "outside"
                                                                              }
                                                                        },
                                                                        "type": "scattercarpet"
                                                                  }
                                                            ],
                                                            "scattergeo": [
                                                                  {
                                                                        "marker": {
                                                                              "colorbar": {
                                                                                    "outlinewidth": 1,
                                                                                    "tickcolor": "rgb(36,36,36)",
                                                                                    "ticks": "outside"
                                                                              }
                                                                        },
                                                                        "type": "scattergeo"
                                                                  }
                                                            ],
                                                            "scattergl": [
                                                                  {
                                                                        "marker": {
                                                                              "colorbar": {
                                                                                    "outlinewidth": 1,
                                                                                    "tickcolor": "rgb(36,36,36)",
                                                                                    "ticks": "outside"
                                                                              }
                                                                        },
                                                                        "type": "scattergl"
                                                                  }
                                                            ],
                                                            "scattermapbox": [
                                                                  {
                                                                        "marker": {
                                                                              "colorbar": {
                                                                                    "outlinewidth": 1,
                                                                                    "tickcolor": "rgb(36,36,36)",
                                                                                    "ticks": "outside"
                                                                              }
                                                                        },
                                                                        "type": "scattermapbox"
                                                                  }
                                                            ],
                                                            "scatterpolar": [
                                                                  {
                                                                        "marker": {
                                                                              "colorbar": {
                                                                                    "outlinewidth": 1,
                                                                                    "tickcolor": "rgb(36,36,36)",
                                                                                    "ticks": "outside"
                                                                              }
                                                                        },
                                                                        "type": "scatterpolar"
                                                                  }
                                                            ],
                                                            "scatterpolargl": [
                                                                  {
                                                                        "marker": {
                                                                              "colorbar": {
                                                                                    "outlinewidth": 1,
                                                                                    "tickcolor": "rgb(36,36,36)",
                                                                                    "ticks": "outside"
                                                                              }
                                                                        },
                                                                        "type": "scatterpolargl"
                                                                  }
                                                            ],
                                                            "scatterternary": [
                                                                  {
                                                                        "marker": {
                                                                              "colorbar": {
                                                                                    "outlinewidth": 1,
                                                                                    "tickcolor": "rgb(36,36,36)",
                                                                                    "ticks": "outside"
                                                                              }
                                                                        },
                                                                        "type": "scatterternary"
                                                                  }
                                                            ],
                                                            "surface": [
                                                                  {
                                                                        "colorbar": {
                                                                              "outlinewidth": 1,
                                                                              "tickcolor": "rgb(36,36,36)",
                                                                              "ticks": "outside"
                                                                        },
                                                                        "colorscale": [
                                                                              [
                                                                                    0,
                                                                                    "#440154"
                                                                              ],
                                                                              [
                                                                                    0.1111111111111111,
                                                                                    "#482878"
                                                                              ],
                                                                              [
                                                                                    0.2222222222222222,
                                                                                    "#3e4989"
                                                                              ],
                                                                              [
                                                                                    0.3333333333333333,
                                                                                    "#31688e"
                                                                              ],
                                                                              [
                                                                                    0.4444444444444444,
                                                                                    "#26828e"
                                                                              ],
                                                                              [
                                                                                    0.5555555555555556,
                                                                                    "#1f9e89"
                                                                              ],
                                                                              [
                                                                                    0.6666666666666666,
                                                                                    "#35b779"
                                                                              ],
                                                                              [
                                                                                    0.7777777777777778,
                                                                                    "#6ece58"
                                                                              ],
                                                                              [
                                                                                    0.8888888888888888,
                                                                                    "#b5de2b"
                                                                              ],
                                                                              [
                                                                                    1,
                                                                                    "#fde725"
                                                                              ]
                                                                        ],
                                                                        "type": "surface"
                                                                  }
                                                            ],
                                                            "table": [
                                                                  {
                                                                        "cells": {
                                                                              "fill": {
                                                                                    "color": "rgb(237,237,237)"
                                                                              },
                                                                              "line": {
                                                                                    "color": "white"
                                                                              }
                                                                        },
                                                                        "header": {
                                                                              "fill": {
                                                                                    "color": "rgb(217,217,217)"
                                                                              },
                                                                              "line": {
                                                                                    "color": "white"
                                                                              }
                                                                        },
                                                                        "type": "table"
                                                                  }
                                                            ]
                                                      },
                                                      "layout": {
                                                            "annotationdefaults": {
                                                                  "arrowhead": 0,
                                                                  "arrowwidth": 1
                                                            },
                                                            "autotypenumbers": "strict",
                                                            "coloraxis": {
                                                                  "colorbar": {
                                                                        "outlinewidth": 1,
                                                                        "tickcolor": "rgb(36,36,36)",
                                                                        "ticks": "outside"
                                                                  }
                                                            },
                                                            "colorscale": {
                                                                  "diverging": [
                                                                        [
                                                                              0,
                                                                              "rgb(103,0,31)"
                                                                        ],
                                                                        [
                                                                              0.1,
                                                                              "rgb(178,24,43)"
                                                                        ],
                                                                        [
                                                                              0.2,
                                                                              "rgb(214,96,77)"
                                                                        ],
                                                                        [
                                                                              0.3,
                                                                              "rgb(244,165,130)"
                                                                        ],
                                                                        [
                                                                              0.4,
                                                                              "rgb(253,219,199)"
                                                                        ],
                                                                        [
                                                                              0.5,
                                                                              "rgb(247,247,247)"
                                                                        ],
                                                                        [
                                                                              0.6,
                                                                              "rgb(209,229,240)"
                                                                        ],
                                                                        [
                                                                              0.7,
                                                                              "rgb(146,197,222)"
                                                                        ],
                                                                        [
                                                                              0.8,
                                                                              "rgb(67,147,195)"
                                                                        ],
                                                                        [
                                                                              0.9,
                                                                              "rgb(33,102,172)"
                                                                        ],
                                                                        [
                                                                              1,
                                                                              "rgb(5,48,97)"
                                                                        ]
                                                                  ],
                                                                  "sequential": [
                                                                        [
                                                                              0,
                                                                              "#440154"
                                                                        ],
                                                                        [
                                                                              0.1111111111111111,
                                                                              "#482878"
                                                                        ],
                                                                        [
                                                                              0.2222222222222222,
                                                                              "#3e4989"
                                                                        ],
                                                                        [
                                                                              0.3333333333333333,
                                                                              "#31688e"
                                                                        ],
                                                                        [
                                                                              0.4444444444444444,
                                                                              "#26828e"
                                                                        ],
                                                                        [
                                                                              0.5555555555555556,
                                                                              "#1f9e89"
                                                                        ],
                                                                        [
                                                                              0.6666666666666666,
                                                                              "#35b779"
                                                                        ],
                                                                        [
                                                                              0.7777777777777778,
                                                                              "#6ece58"
                                                                        ],
                                                                        [
                                                                              0.8888888888888888,
                                                                              "#b5de2b"
                                                                        ],
                                                                        [
                                                                              1,
                                                                              "#fde725"
                                                                        ]
                                                                  ],
                                                                  "sequentialminus": [
                                                                        [
                                                                              0,
                                                                              "#440154"
                                                                        ],
                                                                        [
                                                                              0.1111111111111111,
                                                                              "#482878"
                                                                        ],
                                                                        [
                                                                              0.2222222222222222,
                                                                              "#3e4989"
                                                                        ],
                                                                        [
                                                                              0.3333333333333333,
                                                                              "#31688e"
                                                                        ],
                                                                        [
                                                                              0.4444444444444444,
                                                                              "#26828e"
                                                                        ],
                                                                        [
                                                                              0.5555555555555556,
                                                                              "#1f9e89"
                                                                        ],
                                                                        [
                                                                              0.6666666666666666,
                                                                              "#35b779"
                                                                        ],
                                                                        [
                                                                              0.7777777777777778,
                                                                              "#6ece58"
                                                                        ],
                                                                        [
                                                                              0.8888888888888888,
                                                                              "#b5de2b"
                                                                        ],
                                                                        [
                                                                              1,
                                                                              "#fde725"
                                                                        ]
                                                                  ]
                                                            },
                                                            "colorway": [
                                                                  "#1F77B4",
                                                                  "#FF7F0E",
                                                                  "#2CA02C",
                                                                  "#D62728",
                                                                  "#9467BD",
                                                                  "#8C564B",
                                                                  "#E377C2",
                                                                  "#7F7F7F",
                                                                  "#BCBD22",
                                                                  "#17BECF"
                                                            ],
                                                            "font": {
                                                                  "color": "rgb(36,36,36)"
                                                            },
                                                            "geo": {
                                                                  "bgcolor": "white",
                                                                  "lakecolor": "white",
                                                                  "landcolor": "white",
                                                                  "showlakes": true,
                                                                  "showland": true,
                                                                  "subunitcolor": "white"
                                                            },
                                                            "hoverlabel": {
                                                                  "align": "left"
                                                            },
                                                            "hovermode": "closest",
                                                            "mapbox": {
                                                                  "style": "light"
                                                            },
                                                            "paper_bgcolor": "white",
                                                            "plot_bgcolor": "white",
                                                            "polar": {
                                                                  "angularaxis": {
                                                                        "gridcolor": "rgb(232,232,232)",
                                                                        "linecolor": "rgb(36,36,36)",
                                                                        "showgrid": false,
                                                                        "showline": true,
                                                                        "ticks": "outside"
                                                                  },
                                                                  "bgcolor": "white",
                                                                  "radialaxis": {
                                                                        "gridcolor": "rgb(232,232,232)",
                                                                        "linecolor": "rgb(36,36,36)",
                                                                        "showgrid": false,
                                                                        "showline": true,
                                                                        "ticks": "outside"
                                                                  }
                                                            },
                                                            "scene": {
                                                                  "xaxis": {
                                                                        "backgroundcolor": "white",
                                                                        "gridcolor": "rgb(232,232,232)",
                                                                        "gridwidth": 2,
                                                                        "linecolor": "rgb(36,36,36)",
                                                                        "showbackground": true,
                                                                        "showgrid": false,
                                                                        "showline": true,
                                                                        "ticks": "outside",
                                                                        "zeroline": false,
                                                                        "zerolinecolor": "rgb(36,36,36)"
                                                                  },
                                                                  "yaxis": {
                                                                        "backgroundcolor": "white",
                                                                        "gridcolor": "rgb(232,232,232)",
                                                                        "gridwidth": 2,
                                                                        "linecolor": "rgb(36,36,36)",
                                                                        "showbackground": true,
                                                                        "showgrid": false,
                                                                        "showline": true,
                                                                        "ticks": "outside",
                                                                        "zeroline": false,
                                                                        "zerolinecolor": "rgb(36,36,36)"
                                                                  },
                                                                  "zaxis": {
                                                                        "backgroundcolor": "white",
                                                                        "gridcolor": "rgb(232,232,232)",
                                                                        "gridwidth": 2,
                                                                        "linecolor": "rgb(36,36,36)",
                                                                        "showbackground": true,
                                                                        "showgrid": false,
                                                                        "showline": true,
                                                                        "ticks": "outside",
                                                                        "zeroline": false,
                                                                        "zerolinecolor": "rgb(36,36,36)"
                                                                  }
                                                            },
                                                            "shapedefaults": {
                                                                  "fillcolor": "black",
                                                                  "line": {
                                                                        "width": 0
                                                                  },
                                                                  "opacity": 0.3
                                                            },
                                                            "ternary": {
                                                                  "aaxis": {
                                                                        "gridcolor": "rgb(232,232,232)",
                                                                        "linecolor": "rgb(36,36,36)",
                                                                        "showgrid": false,
                                                                        "showline": true,
                                                                        "ticks": "outside"
                                                                  },
                                                                  "baxis": {
                                                                        "gridcolor": "rgb(232,232,232)",
                                                                        "linecolor": "rgb(36,36,36)",
                                                                        "showgrid": false,
                                                                        "showline": true,
                                                                        "ticks": "outside"
                                                                  },
                                                                  "bgcolor": "white",
                                                                  "caxis": {
                                                                        "gridcolor": "rgb(232,232,232)",
                                                                        "linecolor": "rgb(36,36,36)",
                                                                        "showgrid": false,
                                                                        "showline": true,
                                                                        "ticks": "outside"
                                                                  }
                                                            },
                                                            "title": {
                                                                  "x": 0.05
                                                            },
                                                            "xaxis": {
                                                                  "automargin": true,
                                                                  "gridcolor": "rgb(232,232,232)",
                                                                  "linecolor": "rgb(36,36,36)",
                                                                  "showgrid": false,
                                                                  "showline": true,
                                                                  "ticks": "outside",
                                                                  "title": {
                                                                        "standoff": 15
                                                                  },
                                                                  "zeroline": false,
                                                                  "zerolinecolor": "rgb(36,36,36)"
                                                            },
                                                            "yaxis": {
                                                                  "automargin": true,
                                                                  "gridcolor": "rgb(232,232,232)",
                                                                  "linecolor": "rgb(36,36,36)",
                                                                  "showgrid": false,
                                                                  "showline": true,
                                                                  "ticks": "outside",
                                                                  "title": {
                                                                        "standoff": 15
                                                                  },
                                                                  "zeroline": false,
                                                                  "zerolinecolor": "rgb(36,36,36)"
                                                            }
                                                      }
                                                },
                                                "title": {
                                                      "font": {
                                                            "color": "Black",
                                                            "size": 22
                                                      },
                                                      "text": "<b>Intertopic Distance Map</b>",
                                                      "x": 0.5,
                                                      "xanchor": "center",
                                                      "y": 0.95,
                                                      "yanchor": "top"
                                                },
                                                "width": 650,
                                                "xaxis": {
                                                      "anchor": "y",
                                                      "domain": [
                                                            0,
                                                            1
                                                      ],
                                                      "range": [
                                                            -22.13011465072632,
                                                            -7.13794960975647
                                                      ],
                                                      "title": {
                                                            "text": ""
                                                      },
                                                      "visible": false
                                                },
                                                "yaxis": {
                                                      "anchor": "x",
                                                      "domain": [
                                                            0,
                                                            1
                                                      ],
                                                      "range": [
                                                            10.786956024169921,
                                                            26.76742525100708
                                                      ],
                                                      "title": {
                                                            "text": ""
                                                      },
                                                      "visible": false
                                                }
                                          }
                                    }
                              },
                              "metadata": {},
                              "output_type": "display_data"
                        }
                  ],
                  "source": [
                        "topic_model.visualize_topics()"
                  ]
            },
            {
                  "cell_type": "code",
                  "execution_count": 37,
                  "metadata": {},
                  "outputs": [
                        {
                              "data": {
                                    "application/vnd.plotly.v1+json": {
                                          "config": {
                                                "plotlyServerURL": "https://plot.ly"
                                          },
                                          "data": [
                                                {
                                                      "coloraxis": "coloraxis",
                                                      "hovertemplate": "x: %{x}<br>y: %{y}<br>Similarity Score: %{z}<extra></extra>",
                                                      "name": "0",
                                                      "type": "heatmap",
                                                      "x": [
                                                            "0_galaxies_mass_data",
                                                            "1_quantum_graphene_optical",
                                                            "2_climate_global_ocean",
                                                            "3_theory_models_model"
                                                      ],
                                                      "xaxis": "x",
                                                      "y": [
                                                            "0_galaxies_mass_data",
                                                            "1_quantum_graphene_optical",
                                                            "2_climate_global_ocean",
                                                            "3_theory_models_model"
                                                      ],
                                                      "yaxis": "y",
                                                      "z": [
                                                            [
                                                                  1,
                                                                  0.24127702414989471,
                                                                  0.4736928343772888,
                                                                  0.6139580607414246
                                                            ],
                                                            [
                                                                  0.24127702414989471,
                                                                  0.9999997615814209,
                                                                  0.0693865492939949,
                                                                  0.2957193851470947
                                                            ],
                                                            [
                                                                  0.4736928343772888,
                                                                  0.0693865492939949,
                                                                  1,
                                                                  0.23849627375602722
                                                            ],
                                                            [
                                                                  0.6139580607414246,
                                                                  0.2957193851470947,
                                                                  0.23849627375602722,
                                                                  1.000000238418579
                                                            ]
                                                      ]
                                                }
                                          ],
                                          "layout": {
                                                "coloraxis": {
                                                      "colorbar": {
                                                            "title": {
                                                                  "text": "Similarity Score"
                                                            }
                                                      },
                                                      "colorscale": [
                                                            [
                                                                  0,
                                                                  "rgb(247,252,240)"
                                                            ],
                                                            [
                                                                  0.125,
                                                                  "rgb(224,243,219)"
                                                            ],
                                                            [
                                                                  0.25,
                                                                  "rgb(204,235,197)"
                                                            ],
                                                            [
                                                                  0.375,
                                                                  "rgb(168,221,181)"
                                                            ],
                                                            [
                                                                  0.5,
                                                                  "rgb(123,204,196)"
                                                            ],
                                                            [
                                                                  0.625,
                                                                  "rgb(78,179,211)"
                                                            ],
                                                            [
                                                                  0.75,
                                                                  "rgb(43,140,190)"
                                                            ],
                                                            [
                                                                  0.875,
                                                                  "rgb(8,104,172)"
                                                            ],
                                                            [
                                                                  1,
                                                                  "rgb(8,64,129)"
                                                            ]
                                                      ]
                                                },
                                                "height": 800,
                                                "hoverlabel": {
                                                      "bgcolor": "white",
                                                      "font": {
                                                            "family": "Rockwell",
                                                            "size": 16
                                                      }
                                                },
                                                "legend": {
                                                      "title": {
                                                            "text": "Trend"
                                                      }
                                                },
                                                "margin": {
                                                      "t": 60
                                                },
                                                "showlegend": true,
                                                "template": {
                                                      "data": {
                                                            "bar": [
                                                                  {
                                                                        "error_x": {
                                                                              "color": "#2a3f5f"
                                                                        },
                                                                        "error_y": {
                                                                              "color": "#2a3f5f"
                                                                        },
                                                                        "marker": {
                                                                              "line": {
                                                                                    "color": "#E5ECF6",
                                                                                    "width": 0.5
                                                                              },
                                                                              "pattern": {
                                                                                    "fillmode": "overlay",
                                                                                    "size": 10,
                                                                                    "solidity": 0.2
                                                                              }
                                                                        },
                                                                        "type": "bar"
                                                                  }
                                                            ],
                                                            "barpolar": [
                                                                  {
                                                                        "marker": {
                                                                              "line": {
                                                                                    "color": "#E5ECF6",
                                                                                    "width": 0.5
                                                                              },
                                                                              "pattern": {
                                                                                    "fillmode": "overlay",
                                                                                    "size": 10,
                                                                                    "solidity": 0.2
                                                                              }
                                                                        },
                                                                        "type": "barpolar"
                                                                  }
                                                            ],
                                                            "carpet": [
                                                                  {
                                                                        "aaxis": {
                                                                              "endlinecolor": "#2a3f5f",
                                                                              "gridcolor": "white",
                                                                              "linecolor": "white",
                                                                              "minorgridcolor": "white",
                                                                              "startlinecolor": "#2a3f5f"
                                                                        },
                                                                        "baxis": {
                                                                              "endlinecolor": "#2a3f5f",
                                                                              "gridcolor": "white",
                                                                              "linecolor": "white",
                                                                              "minorgridcolor": "white",
                                                                              "startlinecolor": "#2a3f5f"
                                                                        },
                                                                        "type": "carpet"
                                                                  }
                                                            ],
                                                            "choropleth": [
                                                                  {
                                                                        "colorbar": {
                                                                              "outlinewidth": 0,
                                                                              "ticks": ""
                                                                        },
                                                                        "type": "choropleth"
                                                                  }
                                                            ],
                                                            "contour": [
                                                                  {
                                                                        "colorbar": {
                                                                              "outlinewidth": 0,
                                                                              "ticks": ""
                                                                        },
                                                                        "colorscale": [
                                                                              [
                                                                                    0,
                                                                                    "#0d0887"
                                                                              ],
                                                                              [
                                                                                    0.1111111111111111,
                                                                                    "#46039f"
                                                                              ],
                                                                              [
                                                                                    0.2222222222222222,
                                                                                    "#7201a8"
                                                                              ],
                                                                              [
                                                                                    0.3333333333333333,
                                                                                    "#9c179e"
                                                                              ],
                                                                              [
                                                                                    0.4444444444444444,
                                                                                    "#bd3786"
                                                                              ],
                                                                              [
                                                                                    0.5555555555555556,
                                                                                    "#d8576b"
                                                                              ],
                                                                              [
                                                                                    0.6666666666666666,
                                                                                    "#ed7953"
                                                                              ],
                                                                              [
                                                                                    0.7777777777777778,
                                                                                    "#fb9f3a"
                                                                              ],
                                                                              [
                                                                                    0.8888888888888888,
                                                                                    "#fdca26"
                                                                              ],
                                                                              [
                                                                                    1,
                                                                                    "#f0f921"
                                                                              ]
                                                                        ],
                                                                        "type": "contour"
                                                                  }
                                                            ],
                                                            "contourcarpet": [
                                                                  {
                                                                        "colorbar": {
                                                                              "outlinewidth": 0,
                                                                              "ticks": ""
                                                                        },
                                                                        "type": "contourcarpet"
                                                                  }
                                                            ],
                                                            "heatmap": [
                                                                  {
                                                                        "colorbar": {
                                                                              "outlinewidth": 0,
                                                                              "ticks": ""
                                                                        },
                                                                        "colorscale": [
                                                                              [
                                                                                    0,
                                                                                    "#0d0887"
                                                                              ],
                                                                              [
                                                                                    0.1111111111111111,
                                                                                    "#46039f"
                                                                              ],
                                                                              [
                                                                                    0.2222222222222222,
                                                                                    "#7201a8"
                                                                              ],
                                                                              [
                                                                                    0.3333333333333333,
                                                                                    "#9c179e"
                                                                              ],
                                                                              [
                                                                                    0.4444444444444444,
                                                                                    "#bd3786"
                                                                              ],
                                                                              [
                                                                                    0.5555555555555556,
                                                                                    "#d8576b"
                                                                              ],
                                                                              [
                                                                                    0.6666666666666666,
                                                                                    "#ed7953"
                                                                              ],
                                                                              [
                                                                                    0.7777777777777778,
                                                                                    "#fb9f3a"
                                                                              ],
                                                                              [
                                                                                    0.8888888888888888,
                                                                                    "#fdca26"
                                                                              ],
                                                                              [
                                                                                    1,
                                                                                    "#f0f921"
                                                                              ]
                                                                        ],
                                                                        "type": "heatmap"
                                                                  }
                                                            ],
                                                            "heatmapgl": [
                                                                  {
                                                                        "colorbar": {
                                                                              "outlinewidth": 0,
                                                                              "ticks": ""
                                                                        },
                                                                        "colorscale": [
                                                                              [
                                                                                    0,
                                                                                    "#0d0887"
                                                                              ],
                                                                              [
                                                                                    0.1111111111111111,
                                                                                    "#46039f"
                                                                              ],
                                                                              [
                                                                                    0.2222222222222222,
                                                                                    "#7201a8"
                                                                              ],
                                                                              [
                                                                                    0.3333333333333333,
                                                                                    "#9c179e"
                                                                              ],
                                                                              [
                                                                                    0.4444444444444444,
                                                                                    "#bd3786"
                                                                              ],
                                                                              [
                                                                                    0.5555555555555556,
                                                                                    "#d8576b"
                                                                              ],
                                                                              [
                                                                                    0.6666666666666666,
                                                                                    "#ed7953"
                                                                              ],
                                                                              [
                                                                                    0.7777777777777778,
                                                                                    "#fb9f3a"
                                                                              ],
                                                                              [
                                                                                    0.8888888888888888,
                                                                                    "#fdca26"
                                                                              ],
                                                                              [
                                                                                    1,
                                                                                    "#f0f921"
                                                                              ]
                                                                        ],
                                                                        "type": "heatmapgl"
                                                                  }
                                                            ],
                                                            "histogram": [
                                                                  {
                                                                        "marker": {
                                                                              "pattern": {
                                                                                    "fillmode": "overlay",
                                                                                    "size": 10,
                                                                                    "solidity": 0.2
                                                                              }
                                                                        },
                                                                        "type": "histogram"
                                                                  }
                                                            ],
                                                            "histogram2d": [
                                                                  {
                                                                        "colorbar": {
                                                                              "outlinewidth": 0,
                                                                              "ticks": ""
                                                                        },
                                                                        "colorscale": [
                                                                              [
                                                                                    0,
                                                                                    "#0d0887"
                                                                              ],
                                                                              [
                                                                                    0.1111111111111111,
                                                                                    "#46039f"
                                                                              ],
                                                                              [
                                                                                    0.2222222222222222,
                                                                                    "#7201a8"
                                                                              ],
                                                                              [
                                                                                    0.3333333333333333,
                                                                                    "#9c179e"
                                                                              ],
                                                                              [
                                                                                    0.4444444444444444,
                                                                                    "#bd3786"
                                                                              ],
                                                                              [
                                                                                    0.5555555555555556,
                                                                                    "#d8576b"
                                                                              ],
                                                                              [
                                                                                    0.6666666666666666,
                                                                                    "#ed7953"
                                                                              ],
                                                                              [
                                                                                    0.7777777777777778,
                                                                                    "#fb9f3a"
                                                                              ],
                                                                              [
                                                                                    0.8888888888888888,
                                                                                    "#fdca26"
                                                                              ],
                                                                              [
                                                                                    1,
                                                                                    "#f0f921"
                                                                              ]
                                                                        ],
                                                                        "type": "histogram2d"
                                                                  }
                                                            ],
                                                            "histogram2dcontour": [
                                                                  {
                                                                        "colorbar": {
                                                                              "outlinewidth": 0,
                                                                              "ticks": ""
                                                                        },
                                                                        "colorscale": [
                                                                              [
                                                                                    0,
                                                                                    "#0d0887"
                                                                              ],
                                                                              [
                                                                                    0.1111111111111111,
                                                                                    "#46039f"
                                                                              ],
                                                                              [
                                                                                    0.2222222222222222,
                                                                                    "#7201a8"
                                                                              ],
                                                                              [
                                                                                    0.3333333333333333,
                                                                                    "#9c179e"
                                                                              ],
                                                                              [
                                                                                    0.4444444444444444,
                                                                                    "#bd3786"
                                                                              ],
                                                                              [
                                                                                    0.5555555555555556,
                                                                                    "#d8576b"
                                                                              ],
                                                                              [
                                                                                    0.6666666666666666,
                                                                                    "#ed7953"
                                                                              ],
                                                                              [
                                                                                    0.7777777777777778,
                                                                                    "#fb9f3a"
                                                                              ],
                                                                              [
                                                                                    0.8888888888888888,
                                                                                    "#fdca26"
                                                                              ],
                                                                              [
                                                                                    1,
                                                                                    "#f0f921"
                                                                              ]
                                                                        ],
                                                                        "type": "histogram2dcontour"
                                                                  }
                                                            ],
                                                            "mesh3d": [
                                                                  {
                                                                        "colorbar": {
                                                                              "outlinewidth": 0,
                                                                              "ticks": ""
                                                                        },
                                                                        "type": "mesh3d"
                                                                  }
                                                            ],
                                                            "parcoords": [
                                                                  {
                                                                        "line": {
                                                                              "colorbar": {
                                                                                    "outlinewidth": 0,
                                                                                    "ticks": ""
                                                                              }
                                                                        },
                                                                        "type": "parcoords"
                                                                  }
                                                            ],
                                                            "pie": [
                                                                  {
                                                                        "automargin": true,
                                                                        "type": "pie"
                                                                  }
                                                            ],
                                                            "scatter": [
                                                                  {
                                                                        "fillpattern": {
                                                                              "fillmode": "overlay",
                                                                              "size": 10,
                                                                              "solidity": 0.2
                                                                        },
                                                                        "type": "scatter"
                                                                  }
                                                            ],
                                                            "scatter3d": [
                                                                  {
                                                                        "line": {
                                                                              "colorbar": {
                                                                                    "outlinewidth": 0,
                                                                                    "ticks": ""
                                                                              }
                                                                        },
                                                                        "marker": {
                                                                              "colorbar": {
                                                                                    "outlinewidth": 0,
                                                                                    "ticks": ""
                                                                              }
                                                                        },
                                                                        "type": "scatter3d"
                                                                  }
                                                            ],
                                                            "scattercarpet": [
                                                                  {
                                                                        "marker": {
                                                                              "colorbar": {
                                                                                    "outlinewidth": 0,
                                                                                    "ticks": ""
                                                                              }
                                                                        },
                                                                        "type": "scattercarpet"
                                                                  }
                                                            ],
                                                            "scattergeo": [
                                                                  {
                                                                        "marker": {
                                                                              "colorbar": {
                                                                                    "outlinewidth": 0,
                                                                                    "ticks": ""
                                                                              }
                                                                        },
                                                                        "type": "scattergeo"
                                                                  }
                                                            ],
                                                            "scattergl": [
                                                                  {
                                                                        "marker": {
                                                                              "colorbar": {
                                                                                    "outlinewidth": 0,
                                                                                    "ticks": ""
                                                                              }
                                                                        },
                                                                        "type": "scattergl"
                                                                  }
                                                            ],
                                                            "scattermapbox": [
                                                                  {
                                                                        "marker": {
                                                                              "colorbar": {
                                                                                    "outlinewidth": 0,
                                                                                    "ticks": ""
                                                                              }
                                                                        },
                                                                        "type": "scattermapbox"
                                                                  }
                                                            ],
                                                            "scatterpolar": [
                                                                  {
                                                                        "marker": {
                                                                              "colorbar": {
                                                                                    "outlinewidth": 0,
                                                                                    "ticks": ""
                                                                              }
                                                                        },
                                                                        "type": "scatterpolar"
                                                                  }
                                                            ],
                                                            "scatterpolargl": [
                                                                  {
                                                                        "marker": {
                                                                              "colorbar": {
                                                                                    "outlinewidth": 0,
                                                                                    "ticks": ""
                                                                              }
                                                                        },
                                                                        "type": "scatterpolargl"
                                                                  }
                                                            ],
                                                            "scatterternary": [
                                                                  {
                                                                        "marker": {
                                                                              "colorbar": {
                                                                                    "outlinewidth": 0,
                                                                                    "ticks": ""
                                                                              }
                                                                        },
                                                                        "type": "scatterternary"
                                                                  }
                                                            ],
                                                            "surface": [
                                                                  {
                                                                        "colorbar": {
                                                                              "outlinewidth": 0,
                                                                              "ticks": ""
                                                                        },
                                                                        "colorscale": [
                                                                              [
                                                                                    0,
                                                                                    "#0d0887"
                                                                              ],
                                                                              [
                                                                                    0.1111111111111111,
                                                                                    "#46039f"
                                                                              ],
                                                                              [
                                                                                    0.2222222222222222,
                                                                                    "#7201a8"
                                                                              ],
                                                                              [
                                                                                    0.3333333333333333,
                                                                                    "#9c179e"
                                                                              ],
                                                                              [
                                                                                    0.4444444444444444,
                                                                                    "#bd3786"
                                                                              ],
                                                                              [
                                                                                    0.5555555555555556,
                                                                                    "#d8576b"
                                                                              ],
                                                                              [
                                                                                    0.6666666666666666,
                                                                                    "#ed7953"
                                                                              ],
                                                                              [
                                                                                    0.7777777777777778,
                                                                                    "#fb9f3a"
                                                                              ],
                                                                              [
                                                                                    0.8888888888888888,
                                                                                    "#fdca26"
                                                                              ],
                                                                              [
                                                                                    1,
                                                                                    "#f0f921"
                                                                              ]
                                                                        ],
                                                                        "type": "surface"
                                                                  }
                                                            ],
                                                            "table": [
                                                                  {
                                                                        "cells": {
                                                                              "fill": {
                                                                                    "color": "#EBF0F8"
                                                                              },
                                                                              "line": {
                                                                                    "color": "white"
                                                                              }
                                                                        },
                                                                        "header": {
                                                                              "fill": {
                                                                                    "color": "#C8D4E3"
                                                                              },
                                                                              "line": {
                                                                                    "color": "white"
                                                                              }
                                                                        },
                                                                        "type": "table"
                                                                  }
                                                            ]
                                                      },
                                                      "layout": {
                                                            "annotationdefaults": {
                                                                  "arrowcolor": "#2a3f5f",
                                                                  "arrowhead": 0,
                                                                  "arrowwidth": 1
                                                            },
                                                            "autotypenumbers": "strict",
                                                            "coloraxis": {
                                                                  "colorbar": {
                                                                        "outlinewidth": 0,
                                                                        "ticks": ""
                                                                  }
                                                            },
                                                            "colorscale": {
                                                                  "diverging": [
                                                                        [
                                                                              0,
                                                                              "#8e0152"
                                                                        ],
                                                                        [
                                                                              0.1,
                                                                              "#c51b7d"
                                                                        ],
                                                                        [
                                                                              0.2,
                                                                              "#de77ae"
                                                                        ],
                                                                        [
                                                                              0.3,
                                                                              "#f1b6da"
                                                                        ],
                                                                        [
                                                                              0.4,
                                                                              "#fde0ef"
                                                                        ],
                                                                        [
                                                                              0.5,
                                                                              "#f7f7f7"
                                                                        ],
                                                                        [
                                                                              0.6,
                                                                              "#e6f5d0"
                                                                        ],
                                                                        [
                                                                              0.7,
                                                                              "#b8e186"
                                                                        ],
                                                                        [
                                                                              0.8,
                                                                              "#7fbc41"
                                                                        ],
                                                                        [
                                                                              0.9,
                                                                              "#4d9221"
                                                                        ],
                                                                        [
                                                                              1,
                                                                              "#276419"
                                                                        ]
                                                                  ],
                                                                  "sequential": [
                                                                        [
                                                                              0,
                                                                              "#0d0887"
                                                                        ],
                                                                        [
                                                                              0.1111111111111111,
                                                                              "#46039f"
                                                                        ],
                                                                        [
                                                                              0.2222222222222222,
                                                                              "#7201a8"
                                                                        ],
                                                                        [
                                                                              0.3333333333333333,
                                                                              "#9c179e"
                                                                        ],
                                                                        [
                                                                              0.4444444444444444,
                                                                              "#bd3786"
                                                                        ],
                                                                        [
                                                                              0.5555555555555556,
                                                                              "#d8576b"
                                                                        ],
                                                                        [
                                                                              0.6666666666666666,
                                                                              "#ed7953"
                                                                        ],
                                                                        [
                                                                              0.7777777777777778,
                                                                              "#fb9f3a"
                                                                        ],
                                                                        [
                                                                              0.8888888888888888,
                                                                              "#fdca26"
                                                                        ],
                                                                        [
                                                                              1,
                                                                              "#f0f921"
                                                                        ]
                                                                  ],
                                                                  "sequentialminus": [
                                                                        [
                                                                              0,
                                                                              "#0d0887"
                                                                        ],
                                                                        [
                                                                              0.1111111111111111,
                                                                              "#46039f"
                                                                        ],
                                                                        [
                                                                              0.2222222222222222,
                                                                              "#7201a8"
                                                                        ],
                                                                        [
                                                                              0.3333333333333333,
                                                                              "#9c179e"
                                                                        ],
                                                                        [
                                                                              0.4444444444444444,
                                                                              "#bd3786"
                                                                        ],
                                                                        [
                                                                              0.5555555555555556,
                                                                              "#d8576b"
                                                                        ],
                                                                        [
                                                                              0.6666666666666666,
                                                                              "#ed7953"
                                                                        ],
                                                                        [
                                                                              0.7777777777777778,
                                                                              "#fb9f3a"
                                                                        ],
                                                                        [
                                                                              0.8888888888888888,
                                                                              "#fdca26"
                                                                        ],
                                                                        [
                                                                              1,
                                                                              "#f0f921"
                                                                        ]
                                                                  ]
                                                            },
                                                            "colorway": [
                                                                  "#636efa",
                                                                  "#EF553B",
                                                                  "#00cc96",
                                                                  "#ab63fa",
                                                                  "#FFA15A",
                                                                  "#19d3f3",
                                                                  "#FF6692",
                                                                  "#B6E880",
                                                                  "#FF97FF",
                                                                  "#FECB52"
                                                            ],
                                                            "font": {
                                                                  "color": "#2a3f5f"
                                                            },
                                                            "geo": {
                                                                  "bgcolor": "white",
                                                                  "lakecolor": "white",
                                                                  "landcolor": "#E5ECF6",
                                                                  "showlakes": true,
                                                                  "showland": true,
                                                                  "subunitcolor": "white"
                                                            },
                                                            "hoverlabel": {
                                                                  "align": "left"
                                                            },
                                                            "hovermode": "closest",
                                                            "mapbox": {
                                                                  "style": "light"
                                                            },
                                                            "paper_bgcolor": "white",
                                                            "plot_bgcolor": "#E5ECF6",
                                                            "polar": {
                                                                  "angularaxis": {
                                                                        "gridcolor": "white",
                                                                        "linecolor": "white",
                                                                        "ticks": ""
                                                                  },
                                                                  "bgcolor": "#E5ECF6",
                                                                  "radialaxis": {
                                                                        "gridcolor": "white",
                                                                        "linecolor": "white",
                                                                        "ticks": ""
                                                                  }
                                                            },
                                                            "scene": {
                                                                  "xaxis": {
                                                                        "backgroundcolor": "#E5ECF6",
                                                                        "gridcolor": "white",
                                                                        "gridwidth": 2,
                                                                        "linecolor": "white",
                                                                        "showbackground": true,
                                                                        "ticks": "",
                                                                        "zerolinecolor": "white"
                                                                  },
                                                                  "yaxis": {
                                                                        "backgroundcolor": "#E5ECF6",
                                                                        "gridcolor": "white",
                                                                        "gridwidth": 2,
                                                                        "linecolor": "white",
                                                                        "showbackground": true,
                                                                        "ticks": "",
                                                                        "zerolinecolor": "white"
                                                                  },
                                                                  "zaxis": {
                                                                        "backgroundcolor": "#E5ECF6",
                                                                        "gridcolor": "white",
                                                                        "gridwidth": 2,
                                                                        "linecolor": "white",
                                                                        "showbackground": true,
                                                                        "ticks": "",
                                                                        "zerolinecolor": "white"
                                                                  }
                                                            },
                                                            "shapedefaults": {
                                                                  "line": {
                                                                        "color": "#2a3f5f"
                                                                  }
                                                            },
                                                            "ternary": {
                                                                  "aaxis": {
                                                                        "gridcolor": "white",
                                                                        "linecolor": "white",
                                                                        "ticks": ""
                                                                  },
                                                                  "baxis": {
                                                                        "gridcolor": "white",
                                                                        "linecolor": "white",
                                                                        "ticks": ""
                                                                  },
                                                                  "bgcolor": "#E5ECF6",
                                                                  "caxis": {
                                                                        "gridcolor": "white",
                                                                        "linecolor": "white",
                                                                        "ticks": ""
                                                                  }
                                                            },
                                                            "title": {
                                                                  "x": 0.05
                                                            },
                                                            "xaxis": {
                                                                  "automargin": true,
                                                                  "gridcolor": "white",
                                                                  "linecolor": "white",
                                                                  "ticks": "",
                                                                  "title": {
                                                                        "standoff": 15
                                                                  },
                                                                  "zerolinecolor": "white",
                                                                  "zerolinewidth": 2
                                                            },
                                                            "yaxis": {
                                                                  "automargin": true,
                                                                  "gridcolor": "white",
                                                                  "linecolor": "white",
                                                                  "ticks": "",
                                                                  "title": {
                                                                        "standoff": 15
                                                                  },
                                                                  "zerolinecolor": "white",
                                                                  "zerolinewidth": 2
                                                            }
                                                      }
                                                },
                                                "title": {
                                                      "font": {
                                                            "color": "Black",
                                                            "size": 22
                                                      },
                                                      "text": "<b>Similarity Matrix</b>",
                                                      "x": 0.55,
                                                      "xanchor": "center",
                                                      "y": 0.95,
                                                      "yanchor": "top"
                                                },
                                                "width": 800,
                                                "xaxis": {
                                                      "anchor": "y",
                                                      "constrain": "domain",
                                                      "domain": [
                                                            0,
                                                            1
                                                      ],
                                                      "scaleanchor": "y"
                                                },
                                                "yaxis": {
                                                      "anchor": "x",
                                                      "autorange": "reversed",
                                                      "constrain": "domain",
                                                      "domain": [
                                                            0,
                                                            1
                                                      ]
                                                }
                                          }
                                    }
                              },
                              "metadata": {},
                              "output_type": "display_data"
                        }
                  ],
                  "source": [
                        "topic_model.visualize_heatmap()"
                  ]
            },
            {
                  "cell_type": "code",
                  "execution_count": 38,
                  "metadata": {},
                  "outputs": [
                        {
                              "data": {
                                    "application/vnd.plotly.v1+json": {
                                          "config": {
                                                "plotlyServerURL": "https://plot.ly"
                                          },
                                          "data": [
                                                {
                                                      "hoverinfo": "text",
                                                      "marker": {
                                                            "color": "rgb(61,153,112)"
                                                      },
                                                      "mode": "lines",
                                                      "type": "scatter",
                                                      "x": [
                                                            0,
                                                            0.6460930588826101,
                                                            0.6460930588826101,
                                                            0
                                                      ],
                                                      "xaxis": "x",
                                                      "y": [
                                                            -15,
                                                            -15,
                                                            -25,
                                                            -25
                                                      ],
                                                      "yaxis": "y"
                                                },
                                                {
                                                      "hoverinfo": "text",
                                                      "marker": {
                                                            "color": "rgb(61,153,112)"
                                                      },
                                                      "mode": "lines",
                                                      "type": "scatter",
                                                      "x": [
                                                            0.6460930588826101,
                                                            0.6905720854176128,
                                                            0.6905720854176128,
                                                            0
                                                      ],
                                                      "xaxis": "x",
                                                      "y": [
                                                            -20,
                                                            -20,
                                                            -35,
                                                            -35
                                                      ],
                                                      "yaxis": "y"
                                                },
                                                {
                                                      "hoverinfo": "text",
                                                      "marker": {
                                                            "color": "rgb(61,153,112)"
                                                      },
                                                      "mode": "lines",
                                                      "type": "scatter",
                                                      "x": [
                                                            0,
                                                            0.817104959167424,
                                                            0.817104959167424,
                                                            0.6905720854176128
                                                      ],
                                                      "xaxis": "x",
                                                      "y": [
                                                            -5,
                                                            -5,
                                                            -27.5,
                                                            -27.5
                                                      ],
                                                      "yaxis": "y"
                                                }
                                          ],
                                          "layout": {
                                                "autosize": false,
                                                "height": 260,
                                                "hoverlabel": {
                                                      "bgcolor": "white",
                                                      "font": {
                                                            "family": "Rockwell",
                                                            "size": 16
                                                      }
                                                },
                                                "hovermode": "closest",
                                                "plot_bgcolor": "#ECEFF1",
                                                "showlegend": false,
                                                "template": {
                                                      "data": {
                                                            "bar": [
                                                                  {
                                                                        "error_x": {
                                                                              "color": "#2a3f5f"
                                                                        },
                                                                        "error_y": {
                                                                              "color": "#2a3f5f"
                                                                        },
                                                                        "marker": {
                                                                              "line": {
                                                                                    "color": "white",
                                                                                    "width": 0.5
                                                                              },
                                                                              "pattern": {
                                                                                    "fillmode": "overlay",
                                                                                    "size": 10,
                                                                                    "solidity": 0.2
                                                                              }
                                                                        },
                                                                        "type": "bar"
                                                                  }
                                                            ],
                                                            "barpolar": [
                                                                  {
                                                                        "marker": {
                                                                              "line": {
                                                                                    "color": "white",
                                                                                    "width": 0.5
                                                                              },
                                                                              "pattern": {
                                                                                    "fillmode": "overlay",
                                                                                    "size": 10,
                                                                                    "solidity": 0.2
                                                                              }
                                                                        },
                                                                        "type": "barpolar"
                                                                  }
                                                            ],
                                                            "carpet": [
                                                                  {
                                                                        "aaxis": {
                                                                              "endlinecolor": "#2a3f5f",
                                                                              "gridcolor": "#C8D4E3",
                                                                              "linecolor": "#C8D4E3",
                                                                              "minorgridcolor": "#C8D4E3",
                                                                              "startlinecolor": "#2a3f5f"
                                                                        },
                                                                        "baxis": {
                                                                              "endlinecolor": "#2a3f5f",
                                                                              "gridcolor": "#C8D4E3",
                                                                              "linecolor": "#C8D4E3",
                                                                              "minorgridcolor": "#C8D4E3",
                                                                              "startlinecolor": "#2a3f5f"
                                                                        },
                                                                        "type": "carpet"
                                                                  }
                                                            ],
                                                            "choropleth": [
                                                                  {
                                                                        "colorbar": {
                                                                              "outlinewidth": 0,
                                                                              "ticks": ""
                                                                        },
                                                                        "type": "choropleth"
                                                                  }
                                                            ],
                                                            "contour": [
                                                                  {
                                                                        "colorbar": {
                                                                              "outlinewidth": 0,
                                                                              "ticks": ""
                                                                        },
                                                                        "colorscale": [
                                                                              [
                                                                                    0,
                                                                                    "#0d0887"
                                                                              ],
                                                                              [
                                                                                    0.1111111111111111,
                                                                                    "#46039f"
                                                                              ],
                                                                              [
                                                                                    0.2222222222222222,
                                                                                    "#7201a8"
                                                                              ],
                                                                              [
                                                                                    0.3333333333333333,
                                                                                    "#9c179e"
                                                                              ],
                                                                              [
                                                                                    0.4444444444444444,
                                                                                    "#bd3786"
                                                                              ],
                                                                              [
                                                                                    0.5555555555555556,
                                                                                    "#d8576b"
                                                                              ],
                                                                              [
                                                                                    0.6666666666666666,
                                                                                    "#ed7953"
                                                                              ],
                                                                              [
                                                                                    0.7777777777777778,
                                                                                    "#fb9f3a"
                                                                              ],
                                                                              [
                                                                                    0.8888888888888888,
                                                                                    "#fdca26"
                                                                              ],
                                                                              [
                                                                                    1,
                                                                                    "#f0f921"
                                                                              ]
                                                                        ],
                                                                        "type": "contour"
                                                                  }
                                                            ],
                                                            "contourcarpet": [
                                                                  {
                                                                        "colorbar": {
                                                                              "outlinewidth": 0,
                                                                              "ticks": ""
                                                                        },
                                                                        "type": "contourcarpet"
                                                                  }
                                                            ],
                                                            "heatmap": [
                                                                  {
                                                                        "colorbar": {
                                                                              "outlinewidth": 0,
                                                                              "ticks": ""
                                                                        },
                                                                        "colorscale": [
                                                                              [
                                                                                    0,
                                                                                    "#0d0887"
                                                                              ],
                                                                              [
                                                                                    0.1111111111111111,
                                                                                    "#46039f"
                                                                              ],
                                                                              [
                                                                                    0.2222222222222222,
                                                                                    "#7201a8"
                                                                              ],
                                                                              [
                                                                                    0.3333333333333333,
                                                                                    "#9c179e"
                                                                              ],
                                                                              [
                                                                                    0.4444444444444444,
                                                                                    "#bd3786"
                                                                              ],
                                                                              [
                                                                                    0.5555555555555556,
                                                                                    "#d8576b"
                                                                              ],
                                                                              [
                                                                                    0.6666666666666666,
                                                                                    "#ed7953"
                                                                              ],
                                                                              [
                                                                                    0.7777777777777778,
                                                                                    "#fb9f3a"
                                                                              ],
                                                                              [
                                                                                    0.8888888888888888,
                                                                                    "#fdca26"
                                                                              ],
                                                                              [
                                                                                    1,
                                                                                    "#f0f921"
                                                                              ]
                                                                        ],
                                                                        "type": "heatmap"
                                                                  }
                                                            ],
                                                            "heatmapgl": [
                                                                  {
                                                                        "colorbar": {
                                                                              "outlinewidth": 0,
                                                                              "ticks": ""
                                                                        },
                                                                        "colorscale": [
                                                                              [
                                                                                    0,
                                                                                    "#0d0887"
                                                                              ],
                                                                              [
                                                                                    0.1111111111111111,
                                                                                    "#46039f"
                                                                              ],
                                                                              [
                                                                                    0.2222222222222222,
                                                                                    "#7201a8"
                                                                              ],
                                                                              [
                                                                                    0.3333333333333333,
                                                                                    "#9c179e"
                                                                              ],
                                                                              [
                                                                                    0.4444444444444444,
                                                                                    "#bd3786"
                                                                              ],
                                                                              [
                                                                                    0.5555555555555556,
                                                                                    "#d8576b"
                                                                              ],
                                                                              [
                                                                                    0.6666666666666666,
                                                                                    "#ed7953"
                                                                              ],
                                                                              [
                                                                                    0.7777777777777778,
                                                                                    "#fb9f3a"
                                                                              ],
                                                                              [
                                                                                    0.8888888888888888,
                                                                                    "#fdca26"
                                                                              ],
                                                                              [
                                                                                    1,
                                                                                    "#f0f921"
                                                                              ]
                                                                        ],
                                                                        "type": "heatmapgl"
                                                                  }
                                                            ],
                                                            "histogram": [
                                                                  {
                                                                        "marker": {
                                                                              "pattern": {
                                                                                    "fillmode": "overlay",
                                                                                    "size": 10,
                                                                                    "solidity": 0.2
                                                                              }
                                                                        },
                                                                        "type": "histogram"
                                                                  }
                                                            ],
                                                            "histogram2d": [
                                                                  {
                                                                        "colorbar": {
                                                                              "outlinewidth": 0,
                                                                              "ticks": ""
                                                                        },
                                                                        "colorscale": [
                                                                              [
                                                                                    0,
                                                                                    "#0d0887"
                                                                              ],
                                                                              [
                                                                                    0.1111111111111111,
                                                                                    "#46039f"
                                                                              ],
                                                                              [
                                                                                    0.2222222222222222,
                                                                                    "#7201a8"
                                                                              ],
                                                                              [
                                                                                    0.3333333333333333,
                                                                                    "#9c179e"
                                                                              ],
                                                                              [
                                                                                    0.4444444444444444,
                                                                                    "#bd3786"
                                                                              ],
                                                                              [
                                                                                    0.5555555555555556,
                                                                                    "#d8576b"
                                                                              ],
                                                                              [
                                                                                    0.6666666666666666,
                                                                                    "#ed7953"
                                                                              ],
                                                                              [
                                                                                    0.7777777777777778,
                                                                                    "#fb9f3a"
                                                                              ],
                                                                              [
                                                                                    0.8888888888888888,
                                                                                    "#fdca26"
                                                                              ],
                                                                              [
                                                                                    1,
                                                                                    "#f0f921"
                                                                              ]
                                                                        ],
                                                                        "type": "histogram2d"
                                                                  }
                                                            ],
                                                            "histogram2dcontour": [
                                                                  {
                                                                        "colorbar": {
                                                                              "outlinewidth": 0,
                                                                              "ticks": ""
                                                                        },
                                                                        "colorscale": [
                                                                              [
                                                                                    0,
                                                                                    "#0d0887"
                                                                              ],
                                                                              [
                                                                                    0.1111111111111111,
                                                                                    "#46039f"
                                                                              ],
                                                                              [
                                                                                    0.2222222222222222,
                                                                                    "#7201a8"
                                                                              ],
                                                                              [
                                                                                    0.3333333333333333,
                                                                                    "#9c179e"
                                                                              ],
                                                                              [
                                                                                    0.4444444444444444,
                                                                                    "#bd3786"
                                                                              ],
                                                                              [
                                                                                    0.5555555555555556,
                                                                                    "#d8576b"
                                                                              ],
                                                                              [
                                                                                    0.6666666666666666,
                                                                                    "#ed7953"
                                                                              ],
                                                                              [
                                                                                    0.7777777777777778,
                                                                                    "#fb9f3a"
                                                                              ],
                                                                              [
                                                                                    0.8888888888888888,
                                                                                    "#fdca26"
                                                                              ],
                                                                              [
                                                                                    1,
                                                                                    "#f0f921"
                                                                              ]
                                                                        ],
                                                                        "type": "histogram2dcontour"
                                                                  }
                                                            ],
                                                            "mesh3d": [
                                                                  {
                                                                        "colorbar": {
                                                                              "outlinewidth": 0,
                                                                              "ticks": ""
                                                                        },
                                                                        "type": "mesh3d"
                                                                  }
                                                            ],
                                                            "parcoords": [
                                                                  {
                                                                        "line": {
                                                                              "colorbar": {
                                                                                    "outlinewidth": 0,
                                                                                    "ticks": ""
                                                                              }
                                                                        },
                                                                        "type": "parcoords"
                                                                  }
                                                            ],
                                                            "pie": [
                                                                  {
                                                                        "automargin": true,
                                                                        "type": "pie"
                                                                  }
                                                            ],
                                                            "scatter": [
                                                                  {
                                                                        "fillpattern": {
                                                                              "fillmode": "overlay",
                                                                              "size": 10,
                                                                              "solidity": 0.2
                                                                        },
                                                                        "type": "scatter"
                                                                  }
                                                            ],
                                                            "scatter3d": [
                                                                  {
                                                                        "line": {
                                                                              "colorbar": {
                                                                                    "outlinewidth": 0,
                                                                                    "ticks": ""
                                                                              }
                                                                        },
                                                                        "marker": {
                                                                              "colorbar": {
                                                                                    "outlinewidth": 0,
                                                                                    "ticks": ""
                                                                              }
                                                                        },
                                                                        "type": "scatter3d"
                                                                  }
                                                            ],
                                                            "scattercarpet": [
                                                                  {
                                                                        "marker": {
                                                                              "colorbar": {
                                                                                    "outlinewidth": 0,
                                                                                    "ticks": ""
                                                                              }
                                                                        },
                                                                        "type": "scattercarpet"
                                                                  }
                                                            ],
                                                            "scattergeo": [
                                                                  {
                                                                        "marker": {
                                                                              "colorbar": {
                                                                                    "outlinewidth": 0,
                                                                                    "ticks": ""
                                                                              }
                                                                        },
                                                                        "type": "scattergeo"
                                                                  }
                                                            ],
                                                            "scattergl": [
                                                                  {
                                                                        "marker": {
                                                                              "colorbar": {
                                                                                    "outlinewidth": 0,
                                                                                    "ticks": ""
                                                                              }
                                                                        },
                                                                        "type": "scattergl"
                                                                  }
                                                            ],
                                                            "scattermapbox": [
                                                                  {
                                                                        "marker": {
                                                                              "colorbar": {
                                                                                    "outlinewidth": 0,
                                                                                    "ticks": ""
                                                                              }
                                                                        },
                                                                        "type": "scattermapbox"
                                                                  }
                                                            ],
                                                            "scatterpolar": [
                                                                  {
                                                                        "marker": {
                                                                              "colorbar": {
                                                                                    "outlinewidth": 0,
                                                                                    "ticks": ""
                                                                              }
                                                                        },
                                                                        "type": "scatterpolar"
                                                                  }
                                                            ],
                                                            "scatterpolargl": [
                                                                  {
                                                                        "marker": {
                                                                              "colorbar": {
                                                                                    "outlinewidth": 0,
                                                                                    "ticks": ""
                                                                              }
                                                                        },
                                                                        "type": "scatterpolargl"
                                                                  }
                                                            ],
                                                            "scatterternary": [
                                                                  {
                                                                        "marker": {
                                                                              "colorbar": {
                                                                                    "outlinewidth": 0,
                                                                                    "ticks": ""
                                                                              }
                                                                        },
                                                                        "type": "scatterternary"
                                                                  }
                                                            ],
                                                            "surface": [
                                                                  {
                                                                        "colorbar": {
                                                                              "outlinewidth": 0,
                                                                              "ticks": ""
                                                                        },
                                                                        "colorscale": [
                                                                              [
                                                                                    0,
                                                                                    "#0d0887"
                                                                              ],
                                                                              [
                                                                                    0.1111111111111111,
                                                                                    "#46039f"
                                                                              ],
                                                                              [
                                                                                    0.2222222222222222,
                                                                                    "#7201a8"
                                                                              ],
                                                                              [
                                                                                    0.3333333333333333,
                                                                                    "#9c179e"
                                                                              ],
                                                                              [
                                                                                    0.4444444444444444,
                                                                                    "#bd3786"
                                                                              ],
                                                                              [
                                                                                    0.5555555555555556,
                                                                                    "#d8576b"
                                                                              ],
                                                                              [
                                                                                    0.6666666666666666,
                                                                                    "#ed7953"
                                                                              ],
                                                                              [
                                                                                    0.7777777777777778,
                                                                                    "#fb9f3a"
                                                                              ],
                                                                              [
                                                                                    0.8888888888888888,
                                                                                    "#fdca26"
                                                                              ],
                                                                              [
                                                                                    1,
                                                                                    "#f0f921"
                                                                              ]
                                                                        ],
                                                                        "type": "surface"
                                                                  }
                                                            ],
                                                            "table": [
                                                                  {
                                                                        "cells": {
                                                                              "fill": {
                                                                                    "color": "#EBF0F8"
                                                                              },
                                                                              "line": {
                                                                                    "color": "white"
                                                                              }
                                                                        },
                                                                        "header": {
                                                                              "fill": {
                                                                                    "color": "#C8D4E3"
                                                                              },
                                                                              "line": {
                                                                                    "color": "white"
                                                                              }
                                                                        },
                                                                        "type": "table"
                                                                  }
                                                            ]
                                                      },
                                                      "layout": {
                                                            "annotationdefaults": {
                                                                  "arrowcolor": "#2a3f5f",
                                                                  "arrowhead": 0,
                                                                  "arrowwidth": 1
                                                            },
                                                            "autotypenumbers": "strict",
                                                            "coloraxis": {
                                                                  "colorbar": {
                                                                        "outlinewidth": 0,
                                                                        "ticks": ""
                                                                  }
                                                            },
                                                            "colorscale": {
                                                                  "diverging": [
                                                                        [
                                                                              0,
                                                                              "#8e0152"
                                                                        ],
                                                                        [
                                                                              0.1,
                                                                              "#c51b7d"
                                                                        ],
                                                                        [
                                                                              0.2,
                                                                              "#de77ae"
                                                                        ],
                                                                        [
                                                                              0.3,
                                                                              "#f1b6da"
                                                                        ],
                                                                        [
                                                                              0.4,
                                                                              "#fde0ef"
                                                                        ],
                                                                        [
                                                                              0.5,
                                                                              "#f7f7f7"
                                                                        ],
                                                                        [
                                                                              0.6,
                                                                              "#e6f5d0"
                                                                        ],
                                                                        [
                                                                              0.7,
                                                                              "#b8e186"
                                                                        ],
                                                                        [
                                                                              0.8,
                                                                              "#7fbc41"
                                                                        ],
                                                                        [
                                                                              0.9,
                                                                              "#4d9221"
                                                                        ],
                                                                        [
                                                                              1,
                                                                              "#276419"
                                                                        ]
                                                                  ],
                                                                  "sequential": [
                                                                        [
                                                                              0,
                                                                              "#0d0887"
                                                                        ],
                                                                        [
                                                                              0.1111111111111111,
                                                                              "#46039f"
                                                                        ],
                                                                        [
                                                                              0.2222222222222222,
                                                                              "#7201a8"
                                                                        ],
                                                                        [
                                                                              0.3333333333333333,
                                                                              "#9c179e"
                                                                        ],
                                                                        [
                                                                              0.4444444444444444,
                                                                              "#bd3786"
                                                                        ],
                                                                        [
                                                                              0.5555555555555556,
                                                                              "#d8576b"
                                                                        ],
                                                                        [
                                                                              0.6666666666666666,
                                                                              "#ed7953"
                                                                        ],
                                                                        [
                                                                              0.7777777777777778,
                                                                              "#fb9f3a"
                                                                        ],
                                                                        [
                                                                              0.8888888888888888,
                                                                              "#fdca26"
                                                                        ],
                                                                        [
                                                                              1,
                                                                              "#f0f921"
                                                                        ]
                                                                  ],
                                                                  "sequentialminus": [
                                                                        [
                                                                              0,
                                                                              "#0d0887"
                                                                        ],
                                                                        [
                                                                              0.1111111111111111,
                                                                              "#46039f"
                                                                        ],
                                                                        [
                                                                              0.2222222222222222,
                                                                              "#7201a8"
                                                                        ],
                                                                        [
                                                                              0.3333333333333333,
                                                                              "#9c179e"
                                                                        ],
                                                                        [
                                                                              0.4444444444444444,
                                                                              "#bd3786"
                                                                        ],
                                                                        [
                                                                              0.5555555555555556,
                                                                              "#d8576b"
                                                                        ],
                                                                        [
                                                                              0.6666666666666666,
                                                                              "#ed7953"
                                                                        ],
                                                                        [
                                                                              0.7777777777777778,
                                                                              "#fb9f3a"
                                                                        ],
                                                                        [
                                                                              0.8888888888888888,
                                                                              "#fdca26"
                                                                        ],
                                                                        [
                                                                              1,
                                                                              "#f0f921"
                                                                        ]
                                                                  ]
                                                            },
                                                            "colorway": [
                                                                  "#636efa",
                                                                  "#EF553B",
                                                                  "#00cc96",
                                                                  "#ab63fa",
                                                                  "#FFA15A",
                                                                  "#19d3f3",
                                                                  "#FF6692",
                                                                  "#B6E880",
                                                                  "#FF97FF",
                                                                  "#FECB52"
                                                            ],
                                                            "font": {
                                                                  "color": "#2a3f5f"
                                                            },
                                                            "geo": {
                                                                  "bgcolor": "white",
                                                                  "lakecolor": "white",
                                                                  "landcolor": "white",
                                                                  "showlakes": true,
                                                                  "showland": true,
                                                                  "subunitcolor": "#C8D4E3"
                                                            },
                                                            "hoverlabel": {
                                                                  "align": "left"
                                                            },
                                                            "hovermode": "closest",
                                                            "mapbox": {
                                                                  "style": "light"
                                                            },
                                                            "paper_bgcolor": "white",
                                                            "plot_bgcolor": "white",
                                                            "polar": {
                                                                  "angularaxis": {
                                                                        "gridcolor": "#EBF0F8",
                                                                        "linecolor": "#EBF0F8",
                                                                        "ticks": ""
                                                                  },
                                                                  "bgcolor": "white",
                                                                  "radialaxis": {
                                                                        "gridcolor": "#EBF0F8",
                                                                        "linecolor": "#EBF0F8",
                                                                        "ticks": ""
                                                                  }
                                                            },
                                                            "scene": {
                                                                  "xaxis": {
                                                                        "backgroundcolor": "white",
                                                                        "gridcolor": "#DFE8F3",
                                                                        "gridwidth": 2,
                                                                        "linecolor": "#EBF0F8",
                                                                        "showbackground": true,
                                                                        "ticks": "",
                                                                        "zerolinecolor": "#EBF0F8"
                                                                  },
                                                                  "yaxis": {
                                                                        "backgroundcolor": "white",
                                                                        "gridcolor": "#DFE8F3",
                                                                        "gridwidth": 2,
                                                                        "linecolor": "#EBF0F8",
                                                                        "showbackground": true,
                                                                        "ticks": "",
                                                                        "zerolinecolor": "#EBF0F8"
                                                                  },
                                                                  "zaxis": {
                                                                        "backgroundcolor": "white",
                                                                        "gridcolor": "#DFE8F3",
                                                                        "gridwidth": 2,
                                                                        "linecolor": "#EBF0F8",
                                                                        "showbackground": true,
                                                                        "ticks": "",
                                                                        "zerolinecolor": "#EBF0F8"
                                                                  }
                                                            },
                                                            "shapedefaults": {
                                                                  "line": {
                                                                        "color": "#2a3f5f"
                                                                  }
                                                            },
                                                            "ternary": {
                                                                  "aaxis": {
                                                                        "gridcolor": "#DFE8F3",
                                                                        "linecolor": "#A2B1C6",
                                                                        "ticks": ""
                                                                  },
                                                                  "baxis": {
                                                                        "gridcolor": "#DFE8F3",
                                                                        "linecolor": "#A2B1C6",
                                                                        "ticks": ""
                                                                  },
                                                                  "bgcolor": "white",
                                                                  "caxis": {
                                                                        "gridcolor": "#DFE8F3",
                                                                        "linecolor": "#A2B1C6",
                                                                        "ticks": ""
                                                                  }
                                                            },
                                                            "title": {
                                                                  "x": 0.05
                                                            },
                                                            "xaxis": {
                                                                  "automargin": true,
                                                                  "gridcolor": "#EBF0F8",
                                                                  "linecolor": "#EBF0F8",
                                                                  "ticks": "",
                                                                  "title": {
                                                                        "standoff": 15
                                                                  },
                                                                  "zerolinecolor": "#EBF0F8",
                                                                  "zerolinewidth": 2
                                                            },
                                                            "yaxis": {
                                                                  "automargin": true,
                                                                  "gridcolor": "#EBF0F8",
                                                                  "linecolor": "#EBF0F8",
                                                                  "ticks": "",
                                                                  "title": {
                                                                        "standoff": 15
                                                                  },
                                                                  "zerolinecolor": "#EBF0F8",
                                                                  "zerolinewidth": 2
                                                            }
                                                      }
                                                },
                                                "title": {
                                                      "font": {
                                                            "color": "Black",
                                                            "size": 22
                                                      },
                                                      "text": "<b>Hierarchical Clustering</b>",
                                                      "x": 0.5,
                                                      "xanchor": "center",
                                                      "yanchor": "top"
                                                },
                                                "width": 1000,
                                                "xaxis": {
                                                      "mirror": "allticks",
                                                      "rangemode": "tozero",
                                                      "showgrid": false,
                                                      "showline": true,
                                                      "showticklabels": true,
                                                      "ticks": "outside",
                                                      "type": "linear",
                                                      "zeroline": false
                                                },
                                                "yaxis": {
                                                      "mirror": "allticks",
                                                      "range": [
                                                            -40,
                                                            0
                                                      ],
                                                      "rangemode": "tozero",
                                                      "showgrid": false,
                                                      "showline": true,
                                                      "showticklabels": true,
                                                      "tickmode": "array",
                                                      "ticks": "outside",
                                                      "ticktext": [
                                                            "2_climate_global_ocean",
                                                            "1_quantum_graphene_optical",
                                                            "0_galaxies_mass_data",
                                                            "3_theory_models_model"
                                                      ],
                                                      "tickvals": [
                                                            -5,
                                                            -15,
                                                            -25,
                                                            -35
                                                      ],
                                                      "type": "linear",
                                                      "zeroline": false
                                                }
                                          }
                                    }
                              },
                              "metadata": {},
                              "output_type": "display_data"
                        }
                  ],
                  "source": [
                        "topic_model.visualize_hierarchy()"
                  ]
            },
            {
                  "cell_type": "code",
                  "execution_count": 39,
                  "metadata": {},
                  "outputs": [
                        {
                              "data": {
                                    "application/vnd.plotly.v1+json": {
                                          "config": {
                                                "plotlyServerURL": "https://plot.ly"
                                          },
                                          "data": [
                                                {
                                                      "hovertext": "<b>Topic -1</b>:data_recurrence_network_shm_soften",
                                                      "line": {
                                                            "color": "black",
                                                            "width": 1.5
                                                      },
                                                      "mode": "lines+lines",
                                                      "name": "",
                                                      "opacity": 0.1,
                                                      "type": "scatter",
                                                      "x": [
                                                            1,
                                                            2,
                                                            3,
                                                            4,
                                                            5,
                                                            6,
                                                            7,
                                                            8,
                                                            9,
                                                            10
                                                      ],
                                                      "y": [
                                                            0.030211075804897774,
                                                            0.027562753943092405,
                                                            0.026807864203433514,
                                                            0.02485238208186442,
                                                            0.02485238208186442,
                                                            0.023838672614211253,
                                                            0.023444229527091364,
                                                            0.02317931658730829,
                                                            0.01850312125276594,
                                                            0.01841412963084242
                                                      ]
                                                },
                                                {
                                                      "hovertext": "<b>Topic 0</b>:galaxies_mass_data_formation_star_s",
                                                      "line": {
                                                            "color": "black",
                                                            "width": 1.5
                                                      },
                                                      "mode": "lines+lines",
                                                      "name": "",
                                                      "opacity": 0.1,
                                                      "type": "scatter",
                                                      "x": [
                                                            1,
                                                            2,
                                                            3,
                                                            4,
                                                            5,
                                                            6,
                                                            7,
                                                            8,
                                                            9,
                                                            10
                                                      ],
                                                      "y": [
                                                            0.020614086961639553,
                                                            0.014934747699463204,
                                                            0.013387918272461531,
                                                            0.011401335327018555,
                                                            0.011263490970544875,
                                                            0.011053055520977474,
                                                            0.011019757515818662,
                                                            0.010203020886072486,
                                                            0.009529224225734234,
                                                            0.008622903603926174
                                                      ]
                                                },
                                                {
                                                      "hovertext": "<b>Topic 1</b>:quantum_graphene_optical_spin_state",
                                                      "line": {
                                                            "color": "black",
                                                            "width": 1.5
                                                      },
                                                      "mode": "lines+lines",
                                                      "name": "",
                                                      "opacity": 0.1,
                                                      "type": "scatter",
                                                      "x": [
                                                            1,
                                                            2,
                                                            3,
                                                            4,
                                                            5,
                                                            6,
                                                            7,
                                                            8,
                                                            9,
                                                            10
                                                      ],
                                                      "y": [
                                                            0.030977221109818126,
                                                            0.016111189517888036,
                                                            0.013527232777573152,
                                                            0.012201537005251097,
                                                            0.012149397024052874,
                                                            0.010920239963583454,
                                                            0.010887031658128564,
                                                            0.01075878690666986,
                                                            0.010515786631598882,
                                                            0.01014366958912444
                                                      ]
                                                },
                                                {
                                                      "hovertext": "<b>Topic 2</b>:climate_global_ocean_carbon_aerosol",
                                                      "line": {
                                                            "color": "black",
                                                            "width": 1.5
                                                      },
                                                      "mode": "lines+lines",
                                                      "name": "",
                                                      "opacity": 0.1,
                                                      "type": "scatter",
                                                      "x": [
                                                            1,
                                                            2,
                                                            3,
                                                            4,
                                                            5,
                                                            6,
                                                            7,
                                                            8,
                                                            9,
                                                            10
                                                      ],
                                                      "y": [
                                                            0.016595271054851413,
                                                            0.013800279257331944,
                                                            0.012612612749869448,
                                                            0.012161561949773601,
                                                            0.012087547594537675,
                                                            0.011699629827517415,
                                                            0.011085637567789505,
                                                            0.010868316981184536,
                                                            0.010437299591381191,
                                                            0.010118777879033878
                                                      ]
                                                },
                                                {
                                                      "hovertext": "<b>Topic 3</b>:theory_models_model_gauge_scalar_ne",
                                                      "line": {
                                                            "color": "black",
                                                            "width": 1.5
                                                      },
                                                      "mode": "lines+lines",
                                                      "name": "",
                                                      "opacity": 0.1,
                                                      "type": "scatter",
                                                      "x": [
                                                            1,
                                                            2,
                                                            3,
                                                            4,
                                                            5,
                                                            6,
                                                            7,
                                                            8,
                                                            9,
                                                            10
                                                      ],
                                                      "y": [
                                                            0.023741215255035048,
                                                            0.0229348826585175,
                                                            0.01847445852626214,
                                                            0.017473679073796853,
                                                            0.016042925911697207,
                                                            0.015052401730231257,
                                                            0.01432272843816103,
                                                            0.014307978349014695,
                                                            0.014038461876287284,
                                                            0.013678453138273618
                                                      ]
                                                }
                                          ],
                                          "layout": {
                                                "height": 500,
                                                "hoverlabel": {
                                                      "bgcolor": "white",
                                                      "font": {
                                                            "family": "Rockwell",
                                                            "size": 16
                                                      }
                                                },
                                                "showlegend": false,
                                                "template": {
                                                      "data": {
                                                            "bar": [
                                                                  {
                                                                        "error_x": {
                                                                              "color": "#2a3f5f"
                                                                        },
                                                                        "error_y": {
                                                                              "color": "#2a3f5f"
                                                                        },
                                                                        "marker": {
                                                                              "line": {
                                                                                    "color": "white",
                                                                                    "width": 0.5
                                                                              },
                                                                              "pattern": {
                                                                                    "fillmode": "overlay",
                                                                                    "size": 10,
                                                                                    "solidity": 0.2
                                                                              }
                                                                        },
                                                                        "type": "bar"
                                                                  }
                                                            ],
                                                            "barpolar": [
                                                                  {
                                                                        "marker": {
                                                                              "line": {
                                                                                    "color": "white",
                                                                                    "width": 0.5
                                                                              },
                                                                              "pattern": {
                                                                                    "fillmode": "overlay",
                                                                                    "size": 10,
                                                                                    "solidity": 0.2
                                                                              }
                                                                        },
                                                                        "type": "barpolar"
                                                                  }
                                                            ],
                                                            "carpet": [
                                                                  {
                                                                        "aaxis": {
                                                                              "endlinecolor": "#2a3f5f",
                                                                              "gridcolor": "#C8D4E3",
                                                                              "linecolor": "#C8D4E3",
                                                                              "minorgridcolor": "#C8D4E3",
                                                                              "startlinecolor": "#2a3f5f"
                                                                        },
                                                                        "baxis": {
                                                                              "endlinecolor": "#2a3f5f",
                                                                              "gridcolor": "#C8D4E3",
                                                                              "linecolor": "#C8D4E3",
                                                                              "minorgridcolor": "#C8D4E3",
                                                                              "startlinecolor": "#2a3f5f"
                                                                        },
                                                                        "type": "carpet"
                                                                  }
                                                            ],
                                                            "choropleth": [
                                                                  {
                                                                        "colorbar": {
                                                                              "outlinewidth": 0,
                                                                              "ticks": ""
                                                                        },
                                                                        "type": "choropleth"
                                                                  }
                                                            ],
                                                            "contour": [
                                                                  {
                                                                        "colorbar": {
                                                                              "outlinewidth": 0,
                                                                              "ticks": ""
                                                                        },
                                                                        "colorscale": [
                                                                              [
                                                                                    0,
                                                                                    "#0d0887"
                                                                              ],
                                                                              [
                                                                                    0.1111111111111111,
                                                                                    "#46039f"
                                                                              ],
                                                                              [
                                                                                    0.2222222222222222,
                                                                                    "#7201a8"
                                                                              ],
                                                                              [
                                                                                    0.3333333333333333,
                                                                                    "#9c179e"
                                                                              ],
                                                                              [
                                                                                    0.4444444444444444,
                                                                                    "#bd3786"
                                                                              ],
                                                                              [
                                                                                    0.5555555555555556,
                                                                                    "#d8576b"
                                                                              ],
                                                                              [
                                                                                    0.6666666666666666,
                                                                                    "#ed7953"
                                                                              ],
                                                                              [
                                                                                    0.7777777777777778,
                                                                                    "#fb9f3a"
                                                                              ],
                                                                              [
                                                                                    0.8888888888888888,
                                                                                    "#fdca26"
                                                                              ],
                                                                              [
                                                                                    1,
                                                                                    "#f0f921"
                                                                              ]
                                                                        ],
                                                                        "type": "contour"
                                                                  }
                                                            ],
                                                            "contourcarpet": [
                                                                  {
                                                                        "colorbar": {
                                                                              "outlinewidth": 0,
                                                                              "ticks": ""
                                                                        },
                                                                        "type": "contourcarpet"
                                                                  }
                                                            ],
                                                            "heatmap": [
                                                                  {
                                                                        "colorbar": {
                                                                              "outlinewidth": 0,
                                                                              "ticks": ""
                                                                        },
                                                                        "colorscale": [
                                                                              [
                                                                                    0,
                                                                                    "#0d0887"
                                                                              ],
                                                                              [
                                                                                    0.1111111111111111,
                                                                                    "#46039f"
                                                                              ],
                                                                              [
                                                                                    0.2222222222222222,
                                                                                    "#7201a8"
                                                                              ],
                                                                              [
                                                                                    0.3333333333333333,
                                                                                    "#9c179e"
                                                                              ],
                                                                              [
                                                                                    0.4444444444444444,
                                                                                    "#bd3786"
                                                                              ],
                                                                              [
                                                                                    0.5555555555555556,
                                                                                    "#d8576b"
                                                                              ],
                                                                              [
                                                                                    0.6666666666666666,
                                                                                    "#ed7953"
                                                                              ],
                                                                              [
                                                                                    0.7777777777777778,
                                                                                    "#fb9f3a"
                                                                              ],
                                                                              [
                                                                                    0.8888888888888888,
                                                                                    "#fdca26"
                                                                              ],
                                                                              [
                                                                                    1,
                                                                                    "#f0f921"
                                                                              ]
                                                                        ],
                                                                        "type": "heatmap"
                                                                  }
                                                            ],
                                                            "heatmapgl": [
                                                                  {
                                                                        "colorbar": {
                                                                              "outlinewidth": 0,
                                                                              "ticks": ""
                                                                        },
                                                                        "colorscale": [
                                                                              [
                                                                                    0,
                                                                                    "#0d0887"
                                                                              ],
                                                                              [
                                                                                    0.1111111111111111,
                                                                                    "#46039f"
                                                                              ],
                                                                              [
                                                                                    0.2222222222222222,
                                                                                    "#7201a8"
                                                                              ],
                                                                              [
                                                                                    0.3333333333333333,
                                                                                    "#9c179e"
                                                                              ],
                                                                              [
                                                                                    0.4444444444444444,
                                                                                    "#bd3786"
                                                                              ],
                                                                              [
                                                                                    0.5555555555555556,
                                                                                    "#d8576b"
                                                                              ],
                                                                              [
                                                                                    0.6666666666666666,
                                                                                    "#ed7953"
                                                                              ],
                                                                              [
                                                                                    0.7777777777777778,
                                                                                    "#fb9f3a"
                                                                              ],
                                                                              [
                                                                                    0.8888888888888888,
                                                                                    "#fdca26"
                                                                              ],
                                                                              [
                                                                                    1,
                                                                                    "#f0f921"
                                                                              ]
                                                                        ],
                                                                        "type": "heatmapgl"
                                                                  }
                                                            ],
                                                            "histogram": [
                                                                  {
                                                                        "marker": {
                                                                              "pattern": {
                                                                                    "fillmode": "overlay",
                                                                                    "size": 10,
                                                                                    "solidity": 0.2
                                                                              }
                                                                        },
                                                                        "type": "histogram"
                                                                  }
                                                            ],
                                                            "histogram2d": [
                                                                  {
                                                                        "colorbar": {
                                                                              "outlinewidth": 0,
                                                                              "ticks": ""
                                                                        },
                                                                        "colorscale": [
                                                                              [
                                                                                    0,
                                                                                    "#0d0887"
                                                                              ],
                                                                              [
                                                                                    0.1111111111111111,
                                                                                    "#46039f"
                                                                              ],
                                                                              [
                                                                                    0.2222222222222222,
                                                                                    "#7201a8"
                                                                              ],
                                                                              [
                                                                                    0.3333333333333333,
                                                                                    "#9c179e"
                                                                              ],
                                                                              [
                                                                                    0.4444444444444444,
                                                                                    "#bd3786"
                                                                              ],
                                                                              [
                                                                                    0.5555555555555556,
                                                                                    "#d8576b"
                                                                              ],
                                                                              [
                                                                                    0.6666666666666666,
                                                                                    "#ed7953"
                                                                              ],
                                                                              [
                                                                                    0.7777777777777778,
                                                                                    "#fb9f3a"
                                                                              ],
                                                                              [
                                                                                    0.8888888888888888,
                                                                                    "#fdca26"
                                                                              ],
                                                                              [
                                                                                    1,
                                                                                    "#f0f921"
                                                                              ]
                                                                        ],
                                                                        "type": "histogram2d"
                                                                  }
                                                            ],
                                                            "histogram2dcontour": [
                                                                  {
                                                                        "colorbar": {
                                                                              "outlinewidth": 0,
                                                                              "ticks": ""
                                                                        },
                                                                        "colorscale": [
                                                                              [
                                                                                    0,
                                                                                    "#0d0887"
                                                                              ],
                                                                              [
                                                                                    0.1111111111111111,
                                                                                    "#46039f"
                                                                              ],
                                                                              [
                                                                                    0.2222222222222222,
                                                                                    "#7201a8"
                                                                              ],
                                                                              [
                                                                                    0.3333333333333333,
                                                                                    "#9c179e"
                                                                              ],
                                                                              [
                                                                                    0.4444444444444444,
                                                                                    "#bd3786"
                                                                              ],
                                                                              [
                                                                                    0.5555555555555556,
                                                                                    "#d8576b"
                                                                              ],
                                                                              [
                                                                                    0.6666666666666666,
                                                                                    "#ed7953"
                                                                              ],
                                                                              [
                                                                                    0.7777777777777778,
                                                                                    "#fb9f3a"
                                                                              ],
                                                                              [
                                                                                    0.8888888888888888,
                                                                                    "#fdca26"
                                                                              ],
                                                                              [
                                                                                    1,
                                                                                    "#f0f921"
                                                                              ]
                                                                        ],
                                                                        "type": "histogram2dcontour"
                                                                  }
                                                            ],
                                                            "mesh3d": [
                                                                  {
                                                                        "colorbar": {
                                                                              "outlinewidth": 0,
                                                                              "ticks": ""
                                                                        },
                                                                        "type": "mesh3d"
                                                                  }
                                                            ],
                                                            "parcoords": [
                                                                  {
                                                                        "line": {
                                                                              "colorbar": {
                                                                                    "outlinewidth": 0,
                                                                                    "ticks": ""
                                                                              }
                                                                        },
                                                                        "type": "parcoords"
                                                                  }
                                                            ],
                                                            "pie": [
                                                                  {
                                                                        "automargin": true,
                                                                        "type": "pie"
                                                                  }
                                                            ],
                                                            "scatter": [
                                                                  {
                                                                        "fillpattern": {
                                                                              "fillmode": "overlay",
                                                                              "size": 10,
                                                                              "solidity": 0.2
                                                                        },
                                                                        "type": "scatter"
                                                                  }
                                                            ],
                                                            "scatter3d": [
                                                                  {
                                                                        "line": {
                                                                              "colorbar": {
                                                                                    "outlinewidth": 0,
                                                                                    "ticks": ""
                                                                              }
                                                                        },
                                                                        "marker": {
                                                                              "colorbar": {
                                                                                    "outlinewidth": 0,
                                                                                    "ticks": ""
                                                                              }
                                                                        },
                                                                        "type": "scatter3d"
                                                                  }
                                                            ],
                                                            "scattercarpet": [
                                                                  {
                                                                        "marker": {
                                                                              "colorbar": {
                                                                                    "outlinewidth": 0,
                                                                                    "ticks": ""
                                                                              }
                                                                        },
                                                                        "type": "scattercarpet"
                                                                  }
                                                            ],
                                                            "scattergeo": [
                                                                  {
                                                                        "marker": {
                                                                              "colorbar": {
                                                                                    "outlinewidth": 0,
                                                                                    "ticks": ""
                                                                              }
                                                                        },
                                                                        "type": "scattergeo"
                                                                  }
                                                            ],
                                                            "scattergl": [
                                                                  {
                                                                        "marker": {
                                                                              "colorbar": {
                                                                                    "outlinewidth": 0,
                                                                                    "ticks": ""
                                                                              }
                                                                        },
                                                                        "type": "scattergl"
                                                                  }
                                                            ],
                                                            "scattermapbox": [
                                                                  {
                                                                        "marker": {
                                                                              "colorbar": {
                                                                                    "outlinewidth": 0,
                                                                                    "ticks": ""
                                                                              }
                                                                        },
                                                                        "type": "scattermapbox"
                                                                  }
                                                            ],
                                                            "scatterpolar": [
                                                                  {
                                                                        "marker": {
                                                                              "colorbar": {
                                                                                    "outlinewidth": 0,
                                                                                    "ticks": ""
                                                                              }
                                                                        },
                                                                        "type": "scatterpolar"
                                                                  }
                                                            ],
                                                            "scatterpolargl": [
                                                                  {
                                                                        "marker": {
                                                                              "colorbar": {
                                                                                    "outlinewidth": 0,
                                                                                    "ticks": ""
                                                                              }
                                                                        },
                                                                        "type": "scatterpolargl"
                                                                  }
                                                            ],
                                                            "scatterternary": [
                                                                  {
                                                                        "marker": {
                                                                              "colorbar": {
                                                                                    "outlinewidth": 0,
                                                                                    "ticks": ""
                                                                              }
                                                                        },
                                                                        "type": "scatterternary"
                                                                  }
                                                            ],
                                                            "surface": [
                                                                  {
                                                                        "colorbar": {
                                                                              "outlinewidth": 0,
                                                                              "ticks": ""
                                                                        },
                                                                        "colorscale": [
                                                                              [
                                                                                    0,
                                                                                    "#0d0887"
                                                                              ],
                                                                              [
                                                                                    0.1111111111111111,
                                                                                    "#46039f"
                                                                              ],
                                                                              [
                                                                                    0.2222222222222222,
                                                                                    "#7201a8"
                                                                              ],
                                                                              [
                                                                                    0.3333333333333333,
                                                                                    "#9c179e"
                                                                              ],
                                                                              [
                                                                                    0.4444444444444444,
                                                                                    "#bd3786"
                                                                              ],
                                                                              [
                                                                                    0.5555555555555556,
                                                                                    "#d8576b"
                                                                              ],
                                                                              [
                                                                                    0.6666666666666666,
                                                                                    "#ed7953"
                                                                              ],
                                                                              [
                                                                                    0.7777777777777778,
                                                                                    "#fb9f3a"
                                                                              ],
                                                                              [
                                                                                    0.8888888888888888,
                                                                                    "#fdca26"
                                                                              ],
                                                                              [
                                                                                    1,
                                                                                    "#f0f921"
                                                                              ]
                                                                        ],
                                                                        "type": "surface"
                                                                  }
                                                            ],
                                                            "table": [
                                                                  {
                                                                        "cells": {
                                                                              "fill": {
                                                                                    "color": "#EBF0F8"
                                                                              },
                                                                              "line": {
                                                                                    "color": "white"
                                                                              }
                                                                        },
                                                                        "header": {
                                                                              "fill": {
                                                                                    "color": "#C8D4E3"
                                                                              },
                                                                              "line": {
                                                                                    "color": "white"
                                                                              }
                                                                        },
                                                                        "type": "table"
                                                                  }
                                                            ]
                                                      },
                                                      "layout": {
                                                            "annotationdefaults": {
                                                                  "arrowcolor": "#2a3f5f",
                                                                  "arrowhead": 0,
                                                                  "arrowwidth": 1
                                                            },
                                                            "autotypenumbers": "strict",
                                                            "coloraxis": {
                                                                  "colorbar": {
                                                                        "outlinewidth": 0,
                                                                        "ticks": ""
                                                                  }
                                                            },
                                                            "colorscale": {
                                                                  "diverging": [
                                                                        [
                                                                              0,
                                                                              "#8e0152"
                                                                        ],
                                                                        [
                                                                              0.1,
                                                                              "#c51b7d"
                                                                        ],
                                                                        [
                                                                              0.2,
                                                                              "#de77ae"
                                                                        ],
                                                                        [
                                                                              0.3,
                                                                              "#f1b6da"
                                                                        ],
                                                                        [
                                                                              0.4,
                                                                              "#fde0ef"
                                                                        ],
                                                                        [
                                                                              0.5,
                                                                              "#f7f7f7"
                                                                        ],
                                                                        [
                                                                              0.6,
                                                                              "#e6f5d0"
                                                                        ],
                                                                        [
                                                                              0.7,
                                                                              "#b8e186"
                                                                        ],
                                                                        [
                                                                              0.8,
                                                                              "#7fbc41"
                                                                        ],
                                                                        [
                                                                              0.9,
                                                                              "#4d9221"
                                                                        ],
                                                                        [
                                                                              1,
                                                                              "#276419"
                                                                        ]
                                                                  ],
                                                                  "sequential": [
                                                                        [
                                                                              0,
                                                                              "#0d0887"
                                                                        ],
                                                                        [
                                                                              0.1111111111111111,
                                                                              "#46039f"
                                                                        ],
                                                                        [
                                                                              0.2222222222222222,
                                                                              "#7201a8"
                                                                        ],
                                                                        [
                                                                              0.3333333333333333,
                                                                              "#9c179e"
                                                                        ],
                                                                        [
                                                                              0.4444444444444444,
                                                                              "#bd3786"
                                                                        ],
                                                                        [
                                                                              0.5555555555555556,
                                                                              "#d8576b"
                                                                        ],
                                                                        [
                                                                              0.6666666666666666,
                                                                              "#ed7953"
                                                                        ],
                                                                        [
                                                                              0.7777777777777778,
                                                                              "#fb9f3a"
                                                                        ],
                                                                        [
                                                                              0.8888888888888888,
                                                                              "#fdca26"
                                                                        ],
                                                                        [
                                                                              1,
                                                                              "#f0f921"
                                                                        ]
                                                                  ],
                                                                  "sequentialminus": [
                                                                        [
                                                                              0,
                                                                              "#0d0887"
                                                                        ],
                                                                        [
                                                                              0.1111111111111111,
                                                                              "#46039f"
                                                                        ],
                                                                        [
                                                                              0.2222222222222222,
                                                                              "#7201a8"
                                                                        ],
                                                                        [
                                                                              0.3333333333333333,
                                                                              "#9c179e"
                                                                        ],
                                                                        [
                                                                              0.4444444444444444,
                                                                              "#bd3786"
                                                                        ],
                                                                        [
                                                                              0.5555555555555556,
                                                                              "#d8576b"
                                                                        ],
                                                                        [
                                                                              0.6666666666666666,
                                                                              "#ed7953"
                                                                        ],
                                                                        [
                                                                              0.7777777777777778,
                                                                              "#fb9f3a"
                                                                        ],
                                                                        [
                                                                              0.8888888888888888,
                                                                              "#fdca26"
                                                                        ],
                                                                        [
                                                                              1,
                                                                              "#f0f921"
                                                                        ]
                                                                  ]
                                                            },
                                                            "colorway": [
                                                                  "#636efa",
                                                                  "#EF553B",
                                                                  "#00cc96",
                                                                  "#ab63fa",
                                                                  "#FFA15A",
                                                                  "#19d3f3",
                                                                  "#FF6692",
                                                                  "#B6E880",
                                                                  "#FF97FF",
                                                                  "#FECB52"
                                                            ],
                                                            "font": {
                                                                  "color": "#2a3f5f"
                                                            },
                                                            "geo": {
                                                                  "bgcolor": "white",
                                                                  "lakecolor": "white",
                                                                  "landcolor": "white",
                                                                  "showlakes": true,
                                                                  "showland": true,
                                                                  "subunitcolor": "#C8D4E3"
                                                            },
                                                            "hoverlabel": {
                                                                  "align": "left"
                                                            },
                                                            "hovermode": "closest",
                                                            "mapbox": {
                                                                  "style": "light"
                                                            },
                                                            "paper_bgcolor": "white",
                                                            "plot_bgcolor": "white",
                                                            "polar": {
                                                                  "angularaxis": {
                                                                        "gridcolor": "#EBF0F8",
                                                                        "linecolor": "#EBF0F8",
                                                                        "ticks": ""
                                                                  },
                                                                  "bgcolor": "white",
                                                                  "radialaxis": {
                                                                        "gridcolor": "#EBF0F8",
                                                                        "linecolor": "#EBF0F8",
                                                                        "ticks": ""
                                                                  }
                                                            },
                                                            "scene": {
                                                                  "xaxis": {
                                                                        "backgroundcolor": "white",
                                                                        "gridcolor": "#DFE8F3",
                                                                        "gridwidth": 2,
                                                                        "linecolor": "#EBF0F8",
                                                                        "showbackground": true,
                                                                        "ticks": "",
                                                                        "zerolinecolor": "#EBF0F8"
                                                                  },
                                                                  "yaxis": {
                                                                        "backgroundcolor": "white",
                                                                        "gridcolor": "#DFE8F3",
                                                                        "gridwidth": 2,
                                                                        "linecolor": "#EBF0F8",
                                                                        "showbackground": true,
                                                                        "ticks": "",
                                                                        "zerolinecolor": "#EBF0F8"
                                                                  },
                                                                  "zaxis": {
                                                                        "backgroundcolor": "white",
                                                                        "gridcolor": "#DFE8F3",
                                                                        "gridwidth": 2,
                                                                        "linecolor": "#EBF0F8",
                                                                        "showbackground": true,
                                                                        "ticks": "",
                                                                        "zerolinecolor": "#EBF0F8"
                                                                  }
                                                            },
                                                            "shapedefaults": {
                                                                  "line": {
                                                                        "color": "#2a3f5f"
                                                                  }
                                                            },
                                                            "ternary": {
                                                                  "aaxis": {
                                                                        "gridcolor": "#DFE8F3",
                                                                        "linecolor": "#A2B1C6",
                                                                        "ticks": ""
                                                                  },
                                                                  "baxis": {
                                                                        "gridcolor": "#DFE8F3",
                                                                        "linecolor": "#A2B1C6",
                                                                        "ticks": ""
                                                                  },
                                                                  "bgcolor": "white",
                                                                  "caxis": {
                                                                        "gridcolor": "#DFE8F3",
                                                                        "linecolor": "#A2B1C6",
                                                                        "ticks": ""
                                                                  }
                                                            },
                                                            "title": {
                                                                  "x": 0.05
                                                            },
                                                            "xaxis": {
                                                                  "automargin": true,
                                                                  "gridcolor": "#EBF0F8",
                                                                  "linecolor": "#EBF0F8",
                                                                  "ticks": "",
                                                                  "title": {
                                                                        "standoff": 15
                                                                  },
                                                                  "zerolinecolor": "#EBF0F8",
                                                                  "zerolinewidth": 2
                                                            },
                                                            "yaxis": {
                                                                  "automargin": true,
                                                                  "gridcolor": "#EBF0F8",
                                                                  "linecolor": "#EBF0F8",
                                                                  "ticks": "",
                                                                  "title": {
                                                                        "standoff": 15
                                                                  },
                                                                  "zerolinecolor": "#EBF0F8",
                                                                  "zerolinewidth": 2
                                                            }
                                                      }
                                                },
                                                "title": {
                                                      "font": {
                                                            "color": "Black",
                                                            "size": 22
                                                      },
                                                      "text": "<b>Term score decline per Topic</b>",
                                                      "x": 0.5,
                                                      "xanchor": "center",
                                                      "y": 0.9,
                                                      "yanchor": "top"
                                                },
                                                "width": 800,
                                                "xaxis": {
                                                      "dtick": 2,
                                                      "range": [
                                                            0,
                                                            10
                                                      ],
                                                      "tick0": 1,
                                                      "title": {
                                                            "text": "Term Rank"
                                                      }
                                                },
                                                "yaxis": {
                                                      "title": {
                                                            "text": "c-TF-IDF score"
                                                      }
                                                }
                                          }
                                    }
                              },
                              "metadata": {},
                              "output_type": "display_data"
                        }
                  ],
                  "source": [
                        "topic_model.visualize_term_rank()"
                  ]
            },
            {
                  "cell_type": "code",
                  "execution_count": 40,
                  "metadata": {},
                  "outputs": [
                        {
                              "data": {
                                    "application/vnd.plotly.v1+json": {
                                          "config": {
                                                "plotlyServerURL": "https://plot.ly"
                                          },
                                          "data": [
                                                {
                                                      "marker": {
                                                            "color": "#C8D2D7",
                                                            "line": {
                                                                  "color": "#6E8484",
                                                                  "width": 1
                                                            }
                                                      },
                                                      "orientation": "h",
                                                      "type": "bar",
                                                      "x": [
                                                            0.3643909353572672,
                                                            0.026245477776998462,
                                                            0.05760526631962373,
                                                            0.14742955011034117
                                                      ],
                                                      "y": [
                                                            "<b>Topic 0</b>: galaxies_mass_data_forma...",
                                                            "<b>Topic 1</b>: quantum_graphene_optical...",
                                                            "<b>Topic 2</b>: climate_global_ocean_car...",
                                                            "<b>Topic 3</b>: theory_models_model_gaug..."
                                                      ]
                                                }
                                          ],
                                          "layout": {
                                                "height": 600,
                                                "hoverlabel": {
                                                      "bgcolor": "white",
                                                      "font": {
                                                            "family": "Rockwell",
                                                            "size": 16
                                                      }
                                                },
                                                "template": {
                                                      "data": {
                                                            "bar": [
                                                                  {
                                                                        "error_x": {
                                                                              "color": "rgb(36,36,36)"
                                                                        },
                                                                        "error_y": {
                                                                              "color": "rgb(36,36,36)"
                                                                        },
                                                                        "marker": {
                                                                              "line": {
                                                                                    "color": "white",
                                                                                    "width": 0.5
                                                                              },
                                                                              "pattern": {
                                                                                    "fillmode": "overlay",
                                                                                    "size": 10,
                                                                                    "solidity": 0.2
                                                                              }
                                                                        },
                                                                        "type": "bar"
                                                                  }
                                                            ],
                                                            "barpolar": [
                                                                  {
                                                                        "marker": {
                                                                              "line": {
                                                                                    "color": "white",
                                                                                    "width": 0.5
                                                                              },
                                                                              "pattern": {
                                                                                    "fillmode": "overlay",
                                                                                    "size": 10,
                                                                                    "solidity": 0.2
                                                                              }
                                                                        },
                                                                        "type": "barpolar"
                                                                  }
                                                            ],
                                                            "carpet": [
                                                                  {
                                                                        "aaxis": {
                                                                              "endlinecolor": "rgb(36,36,36)",
                                                                              "gridcolor": "white",
                                                                              "linecolor": "white",
                                                                              "minorgridcolor": "white",
                                                                              "startlinecolor": "rgb(36,36,36)"
                                                                        },
                                                                        "baxis": {
                                                                              "endlinecolor": "rgb(36,36,36)",
                                                                              "gridcolor": "white",
                                                                              "linecolor": "white",
                                                                              "minorgridcolor": "white",
                                                                              "startlinecolor": "rgb(36,36,36)"
                                                                        },
                                                                        "type": "carpet"
                                                                  }
                                                            ],
                                                            "choropleth": [
                                                                  {
                                                                        "colorbar": {
                                                                              "outlinewidth": 1,
                                                                              "tickcolor": "rgb(36,36,36)",
                                                                              "ticks": "outside"
                                                                        },
                                                                        "type": "choropleth"
                                                                  }
                                                            ],
                                                            "contour": [
                                                                  {
                                                                        "colorbar": {
                                                                              "outlinewidth": 1,
                                                                              "tickcolor": "rgb(36,36,36)",
                                                                              "ticks": "outside"
                                                                        },
                                                                        "colorscale": [
                                                                              [
                                                                                    0,
                                                                                    "#440154"
                                                                              ],
                                                                              [
                                                                                    0.1111111111111111,
                                                                                    "#482878"
                                                                              ],
                                                                              [
                                                                                    0.2222222222222222,
                                                                                    "#3e4989"
                                                                              ],
                                                                              [
                                                                                    0.3333333333333333,
                                                                                    "#31688e"
                                                                              ],
                                                                              [
                                                                                    0.4444444444444444,
                                                                                    "#26828e"
                                                                              ],
                                                                              [
                                                                                    0.5555555555555556,
                                                                                    "#1f9e89"
                                                                              ],
                                                                              [
                                                                                    0.6666666666666666,
                                                                                    "#35b779"
                                                                              ],
                                                                              [
                                                                                    0.7777777777777778,
                                                                                    "#6ece58"
                                                                              ],
                                                                              [
                                                                                    0.8888888888888888,
                                                                                    "#b5de2b"
                                                                              ],
                                                                              [
                                                                                    1,
                                                                                    "#fde725"
                                                                              ]
                                                                        ],
                                                                        "type": "contour"
                                                                  }
                                                            ],
                                                            "contourcarpet": [
                                                                  {
                                                                        "colorbar": {
                                                                              "outlinewidth": 1,
                                                                              "tickcolor": "rgb(36,36,36)",
                                                                              "ticks": "outside"
                                                                        },
                                                                        "type": "contourcarpet"
                                                                  }
                                                            ],
                                                            "heatmap": [
                                                                  {
                                                                        "colorbar": {
                                                                              "outlinewidth": 1,
                                                                              "tickcolor": "rgb(36,36,36)",
                                                                              "ticks": "outside"
                                                                        },
                                                                        "colorscale": [
                                                                              [
                                                                                    0,
                                                                                    "#440154"
                                                                              ],
                                                                              [
                                                                                    0.1111111111111111,
                                                                                    "#482878"
                                                                              ],
                                                                              [
                                                                                    0.2222222222222222,
                                                                                    "#3e4989"
                                                                              ],
                                                                              [
                                                                                    0.3333333333333333,
                                                                                    "#31688e"
                                                                              ],
                                                                              [
                                                                                    0.4444444444444444,
                                                                                    "#26828e"
                                                                              ],
                                                                              [
                                                                                    0.5555555555555556,
                                                                                    "#1f9e89"
                                                                              ],
                                                                              [
                                                                                    0.6666666666666666,
                                                                                    "#35b779"
                                                                              ],
                                                                              [
                                                                                    0.7777777777777778,
                                                                                    "#6ece58"
                                                                              ],
                                                                              [
                                                                                    0.8888888888888888,
                                                                                    "#b5de2b"
                                                                              ],
                                                                              [
                                                                                    1,
                                                                                    "#fde725"
                                                                              ]
                                                                        ],
                                                                        "type": "heatmap"
                                                                  }
                                                            ],
                                                            "heatmapgl": [
                                                                  {
                                                                        "colorbar": {
                                                                              "outlinewidth": 1,
                                                                              "tickcolor": "rgb(36,36,36)",
                                                                              "ticks": "outside"
                                                                        },
                                                                        "colorscale": [
                                                                              [
                                                                                    0,
                                                                                    "#440154"
                                                                              ],
                                                                              [
                                                                                    0.1111111111111111,
                                                                                    "#482878"
                                                                              ],
                                                                              [
                                                                                    0.2222222222222222,
                                                                                    "#3e4989"
                                                                              ],
                                                                              [
                                                                                    0.3333333333333333,
                                                                                    "#31688e"
                                                                              ],
                                                                              [
                                                                                    0.4444444444444444,
                                                                                    "#26828e"
                                                                              ],
                                                                              [
                                                                                    0.5555555555555556,
                                                                                    "#1f9e89"
                                                                              ],
                                                                              [
                                                                                    0.6666666666666666,
                                                                                    "#35b779"
                                                                              ],
                                                                              [
                                                                                    0.7777777777777778,
                                                                                    "#6ece58"
                                                                              ],
                                                                              [
                                                                                    0.8888888888888888,
                                                                                    "#b5de2b"
                                                                              ],
                                                                              [
                                                                                    1,
                                                                                    "#fde725"
                                                                              ]
                                                                        ],
                                                                        "type": "heatmapgl"
                                                                  }
                                                            ],
                                                            "histogram": [
                                                                  {
                                                                        "marker": {
                                                                              "line": {
                                                                                    "color": "white",
                                                                                    "width": 0.6
                                                                              }
                                                                        },
                                                                        "type": "histogram"
                                                                  }
                                                            ],
                                                            "histogram2d": [
                                                                  {
                                                                        "colorbar": {
                                                                              "outlinewidth": 1,
                                                                              "tickcolor": "rgb(36,36,36)",
                                                                              "ticks": "outside"
                                                                        },
                                                                        "colorscale": [
                                                                              [
                                                                                    0,
                                                                                    "#440154"
                                                                              ],
                                                                              [
                                                                                    0.1111111111111111,
                                                                                    "#482878"
                                                                              ],
                                                                              [
                                                                                    0.2222222222222222,
                                                                                    "#3e4989"
                                                                              ],
                                                                              [
                                                                                    0.3333333333333333,
                                                                                    "#31688e"
                                                                              ],
                                                                              [
                                                                                    0.4444444444444444,
                                                                                    "#26828e"
                                                                              ],
                                                                              [
                                                                                    0.5555555555555556,
                                                                                    "#1f9e89"
                                                                              ],
                                                                              [
                                                                                    0.6666666666666666,
                                                                                    "#35b779"
                                                                              ],
                                                                              [
                                                                                    0.7777777777777778,
                                                                                    "#6ece58"
                                                                              ],
                                                                              [
                                                                                    0.8888888888888888,
                                                                                    "#b5de2b"
                                                                              ],
                                                                              [
                                                                                    1,
                                                                                    "#fde725"
                                                                              ]
                                                                        ],
                                                                        "type": "histogram2d"
                                                                  }
                                                            ],
                                                            "histogram2dcontour": [
                                                                  {
                                                                        "colorbar": {
                                                                              "outlinewidth": 1,
                                                                              "tickcolor": "rgb(36,36,36)",
                                                                              "ticks": "outside"
                                                                        },
                                                                        "colorscale": [
                                                                              [
                                                                                    0,
                                                                                    "#440154"
                                                                              ],
                                                                              [
                                                                                    0.1111111111111111,
                                                                                    "#482878"
                                                                              ],
                                                                              [
                                                                                    0.2222222222222222,
                                                                                    "#3e4989"
                                                                              ],
                                                                              [
                                                                                    0.3333333333333333,
                                                                                    "#31688e"
                                                                              ],
                                                                              [
                                                                                    0.4444444444444444,
                                                                                    "#26828e"
                                                                              ],
                                                                              [
                                                                                    0.5555555555555556,
                                                                                    "#1f9e89"
                                                                              ],
                                                                              [
                                                                                    0.6666666666666666,
                                                                                    "#35b779"
                                                                              ],
                                                                              [
                                                                                    0.7777777777777778,
                                                                                    "#6ece58"
                                                                              ],
                                                                              [
                                                                                    0.8888888888888888,
                                                                                    "#b5de2b"
                                                                              ],
                                                                              [
                                                                                    1,
                                                                                    "#fde725"
                                                                              ]
                                                                        ],
                                                                        "type": "histogram2dcontour"
                                                                  }
                                                            ],
                                                            "mesh3d": [
                                                                  {
                                                                        "colorbar": {
                                                                              "outlinewidth": 1,
                                                                              "tickcolor": "rgb(36,36,36)",
                                                                              "ticks": "outside"
                                                                        },
                                                                        "type": "mesh3d"
                                                                  }
                                                            ],
                                                            "parcoords": [
                                                                  {
                                                                        "line": {
                                                                              "colorbar": {
                                                                                    "outlinewidth": 1,
                                                                                    "tickcolor": "rgb(36,36,36)",
                                                                                    "ticks": "outside"
                                                                              }
                                                                        },
                                                                        "type": "parcoords"
                                                                  }
                                                            ],
                                                            "pie": [
                                                                  {
                                                                        "automargin": true,
                                                                        "type": "pie"
                                                                  }
                                                            ],
                                                            "scatter": [
                                                                  {
                                                                        "fillpattern": {
                                                                              "fillmode": "overlay",
                                                                              "size": 10,
                                                                              "solidity": 0.2
                                                                        },
                                                                        "type": "scatter"
                                                                  }
                                                            ],
                                                            "scatter3d": [
                                                                  {
                                                                        "line": {
                                                                              "colorbar": {
                                                                                    "outlinewidth": 1,
                                                                                    "tickcolor": "rgb(36,36,36)",
                                                                                    "ticks": "outside"
                                                                              }
                                                                        },
                                                                        "marker": {
                                                                              "colorbar": {
                                                                                    "outlinewidth": 1,
                                                                                    "tickcolor": "rgb(36,36,36)",
                                                                                    "ticks": "outside"
                                                                              }
                                                                        },
                                                                        "type": "scatter3d"
                                                                  }
                                                            ],
                                                            "scattercarpet": [
                                                                  {
                                                                        "marker": {
                                                                              "colorbar": {
                                                                                    "outlinewidth": 1,
                                                                                    "tickcolor": "rgb(36,36,36)",
                                                                                    "ticks": "outside"
                                                                              }
                                                                        },
                                                                        "type": "scattercarpet"
                                                                  }
                                                            ],
                                                            "scattergeo": [
                                                                  {
                                                                        "marker": {
                                                                              "colorbar": {
                                                                                    "outlinewidth": 1,
                                                                                    "tickcolor": "rgb(36,36,36)",
                                                                                    "ticks": "outside"
                                                                              }
                                                                        },
                                                                        "type": "scattergeo"
                                                                  }
                                                            ],
                                                            "scattergl": [
                                                                  {
                                                                        "marker": {
                                                                              "colorbar": {
                                                                                    "outlinewidth": 1,
                                                                                    "tickcolor": "rgb(36,36,36)",
                                                                                    "ticks": "outside"
                                                                              }
                                                                        },
                                                                        "type": "scattergl"
                                                                  }
                                                            ],
                                                            "scattermapbox": [
                                                                  {
                                                                        "marker": {
                                                                              "colorbar": {
                                                                                    "outlinewidth": 1,
                                                                                    "tickcolor": "rgb(36,36,36)",
                                                                                    "ticks": "outside"
                                                                              }
                                                                        },
                                                                        "type": "scattermapbox"
                                                                  }
                                                            ],
                                                            "scatterpolar": [
                                                                  {
                                                                        "marker": {
                                                                              "colorbar": {
                                                                                    "outlinewidth": 1,
                                                                                    "tickcolor": "rgb(36,36,36)",
                                                                                    "ticks": "outside"
                                                                              }
                                                                        },
                                                                        "type": "scatterpolar"
                                                                  }
                                                            ],
                                                            "scatterpolargl": [
                                                                  {
                                                                        "marker": {
                                                                              "colorbar": {
                                                                                    "outlinewidth": 1,
                                                                                    "tickcolor": "rgb(36,36,36)",
                                                                                    "ticks": "outside"
                                                                              }
                                                                        },
                                                                        "type": "scatterpolargl"
                                                                  }
                                                            ],
                                                            "scatterternary": [
                                                                  {
                                                                        "marker": {
                                                                              "colorbar": {
                                                                                    "outlinewidth": 1,
                                                                                    "tickcolor": "rgb(36,36,36)",
                                                                                    "ticks": "outside"
                                                                              }
                                                                        },
                                                                        "type": "scatterternary"
                                                                  }
                                                            ],
                                                            "surface": [
                                                                  {
                                                                        "colorbar": {
                                                                              "outlinewidth": 1,
                                                                              "tickcolor": "rgb(36,36,36)",
                                                                              "ticks": "outside"
                                                                        },
                                                                        "colorscale": [
                                                                              [
                                                                                    0,
                                                                                    "#440154"
                                                                              ],
                                                                              [
                                                                                    0.1111111111111111,
                                                                                    "#482878"
                                                                              ],
                                                                              [
                                                                                    0.2222222222222222,
                                                                                    "#3e4989"
                                                                              ],
                                                                              [
                                                                                    0.3333333333333333,
                                                                                    "#31688e"
                                                                              ],
                                                                              [
                                                                                    0.4444444444444444,
                                                                                    "#26828e"
                                                                              ],
                                                                              [
                                                                                    0.5555555555555556,
                                                                                    "#1f9e89"
                                                                              ],
                                                                              [
                                                                                    0.6666666666666666,
                                                                                    "#35b779"
                                                                              ],
                                                                              [
                                                                                    0.7777777777777778,
                                                                                    "#6ece58"
                                                                              ],
                                                                              [
                                                                                    0.8888888888888888,
                                                                                    "#b5de2b"
                                                                              ],
                                                                              [
                                                                                    1,
                                                                                    "#fde725"
                                                                              ]
                                                                        ],
                                                                        "type": "surface"
                                                                  }
                                                            ],
                                                            "table": [
                                                                  {
                                                                        "cells": {
                                                                              "fill": {
                                                                                    "color": "rgb(237,237,237)"
                                                                              },
                                                                              "line": {
                                                                                    "color": "white"
                                                                              }
                                                                        },
                                                                        "header": {
                                                                              "fill": {
                                                                                    "color": "rgb(217,217,217)"
                                                                              },
                                                                              "line": {
                                                                                    "color": "white"
                                                                              }
                                                                        },
                                                                        "type": "table"
                                                                  }
                                                            ]
                                                      },
                                                      "layout": {
                                                            "annotationdefaults": {
                                                                  "arrowhead": 0,
                                                                  "arrowwidth": 1
                                                            },
                                                            "autotypenumbers": "strict",
                                                            "coloraxis": {
                                                                  "colorbar": {
                                                                        "outlinewidth": 1,
                                                                        "tickcolor": "rgb(36,36,36)",
                                                                        "ticks": "outside"
                                                                  }
                                                            },
                                                            "colorscale": {
                                                                  "diverging": [
                                                                        [
                                                                              0,
                                                                              "rgb(103,0,31)"
                                                                        ],
                                                                        [
                                                                              0.1,
                                                                              "rgb(178,24,43)"
                                                                        ],
                                                                        [
                                                                              0.2,
                                                                              "rgb(214,96,77)"
                                                                        ],
                                                                        [
                                                                              0.3,
                                                                              "rgb(244,165,130)"
                                                                        ],
                                                                        [
                                                                              0.4,
                                                                              "rgb(253,219,199)"
                                                                        ],
                                                                        [
                                                                              0.5,
                                                                              "rgb(247,247,247)"
                                                                        ],
                                                                        [
                                                                              0.6,
                                                                              "rgb(209,229,240)"
                                                                        ],
                                                                        [
                                                                              0.7,
                                                                              "rgb(146,197,222)"
                                                                        ],
                                                                        [
                                                                              0.8,
                                                                              "rgb(67,147,195)"
                                                                        ],
                                                                        [
                                                                              0.9,
                                                                              "rgb(33,102,172)"
                                                                        ],
                                                                        [
                                                                              1,
                                                                              "rgb(5,48,97)"
                                                                        ]
                                                                  ],
                                                                  "sequential": [
                                                                        [
                                                                              0,
                                                                              "#440154"
                                                                        ],
                                                                        [
                                                                              0.1111111111111111,
                                                                              "#482878"
                                                                        ],
                                                                        [
                                                                              0.2222222222222222,
                                                                              "#3e4989"
                                                                        ],
                                                                        [
                                                                              0.3333333333333333,
                                                                              "#31688e"
                                                                        ],
                                                                        [
                                                                              0.4444444444444444,
                                                                              "#26828e"
                                                                        ],
                                                                        [
                                                                              0.5555555555555556,
                                                                              "#1f9e89"
                                                                        ],
                                                                        [
                                                                              0.6666666666666666,
                                                                              "#35b779"
                                                                        ],
                                                                        [
                                                                              0.7777777777777778,
                                                                              "#6ece58"
                                                                        ],
                                                                        [
                                                                              0.8888888888888888,
                                                                              "#b5de2b"
                                                                        ],
                                                                        [
                                                                              1,
                                                                              "#fde725"
                                                                        ]
                                                                  ],
                                                                  "sequentialminus": [
                                                                        [
                                                                              0,
                                                                              "#440154"
                                                                        ],
                                                                        [
                                                                              0.1111111111111111,
                                                                              "#482878"
                                                                        ],
                                                                        [
                                                                              0.2222222222222222,
                                                                              "#3e4989"
                                                                        ],
                                                                        [
                                                                              0.3333333333333333,
                                                                              "#31688e"
                                                                        ],
                                                                        [
                                                                              0.4444444444444444,
                                                                              "#26828e"
                                                                        ],
                                                                        [
                                                                              0.5555555555555556,
                                                                              "#1f9e89"
                                                                        ],
                                                                        [
                                                                              0.6666666666666666,
                                                                              "#35b779"
                                                                        ],
                                                                        [
                                                                              0.7777777777777778,
                                                                              "#6ece58"
                                                                        ],
                                                                        [
                                                                              0.8888888888888888,
                                                                              "#b5de2b"
                                                                        ],
                                                                        [
                                                                              1,
                                                                              "#fde725"
                                                                        ]
                                                                  ]
                                                            },
                                                            "colorway": [
                                                                  "#1F77B4",
                                                                  "#FF7F0E",
                                                                  "#2CA02C",
                                                                  "#D62728",
                                                                  "#9467BD",
                                                                  "#8C564B",
                                                                  "#E377C2",
                                                                  "#7F7F7F",
                                                                  "#BCBD22",
                                                                  "#17BECF"
                                                            ],
                                                            "font": {
                                                                  "color": "rgb(36,36,36)"
                                                            },
                                                            "geo": {
                                                                  "bgcolor": "white",
                                                                  "lakecolor": "white",
                                                                  "landcolor": "white",
                                                                  "showlakes": true,
                                                                  "showland": true,
                                                                  "subunitcolor": "white"
                                                            },
                                                            "hoverlabel": {
                                                                  "align": "left"
                                                            },
                                                            "hovermode": "closest",
                                                            "mapbox": {
                                                                  "style": "light"
                                                            },
                                                            "paper_bgcolor": "white",
                                                            "plot_bgcolor": "white",
                                                            "polar": {
                                                                  "angularaxis": {
                                                                        "gridcolor": "rgb(232,232,232)",
                                                                        "linecolor": "rgb(36,36,36)",
                                                                        "showgrid": false,
                                                                        "showline": true,
                                                                        "ticks": "outside"
                                                                  },
                                                                  "bgcolor": "white",
                                                                  "radialaxis": {
                                                                        "gridcolor": "rgb(232,232,232)",
                                                                        "linecolor": "rgb(36,36,36)",
                                                                        "showgrid": false,
                                                                        "showline": true,
                                                                        "ticks": "outside"
                                                                  }
                                                            },
                                                            "scene": {
                                                                  "xaxis": {
                                                                        "backgroundcolor": "white",
                                                                        "gridcolor": "rgb(232,232,232)",
                                                                        "gridwidth": 2,
                                                                        "linecolor": "rgb(36,36,36)",
                                                                        "showbackground": true,
                                                                        "showgrid": false,
                                                                        "showline": true,
                                                                        "ticks": "outside",
                                                                        "zeroline": false,
                                                                        "zerolinecolor": "rgb(36,36,36)"
                                                                  },
                                                                  "yaxis": {
                                                                        "backgroundcolor": "white",
                                                                        "gridcolor": "rgb(232,232,232)",
                                                                        "gridwidth": 2,
                                                                        "linecolor": "rgb(36,36,36)",
                                                                        "showbackground": true,
                                                                        "showgrid": false,
                                                                        "showline": true,
                                                                        "ticks": "outside",
                                                                        "zeroline": false,
                                                                        "zerolinecolor": "rgb(36,36,36)"
                                                                  },
                                                                  "zaxis": {
                                                                        "backgroundcolor": "white",
                                                                        "gridcolor": "rgb(232,232,232)",
                                                                        "gridwidth": 2,
                                                                        "linecolor": "rgb(36,36,36)",
                                                                        "showbackground": true,
                                                                        "showgrid": false,
                                                                        "showline": true,
                                                                        "ticks": "outside",
                                                                        "zeroline": false,
                                                                        "zerolinecolor": "rgb(36,36,36)"
                                                                  }
                                                            },
                                                            "shapedefaults": {
                                                                  "fillcolor": "black",
                                                                  "line": {
                                                                        "width": 0
                                                                  },
                                                                  "opacity": 0.3
                                                            },
                                                            "ternary": {
                                                                  "aaxis": {
                                                                        "gridcolor": "rgb(232,232,232)",
                                                                        "linecolor": "rgb(36,36,36)",
                                                                        "showgrid": false,
                                                                        "showline": true,
                                                                        "ticks": "outside"
                                                                  },
                                                                  "baxis": {
                                                                        "gridcolor": "rgb(232,232,232)",
                                                                        "linecolor": "rgb(36,36,36)",
                                                                        "showgrid": false,
                                                                        "showline": true,
                                                                        "ticks": "outside"
                                                                  },
                                                                  "bgcolor": "white",
                                                                  "caxis": {
                                                                        "gridcolor": "rgb(232,232,232)",
                                                                        "linecolor": "rgb(36,36,36)",
                                                                        "showgrid": false,
                                                                        "showline": true,
                                                                        "ticks": "outside"
                                                                  }
                                                            },
                                                            "title": {
                                                                  "x": 0.05
                                                            },
                                                            "xaxis": {
                                                                  "automargin": true,
                                                                  "gridcolor": "rgb(232,232,232)",
                                                                  "linecolor": "rgb(36,36,36)",
                                                                  "showgrid": false,
                                                                  "showline": true,
                                                                  "ticks": "outside",
                                                                  "title": {
                                                                        "standoff": 15
                                                                  },
                                                                  "zeroline": false,
                                                                  "zerolinecolor": "rgb(36,36,36)"
                                                            },
                                                            "yaxis": {
                                                                  "automargin": true,
                                                                  "gridcolor": "rgb(232,232,232)",
                                                                  "linecolor": "rgb(36,36,36)",
                                                                  "showgrid": false,
                                                                  "showline": true,
                                                                  "ticks": "outside",
                                                                  "title": {
                                                                        "standoff": 15
                                                                  },
                                                                  "zeroline": false,
                                                                  "zerolinecolor": "rgb(36,36,36)"
                                                            }
                                                      }
                                                },
                                                "title": {
                                                      "font": {
                                                            "color": "Black",
                                                            "size": 22
                                                      },
                                                      "text": "<b>Topic Probability Distribution</b>",
                                                      "x": 0.5,
                                                      "xanchor": "center",
                                                      "y": 0.95,
                                                      "yanchor": "top"
                                                },
                                                "width": 800,
                                                "xaxis": {
                                                      "title": {
                                                            "text": "Probability"
                                                      }
                                                }
                                          }
                                    }
                              },
                              "metadata": {},
                              "output_type": "display_data"
                        }
                  ],
                  "source": [
                        "\n",
                        "topic_model.visualize_distribution(probs[2])\n",
                        "\n"
                  ]
            },
            {
                  "cell_type": "code",
                  "execution_count": 61,
                  "metadata": {},
                  "outputs": [
                        {
                              "name": "stdout",
                              "output_type": "stream",
                              "text": [
                                    "<class 'pandas.core.series.Series'>\n",
                                    "Index: 721 entries, 0 to 799\n",
                                    "Series name: year\n",
                                    "Non-Null Count  Dtype\n",
                                    "--------------  -----\n",
                                    "721 non-null    int64\n",
                                    "dtypes: int64(1)\n",
                                    "memory usage: 27.4 KB\n"
                              ]
                        }
                  ],
                  "source": [
                        "\n"
                  ]
            },
            {
                  "cell_type": "code",
                  "execution_count": 41,
                  "metadata": {},
                  "outputs": [
                        {
                              "name": "stderr",
                              "output_type": "stream",
                              "text": [
                                    "10it [00:00, 13.44it/s]\n"
                              ]
                        }
                  ],
                  "source": [
                        "# Create topics over time\n",
                        "\n",
                        "year=df['year']\n",
                        "topics_over_time = topic_model.topics_over_time(docs, year)"
                  ]
            },
            {
                  "cell_type": "code",
                  "execution_count": 48,
                  "metadata": {},
                  "outputs": [
                        {
                              "data": {
                                    "text/html": [
                                          "<div>\n",
                                          "<style scoped>\n",
                                          "    .dataframe tbody tr th:only-of-type {\n",
                                          "        vertical-align: middle;\n",
                                          "    }\n",
                                          "\n",
                                          "    .dataframe tbody tr th {\n",
                                          "        vertical-align: top;\n",
                                          "    }\n",
                                          "\n",
                                          "    .dataframe thead th {\n",
                                          "        text-align: right;\n",
                                          "    }\n",
                                          "</style>\n",
                                          "<table border=\"1\" class=\"dataframe\">\n",
                                          "  <thead>\n",
                                          "    <tr style=\"text-align: right;\">\n",
                                          "      <th></th>\n",
                                          "      <th>Topic</th>\n",
                                          "      <th>Words</th>\n",
                                          "      <th>Frequency</th>\n",
                                          "      <th>Timestamp</th>\n",
                                          "      <th>Name</th>\n",
                                          "    </tr>\n",
                                          "  </thead>\n",
                                          "  <tbody>\n",
                                          "    <tr>\n",
                                          "      <th>0</th>\n",
                                          "      <td>0</td>\n",
                                          "      <td>ms, arcmin, 151243647, 122472007, ms 151243647</td>\n",
                                          "      <td>1</td>\n",
                                          "      <td>1998</td>\n",
                                          "      <td>0_galaxies_mass_data_formation</td>\n",
                                          "    </tr>\n",
                                          "    <tr>\n",
                                          "      <th>1</th>\n",
                                          "      <td>-1</td>\n",
                                          "      <td>data, recurrence, network, softening, shm</td>\n",
                                          "      <td>13</td>\n",
                                          "      <td>2007</td>\n",
                                          "      <td>-1_data_recurrence_network_shm</td>\n",
                                          "    </tr>\n",
                                          "    <tr>\n",
                                          "      <th>2</th>\n",
                                          "      <td>0</td>\n",
                                          "      <td>galaxies, mass, data, stars, star</td>\n",
                                          "      <td>281</td>\n",
                                          "      <td>2007</td>\n",
                                          "      <td>0_galaxies_mass_data_formation</td>\n",
                                          "    </tr>\n",
                                          "    <tr>\n",
                                          "      <th>3</th>\n",
                                          "      <td>1</td>\n",
                                          "      <td>quantum, graphene, optical, spin, states</td>\n",
                                          "      <td>247</td>\n",
                                          "      <td>2007</td>\n",
                                          "      <td>1_quantum_graphene_optical_spin</td>\n",
                                          "    </tr>\n",
                                          "    <tr>\n",
                                          "      <th>4</th>\n",
                                          "      <td>2</td>\n",
                                          "      <td>climate, global, ocean, carbon, aerosol</td>\n",
                                          "      <td>74</td>\n",
                                          "      <td>2007</td>\n",
                                          "      <td>2_climate_global_ocean_carbon</td>\n",
                                          "    </tr>\n",
                                          "    <tr>\n",
                                          "      <th>5</th>\n",
                                          "      <td>3</td>\n",
                                          "      <td>theory, models, model, gauge, scalar</td>\n",
                                          "      <td>67</td>\n",
                                          "      <td>2007</td>\n",
                                          "      <td>3_theory_models_model_gauge</td>\n",
                                          "    </tr>\n",
                                          "    <tr>\n",
                                          "      <th>6</th>\n",
                                          "      <td>0</td>\n",
                                          "      <td>model, iri, xray, fr, radio</td>\n",
                                          "      <td>2</td>\n",
                                          "      <td>2008</td>\n",
                                          "      <td>0_galaxies_mass_data_formation</td>\n",
                                          "    </tr>\n",
                                          "    <tr>\n",
                                          "      <th>7</th>\n",
                                          "      <td>0</td>\n",
                                          "      <td>lulin, n3 lulin, c2007 n3, n3, c2007</td>\n",
                                          "      <td>1</td>\n",
                                          "      <td>2012</td>\n",
                                          "      <td>0_galaxies_mass_data_formation</td>\n",
                                          "    </tr>\n",
                                          "    <tr>\n",
                                          "      <th>8</th>\n",
                                          "      <td>0</td>\n",
                                          "      <td>resonance, objects, 51, 51 resonance, clones</td>\n",
                                          "      <td>1</td>\n",
                                          "      <td>2015</td>\n",
                                          "      <td>0_galaxies_mass_data_formation</td>\n",
                                          "    </tr>\n",
                                          "    <tr>\n",
                                          "      <th>9</th>\n",
                                          "      <td>0</td>\n",
                                          "      <td>2007, size, 2007 uksub126sub, uksub126sub, occ...</td>\n",
                                          "      <td>1</td>\n",
                                          "      <td>2017</td>\n",
                                          "      <td>0_galaxies_mass_data_formation</td>\n",
                                          "    </tr>\n",
                                          "    <tr>\n",
                                          "      <th>10</th>\n",
                                          "      <td>0</td>\n",
                                          "      <td>latis, igm, galaxies, cluster, survey</td>\n",
                                          "      <td>2</td>\n",
                                          "      <td>2020</td>\n",
                                          "      <td>0_galaxies_mass_data_formation</td>\n",
                                          "    </tr>\n",
                                          "    <tr>\n",
                                          "      <th>11</th>\n",
                                          "      <td>0</td>\n",
                                          "      <td>galaxies, mass, cluster, galaxy, slugdsfg</td>\n",
                                          "      <td>6</td>\n",
                                          "      <td>2021</td>\n",
                                          "      <td>0_galaxies_mass_data_formation</td>\n",
                                          "    </tr>\n",
                                          "    <tr>\n",
                                          "      <th>12</th>\n",
                                          "      <td>0</td>\n",
                                          "      <td>galaxies, sub, galaxy, gas, field</td>\n",
                                          "      <td>12</td>\n",
                                          "      <td>2022</td>\n",
                                          "      <td>0_galaxies_mass_data_formation</td>\n",
                                          "    </tr>\n",
                                          "    <tr>\n",
                                          "      <th>13</th>\n",
                                          "      <td>0</td>\n",
                                          "      <td>galaxies, cluster, galaxy, redshift, mass</td>\n",
                                          "      <td>13</td>\n",
                                          "      <td>2023</td>\n",
                                          "      <td>0_galaxies_mass_data_formation</td>\n",
                                          "    </tr>\n",
                                          "  </tbody>\n",
                                          "</table>\n",
                                          "</div>"
                                    ],
                                    "text/plain": [
                                          "    Topic                                              Words  Frequency   \n",
                                          "0       0     ms, arcmin, 151243647, 122472007, ms 151243647          1  \\\n",
                                          "1      -1          data, recurrence, network, softening, shm         13   \n",
                                          "2       0                  galaxies, mass, data, stars, star        281   \n",
                                          "3       1           quantum, graphene, optical, spin, states        247   \n",
                                          "4       2            climate, global, ocean, carbon, aerosol         74   \n",
                                          "5       3               theory, models, model, gauge, scalar         67   \n",
                                          "6       0                        model, iri, xray, fr, radio          2   \n",
                                          "7       0               lulin, n3 lulin, c2007 n3, n3, c2007          1   \n",
                                          "8       0       resonance, objects, 51, 51 resonance, clones          1   \n",
                                          "9       0  2007, size, 2007 uksub126sub, uksub126sub, occ...          1   \n",
                                          "10      0              latis, igm, galaxies, cluster, survey          2   \n",
                                          "11      0          galaxies, mass, cluster, galaxy, slugdsfg          6   \n",
                                          "12      0                  galaxies, sub, galaxy, gas, field         12   \n",
                                          "13      0          galaxies, cluster, galaxy, redshift, mass         13   \n",
                                          "\n",
                                          "    Timestamp                             Name  \n",
                                          "0        1998   0_galaxies_mass_data_formation  \n",
                                          "1        2007   -1_data_recurrence_network_shm  \n",
                                          "2        2007   0_galaxies_mass_data_formation  \n",
                                          "3        2007  1_quantum_graphene_optical_spin  \n",
                                          "4        2007    2_climate_global_ocean_carbon  \n",
                                          "5        2007      3_theory_models_model_gauge  \n",
                                          "6        2008   0_galaxies_mass_data_formation  \n",
                                          "7        2012   0_galaxies_mass_data_formation  \n",
                                          "8        2015   0_galaxies_mass_data_formation  \n",
                                          "9        2017   0_galaxies_mass_data_formation  \n",
                                          "10       2020   0_galaxies_mass_data_formation  \n",
                                          "11       2021   0_galaxies_mass_data_formation  \n",
                                          "12       2022   0_galaxies_mass_data_formation  \n",
                                          "13       2023   0_galaxies_mass_data_formation  "
                                    ]
                              },
                              "execution_count": 48,
                              "metadata": {},
                              "output_type": "execute_result"
                        }
                  ],
                  "source": [
                        "topics_over_time"
                  ]
            },
            {
                  "cell_type": "code",
                  "execution_count": 52,
                  "metadata": {},
                  "outputs": [
                        {
                              "data": {
                                    "application/vnd.plotly.v1+json": {
                                          "config": {
                                                "plotlyServerURL": "https://plot.ly"
                                          },
                                          "data": [
                                                {
                                                      "hoverinfo": "text",
                                                      "hovertext": [
                                                            "<b>Topic 0</b><br>Words: ms, arcmin, 151243647, 122472007, ms 151243647",
                                                            "<b>Topic 0</b><br>Words: galaxies, mass, data, stars, star",
                                                            "<b>Topic 0</b><br>Words: model, iri, xray, fr, radio",
                                                            "<b>Topic 0</b><br>Words: lulin, n3 lulin, c2007 n3, n3, c2007",
                                                            "<b>Topic 0</b><br>Words: resonance, objects, 51, 51 resonance, clones",
                                                            "<b>Topic 0</b><br>Words: 2007, size, 2007 uksub126sub, uksub126sub, occultation",
                                                            "<b>Topic 0</b><br>Words: latis, igm, galaxies, cluster, survey",
                                                            "<b>Topic 0</b><br>Words: galaxies, mass, cluster, galaxy, slugdsfg",
                                                            "<b>Topic 0</b><br>Words: galaxies, sub, galaxy, gas, field",
                                                            "<b>Topic 0</b><br>Words: galaxies, cluster, galaxy, redshift, mass"
                                                      ],
                                                      "marker": {
                                                            "color": "#E69F00"
                                                      },
                                                      "mode": "lines",
                                                      "name": "0_galaxies_mass_data_formation",
                                                      "type": "scatter",
                                                      "x": [
                                                            1998,
                                                            2007,
                                                            2008,
                                                            2012,
                                                            2015,
                                                            2017,
                                                            2020,
                                                            2021,
                                                            2022,
                                                            2023
                                                      ],
                                                      "y": [
                                                            1,
                                                            281,
                                                            2,
                                                            1,
                                                            1,
                                                            1,
                                                            2,
                                                            6,
                                                            12,
                                                            13
                                                      ]
                                                },
                                                {
                                                      "hoverinfo": "text",
                                                      "hovertext": [
                                                            "<b>Topic 1</b><br>Words: quantum, graphene, optical, spin, states"
                                                      ],
                                                      "marker": {
                                                            "color": "#56B4E9"
                                                      },
                                                      "mode": "lines",
                                                      "name": "1_quantum_graphene_optical_spin",
                                                      "type": "scatter",
                                                      "x": [
                                                            2007
                                                      ],
                                                      "y": [
                                                            247
                                                      ]
                                                },
                                                {
                                                      "hoverinfo": "text",
                                                      "hovertext": [
                                                            "<b>Topic 2</b><br>Words: climate, global, ocean, carbon, aerosol"
                                                      ],
                                                      "marker": {
                                                            "color": "#009E73"
                                                      },
                                                      "mode": "lines",
                                                      "name": "2_climate_global_ocean_carbon",
                                                      "type": "scatter",
                                                      "x": [
                                                            2007
                                                      ],
                                                      "y": [
                                                            74
                                                      ]
                                                },
                                                {
                                                      "hoverinfo": "text",
                                                      "hovertext": [
                                                            "<b>Topic 3</b><br>Words: theory, models, model, gauge, scalar"
                                                      ],
                                                      "marker": {
                                                            "color": "#F0E442"
                                                      },
                                                      "mode": "lines",
                                                      "name": "3_theory_models_model_gauge",
                                                      "type": "scatter",
                                                      "x": [
                                                            2007
                                                      ],
                                                      "y": [
                                                            67
                                                      ]
                                                }
                                          ],
                                          "layout": {
                                                "height": 450,
                                                "hoverlabel": {
                                                      "bgcolor": "white",
                                                      "font": {
                                                            "family": "Rockwell",
                                                            "size": 16
                                                      }
                                                },
                                                "legend": {
                                                      "title": {
                                                            "text": "<b>Global Topic Representation"
                                                      }
                                                },
                                                "template": {
                                                      "data": {
                                                            "bar": [
                                                                  {
                                                                        "error_x": {
                                                                              "color": "rgb(36,36,36)"
                                                                        },
                                                                        "error_y": {
                                                                              "color": "rgb(36,36,36)"
                                                                        },
                                                                        "marker": {
                                                                              "line": {
                                                                                    "color": "white",
                                                                                    "width": 0.5
                                                                              },
                                                                              "pattern": {
                                                                                    "fillmode": "overlay",
                                                                                    "size": 10,
                                                                                    "solidity": 0.2
                                                                              }
                                                                        },
                                                                        "type": "bar"
                                                                  }
                                                            ],
                                                            "barpolar": [
                                                                  {
                                                                        "marker": {
                                                                              "line": {
                                                                                    "color": "white",
                                                                                    "width": 0.5
                                                                              },
                                                                              "pattern": {
                                                                                    "fillmode": "overlay",
                                                                                    "size": 10,
                                                                                    "solidity": 0.2
                                                                              }
                                                                        },
                                                                        "type": "barpolar"
                                                                  }
                                                            ],
                                                            "carpet": [
                                                                  {
                                                                        "aaxis": {
                                                                              "endlinecolor": "rgb(36,36,36)",
                                                                              "gridcolor": "white",
                                                                              "linecolor": "white",
                                                                              "minorgridcolor": "white",
                                                                              "startlinecolor": "rgb(36,36,36)"
                                                                        },
                                                                        "baxis": {
                                                                              "endlinecolor": "rgb(36,36,36)",
                                                                              "gridcolor": "white",
                                                                              "linecolor": "white",
                                                                              "minorgridcolor": "white",
                                                                              "startlinecolor": "rgb(36,36,36)"
                                                                        },
                                                                        "type": "carpet"
                                                                  }
                                                            ],
                                                            "choropleth": [
                                                                  {
                                                                        "colorbar": {
                                                                              "outlinewidth": 1,
                                                                              "tickcolor": "rgb(36,36,36)",
                                                                              "ticks": "outside"
                                                                        },
                                                                        "type": "choropleth"
                                                                  }
                                                            ],
                                                            "contour": [
                                                                  {
                                                                        "colorbar": {
                                                                              "outlinewidth": 1,
                                                                              "tickcolor": "rgb(36,36,36)",
                                                                              "ticks": "outside"
                                                                        },
                                                                        "colorscale": [
                                                                              [
                                                                                    0,
                                                                                    "#440154"
                                                                              ],
                                                                              [
                                                                                    0.1111111111111111,
                                                                                    "#482878"
                                                                              ],
                                                                              [
                                                                                    0.2222222222222222,
                                                                                    "#3e4989"
                                                                              ],
                                                                              [
                                                                                    0.3333333333333333,
                                                                                    "#31688e"
                                                                              ],
                                                                              [
                                                                                    0.4444444444444444,
                                                                                    "#26828e"
                                                                              ],
                                                                              [
                                                                                    0.5555555555555556,
                                                                                    "#1f9e89"
                                                                              ],
                                                                              [
                                                                                    0.6666666666666666,
                                                                                    "#35b779"
                                                                              ],
                                                                              [
                                                                                    0.7777777777777778,
                                                                                    "#6ece58"
                                                                              ],
                                                                              [
                                                                                    0.8888888888888888,
                                                                                    "#b5de2b"
                                                                              ],
                                                                              [
                                                                                    1,
                                                                                    "#fde725"
                                                                              ]
                                                                        ],
                                                                        "type": "contour"
                                                                  }
                                                            ],
                                                            "contourcarpet": [
                                                                  {
                                                                        "colorbar": {
                                                                              "outlinewidth": 1,
                                                                              "tickcolor": "rgb(36,36,36)",
                                                                              "ticks": "outside"
                                                                        },
                                                                        "type": "contourcarpet"
                                                                  }
                                                            ],
                                                            "heatmap": [
                                                                  {
                                                                        "colorbar": {
                                                                              "outlinewidth": 1,
                                                                              "tickcolor": "rgb(36,36,36)",
                                                                              "ticks": "outside"
                                                                        },
                                                                        "colorscale": [
                                                                              [
                                                                                    0,
                                                                                    "#440154"
                                                                              ],
                                                                              [
                                                                                    0.1111111111111111,
                                                                                    "#482878"
                                                                              ],
                                                                              [
                                                                                    0.2222222222222222,
                                                                                    "#3e4989"
                                                                              ],
                                                                              [
                                                                                    0.3333333333333333,
                                                                                    "#31688e"
                                                                              ],
                                                                              [
                                                                                    0.4444444444444444,
                                                                                    "#26828e"
                                                                              ],
                                                                              [
                                                                                    0.5555555555555556,
                                                                                    "#1f9e89"
                                                                              ],
                                                                              [
                                                                                    0.6666666666666666,
                                                                                    "#35b779"
                                                                              ],
                                                                              [
                                                                                    0.7777777777777778,
                                                                                    "#6ece58"
                                                                              ],
                                                                              [
                                                                                    0.8888888888888888,
                                                                                    "#b5de2b"
                                                                              ],
                                                                              [
                                                                                    1,
                                                                                    "#fde725"
                                                                              ]
                                                                        ],
                                                                        "type": "heatmap"
                                                                  }
                                                            ],
                                                            "heatmapgl": [
                                                                  {
                                                                        "colorbar": {
                                                                              "outlinewidth": 1,
                                                                              "tickcolor": "rgb(36,36,36)",
                                                                              "ticks": "outside"
                                                                        },
                                                                        "colorscale": [
                                                                              [
                                                                                    0,
                                                                                    "#440154"
                                                                              ],
                                                                              [
                                                                                    0.1111111111111111,
                                                                                    "#482878"
                                                                              ],
                                                                              [
                                                                                    0.2222222222222222,
                                                                                    "#3e4989"
                                                                              ],
                                                                              [
                                                                                    0.3333333333333333,
                                                                                    "#31688e"
                                                                              ],
                                                                              [
                                                                                    0.4444444444444444,
                                                                                    "#26828e"
                                                                              ],
                                                                              [
                                                                                    0.5555555555555556,
                                                                                    "#1f9e89"
                                                                              ],
                                                                              [
                                                                                    0.6666666666666666,
                                                                                    "#35b779"
                                                                              ],
                                                                              [
                                                                                    0.7777777777777778,
                                                                                    "#6ece58"
                                                                              ],
                                                                              [
                                                                                    0.8888888888888888,
                                                                                    "#b5de2b"
                                                                              ],
                                                                              [
                                                                                    1,
                                                                                    "#fde725"
                                                                              ]
                                                                        ],
                                                                        "type": "heatmapgl"
                                                                  }
                                                            ],
                                                            "histogram": [
                                                                  {
                                                                        "marker": {
                                                                              "line": {
                                                                                    "color": "white",
                                                                                    "width": 0.6
                                                                              }
                                                                        },
                                                                        "type": "histogram"
                                                                  }
                                                            ],
                                                            "histogram2d": [
                                                                  {
                                                                        "colorbar": {
                                                                              "outlinewidth": 1,
                                                                              "tickcolor": "rgb(36,36,36)",
                                                                              "ticks": "outside"
                                                                        },
                                                                        "colorscale": [
                                                                              [
                                                                                    0,
                                                                                    "#440154"
                                                                              ],
                                                                              [
                                                                                    0.1111111111111111,
                                                                                    "#482878"
                                                                              ],
                                                                              [
                                                                                    0.2222222222222222,
                                                                                    "#3e4989"
                                                                              ],
                                                                              [
                                                                                    0.3333333333333333,
                                                                                    "#31688e"
                                                                              ],
                                                                              [
                                                                                    0.4444444444444444,
                                                                                    "#26828e"
                                                                              ],
                                                                              [
                                                                                    0.5555555555555556,
                                                                                    "#1f9e89"
                                                                              ],
                                                                              [
                                                                                    0.6666666666666666,
                                                                                    "#35b779"
                                                                              ],
                                                                              [
                                                                                    0.7777777777777778,
                                                                                    "#6ece58"
                                                                              ],
                                                                              [
                                                                                    0.8888888888888888,
                                                                                    "#b5de2b"
                                                                              ],
                                                                              [
                                                                                    1,
                                                                                    "#fde725"
                                                                              ]
                                                                        ],
                                                                        "type": "histogram2d"
                                                                  }
                                                            ],
                                                            "histogram2dcontour": [
                                                                  {
                                                                        "colorbar": {
                                                                              "outlinewidth": 1,
                                                                              "tickcolor": "rgb(36,36,36)",
                                                                              "ticks": "outside"
                                                                        },
                                                                        "colorscale": [
                                                                              [
                                                                                    0,
                                                                                    "#440154"
                                                                              ],
                                                                              [
                                                                                    0.1111111111111111,
                                                                                    "#482878"
                                                                              ],
                                                                              [
                                                                                    0.2222222222222222,
                                                                                    "#3e4989"
                                                                              ],
                                                                              [
                                                                                    0.3333333333333333,
                                                                                    "#31688e"
                                                                              ],
                                                                              [
                                                                                    0.4444444444444444,
                                                                                    "#26828e"
                                                                              ],
                                                                              [
                                                                                    0.5555555555555556,
                                                                                    "#1f9e89"
                                                                              ],
                                                                              [
                                                                                    0.6666666666666666,
                                                                                    "#35b779"
                                                                              ],
                                                                              [
                                                                                    0.7777777777777778,
                                                                                    "#6ece58"
                                                                              ],
                                                                              [
                                                                                    0.8888888888888888,
                                                                                    "#b5de2b"
                                                                              ],
                                                                              [
                                                                                    1,
                                                                                    "#fde725"
                                                                              ]
                                                                        ],
                                                                        "type": "histogram2dcontour"
                                                                  }
                                                            ],
                                                            "mesh3d": [
                                                                  {
                                                                        "colorbar": {
                                                                              "outlinewidth": 1,
                                                                              "tickcolor": "rgb(36,36,36)",
                                                                              "ticks": "outside"
                                                                        },
                                                                        "type": "mesh3d"
                                                                  }
                                                            ],
                                                            "parcoords": [
                                                                  {
                                                                        "line": {
                                                                              "colorbar": {
                                                                                    "outlinewidth": 1,
                                                                                    "tickcolor": "rgb(36,36,36)",
                                                                                    "ticks": "outside"
                                                                              }
                                                                        },
                                                                        "type": "parcoords"
                                                                  }
                                                            ],
                                                            "pie": [
                                                                  {
                                                                        "automargin": true,
                                                                        "type": "pie"
                                                                  }
                                                            ],
                                                            "scatter": [
                                                                  {
                                                                        "fillpattern": {
                                                                              "fillmode": "overlay",
                                                                              "size": 10,
                                                                              "solidity": 0.2
                                                                        },
                                                                        "type": "scatter"
                                                                  }
                                                            ],
                                                            "scatter3d": [
                                                                  {
                                                                        "line": {
                                                                              "colorbar": {
                                                                                    "outlinewidth": 1,
                                                                                    "tickcolor": "rgb(36,36,36)",
                                                                                    "ticks": "outside"
                                                                              }
                                                                        },
                                                                        "marker": {
                                                                              "colorbar": {
                                                                                    "outlinewidth": 1,
                                                                                    "tickcolor": "rgb(36,36,36)",
                                                                                    "ticks": "outside"
                                                                              }
                                                                        },
                                                                        "type": "scatter3d"
                                                                  }
                                                            ],
                                                            "scattercarpet": [
                                                                  {
                                                                        "marker": {
                                                                              "colorbar": {
                                                                                    "outlinewidth": 1,
                                                                                    "tickcolor": "rgb(36,36,36)",
                                                                                    "ticks": "outside"
                                                                              }
                                                                        },
                                                                        "type": "scattercarpet"
                                                                  }
                                                            ],
                                                            "scattergeo": [
                                                                  {
                                                                        "marker": {
                                                                              "colorbar": {
                                                                                    "outlinewidth": 1,
                                                                                    "tickcolor": "rgb(36,36,36)",
                                                                                    "ticks": "outside"
                                                                              }
                                                                        },
                                                                        "type": "scattergeo"
                                                                  }
                                                            ],
                                                            "scattergl": [
                                                                  {
                                                                        "marker": {
                                                                              "colorbar": {
                                                                                    "outlinewidth": 1,
                                                                                    "tickcolor": "rgb(36,36,36)",
                                                                                    "ticks": "outside"
                                                                              }
                                                                        },
                                                                        "type": "scattergl"
                                                                  }
                                                            ],
                                                            "scattermapbox": [
                                                                  {
                                                                        "marker": {
                                                                              "colorbar": {
                                                                                    "outlinewidth": 1,
                                                                                    "tickcolor": "rgb(36,36,36)",
                                                                                    "ticks": "outside"
                                                                              }
                                                                        },
                                                                        "type": "scattermapbox"
                                                                  }
                                                            ],
                                                            "scatterpolar": [
                                                                  {
                                                                        "marker": {
                                                                              "colorbar": {
                                                                                    "outlinewidth": 1,
                                                                                    "tickcolor": "rgb(36,36,36)",
                                                                                    "ticks": "outside"
                                                                              }
                                                                        },
                                                                        "type": "scatterpolar"
                                                                  }
                                                            ],
                                                            "scatterpolargl": [
                                                                  {
                                                                        "marker": {
                                                                              "colorbar": {
                                                                                    "outlinewidth": 1,
                                                                                    "tickcolor": "rgb(36,36,36)",
                                                                                    "ticks": "outside"
                                                                              }
                                                                        },
                                                                        "type": "scatterpolargl"
                                                                  }
                                                            ],
                                                            "scatterternary": [
                                                                  {
                                                                        "marker": {
                                                                              "colorbar": {
                                                                                    "outlinewidth": 1,
                                                                                    "tickcolor": "rgb(36,36,36)",
                                                                                    "ticks": "outside"
                                                                              }
                                                                        },
                                                                        "type": "scatterternary"
                                                                  }
                                                            ],
                                                            "surface": [
                                                                  {
                                                                        "colorbar": {
                                                                              "outlinewidth": 1,
                                                                              "tickcolor": "rgb(36,36,36)",
                                                                              "ticks": "outside"
                                                                        },
                                                                        "colorscale": [
                                                                              [
                                                                                    0,
                                                                                    "#440154"
                                                                              ],
                                                                              [
                                                                                    0.1111111111111111,
                                                                                    "#482878"
                                                                              ],
                                                                              [
                                                                                    0.2222222222222222,
                                                                                    "#3e4989"
                                                                              ],
                                                                              [
                                                                                    0.3333333333333333,
                                                                                    "#31688e"
                                                                              ],
                                                                              [
                                                                                    0.4444444444444444,
                                                                                    "#26828e"
                                                                              ],
                                                                              [
                                                                                    0.5555555555555556,
                                                                                    "#1f9e89"
                                                                              ],
                                                                              [
                                                                                    0.6666666666666666,
                                                                                    "#35b779"
                                                                              ],
                                                                              [
                                                                                    0.7777777777777778,
                                                                                    "#6ece58"
                                                                              ],
                                                                              [
                                                                                    0.8888888888888888,
                                                                                    "#b5de2b"
                                                                              ],
                                                                              [
                                                                                    1,
                                                                                    "#fde725"
                                                                              ]
                                                                        ],
                                                                        "type": "surface"
                                                                  }
                                                            ],
                                                            "table": [
                                                                  {
                                                                        "cells": {
                                                                              "fill": {
                                                                                    "color": "rgb(237,237,237)"
                                                                              },
                                                                              "line": {
                                                                                    "color": "white"
                                                                              }
                                                                        },
                                                                        "header": {
                                                                              "fill": {
                                                                                    "color": "rgb(217,217,217)"
                                                                              },
                                                                              "line": {
                                                                                    "color": "white"
                                                                              }
                                                                        },
                                                                        "type": "table"
                                                                  }
                                                            ]
                                                      },
                                                      "layout": {
                                                            "annotationdefaults": {
                                                                  "arrowhead": 0,
                                                                  "arrowwidth": 1
                                                            },
                                                            "autotypenumbers": "strict",
                                                            "coloraxis": {
                                                                  "colorbar": {
                                                                        "outlinewidth": 1,
                                                                        "tickcolor": "rgb(36,36,36)",
                                                                        "ticks": "outside"
                                                                  }
                                                            },
                                                            "colorscale": {
                                                                  "diverging": [
                                                                        [
                                                                              0,
                                                                              "rgb(103,0,31)"
                                                                        ],
                                                                        [
                                                                              0.1,
                                                                              "rgb(178,24,43)"
                                                                        ],
                                                                        [
                                                                              0.2,
                                                                              "rgb(214,96,77)"
                                                                        ],
                                                                        [
                                                                              0.3,
                                                                              "rgb(244,165,130)"
                                                                        ],
                                                                        [
                                                                              0.4,
                                                                              "rgb(253,219,199)"
                                                                        ],
                                                                        [
                                                                              0.5,
                                                                              "rgb(247,247,247)"
                                                                        ],
                                                                        [
                                                                              0.6,
                                                                              "rgb(209,229,240)"
                                                                        ],
                                                                        [
                                                                              0.7,
                                                                              "rgb(146,197,222)"
                                                                        ],
                                                                        [
                                                                              0.8,
                                                                              "rgb(67,147,195)"
                                                                        ],
                                                                        [
                                                                              0.9,
                                                                              "rgb(33,102,172)"
                                                                        ],
                                                                        [
                                                                              1,
                                                                              "rgb(5,48,97)"
                                                                        ]
                                                                  ],
                                                                  "sequential": [
                                                                        [
                                                                              0,
                                                                              "#440154"
                                                                        ],
                                                                        [
                                                                              0.1111111111111111,
                                                                              "#482878"
                                                                        ],
                                                                        [
                                                                              0.2222222222222222,
                                                                              "#3e4989"
                                                                        ],
                                                                        [
                                                                              0.3333333333333333,
                                                                              "#31688e"
                                                                        ],
                                                                        [
                                                                              0.4444444444444444,
                                                                              "#26828e"
                                                                        ],
                                                                        [
                                                                              0.5555555555555556,
                                                                              "#1f9e89"
                                                                        ],
                                                                        [
                                                                              0.6666666666666666,
                                                                              "#35b779"
                                                                        ],
                                                                        [
                                                                              0.7777777777777778,
                                                                              "#6ece58"
                                                                        ],
                                                                        [
                                                                              0.8888888888888888,
                                                                              "#b5de2b"
                                                                        ],
                                                                        [
                                                                              1,
                                                                              "#fde725"
                                                                        ]
                                                                  ],
                                                                  "sequentialminus": [
                                                                        [
                                                                              0,
                                                                              "#440154"
                                                                        ],
                                                                        [
                                                                              0.1111111111111111,
                                                                              "#482878"
                                                                        ],
                                                                        [
                                                                              0.2222222222222222,
                                                                              "#3e4989"
                                                                        ],
                                                                        [
                                                                              0.3333333333333333,
                                                                              "#31688e"
                                                                        ],
                                                                        [
                                                                              0.4444444444444444,
                                                                              "#26828e"
                                                                        ],
                                                                        [
                                                                              0.5555555555555556,
                                                                              "#1f9e89"
                                                                        ],
                                                                        [
                                                                              0.6666666666666666,
                                                                              "#35b779"
                                                                        ],
                                                                        [
                                                                              0.7777777777777778,
                                                                              "#6ece58"
                                                                        ],
                                                                        [
                                                                              0.8888888888888888,
                                                                              "#b5de2b"
                                                                        ],
                                                                        [
                                                                              1,
                                                                              "#fde725"
                                                                        ]
                                                                  ]
                                                            },
                                                            "colorway": [
                                                                  "#1F77B4",
                                                                  "#FF7F0E",
                                                                  "#2CA02C",
                                                                  "#D62728",
                                                                  "#9467BD",
                                                                  "#8C564B",
                                                                  "#E377C2",
                                                                  "#7F7F7F",
                                                                  "#BCBD22",
                                                                  "#17BECF"
                                                            ],
                                                            "font": {
                                                                  "color": "rgb(36,36,36)"
                                                            },
                                                            "geo": {
                                                                  "bgcolor": "white",
                                                                  "lakecolor": "white",
                                                                  "landcolor": "white",
                                                                  "showlakes": true,
                                                                  "showland": true,
                                                                  "subunitcolor": "white"
                                                            },
                                                            "hoverlabel": {
                                                                  "align": "left"
                                                            },
                                                            "hovermode": "closest",
                                                            "mapbox": {
                                                                  "style": "light"
                                                            },
                                                            "paper_bgcolor": "white",
                                                            "plot_bgcolor": "white",
                                                            "polar": {
                                                                  "angularaxis": {
                                                                        "gridcolor": "rgb(232,232,232)",
                                                                        "linecolor": "rgb(36,36,36)",
                                                                        "showgrid": false,
                                                                        "showline": true,
                                                                        "ticks": "outside"
                                                                  },
                                                                  "bgcolor": "white",
                                                                  "radialaxis": {
                                                                        "gridcolor": "rgb(232,232,232)",
                                                                        "linecolor": "rgb(36,36,36)",
                                                                        "showgrid": false,
                                                                        "showline": true,
                                                                        "ticks": "outside"
                                                                  }
                                                            },
                                                            "scene": {
                                                                  "xaxis": {
                                                                        "backgroundcolor": "white",
                                                                        "gridcolor": "rgb(232,232,232)",
                                                                        "gridwidth": 2,
                                                                        "linecolor": "rgb(36,36,36)",
                                                                        "showbackground": true,
                                                                        "showgrid": false,
                                                                        "showline": true,
                                                                        "ticks": "outside",
                                                                        "zeroline": false,
                                                                        "zerolinecolor": "rgb(36,36,36)"
                                                                  },
                                                                  "yaxis": {
                                                                        "backgroundcolor": "white",
                                                                        "gridcolor": "rgb(232,232,232)",
                                                                        "gridwidth": 2,
                                                                        "linecolor": "rgb(36,36,36)",
                                                                        "showbackground": true,
                                                                        "showgrid": false,
                                                                        "showline": true,
                                                                        "ticks": "outside",
                                                                        "zeroline": false,
                                                                        "zerolinecolor": "rgb(36,36,36)"
                                                                  },
                                                                  "zaxis": {
                                                                        "backgroundcolor": "white",
                                                                        "gridcolor": "rgb(232,232,232)",
                                                                        "gridwidth": 2,
                                                                        "linecolor": "rgb(36,36,36)",
                                                                        "showbackground": true,
                                                                        "showgrid": false,
                                                                        "showline": true,
                                                                        "ticks": "outside",
                                                                        "zeroline": false,
                                                                        "zerolinecolor": "rgb(36,36,36)"
                                                                  }
                                                            },
                                                            "shapedefaults": {
                                                                  "fillcolor": "black",
                                                                  "line": {
                                                                        "width": 0
                                                                  },
                                                                  "opacity": 0.3
                                                            },
                                                            "ternary": {
                                                                  "aaxis": {
                                                                        "gridcolor": "rgb(232,232,232)",
                                                                        "linecolor": "rgb(36,36,36)",
                                                                        "showgrid": false,
                                                                        "showline": true,
                                                                        "ticks": "outside"
                                                                  },
                                                                  "baxis": {
                                                                        "gridcolor": "rgb(232,232,232)",
                                                                        "linecolor": "rgb(36,36,36)",
                                                                        "showgrid": false,
                                                                        "showline": true,
                                                                        "ticks": "outside"
                                                                  },
                                                                  "bgcolor": "white",
                                                                  "caxis": {
                                                                        "gridcolor": "rgb(232,232,232)",
                                                                        "linecolor": "rgb(36,36,36)",
                                                                        "showgrid": false,
                                                                        "showline": true,
                                                                        "ticks": "outside"
                                                                  }
                                                            },
                                                            "title": {
                                                                  "x": 0.05
                                                            },
                                                            "xaxis": {
                                                                  "automargin": true,
                                                                  "gridcolor": "rgb(232,232,232)",
                                                                  "linecolor": "rgb(36,36,36)",
                                                                  "showgrid": false,
                                                                  "showline": true,
                                                                  "ticks": "outside",
                                                                  "title": {
                                                                        "standoff": 15
                                                                  },
                                                                  "zeroline": false,
                                                                  "zerolinecolor": "rgb(36,36,36)"
                                                            },
                                                            "yaxis": {
                                                                  "automargin": true,
                                                                  "gridcolor": "rgb(232,232,232)",
                                                                  "linecolor": "rgb(36,36,36)",
                                                                  "showgrid": false,
                                                                  "showline": true,
                                                                  "ticks": "outside",
                                                                  "title": {
                                                                        "standoff": 15
                                                                  },
                                                                  "zeroline": false,
                                                                  "zerolinecolor": "rgb(36,36,36)"
                                                            }
                                                      }
                                                },
                                                "title": {
                                                      "font": {
                                                            "color": "Black",
                                                            "size": 22
                                                      },
                                                      "text": "<b>Topics over Time</b>",
                                                      "x": 0.4,
                                                      "xanchor": "center",
                                                      "y": 0.95,
                                                      "yanchor": "top"
                                                },
                                                "width": 1250,
                                                "xaxis": {
                                                      "showgrid": true
                                                },
                                                "yaxis": {
                                                      "showgrid": true,
                                                      "title": {
                                                            "text": "Frequency"
                                                      }
                                                }
                                          }
                                    }
                              },
                              "metadata": {},
                              "output_type": "display_data"
                        }
                  ],
                  "source": [
                        "\n",
                        "topic_model.visualize_topics_over_time(topics_over_time, topics=[0,1,2,3])"
                  ]
            },
            {
                  "cell_type": "code",
                  "execution_count": 82,
                  "metadata": {},
                  "outputs": [
                        {
                              "name": "stderr",
                              "output_type": "stream",
                              "text": [
                                    "Batches:   0%|          | 0/23 [00:00<?, ?it/s]"
                              ]
                        },
                        {
                              "name": "stderr",
                              "output_type": "stream",
                              "text": [
                                    "Batches: 100%|██████████| 23/23 [00:15<00:00,  1.48it/s]\n",
                                    "2023-09-22 17:16:17,615 - BERTopic - Transformed documents to Embeddings\n",
                                    "2023-09-22 17:16:18,948 - BERTopic - Reduced dimensionality\n",
                                    "2023-09-22 17:16:18,967 - BERTopic - Clustered reduced embeddings\n",
                                    "Downloading (…)821d1/.gitattributes: 100%|██████████| 391/391 [00:00<00:00, 1.35MB/s]\n",
                                    "Downloading (…)_Pooling/config.json: 100%|██████████| 190/190 [00:00<00:00, 574kB/s]\n",
                                    "Downloading (…)8d01e821d1/README.md: 100%|██████████| 3.95k/3.95k [00:00<00:00, 27.3MB/s]\n",
                                    "Downloading (…)d1/added_tokens.json: 100%|██████████| 2.00/2.00 [00:00<00:00, 6.02kB/s]\n",
                                    "Downloading (…)01e821d1/config.json: 100%|██████████| 625/625 [00:00<00:00, 1.67MB/s]\n",
                                    "Downloading (…)ce_transformers.json: 100%|██████████| 122/122 [00:00<00:00, 1.00MB/s]\n",
                                    "Downloading pytorch_model.bin: 100%|██████████| 438M/438M [00:13<00:00, 33.2MB/s] \n",
                                    "Downloading (…)nce_bert_config.json: 100%|██████████| 53.0/53.0 [00:00<00:00, 123kB/s]\n",
                                    "Downloading (…)cial_tokens_map.json: 100%|██████████| 112/112 [00:00<00:00, 255kB/s]\n",
                                    "Downloading (…)821d1/tokenizer.json: 100%|██████████| 466k/466k [00:00<00:00, 1.45MB/s]\n",
                                    "Downloading (…)okenizer_config.json: 100%|██████████| 399/399 [00:00<00:00, 1.51MB/s]\n",
                                    "Downloading (…)8d01e821d1/vocab.txt: 100%|██████████| 232k/232k [00:00<00:00, 1.14MB/s]\n",
                                    "Downloading (…)1e821d1/modules.json: 100%|██████████| 229/229 [00:00<00:00, 871kB/s]\n",
                                    "Batches: 100%|██████████| 23/23 [00:35<00:00,  1.54s/it]\n"
                              ]
                        },
                        {
                              "ename": "AttributeError",
                              "evalue": "'tuple' object has no attribute 'Distance'",
                              "output_type": "error",
                              "traceback": [
                                    "\u001b[0;31m---------------------------------------------------------------------------\u001b[0m",
                                    "\u001b[0;31mAttributeError\u001b[0m                            Traceback (most recent call last)",
                                    "\u001b[1;32m/Users/admin/Desktop/spiced/convergence_oracle_repos/convergence_oracle/Playground_JM/BERTopic.ipynb Cell 23\u001b[0m line \u001b[0;36m9\n\u001b[1;32m      <a href='vscode-notebook-cell:/Users/admin/Desktop/spiced/convergence_oracle_repos/convergence_oracle/Playground_JM/BERTopic.ipynb#X53sZmlsZQ%3D%3D?line=5'>6</a>\u001b[0m embeddings \u001b[39m=\u001b[39m sentence_model\u001b[39m.\u001b[39mencode(docs, show_progress_bar\u001b[39m=\u001b[39m\u001b[39mTrue\u001b[39;00m)\n\u001b[1;32m      <a href='vscode-notebook-cell:/Users/admin/Desktop/spiced/convergence_oracle_repos/convergence_oracle/Playground_JM/BERTopic.ipynb#X53sZmlsZQ%3D%3D?line=7'>8</a>\u001b[0m \u001b[39m# Now, you can visualize hierarchical documents with the original embeddings\u001b[39;00m\n\u001b[0;32m----> <a href='vscode-notebook-cell:/Users/admin/Desktop/spiced/convergence_oracle_repos/convergence_oracle/Playground_JM/BERTopic.ipynb#X53sZmlsZQ%3D%3D?line=8'>9</a>\u001b[0m topic_model\u001b[39m.\u001b[39;49mvisualize_hierarchical_documents(docs, hierarchical_topics, embeddings\u001b[39m=\u001b[39;49membeddings)\n\u001b[1;32m     <a href='vscode-notebook-cell:/Users/admin/Desktop/spiced/convergence_oracle_repos/convergence_oracle/Playground_JM/BERTopic.ipynb#X53sZmlsZQ%3D%3D?line=10'>11</a>\u001b[0m \u001b[39m# Or, if you have reduced the original embeddings already (e.g., with PCA):\u001b[39;00m\n\u001b[1;32m     <a href='vscode-notebook-cell:/Users/admin/Desktop/spiced/convergence_oracle_repos/convergence_oracle/Playground_JM/BERTopic.ipynb#X53sZmlsZQ%3D%3D?line=11'>12</a>\u001b[0m \u001b[39m# topic_model.visualize_hierarchical_documents(docs, hierarchical_t\u001b[39;00m\n",
                                    "File \u001b[0;32m~/Desktop/spiced/convergence_oracle_repos/convergence_oracle/.venv/lib/python3.11/site-packages/bertopic/_bertopic.py:2396\u001b[0m, in \u001b[0;36mBERTopic.visualize_hierarchical_documents\u001b[0;34m(self, docs, hierarchical_topics, topics, embeddings, reduced_embeddings, sample, hide_annotations, hide_document_hover, nr_levels, level_scale, custom_labels, title, width, height)\u001b[0m\n\u001b[1;32m   2311\u001b[0m \u001b[39m\u001b[39m\u001b[39m\"\"\" Visualize documents and their topics in 2D at different levels of hierarchy\u001b[39;00m\n\u001b[1;32m   2312\u001b[0m \n\u001b[1;32m   2313\u001b[0m \u001b[39mArguments:\u001b[39;00m\n\u001b[0;32m   (...)\u001b[0m\n\u001b[1;32m   2393\u001b[0m \u001b[39mstyle=\"width:1000px; height: 770px; border: 0px;\"\"></iframe>\u001b[39;00m\n\u001b[1;32m   2394\u001b[0m \u001b[39m\"\"\"\u001b[39;00m\n\u001b[1;32m   2395\u001b[0m check_is_fitted(\u001b[39mself\u001b[39m)\n\u001b[0;32m-> 2396\u001b[0m \u001b[39mreturn\u001b[39;00m plotting\u001b[39m.\u001b[39;49mvisualize_hierarchical_documents(\u001b[39mself\u001b[39;49m,\n\u001b[1;32m   2397\u001b[0m                                                  docs\u001b[39m=\u001b[39;49mdocs,\n\u001b[1;32m   2398\u001b[0m                                                  hierarchical_topics\u001b[39m=\u001b[39;49mhierarchical_topics,\n\u001b[1;32m   2399\u001b[0m                                                  topics\u001b[39m=\u001b[39;49mtopics,\n\u001b[1;32m   2400\u001b[0m                                                  embeddings\u001b[39m=\u001b[39;49membeddings,\n\u001b[1;32m   2401\u001b[0m                                                  reduced_embeddings\u001b[39m=\u001b[39;49mreduced_embeddings,\n\u001b[1;32m   2402\u001b[0m                                                  sample\u001b[39m=\u001b[39;49msample,\n\u001b[1;32m   2403\u001b[0m                                                  hide_annotations\u001b[39m=\u001b[39;49mhide_annotations,\n\u001b[1;32m   2404\u001b[0m                                                  hide_document_hover\u001b[39m=\u001b[39;49mhide_document_hover,\n\u001b[1;32m   2405\u001b[0m                                                  nr_levels\u001b[39m=\u001b[39;49mnr_levels,\n\u001b[1;32m   2406\u001b[0m                                                  level_scale\u001b[39m=\u001b[39;49mlevel_scale,\n\u001b[1;32m   2407\u001b[0m                                                  custom_labels\u001b[39m=\u001b[39;49mcustom_labels,\n\u001b[1;32m   2408\u001b[0m                                                  title\u001b[39m=\u001b[39;49mtitle,\n\u001b[1;32m   2409\u001b[0m                                                  width\u001b[39m=\u001b[39;49mwidth,\n\u001b[1;32m   2410\u001b[0m                                                  height\u001b[39m=\u001b[39;49mheight)\n",
                                    "File \u001b[0;32m~/Desktop/spiced/convergence_oracle_repos/convergence_oracle/.venv/lib/python3.11/site-packages/bertopic/plotting/_hierarchical_documents.py:157\u001b[0m, in \u001b[0;36mvisualize_hierarchical_documents\u001b[0;34m(topic_model, docs, hierarchical_topics, topics, embeddings, reduced_embeddings, sample, hide_annotations, hide_document_hover, nr_levels, level_scale, custom_labels, title, width, height)\u001b[0m\n\u001b[1;32m    154\u001b[0m df[\u001b[39m\"\u001b[39m\u001b[39my\u001b[39m\u001b[39m\"\u001b[39m] \u001b[39m=\u001b[39m embeddings_2d[:, \u001b[39m1\u001b[39m]\n\u001b[1;32m    156\u001b[0m \u001b[39m# Create topic list for each level, levels are created by calculating the distance\u001b[39;00m\n\u001b[0;32m--> 157\u001b[0m distances \u001b[39m=\u001b[39m hierarchical_topics\u001b[39m.\u001b[39;49mDistance\u001b[39m.\u001b[39mto_list()\n\u001b[1;32m    158\u001b[0m \u001b[39mif\u001b[39;00m level_scale \u001b[39m==\u001b[39m \u001b[39m'\u001b[39m\u001b[39mlog\u001b[39m\u001b[39m'\u001b[39m \u001b[39mor\u001b[39;00m level_scale \u001b[39m==\u001b[39m \u001b[39m'\u001b[39m\u001b[39mlogarithmic\u001b[39m\u001b[39m'\u001b[39m:\n\u001b[1;32m    159\u001b[0m     log_indices \u001b[39m=\u001b[39m np\u001b[39m.\u001b[39mround(np\u001b[39m.\u001b[39mlogspace(start\u001b[39m=\u001b[39mmath\u001b[39m.\u001b[39mlog(\u001b[39m1\u001b[39m,\u001b[39m10\u001b[39m), stop\u001b[39m=\u001b[39mmath\u001b[39m.\u001b[39mlog(\u001b[39mlen\u001b[39m(distances)\u001b[39m-\u001b[39m\u001b[39m1\u001b[39m,\u001b[39m10\u001b[39m), num\u001b[39m=\u001b[39mnr_levels))\u001b[39m.\u001b[39mastype(\u001b[39mint\u001b[39m)\u001b[39m.\u001b[39mtolist()\n",
                                    "\u001b[0;31mAttributeError\u001b[0m: 'tuple' object has no attribute 'Distance'"
                              ]
                        }
                  ],
                  "source": [
                        "hierarchical_topics = topic_model.fit_transform(docs)\n",
                        "\n",
                        "sentence_model = SentenceTransformer(model_name)\n",
                        "\n",
                        "# Encode documents with BERT embeddings\n",
                        "embeddings = sentence_model.encode(docs, show_progress_bar=True)\n",
                        "\n",
                        "# Now, you can visualize hierarchical documents with the original embeddings\n",
                        "topic_model.visualize_hierarchical_documents(docs, hierarchical_topics, embeddings=embeddings)\n",
                        "\n",
                        "# Or, if you have reduced the original embeddings already (e.g., with PCA):\n",
                        "# topic_model.visualize_hierarchical_documents(docs, hierarchical_t"
                  ]
            },
            {
                  "cell_type": "code",
                  "execution_count": null,
                  "metadata": {},
                  "outputs": [],
                  "source": [
                        "#Save figure\n",
                        "fig = topic_model.visualize_hierarchical_documents(docs, hierarchical_topics, reduced_embeddings=reduced_embeddings)\n",
                        "fig.write_html(\"path/to/file.html\")"
                  ]
            }
      ],
      "metadata": {
            "kernelspec": {
                  "display_name": "Python 3",
                  "language": "python",
                  "name": "python3"
            },
            "language_info": {
                  "codemirror_mode": {
                        "name": "ipython",
                        "version": 3
                  },
                  "file_extension": ".py",
                  "mimetype": "text/x-python",
                  "name": "python",
                  "nbconvert_exporter": "python",
                  "pygments_lexer": "ipython3",
                  "version": "3.11.3"
            },
            "orig_nbformat": 4
      },
      "nbformat": 4,
      "nbformat_minor": 2
}
